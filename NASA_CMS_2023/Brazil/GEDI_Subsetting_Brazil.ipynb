{
 "cells": [
  {
   "cell_type": "markdown",
   "id": "f3c865be-f3c0-486d-96f6-f549464f9b11",
   "metadata": {},
   "source": [
    "### For loops to pull L2A, L2B, L4A as needed"
   ]
  },
  {
   "cell_type": "code",
   "execution_count": 2,
   "id": "175a4417-2226-45f1-bcdd-b6aafd7460e6",
   "metadata": {
    "scrolled": true,
    "tags": []
   },
   "outputs": [
    {
     "name": "stdout",
     "output_type": "stream",
     "text": [
      "Requirement already satisfied: geopandas in /opt/conda/envs/r/lib/python3.12/site-packages (1.0.1)\n",
      "Requirement already satisfied: numpy>=1.22 in /opt/conda/envs/r/lib/python3.12/site-packages (from geopandas) (1.26.4)\n",
      "Requirement already satisfied: pyogrio>=0.7.2 in /opt/conda/envs/r/lib/python3.12/site-packages (from geopandas) (0.8.0)\n",
      "Requirement already satisfied: packaging in /opt/conda/envs/r/lib/python3.12/site-packages (from geopandas) (24.2)\n",
      "Requirement already satisfied: pandas>=1.4.0 in /opt/conda/envs/r/lib/python3.12/site-packages (from geopandas) (2.2.3)\n",
      "Requirement already satisfied: pyproj>=3.3.0 in /opt/conda/envs/r/lib/python3.12/site-packages (from geopandas) (3.6.1)\n",
      "Requirement already satisfied: shapely>=2.0.0 in /opt/conda/envs/r/lib/python3.12/site-packages (from geopandas) (2.0.4)\n",
      "Requirement already satisfied: python-dateutil>=2.8.2 in /opt/conda/envs/r/lib/python3.12/site-packages (from pandas>=1.4.0->geopandas) (2.9.0)\n",
      "Requirement already satisfied: pytz>=2020.1 in /opt/conda/envs/r/lib/python3.12/site-packages (from pandas>=1.4.0->geopandas) (2024.1)\n",
      "Requirement already satisfied: tzdata>=2022.7 in /opt/conda/envs/r/lib/python3.12/site-packages (from pandas>=1.4.0->geopandas) (2025.1)\n",
      "Requirement already satisfied: certifi in /opt/conda/envs/r/lib/python3.12/site-packages (from pyogrio>=0.7.2->geopandas) (2025.1.31)\n",
      "Requirement already satisfied: six>=1.5 in /opt/conda/envs/r/lib/python3.12/site-packages (from python-dateutil>=2.8.2->pandas>=1.4.0->geopandas) (1.17.0)\n",
      "\u001b[33mWARNING: Running pip as the 'root' user can result in broken permissions and conflicting behaviour with the system package manager, possibly rendering your system unusable.It is recommended to use a virtual environment instead: https://pip.pypa.io/warnings/venv. Use the --root-user-action option if you know what you are doing and want to suppress this warning.\u001b[0m\u001b[33m\n",
      "\u001b[0mCollecting contextily\n",
      "  Using cached contextily-1.6.2-py3-none-any.whl.metadata (2.9 kB)\n",
      "Collecting geopy (from contextily)\n",
      "  Using cached geopy-2.4.1-py3-none-any.whl.metadata (6.8 kB)\n",
      "Requirement already satisfied: matplotlib in /opt/conda/envs/r/lib/python3.12/site-packages (from contextily) (3.8.4)\n",
      "Collecting mercantile (from contextily)\n",
      "  Using cached mercantile-1.2.1-py3-none-any.whl.metadata (4.8 kB)\n",
      "Requirement already satisfied: pillow in /opt/conda/envs/r/lib/python3.12/site-packages (from contextily) (10.4.0)\n",
      "Requirement already satisfied: rasterio in /opt/conda/envs/r/lib/python3.12/site-packages (from contextily) (1.3.10)\n",
      "Requirement already satisfied: requests in /opt/conda/envs/r/lib/python3.12/site-packages (from contextily) (2.32.3)\n",
      "Requirement already satisfied: joblib in /opt/conda/envs/r/lib/python3.12/site-packages (from contextily) (1.4.2)\n",
      "Requirement already satisfied: xyzservices in /opt/conda/envs/r/lib/python3.12/site-packages (from contextily) (2025.1.0)\n",
      "Collecting geographiclib<3,>=1.52 (from geopy->contextily)\n",
      "  Using cached geographiclib-2.0-py3-none-any.whl.metadata (1.4 kB)\n",
      "Requirement already satisfied: contourpy>=1.0.1 in /opt/conda/envs/r/lib/python3.12/site-packages (from matplotlib->contextily) (1.3.1)\n",
      "Requirement already satisfied: cycler>=0.10 in /opt/conda/envs/r/lib/python3.12/site-packages (from matplotlib->contextily) (0.12.1)\n",
      "Requirement already satisfied: fonttools>=4.22.0 in /opt/conda/envs/r/lib/python3.12/site-packages (from matplotlib->contextily) (4.56.0)\n",
      "Requirement already satisfied: kiwisolver>=1.3.1 in /opt/conda/envs/r/lib/python3.12/site-packages (from matplotlib->contextily) (1.4.8)\n",
      "Requirement already satisfied: numpy>=1.21 in /opt/conda/envs/r/lib/python3.12/site-packages (from matplotlib->contextily) (1.26.4)\n",
      "Requirement already satisfied: packaging>=20.0 in /opt/conda/envs/r/lib/python3.12/site-packages (from matplotlib->contextily) (24.2)\n",
      "Requirement already satisfied: pyparsing>=2.3.1 in /opt/conda/envs/r/lib/python3.12/site-packages (from matplotlib->contextily) (3.2.1)\n",
      "Requirement already satisfied: python-dateutil>=2.7 in /opt/conda/envs/r/lib/python3.12/site-packages (from matplotlib->contextily) (2.9.0)\n",
      "Requirement already satisfied: click>=3.0 in /opt/conda/envs/r/lib/python3.12/site-packages (from mercantile->contextily) (8.1.8)\n",
      "Requirement already satisfied: affine in /opt/conda/envs/r/lib/python3.12/site-packages (from rasterio->contextily) (2.4.0)\n",
      "Requirement already satisfied: attrs in /opt/conda/envs/r/lib/python3.12/site-packages (from rasterio->contextily) (25.1.0)\n",
      "Requirement already satisfied: certifi in /opt/conda/envs/r/lib/python3.12/site-packages (from rasterio->contextily) (2025.1.31)\n",
      "Requirement already satisfied: cligj>=0.5 in /opt/conda/envs/r/lib/python3.12/site-packages (from rasterio->contextily) (0.7.2)\n",
      "Requirement already satisfied: snuggs>=1.4.1 in /opt/conda/envs/r/lib/python3.12/site-packages (from rasterio->contextily) (1.4.7)\n",
      "Requirement already satisfied: click-plugins in /opt/conda/envs/r/lib/python3.12/site-packages (from rasterio->contextily) (1.1.1)\n",
      "Requirement already satisfied: setuptools in /opt/conda/envs/r/lib/python3.12/site-packages (from rasterio->contextily) (69.5.1)\n",
      "Requirement already satisfied: charset_normalizer<4,>=2 in /opt/conda/envs/r/lib/python3.12/site-packages (from requests->contextily) (3.4.1)\n",
      "Requirement already satisfied: idna<4,>=2.5 in /opt/conda/envs/r/lib/python3.12/site-packages (from requests->contextily) (3.10)\n",
      "Requirement already satisfied: urllib3<3,>=1.21.1 in /opt/conda/envs/r/lib/python3.12/site-packages (from requests->contextily) (1.26.19)\n",
      "Requirement already satisfied: six>=1.5 in /opt/conda/envs/r/lib/python3.12/site-packages (from python-dateutil>=2.7->matplotlib->contextily) (1.17.0)\n",
      "Using cached contextily-1.6.2-py3-none-any.whl (17 kB)\n",
      "Using cached geopy-2.4.1-py3-none-any.whl (125 kB)\n",
      "Using cached mercantile-1.2.1-py3-none-any.whl (14 kB)\n",
      "Using cached geographiclib-2.0-py3-none-any.whl (40 kB)\n",
      "Installing collected packages: mercantile, geographiclib, geopy, contextily\n",
      "Successfully installed contextily-1.6.2 geographiclib-2.0 geopy-2.4.1 mercantile-1.2.1\n",
      "\u001b[33mWARNING: Running pip as the 'root' user can result in broken permissions and conflicting behaviour with the system package manager, possibly rendering your system unusable.It is recommended to use a virtual environment instead: https://pip.pypa.io/warnings/venv. Use the --root-user-action option if you know what you are doing and want to suppress this warning.\u001b[0m\u001b[33m\n",
      "\u001b[0m"
     ]
    }
   ],
   "source": [
    "!pip install geopandas\n",
    "!pip install contextily"
   ]
  },
  {
   "cell_type": "code",
   "execution_count": 3,
   "id": "19b8daec",
   "metadata": {
    "tags": []
   },
   "outputs": [],
   "source": [
    "from maap.maap import MAAP\n",
    "maap = MAAP(maap_host='api.maap-project.org')\n",
    "\n",
    "def job_status_for(job_id: str) -> str:\n",
    "    response = maap.getJobStatus(job_id)\n",
    "    response.raise_for_status()\n",
    "   \n",
    "    root = ET.fromstring(response.text)\n",
    "    status_element = root.find('.//{http://www.opengis.net/wps/2.0}Status')\n",
    "   \n",
    "    return status_element.text\n",
    "\n",
    "def job_result_for(job_id: str) -> str:\n",
    "    response = maap.getJobResult(job_id)\n",
    "    response.raise_for_status()\n",
    "   \n",
    "    root = ET.fromstring(response.text)\n",
    "\n",
    "    return root.find('.//{http://www.opengis.net/wps/2.0}Data').text\n",
    "\n",
    "def to_job_output_dir(job_result_url: str) -> str:\n",
    "    url_path = urlparse(job_result_url).path\n",
    "    # The S3 Key is the URL path excluding the `/{username}` prefix\n",
    "    s3_key = \"/\".join(url_path.split(\"/\")[2:])\n",
    "\n",
    "    return f\"/projects/my-private-bucket/{s3_key}\"\n",
    "\n",
    "def wait_for_job(job_id: str) -> str:\n",
    "    return job_status_for(job_id)"
   ]
  },
  {
   "cell_type": "code",
   "execution_count": 4,
   "id": "8dfe988a",
   "metadata": {
    "tags": []
   },
   "outputs": [],
   "source": [
    "#pip install geopandas\n",
    "#pip install shapely\n",
    "#Import numpy for making column inputs easier\n",
    "import numpy as np\n",
    "import geopandas as gpd\n",
    "import backoff\n",
    "import shapely\n",
    "import glob\n",
    "import os"
   ]
  },
  {
   "cell_type": "code",
   "execution_count": 5,
   "id": "4c6f1642-ce8d-400f-aa52-e81450dc86dc",
   "metadata": {
    "tags": []
   },
   "outputs": [],
   "source": [
    "import xml.etree.ElementTree as ET\n",
    "from urllib.parse import urlparse\n",
    "\n",
    "def job_status_for(job_id: str) -> str:\n",
    "    response = maap.getJobStatus(job_id)\n",
    "    response.raise_for_status()\n",
    "    \n",
    "    root = ET.fromstring(response.text)\n",
    "    status_element = root.find('.//{http://www.opengis.net/wps/2.0}Status')\n",
    "    \n",
    "    return status_element.text\n",
    "\n",
    "def job_result_for(job_id: str) -> str:\n",
    "    response = maap.getJobResult(job_id)\n",
    "    response.raise_for_status()\n",
    "    \n",
    "    root = ET.fromstring(response.text)\n",
    "\n",
    "    return root.find('.//{http://www.opengis.net/wps/2.0}Data').text\n",
    "\n",
    "def to_job_output_dir(job_result_url: str) -> str:\n",
    "    url_path = urlparse(job_result_url).path\n",
    "    # The S3 Key is the URL path excluding the `/{username}` prefix\n",
    "    s3_key = \"/\".join(url_path.split(\"/\")[2:])\n",
    "\n",
    "    return f\"/projects/my-private-bucket/{s3_key}\""
   ]
  },
  {
   "cell_type": "code",
   "execution_count": 6,
   "id": "3c6bc0d0-8dee-47a9-98a3-a99e0c519870",
   "metadata": {
    "scrolled": true
   },
   "outputs": [
    {
     "name": "stdout",
     "output_type": "stream",
     "text": [
      "Feature 1 saved to /projects/my-public-bucket/Data/NASA_CMS_2023/BRAZIL/GRID/feature_1.gpkg\n",
      "Feature 2 saved to /projects/my-public-bucket/Data/NASA_CMS_2023/BRAZIL/GRID/feature_2.gpkg\n",
      "Feature 3 saved to /projects/my-public-bucket/Data/NASA_CMS_2023/BRAZIL/GRID/feature_3.gpkg\n",
      "Feature 4 saved to /projects/my-public-bucket/Data/NASA_CMS_2023/BRAZIL/GRID/feature_4.gpkg\n",
      "Feature 5 saved to /projects/my-public-bucket/Data/NASA_CMS_2023/BRAZIL/GRID/feature_5.gpkg\n",
      "Feature 6 saved to /projects/my-public-bucket/Data/NASA_CMS_2023/BRAZIL/GRID/feature_6.gpkg\n",
      "Feature 7 saved to /projects/my-public-bucket/Data/NASA_CMS_2023/BRAZIL/GRID/feature_7.gpkg\n",
      "Feature 8 saved to /projects/my-public-bucket/Data/NASA_CMS_2023/BRAZIL/GRID/feature_8.gpkg\n",
      "Feature 9 saved to /projects/my-public-bucket/Data/NASA_CMS_2023/BRAZIL/GRID/feature_9.gpkg\n",
      "Feature 10 saved to /projects/my-public-bucket/Data/NASA_CMS_2023/BRAZIL/GRID/feature_10.gpkg\n",
      "Feature 11 saved to /projects/my-public-bucket/Data/NASA_CMS_2023/BRAZIL/GRID/feature_11.gpkg\n",
      "Feature 12 saved to /projects/my-public-bucket/Data/NASA_CMS_2023/BRAZIL/GRID/feature_12.gpkg\n",
      "Feature 13 saved to /projects/my-public-bucket/Data/NASA_CMS_2023/BRAZIL/GRID/feature_13.gpkg\n",
      "Feature 14 saved to /projects/my-public-bucket/Data/NASA_CMS_2023/BRAZIL/GRID/feature_14.gpkg\n",
      "Feature 15 saved to /projects/my-public-bucket/Data/NASA_CMS_2023/BRAZIL/GRID/feature_15.gpkg\n",
      "Feature 16 saved to /projects/my-public-bucket/Data/NASA_CMS_2023/BRAZIL/GRID/feature_16.gpkg\n"
     ]
    },
    {
     "ename": "KeyboardInterrupt",
     "evalue": "",
     "output_type": "error",
     "traceback": [
      "\u001b[0;31m---------------------------------------------------------------------------\u001b[0m",
      "\u001b[0;31mKeyboardInterrupt\u001b[0m                         Traceback (most recent call last)",
      "Cell \u001b[0;32mIn[6], line 29\u001b[0m\n\u001b[1;32m     26\u001b[0m input_geopackage \u001b[38;5;241m=\u001b[39m \u001b[38;5;124m'\u001b[39m\u001b[38;5;124m/projects/my-public-bucket/Data/NASA_CMS_2023/BRAZIL/GRID/GRID_all_tiles_with_data.gpkg\u001b[39m\u001b[38;5;124m'\u001b[39m  \u001b[38;5;66;03m# Replace with your input GeoPackage file\u001b[39;00m\n\u001b[1;32m     27\u001b[0m output_directory \u001b[38;5;241m=\u001b[39m \u001b[38;5;124m'\u001b[39m\u001b[38;5;124m/projects/my-public-bucket/Data/NASA_CMS_2023/BRAZIL/GRID\u001b[39m\u001b[38;5;124m'\u001b[39m        \u001b[38;5;66;03m# Directory to save individual feature files\u001b[39;00m\n\u001b[0;32m---> 29\u001b[0m \u001b[43msplit_geopackage\u001b[49m\u001b[43m(\u001b[49m\u001b[43minput_geopackage\u001b[49m\u001b[43m,\u001b[49m\u001b[43m \u001b[49m\u001b[43moutput_directory\u001b[49m\u001b[43m)\u001b[49m\n",
      "Cell \u001b[0;32mIn[6], line 22\u001b[0m, in \u001b[0;36msplit_geopackage\u001b[0;34m(input_file, output_dir)\u001b[0m\n\u001b[1;32m     19\u001b[0m output_file \u001b[38;5;241m=\u001b[39m os\u001b[38;5;241m.\u001b[39mpath\u001b[38;5;241m.\u001b[39mjoin(output_dir, \u001b[38;5;124mf\u001b[39m\u001b[38;5;124m\"\u001b[39m\u001b[38;5;124mfeature_\u001b[39m\u001b[38;5;132;01m{\u001b[39;00midx\u001b[38;5;250m \u001b[39m\u001b[38;5;241m+\u001b[39m\u001b[38;5;250m \u001b[39m\u001b[38;5;241m1\u001b[39m\u001b[38;5;132;01m}\u001b[39;00m\u001b[38;5;124m.gpkg\u001b[39m\u001b[38;5;124m\"\u001b[39m)\n\u001b[1;32m     21\u001b[0m \u001b[38;5;66;03m# Write the single feature to a new GeoPackage file\u001b[39;00m\n\u001b[0;32m---> 22\u001b[0m \u001b[43msingle_feature_gdf\u001b[49m\u001b[38;5;241;43m.\u001b[39;49m\u001b[43mto_file\u001b[49m\u001b[43m(\u001b[49m\u001b[43moutput_file\u001b[49m\u001b[43m,\u001b[49m\u001b[43m \u001b[49m\u001b[43mdriver\u001b[49m\u001b[38;5;241;43m=\u001b[39;49m\u001b[38;5;124;43m\"\u001b[39;49m\u001b[38;5;124;43mGPKG\u001b[39;49m\u001b[38;5;124;43m\"\u001b[39;49m\u001b[43m)\u001b[49m\n\u001b[1;32m     23\u001b[0m \u001b[38;5;28mprint\u001b[39m(\u001b[38;5;124mf\u001b[39m\u001b[38;5;124m\"\u001b[39m\u001b[38;5;124mFeature \u001b[39m\u001b[38;5;132;01m{\u001b[39;00midx\u001b[38;5;250m \u001b[39m\u001b[38;5;241m+\u001b[39m\u001b[38;5;250m \u001b[39m\u001b[38;5;241m1\u001b[39m\u001b[38;5;132;01m}\u001b[39;00m\u001b[38;5;124m saved to \u001b[39m\u001b[38;5;132;01m{\u001b[39;00moutput_file\u001b[38;5;132;01m}\u001b[39;00m\u001b[38;5;124m\"\u001b[39m)\n",
      "File \u001b[0;32m/opt/conda/envs/r/lib/python3.12/site-packages/geopandas/geodataframe.py:1536\u001b[0m, in \u001b[0;36mGeoDataFrame.to_file\u001b[0;34m(self, filename, driver, schema, index, **kwargs)\u001b[0m\n\u001b[1;32m   1441\u001b[0m \u001b[38;5;250m\u001b[39m\u001b[38;5;124;03m\"\"\"Write the ``GeoDataFrame`` to a file.\u001b[39;00m\n\u001b[1;32m   1442\u001b[0m \n\u001b[1;32m   1443\u001b[0m \u001b[38;5;124;03mBy default, an ESRI shapefile is written, but any OGR data source\u001b[39;00m\n\u001b[0;32m   (...)\u001b[0m\n\u001b[1;32m   1532\u001b[0m \n\u001b[1;32m   1533\u001b[0m \u001b[38;5;124;03m\"\"\"\u001b[39;00m\n\u001b[1;32m   1534\u001b[0m \u001b[38;5;28;01mfrom\u001b[39;00m\u001b[38;5;250m \u001b[39m\u001b[38;5;21;01mgeopandas\u001b[39;00m\u001b[38;5;21;01m.\u001b[39;00m\u001b[38;5;21;01mio\u001b[39;00m\u001b[38;5;21;01m.\u001b[39;00m\u001b[38;5;21;01mfile\u001b[39;00m\u001b[38;5;250m \u001b[39m\u001b[38;5;28;01mimport\u001b[39;00m _to_file\n\u001b[0;32m-> 1536\u001b[0m \u001b[43m_to_file\u001b[49m\u001b[43m(\u001b[49m\u001b[38;5;28;43mself\u001b[39;49m\u001b[43m,\u001b[49m\u001b[43m \u001b[49m\u001b[43mfilename\u001b[49m\u001b[43m,\u001b[49m\u001b[43m \u001b[49m\u001b[43mdriver\u001b[49m\u001b[43m,\u001b[49m\u001b[43m \u001b[49m\u001b[43mschema\u001b[49m\u001b[43m,\u001b[49m\u001b[43m \u001b[49m\u001b[43mindex\u001b[49m\u001b[43m,\u001b[49m\u001b[43m \u001b[49m\u001b[38;5;241;43m*\u001b[39;49m\u001b[38;5;241;43m*\u001b[39;49m\u001b[43mkwargs\u001b[49m\u001b[43m)\u001b[49m\n",
      "File \u001b[0;32m/opt/conda/envs/r/lib/python3.12/site-packages/geopandas/io/file.py:686\u001b[0m, in \u001b[0;36m_to_file\u001b[0;34m(df, filename, driver, schema, index, mode, crs, engine, metadata, **kwargs)\u001b[0m\n\u001b[1;32m    683\u001b[0m     \u001b[38;5;28;01mraise\u001b[39;00m \u001b[38;5;167;01mValueError\u001b[39;00m(\u001b[38;5;124mf\u001b[39m\u001b[38;5;124m\"\u001b[39m\u001b[38;5;124m'\u001b[39m\u001b[38;5;124mmode\u001b[39m\u001b[38;5;124m'\u001b[39m\u001b[38;5;124m should be one of \u001b[39m\u001b[38;5;124m'\u001b[39m\u001b[38;5;124mw\u001b[39m\u001b[38;5;124m'\u001b[39m\u001b[38;5;124m or \u001b[39m\u001b[38;5;124m'\u001b[39m\u001b[38;5;124ma\u001b[39m\u001b[38;5;124m'\u001b[39m\u001b[38;5;124m, got \u001b[39m\u001b[38;5;124m'\u001b[39m\u001b[38;5;132;01m{\u001b[39;00mmode\u001b[38;5;132;01m}\u001b[39;00m\u001b[38;5;124m'\u001b[39m\u001b[38;5;124m instead\u001b[39m\u001b[38;5;124m\"\u001b[39m)\n\u001b[1;32m    685\u001b[0m \u001b[38;5;28;01mif\u001b[39;00m engine \u001b[38;5;241m==\u001b[39m \u001b[38;5;124m\"\u001b[39m\u001b[38;5;124mpyogrio\u001b[39m\u001b[38;5;124m\"\u001b[39m:\n\u001b[0;32m--> 686\u001b[0m     \u001b[43m_to_file_pyogrio\u001b[49m\u001b[43m(\u001b[49m\u001b[43mdf\u001b[49m\u001b[43m,\u001b[49m\u001b[43m \u001b[49m\u001b[43mfilename\u001b[49m\u001b[43m,\u001b[49m\u001b[43m \u001b[49m\u001b[43mdriver\u001b[49m\u001b[43m,\u001b[49m\u001b[43m \u001b[49m\u001b[43mschema\u001b[49m\u001b[43m,\u001b[49m\u001b[43m \u001b[49m\u001b[43mcrs\u001b[49m\u001b[43m,\u001b[49m\u001b[43m \u001b[49m\u001b[43mmode\u001b[49m\u001b[43m,\u001b[49m\u001b[43m \u001b[49m\u001b[43mmetadata\u001b[49m\u001b[43m,\u001b[49m\u001b[43m \u001b[49m\u001b[38;5;241;43m*\u001b[39;49m\u001b[38;5;241;43m*\u001b[39;49m\u001b[43mkwargs\u001b[49m\u001b[43m)\u001b[49m\n\u001b[1;32m    687\u001b[0m \u001b[38;5;28;01melif\u001b[39;00m engine \u001b[38;5;241m==\u001b[39m \u001b[38;5;124m\"\u001b[39m\u001b[38;5;124mfiona\u001b[39m\u001b[38;5;124m\"\u001b[39m:\n\u001b[1;32m    688\u001b[0m     _to_file_fiona(df, filename, driver, schema, crs, mode, metadata, \u001b[38;5;241m*\u001b[39m\u001b[38;5;241m*\u001b[39mkwargs)\n",
      "File \u001b[0;32m/opt/conda/envs/r/lib/python3.12/site-packages/geopandas/io/file.py:748\u001b[0m, in \u001b[0;36m_to_file_pyogrio\u001b[0;34m(df, filename, driver, schema, crs, mode, metadata, **kwargs)\u001b[0m\n\u001b[1;32m    745\u001b[0m \u001b[38;5;28;01mif\u001b[39;00m \u001b[38;5;129;01mnot\u001b[39;00m df\u001b[38;5;241m.\u001b[39mcolumns\u001b[38;5;241m.\u001b[39mis_unique:\n\u001b[1;32m    746\u001b[0m     \u001b[38;5;28;01mraise\u001b[39;00m \u001b[38;5;167;01mValueError\u001b[39;00m(\u001b[38;5;124m\"\u001b[39m\u001b[38;5;124mGeoDataFrame cannot contain duplicated column names.\u001b[39m\u001b[38;5;124m\"\u001b[39m)\n\u001b[0;32m--> 748\u001b[0m \u001b[43mpyogrio\u001b[49m\u001b[38;5;241;43m.\u001b[39;49m\u001b[43mwrite_dataframe\u001b[49m\u001b[43m(\u001b[49m\u001b[43mdf\u001b[49m\u001b[43m,\u001b[49m\u001b[43m \u001b[49m\u001b[43mfilename\u001b[49m\u001b[43m,\u001b[49m\u001b[43m \u001b[49m\u001b[43mdriver\u001b[49m\u001b[38;5;241;43m=\u001b[39;49m\u001b[43mdriver\u001b[49m\u001b[43m,\u001b[49m\u001b[43m \u001b[49m\u001b[43mmetadata\u001b[49m\u001b[38;5;241;43m=\u001b[39;49m\u001b[43mmetadata\u001b[49m\u001b[43m,\u001b[49m\u001b[43m \u001b[49m\u001b[38;5;241;43m*\u001b[39;49m\u001b[38;5;241;43m*\u001b[39;49m\u001b[43mkwargs\u001b[49m\u001b[43m)\u001b[49m\n",
      "File \u001b[0;32m/opt/conda/envs/r/lib/python3.12/site-packages/pyogrio/geopandas.py:645\u001b[0m, in \u001b[0;36mwrite_dataframe\u001b[0;34m(df, path, layer, driver, encoding, geometry_type, promote_to_multi, nan_as_null, append, use_arrow, dataset_metadata, layer_metadata, metadata, dataset_options, layer_options, **kwargs)\u001b[0m\n\u001b[1;32m    642\u001b[0m \u001b[38;5;28;01mif\u001b[39;00m geometry_column \u001b[38;5;129;01mis\u001b[39;00m \u001b[38;5;129;01mnot\u001b[39;00m \u001b[38;5;28;01mNone\u001b[39;00m:\n\u001b[1;32m    643\u001b[0m     geometry \u001b[38;5;241m=\u001b[39m to_wkb(geometry\u001b[38;5;241m.\u001b[39mvalues)\n\u001b[0;32m--> 645\u001b[0m \u001b[43mwrite\u001b[49m\u001b[43m(\u001b[49m\n\u001b[1;32m    646\u001b[0m \u001b[43m    \u001b[49m\u001b[43mpath\u001b[49m\u001b[43m,\u001b[49m\n\u001b[1;32m    647\u001b[0m \u001b[43m    \u001b[49m\u001b[43mlayer\u001b[49m\u001b[38;5;241;43m=\u001b[39;49m\u001b[43mlayer\u001b[49m\u001b[43m,\u001b[49m\n\u001b[1;32m    648\u001b[0m \u001b[43m    \u001b[49m\u001b[43mdriver\u001b[49m\u001b[38;5;241;43m=\u001b[39;49m\u001b[43mdriver\u001b[49m\u001b[43m,\u001b[49m\n\u001b[1;32m    649\u001b[0m \u001b[43m    \u001b[49m\u001b[43mgeometry\u001b[49m\u001b[38;5;241;43m=\u001b[39;49m\u001b[43mgeometry\u001b[49m\u001b[43m,\u001b[49m\n\u001b[1;32m    650\u001b[0m \u001b[43m    \u001b[49m\u001b[43mfield_data\u001b[49m\u001b[38;5;241;43m=\u001b[39;49m\u001b[43mfield_data\u001b[49m\u001b[43m,\u001b[49m\n\u001b[1;32m    651\u001b[0m \u001b[43m    \u001b[49m\u001b[43mfield_mask\u001b[49m\u001b[38;5;241;43m=\u001b[39;49m\u001b[43mfield_mask\u001b[49m\u001b[43m,\u001b[49m\n\u001b[1;32m    652\u001b[0m \u001b[43m    \u001b[49m\u001b[43mfields\u001b[49m\u001b[38;5;241;43m=\u001b[39;49m\u001b[43mfields\u001b[49m\u001b[43m,\u001b[49m\n\u001b[1;32m    653\u001b[0m \u001b[43m    \u001b[49m\u001b[43mcrs\u001b[49m\u001b[38;5;241;43m=\u001b[39;49m\u001b[43mcrs\u001b[49m\u001b[43m,\u001b[49m\n\u001b[1;32m    654\u001b[0m \u001b[43m    \u001b[49m\u001b[43mgeometry_type\u001b[49m\u001b[38;5;241;43m=\u001b[39;49m\u001b[43mgeometry_type\u001b[49m\u001b[43m,\u001b[49m\n\u001b[1;32m    655\u001b[0m \u001b[43m    \u001b[49m\u001b[43mencoding\u001b[49m\u001b[38;5;241;43m=\u001b[39;49m\u001b[43mencoding\u001b[49m\u001b[43m,\u001b[49m\n\u001b[1;32m    656\u001b[0m \u001b[43m    \u001b[49m\u001b[43mpromote_to_multi\u001b[49m\u001b[38;5;241;43m=\u001b[39;49m\u001b[43mpromote_to_multi\u001b[49m\u001b[43m,\u001b[49m\n\u001b[1;32m    657\u001b[0m \u001b[43m    \u001b[49m\u001b[43mnan_as_null\u001b[49m\u001b[38;5;241;43m=\u001b[39;49m\u001b[43mnan_as_null\u001b[49m\u001b[43m,\u001b[49m\n\u001b[1;32m    658\u001b[0m \u001b[43m    \u001b[49m\u001b[43mappend\u001b[49m\u001b[38;5;241;43m=\u001b[39;49m\u001b[43mappend\u001b[49m\u001b[43m,\u001b[49m\n\u001b[1;32m    659\u001b[0m \u001b[43m    \u001b[49m\u001b[43mdataset_metadata\u001b[49m\u001b[38;5;241;43m=\u001b[39;49m\u001b[43mdataset_metadata\u001b[49m\u001b[43m,\u001b[49m\n\u001b[1;32m    660\u001b[0m \u001b[43m    \u001b[49m\u001b[43mlayer_metadata\u001b[49m\u001b[38;5;241;43m=\u001b[39;49m\u001b[43mlayer_metadata\u001b[49m\u001b[43m,\u001b[49m\n\u001b[1;32m    661\u001b[0m \u001b[43m    \u001b[49m\u001b[43mmetadata\u001b[49m\u001b[38;5;241;43m=\u001b[39;49m\u001b[43mmetadata\u001b[49m\u001b[43m,\u001b[49m\n\u001b[1;32m    662\u001b[0m \u001b[43m    \u001b[49m\u001b[43mdataset_options\u001b[49m\u001b[38;5;241;43m=\u001b[39;49m\u001b[43mdataset_options\u001b[49m\u001b[43m,\u001b[49m\n\u001b[1;32m    663\u001b[0m \u001b[43m    \u001b[49m\u001b[43mlayer_options\u001b[49m\u001b[38;5;241;43m=\u001b[39;49m\u001b[43mlayer_options\u001b[49m\u001b[43m,\u001b[49m\n\u001b[1;32m    664\u001b[0m \u001b[43m    \u001b[49m\u001b[43mgdal_tz_offsets\u001b[49m\u001b[38;5;241;43m=\u001b[39;49m\u001b[43mgdal_tz_offsets\u001b[49m\u001b[43m,\u001b[49m\n\u001b[1;32m    665\u001b[0m \u001b[43m    \u001b[49m\u001b[38;5;241;43m*\u001b[39;49m\u001b[38;5;241;43m*\u001b[39;49m\u001b[43mkwargs\u001b[49m\u001b[43m,\u001b[49m\n\u001b[1;32m    666\u001b[0m \u001b[43m\u001b[49m\u001b[43m)\u001b[49m\n",
      "File \u001b[0;32m/opt/conda/envs/r/lib/python3.12/site-packages/pyogrio/raw.py:709\u001b[0m, in \u001b[0;36mwrite\u001b[0;34m(path, geometry, field_data, fields, field_mask, layer, driver, geometry_type, crs, encoding, promote_to_multi, nan_as_null, append, dataset_metadata, layer_metadata, metadata, dataset_options, layer_options, gdal_tz_offsets, **kwargs)\u001b[0m\n\u001b[1;32m    704\u001b[0m \u001b[38;5;66;03m# preprocess kwargs and split in dataset and layer creation options\u001b[39;00m\n\u001b[1;32m    705\u001b[0m dataset_kwargs, layer_kwargs \u001b[38;5;241m=\u001b[39m _preprocess_options_kwargs(\n\u001b[1;32m    706\u001b[0m     driver, dataset_options, layer_options, kwargs\n\u001b[1;32m    707\u001b[0m )\n\u001b[0;32m--> 709\u001b[0m \u001b[43mogr_write\u001b[49m\u001b[43m(\u001b[49m\n\u001b[1;32m    710\u001b[0m \u001b[43m    \u001b[49m\u001b[43mpath\u001b[49m\u001b[43m,\u001b[49m\n\u001b[1;32m    711\u001b[0m \u001b[43m    \u001b[49m\u001b[43mlayer\u001b[49m\u001b[38;5;241;43m=\u001b[39;49m\u001b[43mlayer\u001b[49m\u001b[43m,\u001b[49m\n\u001b[1;32m    712\u001b[0m \u001b[43m    \u001b[49m\u001b[43mdriver\u001b[49m\u001b[38;5;241;43m=\u001b[39;49m\u001b[43mdriver\u001b[49m\u001b[43m,\u001b[49m\n\u001b[1;32m    713\u001b[0m \u001b[43m    \u001b[49m\u001b[43mgeometry\u001b[49m\u001b[38;5;241;43m=\u001b[39;49m\u001b[43mgeometry\u001b[49m\u001b[43m,\u001b[49m\n\u001b[1;32m    714\u001b[0m \u001b[43m    \u001b[49m\u001b[43mgeometry_type\u001b[49m\u001b[38;5;241;43m=\u001b[39;49m\u001b[43mgeometry_type\u001b[49m\u001b[43m,\u001b[49m\n\u001b[1;32m    715\u001b[0m \u001b[43m    \u001b[49m\u001b[43mfield_data\u001b[49m\u001b[38;5;241;43m=\u001b[39;49m\u001b[43mfield_data\u001b[49m\u001b[43m,\u001b[49m\n\u001b[1;32m    716\u001b[0m \u001b[43m    \u001b[49m\u001b[43mfield_mask\u001b[49m\u001b[38;5;241;43m=\u001b[39;49m\u001b[43mfield_mask\u001b[49m\u001b[43m,\u001b[49m\n\u001b[1;32m    717\u001b[0m \u001b[43m    \u001b[49m\u001b[43mfields\u001b[49m\u001b[38;5;241;43m=\u001b[39;49m\u001b[43mfields\u001b[49m\u001b[43m,\u001b[49m\n\u001b[1;32m    718\u001b[0m \u001b[43m    \u001b[49m\u001b[43mcrs\u001b[49m\u001b[38;5;241;43m=\u001b[39;49m\u001b[43mcrs\u001b[49m\u001b[43m,\u001b[49m\n\u001b[1;32m    719\u001b[0m \u001b[43m    \u001b[49m\u001b[43mencoding\u001b[49m\u001b[38;5;241;43m=\u001b[39;49m\u001b[43mencoding\u001b[49m\u001b[43m,\u001b[49m\n\u001b[1;32m    720\u001b[0m \u001b[43m    \u001b[49m\u001b[43mpromote_to_multi\u001b[49m\u001b[38;5;241;43m=\u001b[39;49m\u001b[43mpromote_to_multi\u001b[49m\u001b[43m,\u001b[49m\n\u001b[1;32m    721\u001b[0m \u001b[43m    \u001b[49m\u001b[43mnan_as_null\u001b[49m\u001b[38;5;241;43m=\u001b[39;49m\u001b[43mnan_as_null\u001b[49m\u001b[43m,\u001b[49m\n\u001b[1;32m    722\u001b[0m \u001b[43m    \u001b[49m\u001b[43mappend\u001b[49m\u001b[38;5;241;43m=\u001b[39;49m\u001b[43mappend\u001b[49m\u001b[43m,\u001b[49m\n\u001b[1;32m    723\u001b[0m \u001b[43m    \u001b[49m\u001b[43mdataset_metadata\u001b[49m\u001b[38;5;241;43m=\u001b[39;49m\u001b[43mdataset_metadata\u001b[49m\u001b[43m,\u001b[49m\n\u001b[1;32m    724\u001b[0m \u001b[43m    \u001b[49m\u001b[43mlayer_metadata\u001b[49m\u001b[38;5;241;43m=\u001b[39;49m\u001b[43mlayer_metadata\u001b[49m\u001b[43m,\u001b[49m\n\u001b[1;32m    725\u001b[0m \u001b[43m    \u001b[49m\u001b[43mdataset_kwargs\u001b[49m\u001b[38;5;241;43m=\u001b[39;49m\u001b[43mdataset_kwargs\u001b[49m\u001b[43m,\u001b[49m\n\u001b[1;32m    726\u001b[0m \u001b[43m    \u001b[49m\u001b[43mlayer_kwargs\u001b[49m\u001b[38;5;241;43m=\u001b[39;49m\u001b[43mlayer_kwargs\u001b[49m\u001b[43m,\u001b[49m\n\u001b[1;32m    727\u001b[0m \u001b[43m    \u001b[49m\u001b[43mgdal_tz_offsets\u001b[49m\u001b[38;5;241;43m=\u001b[39;49m\u001b[43mgdal_tz_offsets\u001b[49m\u001b[43m,\u001b[49m\n\u001b[1;32m    728\u001b[0m \u001b[43m\u001b[49m\u001b[43m)\u001b[49m\n",
      "\u001b[0;31mKeyboardInterrupt\u001b[0m: "
     ]
    }
   ],
   "source": [
    "import geopandas as gpd\n",
    "import os\n",
    "\n",
    "# Function to split a GeoPackage into individual files\n",
    "def split_geopackage(input_file, output_dir):\n",
    "    # Read the GeoPackage\n",
    "    gdf = gpd.read_file(input_file)\n",
    "    \n",
    "    # Ensure the output directory exists\n",
    "    if not os.path.exists(output_dir):\n",
    "        os.makedirs(output_dir)\n",
    "    \n",
    "    # Loop through each feature and save it as a separate file\n",
    "    for idx, row in gdf.iterrows():\n",
    "        # Create a GeoDataFrame for the individual feature\n",
    "        single_feature_gdf = gpd.GeoDataFrame([row], columns=gdf.columns, geometry=gdf.geometry)\n",
    "        \n",
    "        # Define output file path\n",
    "        output_file = os.path.join(output_dir, f\"feature_{idx + 1}.gpkg\")\n",
    "        \n",
    "        # Write the single feature to a new GeoPackage file\n",
    "        single_feature_gdf.to_file(output_file, driver=\"GPKG\")\n",
    "        print(f\"Feature {idx + 1} saved to {output_file}\")\n",
    "\n",
    "# Example usage\n",
    "input_geopackage = '/projects/my-public-bucket/Data/NASA_CMS_2023/BRAZIL/GRID/GRID_all_tiles_with_data.gpkg'  # Replace with your input GeoPackage file\n",
    "output_directory = '/projects/my-public-bucket/Data/NASA_CMS_2023/BRAZIL/GRID'        # Directory to save individual feature files\n",
    "\n",
    "split_geopackage(input_geopackage, output_directory)"
   ]
  },
  {
   "cell_type": "code",
   "execution_count": 8,
   "id": "e59bab5d-9978-4684-9356-5f071f695288",
   "metadata": {
    "tags": []
   },
   "outputs": [
    {
     "name": "stdout",
     "output_type": "stream",
     "text": [
      "27\n",
      "['https://maap-ops-workspace.s3.amazonaws.com/shared/nehajo88/Data/NASA_CMS_2023/BRAZIL/Provinces_with_data_Buffer/ADM1_PT_Acre.gpkg', 'https://maap-ops-workspace.s3.amazonaws.com/shared/nehajo88/Data/NASA_CMS_2023/BRAZIL/Provinces_with_data_Buffer/ADM1_PT_Amapa.gpkg', 'https://maap-ops-workspace.s3.amazonaws.com/shared/nehajo88/Data/NASA_CMS_2023/BRAZIL/Provinces_with_data_Buffer/ADM1_PT_Amazonas.gpkg', 'https://maap-ops-workspace.s3.amazonaws.com/shared/nehajo88/Data/NASA_CMS_2023/BRAZIL/Provinces_with_data_Buffer/ADM1_PT_Amazonas1.gpkg', 'https://maap-ops-workspace.s3.amazonaws.com/shared/nehajo88/Data/NASA_CMS_2023/BRAZIL/Provinces_with_data_Buffer/ADM1_PT_Bahia.gpkg', 'https://maap-ops-workspace.s3.amazonaws.com/shared/nehajo88/Data/NASA_CMS_2023/BRAZIL/Provinces_with_data_Buffer/ADM1_PT_Bahia1.gpkg', 'https://maap-ops-workspace.s3.amazonaws.com/shared/nehajo88/Data/NASA_CMS_2023/BRAZIL/Provinces_with_data_Buffer/ADM1_PT_Goias.gpkg', 'https://maap-ops-workspace.s3.amazonaws.com/shared/nehajo88/Data/NASA_CMS_2023/BRAZIL/Provinces_with_data_Buffer/ADM1_PT_Goias1.gpkg', 'https://maap-ops-workspace.s3.amazonaws.com/shared/nehajo88/Data/NASA_CMS_2023/BRAZIL/Provinces_with_data_Buffer/ADM1_PT_Maranhao.gpkg', 'https://maap-ops-workspace.s3.amazonaws.com/shared/nehajo88/Data/NASA_CMS_2023/BRAZIL/Provinces_with_data_Buffer/ADM1_PT_Maranhao1.gpkg', 'https://maap-ops-workspace.s3.amazonaws.com/shared/nehajo88/Data/NASA_CMS_2023/BRAZIL/Provinces_with_data_Buffer/ADM1_PT_MatoGrosso1.gpkg', 'https://maap-ops-workspace.s3.amazonaws.com/shared/nehajo88/Data/NASA_CMS_2023/BRAZIL/Provinces_with_data_Buffer/ADM1_PT_MatoGrosso2.gpkg', 'https://maap-ops-workspace.s3.amazonaws.com/shared/nehajo88/Data/NASA_CMS_2023/BRAZIL/Provinces_with_data_Buffer/ADM1_PT_MatoGrosso3.gpkg', 'https://maap-ops-workspace.s3.amazonaws.com/shared/nehajo88/Data/NASA_CMS_2023/BRAZIL/Provinces_with_data_Buffer/ADM1_PT_MatoGrosso4.gpkg', 'https://maap-ops-workspace.s3.amazonaws.com/shared/nehajo88/Data/NASA_CMS_2023/BRAZIL/Provinces_with_data_Buffer/ADM1_PT_MatoGrossodoSul.gpkg', 'https://maap-ops-workspace.s3.amazonaws.com/shared/nehajo88/Data/NASA_CMS_2023/BRAZIL/Provinces_with_data_Buffer/ADM1_PT_MatoGrossodoSul1.gpkg', 'https://maap-ops-workspace.s3.amazonaws.com/shared/nehajo88/Data/NASA_CMS_2023/BRAZIL/Provinces_with_data_Buffer/ADM1_PT_MinasGerais.gpkg', 'https://maap-ops-workspace.s3.amazonaws.com/shared/nehajo88/Data/NASA_CMS_2023/BRAZIL/Provinces_with_data_Buffer/ADM1_PT_Piaui1.gpkg', 'https://maap-ops-workspace.s3.amazonaws.com/shared/nehajo88/Data/NASA_CMS_2023/BRAZIL/Provinces_with_data_Buffer/ADM1_PT_Piaui2.gpkg', 'https://maap-ops-workspace.s3.amazonaws.com/shared/nehajo88/Data/NASA_CMS_2023/BRAZIL/Provinces_with_data_Buffer/ADM1_PT_Piaui3.gpkg', 'https://maap-ops-workspace.s3.amazonaws.com/shared/nehajo88/Data/NASA_CMS_2023/BRAZIL/Provinces_with_data_Buffer/ADM1_PT_Piaui4.gpkg', 'https://maap-ops-workspace.s3.amazonaws.com/shared/nehajo88/Data/NASA_CMS_2023/BRAZIL/Provinces_with_data_Buffer/ADM1_PT_Roraima.gpkg', 'https://maap-ops-workspace.s3.amazonaws.com/shared/nehajo88/Data/NASA_CMS_2023/BRAZIL/Provinces_with_data_Buffer/ADM1_PT_SaoPaulo1.gpkg', 'https://maap-ops-workspace.s3.amazonaws.com/shared/nehajo88/Data/NASA_CMS_2023/BRAZIL/Provinces_with_data_Buffer/ADM1_PT_SaoPaulo2.gpkg', 'https://maap-ops-workspace.s3.amazonaws.com/shared/nehajo88/Data/NASA_CMS_2023/BRAZIL/Provinces_with_data_Buffer/ADM1_PT_SaoPaulo3.gpkg', 'https://maap-ops-workspace.s3.amazonaws.com/shared/nehajo88/Data/NASA_CMS_2023/BRAZIL/Provinces_with_data_Buffer/ADM1_PT_Tocantins.gpkg', 'https://maap-ops-workspace.s3.amazonaws.com/shared/nehajo88/Data/NASA_CMS_2023/BRAZIL/Provinces_with_data_Buffer/ADM1_PT_Tocantins1.gpkg']\n"
     ]
    },
    {
     "data": {
      "text/plain": [
       "['https://maap-ops-workspace.s3.amazonaws.com/shared/nehajo88/Data/NASA_CMS_2023/BRAZIL/Provinces_with_data_Buffer/ADM1_PT_Acre.gpkg',\n",
       " 'https://maap-ops-workspace.s3.amazonaws.com/shared/nehajo88/Data/NASA_CMS_2023/BRAZIL/Provinces_with_data_Buffer/ADM1_PT_Amapa.gpkg',\n",
       " 'https://maap-ops-workspace.s3.amazonaws.com/shared/nehajo88/Data/NASA_CMS_2023/BRAZIL/Provinces_with_data_Buffer/ADM1_PT_Amazonas.gpkg',\n",
       " 'https://maap-ops-workspace.s3.amazonaws.com/shared/nehajo88/Data/NASA_CMS_2023/BRAZIL/Provinces_with_data_Buffer/ADM1_PT_Amazonas1.gpkg',\n",
       " 'https://maap-ops-workspace.s3.amazonaws.com/shared/nehajo88/Data/NASA_CMS_2023/BRAZIL/Provinces_with_data_Buffer/ADM1_PT_Bahia.gpkg',\n",
       " 'https://maap-ops-workspace.s3.amazonaws.com/shared/nehajo88/Data/NASA_CMS_2023/BRAZIL/Provinces_with_data_Buffer/ADM1_PT_Bahia1.gpkg',\n",
       " 'https://maap-ops-workspace.s3.amazonaws.com/shared/nehajo88/Data/NASA_CMS_2023/BRAZIL/Provinces_with_data_Buffer/ADM1_PT_Goias.gpkg',\n",
       " 'https://maap-ops-workspace.s3.amazonaws.com/shared/nehajo88/Data/NASA_CMS_2023/BRAZIL/Provinces_with_data_Buffer/ADM1_PT_Goias1.gpkg',\n",
       " 'https://maap-ops-workspace.s3.amazonaws.com/shared/nehajo88/Data/NASA_CMS_2023/BRAZIL/Provinces_with_data_Buffer/ADM1_PT_Maranhao.gpkg',\n",
       " 'https://maap-ops-workspace.s3.amazonaws.com/shared/nehajo88/Data/NASA_CMS_2023/BRAZIL/Provinces_with_data_Buffer/ADM1_PT_Maranhao1.gpkg',\n",
       " 'https://maap-ops-workspace.s3.amazonaws.com/shared/nehajo88/Data/NASA_CMS_2023/BRAZIL/Provinces_with_data_Buffer/ADM1_PT_MatoGrosso1.gpkg',\n",
       " 'https://maap-ops-workspace.s3.amazonaws.com/shared/nehajo88/Data/NASA_CMS_2023/BRAZIL/Provinces_with_data_Buffer/ADM1_PT_MatoGrosso2.gpkg',\n",
       " 'https://maap-ops-workspace.s3.amazonaws.com/shared/nehajo88/Data/NASA_CMS_2023/BRAZIL/Provinces_with_data_Buffer/ADM1_PT_MatoGrosso3.gpkg',\n",
       " 'https://maap-ops-workspace.s3.amazonaws.com/shared/nehajo88/Data/NASA_CMS_2023/BRAZIL/Provinces_with_data_Buffer/ADM1_PT_MatoGrosso4.gpkg',\n",
       " 'https://maap-ops-workspace.s3.amazonaws.com/shared/nehajo88/Data/NASA_CMS_2023/BRAZIL/Provinces_with_data_Buffer/ADM1_PT_MatoGrossodoSul.gpkg',\n",
       " 'https://maap-ops-workspace.s3.amazonaws.com/shared/nehajo88/Data/NASA_CMS_2023/BRAZIL/Provinces_with_data_Buffer/ADM1_PT_MatoGrossodoSul1.gpkg',\n",
       " 'https://maap-ops-workspace.s3.amazonaws.com/shared/nehajo88/Data/NASA_CMS_2023/BRAZIL/Provinces_with_data_Buffer/ADM1_PT_MinasGerais.gpkg',\n",
       " 'https://maap-ops-workspace.s3.amazonaws.com/shared/nehajo88/Data/NASA_CMS_2023/BRAZIL/Provinces_with_data_Buffer/ADM1_PT_Piaui1.gpkg',\n",
       " 'https://maap-ops-workspace.s3.amazonaws.com/shared/nehajo88/Data/NASA_CMS_2023/BRAZIL/Provinces_with_data_Buffer/ADM1_PT_Piaui2.gpkg',\n",
       " 'https://maap-ops-workspace.s3.amazonaws.com/shared/nehajo88/Data/NASA_CMS_2023/BRAZIL/Provinces_with_data_Buffer/ADM1_PT_Piaui3.gpkg',\n",
       " 'https://maap-ops-workspace.s3.amazonaws.com/shared/nehajo88/Data/NASA_CMS_2023/BRAZIL/Provinces_with_data_Buffer/ADM1_PT_Piaui4.gpkg',\n",
       " 'https://maap-ops-workspace.s3.amazonaws.com/shared/nehajo88/Data/NASA_CMS_2023/BRAZIL/Provinces_with_data_Buffer/ADM1_PT_Roraima.gpkg',\n",
       " 'https://maap-ops-workspace.s3.amazonaws.com/shared/nehajo88/Data/NASA_CMS_2023/BRAZIL/Provinces_with_data_Buffer/ADM1_PT_SaoPaulo1.gpkg',\n",
       " 'https://maap-ops-workspace.s3.amazonaws.com/shared/nehajo88/Data/NASA_CMS_2023/BRAZIL/Provinces_with_data_Buffer/ADM1_PT_SaoPaulo2.gpkg',\n",
       " 'https://maap-ops-workspace.s3.amazonaws.com/shared/nehajo88/Data/NASA_CMS_2023/BRAZIL/Provinces_with_data_Buffer/ADM1_PT_SaoPaulo3.gpkg',\n",
       " 'https://maap-ops-workspace.s3.amazonaws.com/shared/nehajo88/Data/NASA_CMS_2023/BRAZIL/Provinces_with_data_Buffer/ADM1_PT_Tocantins.gpkg',\n",
       " 'https://maap-ops-workspace.s3.amazonaws.com/shared/nehajo88/Data/NASA_CMS_2023/BRAZIL/Provinces_with_data_Buffer/ADM1_PT_Tocantins1.gpkg']"
      ]
     },
     "execution_count": 8,
     "metadata": {},
     "output_type": "execute_result"
    }
   ],
   "source": [
    "folder_path = \"/projects/my-public-bucket/Data/NASA_CMS_2023/BRAZIL/Provinces_with_data_Buffer\"\n",
    "json_files = []\n",
    "pattern = os.path.join(folder_path, 'ADM1*.gpkg')\n",
    "json_files = glob.glob(pattern)\n",
    "json_files = [ x for x in json_files if \"L2A\" not in x ]\n",
    "json_files = [x.replace('/projects/my-public-bucket/Data/NASA_CMS_2023/BRAZIL/Provinces_with_data_Buffer/',\n",
    "                        'https://maap-ops-workspace.s3.amazonaws.com/shared/nehajo88/Data/NASA_CMS_2023/BRAZIL/Provinces_with_data_Buffer/') for x in json_files]\n",
    "print(len(json_files))\n",
    "print(json_files)\n",
    "AOIs = json_files\n",
    "AOIs\n",
    "# folder_path = \"/projects/my-public-bucket/Data/NASA_CMS_2023/WA_15_countries/GRID_Mali/\"\n",
    "# json_files = []\n",
    "# pattern = os.path.join(folder_path, '*.gpkg')\n",
    "# json_files = glob.glob(pattern)\n",
    "# json_files = [ x for x in json_files if \"L2A\" not in x ]\n",
    "# json_files = [x.replace('/projects/my-public-bucket/Data/NASA_CMS_2023/WA_15_countries/GRID_Mali/',\n",
    "#                         'https://maap-ops-workspace.s3.amazonaws.com/shared/nehajo88/Data/NASA_CMS_2023/WA_15_countries/GRID_Mali/') for x in json_files]\n",
    "# print(len(json_files))\n",
    "# print(json_files)\n",
    "# AOIs = json_files\n",
    "# AOIs\n",
    "# json_files =  \"https://maap-ops-workspace.s3.amazonaws.com/shared/nehajo88/Data/NASA_CMS_2023/MOZAMBIQUE/MOZ_country.gpkg\""
   ]
  },
  {
   "cell_type": "code",
   "execution_count": 24,
   "id": "23f0f7a0-8faf-4b50-b441-56000fad2446",
   "metadata": {},
   "outputs": [
    {
     "data": {
      "image/png": "[encoded data removed]",
      "text/plain": [
       "<Figure size 1000x1000 with 1 Axes>"
      ]
     },
     "metadata": {},
     "output_type": "display_data"
    }
   ],
   "source": [
    "import geopandas as gpd\n",
    "import matplotlib.pyplot as plt\n",
    "\n",
    "# Step 1: Read the GeoPackage file\n",
    "gdf = gpd.read_file('/projects/my-public-bucket/Data/NASA_CMS_2023/BRAZIL/GRID/AOI.gpkg')\n",
    "\n",
    "# Step 2: Plot the data\n",
    "gdf.plot(figsize=(10, 10))  # You can adjust the size of the plot\n",
    "\n",
    "# Optional: Customize plot (e.g., add a title)\n",
    "plt.title('Geospatial Data from GeoPackage')\n",
    "plt.xlabel('Longitude')\n",
    "plt.ylabel('Latitude')\n",
    "\n",
    "# Show the plot\n",
    "plt.show()"
   ]
  },
  {
   "cell_type": "code",
   "execution_count": 31,
   "id": "d1148dc4-6335-452f-91eb-9215504ed072",
   "metadata": {
    "tags": []
   },
   "outputs": [
    {
     "name": "stdout",
     "output_type": "stream",
     "text": [
      "Thanks, I'll run the GEDI L4A subsetter for ADM1_PT_MatoGrosso1!!\n",
      "Thanks, I'll run the GEDI L4A subsetter for ADM1_PT_Roraima!!\n"
     ]
    }
   ],
   "source": [
    "#Set up run to pull products for all GEDI products simultaneously #To run for only 1 or 2 products, change \"PRODUCTS\"\n",
    "\n",
    "PRODUCTS = [\"L4A\"] # ,\"L2A\",\"L2B\"]  #To run for only 1 or 2 products, change \"PRODUCTS\"\n",
    "out_dir = \"/projects/my-public-bucket/Data/NASA_CMS_2023/BRAZIL/GEDI_Buffer/\"\n",
    "\n",
    "# out_dir = \"/projects/my-public-bucket/Data/NASA_CMS_2023/MOZAMBIQUE/Data/\"\n",
    "# json_files =  [\"https://maap-ops-workspace.s3.amazonaws.com/shared/nehajo88/Data/NASA_CMS_2023/MOZAMBIQUE/MOZ_country.gpkg\"]\n",
    "\n",
    "# out_dir = \"/projects/my-public-bucket/Data/NASA_CMS_2023/BRAZIL/GEDI_Buffer/\"\n",
    "# json_files = [\"https://maap-ops-workspace.s3.amazonaws.com/shared/nehajo88/Data/NASA_CMS_2023/PERU/Peru_country.gpkg\"]\n",
    "\n",
    "if not os.path.exists(out_dir): os.mkdir(out_dir)\n",
    "\n",
    "AOIs = json_files\n",
    "\n",
    "for each_aoi in AOIs: \n",
    "    if \"L4A\" in PRODUCTS: \n",
    "        if not os.path.exists(out_dir + f\"{os.path.basename(each_aoi).split('.')[0]}_MON_L4A.gpkg\"):\n",
    "            aoi_name = os.path.basename(each_aoi).split('.')[0]\n",
    "            print(f\"Thanks, I'll run the GEDI L4A subsetter for {aoi_name}!!\")\n",
    "            #aoi_url = each_aoi\n",
    "            inputs = dict(\n",
    "               aoi=each_aoi,\n",
    "               doi=\"L4A\",\n",
    "               lat=\"lat_lowestmode\",\n",
    "               lon=\"lon_lowestmode\",\n",
    "               beams=\"all\",\n",
    "               columns=\"shot_number,lat_lowestmode,lon_lowestmode,elev_lowestmode,agbd,agbd_se,agbd_t,agbd_t_se,sensitivity,geolocation/sensitivity_a2\",\n",
    "               query=\"l2_quality_flag == 1 and l4_quality_flag == 1 and sensitivity > 0.95\", #  and geolocation/sensitivity_a2 > 0.95\",\n",
    "               # limit = 100000,\n",
    "               #temporal=\"-\",\n",
    "               output=f\"{os.path.basename(each_aoi).split('.')[0]}_MON_L4A.gpkg\"\n",
    "            )\n",
    "            result = maap.submitJob(\n",
    "                identifier=\"gedi-subset\",\n",
    "                algo_id=\"gedi-subset\",\n",
    "                version=\"0.9.0\",\n",
    "                queue=\"maap-dps-worker-64gb\",\n",
    "                username=\"nehajo88\",\n",
    "                **inputs\n",
    "            )\n",
    "            inputs\n",
    "            job_id = result.id\n",
    "            job_id or result\n",
    "\n",
    "    if \"L2B\" in PRODUCTS: \n",
    "        if not os.path.exists(out_dir + f\"{os.path.basename(each_aoi).split('.')[0]}_MON_L2B.gpkg\"):\n",
    "            aoi_name = os.path.basename(each_aoi).split('.')[0]\n",
    "            print(f\"Thanks, I'll run the GEDI L2B subsetter for {aoi_name}!!\")\n",
    "            #aoi_url = each_aoi\n",
    "            inputs = dict(\n",
    "               aoi=each_aoi,\n",
    "               doi=\"L2B\",\n",
    "               lat=\"geolocation/lat_lowestmode\",\n",
    "               lon=\"geolocation/lon_lowestmode\",\n",
    "               beams=\"all\",\n",
    "               columns=\"shot_number,geolocation/lon_lowestmode,geolocation/lat_lowestmode,rh100,l2b_quality_flag,sensitivity,cover,land_cover_data/landsat_treecover, pai,fhd_normal,\"+\",\".join(variables),\n",
    "               query=\"l2a_quality_flag == 1 and l2b_quality_flag == 1 and sensitivity > 0.95\",\n",
    "               limit = 100000,\n",
    "               #temporal=\"-\",\n",
    "               output=f\"{os.path.basename(each_aoi).split('.')[0]}_MON_L2B.gpkg\"\n",
    "            )\n",
    "            result = maap.submitJob(\n",
    "                identifier=\"gedi-subset\",\n",
    "                algo_id=\"gedi-subset\",\n",
    "                version=\"0.9.0\",\n",
    "                queue=\"maap-dps-worker-32vcpu-64gb\",\n",
    "                username=\"nehajo88\",\n",
    "                **inputs\n",
    "            )\n",
    "            inputs\n",
    "            job_id = result.id\n",
    "            job_id or result\n",
    "        \n",
    "        \n",
    "    if \"L2A\" in PRODUCTS: \n",
    "        if not os.path.exists(out_dir + f\"{os.path.basename(each_aoi).split('.')[0]}_MON_L2A.gpkg\"):\n",
    "            aoi_name = os.path.basename(each_aoi).split('.')[0]\n",
    "            print(f\"Thanks, I'll run the GEDI L2A subsetter for {aoi_name}!!\")\n",
    "            #aoi_url = each_aoi\n",
    "            inputs = dict(\n",
    "               aoi=each_aoi,\n",
    "               doi=\"L2A\",\n",
    "               lat=\"lat_lowestmode\",\n",
    "               lon=\"lon_lowestmode\",\n",
    "               beams=\"all\",\n",
    "               columns=\"shot_number,lon_lowestmode,lat_lowestmode,rh10,rh20,rh30,rh40,rh50,rh60,rh70,rh80,rh90,rh98,quality_flag,sensitivity\",\n",
    "               # columns=\"shot_number,lon_lowestmode,lat_lowestmode,rh10,rh20,rh30,rh40,rh50,rh60,rh70,rh80,rh90,rh98,quality_flag,rx_processing_a2/rx_algrunflag,rx_processing_a2/zcross,rx_processing_a2/toploc,geolocation/sensitivity_a2,degrade_f\",\n",
    "               #columns=\"all\",\n",
    "               query=\"quality_flag == 1 and sensitivity > 0.95\",\n",
    "               limit = 100000,\n",
    "               #temporal=\"-\",\n",
    "               output=f\"{os.path.basename(each_aoi).split('.')[0]}_MON_L2A.gpkg\"\n",
    "            )\n",
    "            result = maap.submitJob(\n",
    "                identifier=\"gedi-subset\",\n",
    "                algo_id=\"gedi-subset\",\n",
    "                version=\"0.9.0\",\n",
    "                queue=\"maap-dps-worker-32gb\",\n",
    "                username=\"nehajo88\",\n",
    "                **inputs\n",
    "            )\n",
    "            inputs\n",
    "            job_id = result.id\n",
    "            job_id or result\n",
    "        "
   ]
  },
  {
   "cell_type": "code",
   "execution_count": 33,
   "id": "483f2aaf-990f-4461-a3f0-e81815885cec",
   "metadata": {
    "tags": []
   },
   "outputs": [
    {
     "name": "stdout",
     "output_type": "stream",
     "text": [
      "/projects/my-private-bucket/dps_output/gedi-subset/0.9.0/gedi-subset/2025/04/09/02/16/34/822196/ADM1_PT_Roraima_MON_L4A.gpkg\n",
      "/projects/my-public-bucket/Data/NASA_CMS_2023/BRAZIL/GEDI_Buffer/ADM1_PT_Roraima_MON_L4A.gpkg\n",
      "Moving ADM1_PT_Roraima_MON_L4A.gpkg...\n"
     ]
    }
   ],
   "source": [
    "import subprocess\n",
    "\n",
    "root_dir = \"/projects/my-private-bucket/dps_output/gedi-subset/0.9.0/gedi-subset/2025/04/09\"  # Can now set name\n",
    "out_dir = \"/projects/my-public-bucket/Data/NASA_CMS_2023/BRAZIL/GEDI_Buffer/\"\n",
    "\n",
    "if not os.path.exists(out_dir):\n",
    "    os.mkdir(out_dir)\n",
    "\n",
    "for dirName, subdirList, fileList in os.walk(root_dir):\n",
    "#    print(\"Found directory: %s\" % dirName)\n",
    "    for fname in fileList:\n",
    "        if fname.startswith(\"ADM1_\") and fname.endswith(\"_MON_L4A.gpkg\"):\n",
    "#        if fname.endswith(\"NPAs_L4A.gpkg\"):\n",
    "            source_path = os.path.join(dirName, fname)\n",
    "            print(source_path)\n",
    "            target_path = os.path.join(out_dir, fname)\n",
    "            print(target_path)\n",
    "            if not os.path.exists(target_path):  # Check if file doesn’t exist in target directory\n",
    "                print(f\"Moving {fname}...\")\n",
    "                subprocess.call(['mv', source_path, target_path])\n",
    "            else:\n",
    "                print(f\"{fname} already exists in the target directory. Skipping...\")"
   ]
  },
  {
   "cell_type": "code",
   "execution_count": null,
   "id": "6adb9002-f628-479c-94b5-ed8ff24a56e9",
   "metadata": {
    "tags": []
   },
   "outputs": [
    {
     "name": "stdout",
     "output_type": "stream",
     "text": [
      "/projects/my-public-bucket/Data/NASA_CMS_2023/BRAZIL/GEDI_Buffer/ADM1_PT_Acre_MON_L4A.tif\n"
     ]
    },
    {
     "name": "stderr",
     "output_type": "stream",
     "text": [
      "/tmp/ipykernel_35174/3776457560.py:75: RasterioDeprecationWarning: Source dataset should be opened in read-only mode. Use of datasets opened in modes other than 'r' will be disallowed in a future version.\n",
      "  cog_translate(\n",
      "Reading input: <open DatasetWriter name='/vsimem/92b0a836-e3a0-4c39-bb19-1666f41e3fd5/92b0a836-e3a0-4c39-bb19-1666f41e3fd5.tif' mode='w+'>\n",
      "\n",
      "Adding overviews...\n",
      "Updating dataset tags...\n",
      "Writing output to: /projects/my-public-bucket/Data/NASA_CMS_2023/BRAZIL/GEDI_Buffer/ADM1_PT_Acre_MON_L4A.tif\n"
     ]
    },
    {
     "name": "stdout",
     "output_type": "stream",
     "text": [
      "GeoTIFF has been created successfully with GDAL.\n",
      "/projects/my-public-bucket/Data/NASA_CMS_2023/BRAZIL/GEDI_Buffer/ADM1_PT_Amapa_MON_L4A.tif\n"
     ]
    },
    {
     "name": "stderr",
     "output_type": "stream",
     "text": [
      "/tmp/ipykernel_35174/3776457560.py:75: RasterioDeprecationWarning: Source dataset should be opened in read-only mode. Use of datasets opened in modes other than 'r' will be disallowed in a future version.\n",
      "  cog_translate(\n",
      "Reading input: <open DatasetWriter name='/vsimem/c6215e49-e867-481d-897c-713b5bd94532/c6215e49-e867-481d-897c-713b5bd94532.tif' mode='w+'>\n",
      "\n",
      "Adding overviews...\n",
      "Updating dataset tags...\n",
      "Writing output to: /projects/my-public-bucket/Data/NASA_CMS_2023/BRAZIL/GEDI_Buffer/ADM1_PT_Amapa_MON_L4A.tif\n"
     ]
    },
    {
     "name": "stdout",
     "output_type": "stream",
     "text": [
      "GeoTIFF has been created successfully with GDAL.\n",
      "/projects/my-public-bucket/Data/NASA_CMS_2023/BRAZIL/GEDI_Buffer/ADM1_PT_Amazonas1_MON_L4A.tif\n"
     ]
    }
   ],
   "source": [
    "import rasterio\n",
    "import os\n",
    "import argparse\n",
    "from rasterio.io import MemoryFile\n",
    "from rasterio.rio import options\n",
    "from rasterio.shutil import copy, delete\n",
    "from rasterio.vrt import WarpedVRT\n",
    "from rio_cogeo.cogeo import cog_translate\n",
    "from rio_cogeo.profiles import cog_profiles\n",
    "from rasterio.transform import from_origin\n",
    "from rasterio.crs import CRS\n",
    "import pandas as pd\n",
    "import geopandas as gpd\n",
    "import numpy as np\n",
    "\n",
    "FOLDER = \"/projects/my-public-bucket/Data/NASA_CMS_2023/BRAZIL/GEDI_Buffer/\"\n",
    "OUT_FOLDER = \"/projects/my-public-bucket/Data/NASA_CMS_2023/BRAZIL/GEDI_Buffer/\"\n",
    "\n",
    "for dirName, subdirList, fileList in os.walk(FOLDER):\n",
    "    for fname in fileList:\n",
    "        if fname.endswith(\"_MON_L4A.gpkg\") and fname.__contains__(\"ADM1_\"):\n",
    "            OUTFILE = os.path.join(OUT_FOLDER, fname.split('.')[0] + '.tif')\n",
    "            print(OUTFILE)\n",
    "                \n",
    "            if not os.path.exists(OUTFILE): \n",
    "                L4A = gpd.read_file(os.path.join(FOLDER, fname))\n",
    "                L4A = L4A.drop('geometry', axis=1)\n",
    "                \n",
    "                x = L4A[\"lon_lowestmode\"]\n",
    "                y = L4A[\"lat_lowestmode\"]\n",
    "                z = L4A.agbd\n",
    "                # z[z == 0] = np.nan  \n",
    "                \n",
    "                pixel_width = 0.005  # units in degrees\n",
    "                pixel_height = 0.005  # units in degrees\n",
    "                \n",
    "                nx = int(np.round((np.max(x) - np.min(x)) / pixel_width))  # x size of output raster\n",
    "                ny = int(np.round((np.max(y) - np.min(y)) / pixel_width))  # y size of output raster\n",
    "                \n",
    "                zi, yi, xi = np.histogram2d(y, x, bins=(ny, nx), weights=z)\n",
    "                counts, _, _ = np.histogram2d(y, x, bins=(ny, nx))\n",
    "                \n",
    "                zi = np.divide(zi, counts, out=np.zeros_like(zi), where=counts != 0)\n",
    "                \n",
    "                z = np.array(zi.data[::-1])\n",
    "                \n",
    "                z[np.isnan(z)] = 0  # Replace NaN values with 0\n",
    "\n",
    "                pixel_width = xi[1] - xi[0]  # Approximate pixel width\n",
    "                pixel_height = yi[1] - yi[0]  # Approximate pixel height\n",
    "                x_min = xi[0]\n",
    "                y_max = yi[-1]\n",
    "                \n",
    "                transform = from_origin(x_min, y_max, pixel_width, pixel_height)\n",
    "                crs = CRS.from_epsg(4326)\n",
    "                \n",
    "                kwargs = {\n",
    "                    'driver': 'GTiff',\n",
    "                    'dtype': z.dtype,\n",
    "                    'count': 1,  # Number of bands\n",
    "                    'height': z.shape[0],\n",
    "                    'width': z.shape[1],\n",
    "                    'crs': crs,\n",
    "                    'transform': transform,\n",
    "                    'predictor': 2,\n",
    "                    'nodata': 0  # Set the nodata value to 0\n",
    "                }\n",
    "                \n",
    "                with MemoryFile() as memfile:\n",
    "                    with memfile.open(**kwargs) as mem:\n",
    "                        # Write data with 'nodata' set to 0\n",
    "                        mem.write(z.reshape(1, z.shape[0], z.shape[1]))\n",
    "                \n",
    "                        dst_profile = cog_profiles.get(\"deflate\")\n",
    "                        cog_translate(\n",
    "                            mem,\n",
    "                            OUTFILE,\n",
    "                            dst_profile,\n",
    "                            in_memory=False\n",
    "                        )                \n",
    "                print(\"GeoTIFF has been created successfully with GDAL.\")\n",
    "            else:\n",
    "                print(\"GeoTIFF exists\")"
   ]
  },
  {
   "cell_type": "code",
   "execution_count": null,
   "id": "27943117-a096-4fb7-9dc5-96aca049ed86",
   "metadata": {},
   "outputs": [],
   "source": []
  }
 ],
 "metadata": {
  "kernelspec": {
   "display_name": "Python 3 (ipykernel)",
   "language": "python",
   "name": "python3"
  },
  "language_info": {
   "codemirror_mode": {
    "name": "ipython",
    "version": 3
   },
   "file_extension": ".py",
   "mimetype": "text/x-python",
   "name": "python",
   "nbconvert_exporter": "python",
   "pygments_lexer": "ipython3",
   "version": "3.12.8"
  }
 },
 "nbformat": 4,
 "nbformat_minor": 5
}
