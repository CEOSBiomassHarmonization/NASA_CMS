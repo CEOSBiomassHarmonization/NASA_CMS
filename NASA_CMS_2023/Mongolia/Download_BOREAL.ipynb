{
 "cells": [
  {
   "cell_type": "code",
   "execution_count": 6,
   "id": "bd6f23a1-3f9b-47ef-ab5c-1d896a44e7f8",
   "metadata": {},
   "outputs": [
    {
     "name": "stdout",
     "output_type": "stream",
     "text": [
      "[1] \"Downloading... /projects/my-public-bucket/Data/NASA_CMS_2023/MONGOLIA/MNG/BOREAL_files/boreal_agb_202302061675670992_2952.tif\"\n",
      "[1] \"wget --user nhunka --password  Boreal_tiles1 https://daac.ornl.gov/daacdata/above/Boreal_AGB_Density_ICESat2/data/boreal_agb_202302061675670992_2952.tif -O /projects/my-public-bucket/Data/NASA_CMS_2023/MONGOLIA/MNG/BOREAL_files/boreal_agb_202302061675670992_2952.tif\"\n",
      "[1] \"Downloading... /projects/my-public-bucket/Data/NASA_CMS_2023/MONGOLIA/MNG/BOREAL_files/boreal_agb_202302061675670680_2867.tif\"\n",
      "[1] \"wget --user nhunka --password  Boreal_tiles1 https://daac.ornl.gov/daacdata/above/Boreal_AGB_Density_ICESat2/data/boreal_agb_202302061675670680_2867.tif -O /projects/my-public-bucket/Data/NASA_CMS_2023/MONGOLIA/MNG/BOREAL_files/boreal_agb_202302061675670680_2867.tif\"\n",
      "[1] \"Downloading... /projects/my-public-bucket/Data/NASA_CMS_2023/MONGOLIA/MNG/BOREAL_files/boreal_agb_202302061675668761_2868.tif\"\n",
      "[1] \"wget --user nhunka --password  Boreal_tiles1 https://daac.ornl.gov/daacdata/above/Boreal_AGB_Density_ICESat2/data/boreal_agb_202302061675668761_2868.tif -O /projects/my-public-bucket/Data/NASA_CMS_2023/MONGOLIA/MNG/BOREAL_files/boreal_agb_202302061675668761_2868.tif\"\n",
      "[1] \"Downloading... /projects/my-public-bucket/Data/NASA_CMS_2023/MONGOLIA/MNG/BOREAL_files/boreal_agb_202302061675664058_2788.tif\"\n",
      "[1] \"wget --user nhunka --password  Boreal_tiles1 https://daac.ornl.gov/daacdata/above/Boreal_AGB_Density_ICESat2/data/boreal_agb_202302061675664058_2788.tif -O /projects/my-public-bucket/Data/NASA_CMS_2023/MONGOLIA/MNG/BOREAL_files/boreal_agb_202302061675664058_2788.tif\"\n",
      "[1] \"Downloading... /projects/my-public-bucket/Data/NASA_CMS_2023/MONGOLIA/MNG/BOREAL_files/boreal_agb_202302061675663480_1955.tif\"\n",
      "[1] \"wget --user nhunka --password  Boreal_tiles1 https://daac.ornl.gov/daacdata/above/Boreal_AGB_Density_ICESat2/data/boreal_agb_202302061675663480_1955.tif -O /projects/my-public-bucket/Data/NASA_CMS_2023/MONGOLIA/MNG/BOREAL_files/boreal_agb_202302061675663480_1955.tif\"\n",
      "[1] \"Downloading... /projects/my-public-bucket/Data/NASA_CMS_2023/MONGOLIA/MNG/BOREAL_files/boreal_agb_202302061675663035_2787.tif\"\n",
      "[1] \"wget --user nhunka --password  Boreal_tiles1 https://daac.ornl.gov/daacdata/above/Boreal_AGB_Density_ICESat2/data/boreal_agb_202302061675663035_2787.tif -O /projects/my-public-bucket/Data/NASA_CMS_2023/MONGOLIA/MNG/BOREAL_files/boreal_agb_202302061675663035_2787.tif\"\n",
      "[1] \"Downloading... /projects/my-public-bucket/Data/NASA_CMS_2023/MONGOLIA/MNG/BOREAL_files/boreal_agb_202302061675662882_2707.tif\"\n",
      "[1] \"wget --user nhunka --password  Boreal_tiles1 https://daac.ornl.gov/daacdata/above/Boreal_AGB_Density_ICESat2/data/boreal_agb_202302061675662882_2707.tif -O /projects/my-public-bucket/Data/NASA_CMS_2023/MONGOLIA/MNG/BOREAL_files/boreal_agb_202302061675662882_2707.tif\"\n",
      "[1] \"Downloading... /projects/my-public-bucket/Data/NASA_CMS_2023/MONGOLIA/MNG/BOREAL_files/boreal_agb_202302061675662860_2708.tif\"\n",
      "[1] \"wget --user nhunka --password  Boreal_tiles1 https://daac.ornl.gov/daacdata/above/Boreal_AGB_Density_ICESat2/data/boreal_agb_202302061675662860_2708.tif -O /projects/my-public-bucket/Data/NASA_CMS_2023/MONGOLIA/MNG/BOREAL_files/boreal_agb_202302061675662860_2708.tif\"\n",
      "[1] \"Downloading... /projects/my-public-bucket/Data/NASA_CMS_2023/MONGOLIA/MNG/BOREAL_files/boreal_agb_202302061675660448_2024.tif\"\n",
      "[1] \"wget --user nhunka --password  Boreal_tiles1 https://daac.ornl.gov/daacdata/above/Boreal_AGB_Density_ICESat2/data/boreal_agb_202302061675660448_2024.tif -O /projects/my-public-bucket/Data/NASA_CMS_2023/MONGOLIA/MNG/BOREAL_files/boreal_agb_202302061675660448_2024.tif\"\n",
      "[1] \"Downloading... /projects/my-public-bucket/Data/NASA_CMS_2023/MONGOLIA/MNG/BOREAL_files/boreal_agb_202302061675659857_1954.tif\"\n",
      "[1] \"wget --user nhunka --password  Boreal_tiles1 https://daac.ornl.gov/daacdata/above/Boreal_AGB_Density_ICESat2/data/boreal_agb_202302061675659857_1954.tif -O /projects/my-public-bucket/Data/NASA_CMS_2023/MONGOLIA/MNG/BOREAL_files/boreal_agb_202302061675659857_1954.tif\"\n",
      "[1] \"Downloading... /projects/my-public-bucket/Data/NASA_CMS_2023/MONGOLIA/MNG/BOREAL_files/boreal_agb_202302061675659541_2094.tif\"\n",
      "[1] \"wget --user nhunka --password  Boreal_tiles1 https://daac.ornl.gov/daacdata/above/Boreal_AGB_Density_ICESat2/data/boreal_agb_202302061675659541_2094.tif -O /projects/my-public-bucket/Data/NASA_CMS_2023/MONGOLIA/MNG/BOREAL_files/boreal_agb_202302061675659541_2094.tif\"\n"
     ]
    }
   ],
   "source": [
    "### DOWNLOAD ICESAT-2 DATA\n",
    "PATHS = c(\n",
    "\"boreal_agb_202302061675670992_2952.tif\",\n",
    "\"boreal_agb_202302061675670680_2867.tif\",\n",
    "\"boreal_agb_202302061675668761_2868.tif\",\n",
    "\"boreal_agb_202302061675664058_2788.tif\",\n",
    "\"boreal_agb_202302061675663480_1955.tif\",\n",
    "\"boreal_agb_202302061675663035_2787.tif\",\n",
    "\"boreal_agb_202302061675662882_2707.tif\",\n",
    "\"boreal_agb_202302061675662860_2708.tif\",\n",
    "\"boreal_agb_202302061675660448_2024.tif\",\n",
    "\"boreal_agb_202302061675659857_1954.tif\",\n",
    "\"boreal_agb_202302061675659541_2094.tif\")\n",
    "\n",
    "ORNL_username <- 'nhunka'\n",
    "ORNL_password <- 'Boreal_tiles1'\n",
    "DOWNLOAD_FOLDER = \"/projects/my-public-bucket/Data/NASA_CMS_2023/MONGOLIA/MNG/BOREAL_files/\"\n",
    "\n",
    "for (i in 1:length(PATHS)){\n",
    "    DOWNLOAD_LOCATION <- paste0(DOWNLOAD_FOLDER,basename(PATHS[i]))\n",
    "    if (!file.exists(DOWNLOAD_LOCATION)){\n",
    "        PATH_i = paste(\"wget --user\",ORNL_username, \"--password \",ORNL_password, paste0(\"https://daac.ornl.gov/daacdata/above/Boreal_AGB_Density_ICESat2/data/\",basename(PATHS[i])), \"-O\", DOWNLOAD_LOCATION)\n",
    "        print(paste(\"Downloading...\",DOWNLOAD_LOCATION))\n",
    "        print(PATH_i)\n",
    "        system(PATH_i)\n",
    "}\n",
    "}"
   ]
  }
 ],
 "metadata": {
  "kernelspec": {
   "display_name": "R",
   "language": "R",
   "name": "ir"
  },
  "language_info": {
   "codemirror_mode": "r",
   "file_extension": ".r",
   "mimetype": "text/x-r-source",
   "name": "R",
   "pygments_lexer": "r",
   "version": "4.2.3"
  }
 },
 "nbformat": 4,
 "nbformat_minor": 5
}
