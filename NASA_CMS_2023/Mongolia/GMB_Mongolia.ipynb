{
 "cells": [
  {
   "cell_type": "code",
   "execution_count": null,
   "id": "f7467ca5-4673-4a2d-8d05-6004f1ce00c4",
   "metadata": {
    "scrolled": true,
    "tags": []
   },
   "outputs": [],
   "source": [
    "############# AT THE START, WE INSTALL PACKAGES WE NEED ###################################\n",
    "\n",
    "# We use a package that might be new to some of you, called \"INLA\" \n",
    "# This package helps implement Bayesian methods and helps make some of our steps fast/easy to implement\n",
    "# We will explain it as we go through this code \n",
    "\n",
    "############# OPEN R, THEN RUN THE FOLLOWING COMMAND ###################\n",
    "\n",
    "# install.packages(\"INLA\",repos=c(getOption(\"repos\"),INLA=\"https://inla.r-inla-download.org/R/stable\"), dep=TRUE)\n",
    "# install.packages(\"fmesher\", dependencies = TRUE)\n",
    "# install.packages(\"MatrixModels\", type = \"source\")\n",
    "# install.packages(\"exactextractr\")\n",
    "install.packages(\"sn\" ,dependencies = TRUE)\n",
    "packages <- c(\"terra\",\"dplyr\",\"spdep\", \"exactextractr\", \"sf\",\"ggplot2\",\"viridis\",\"sn\",\"fmesher\",\"exactextractr\",\"fields\")\n",
    "package.check <- lapply(packages, FUN = function(x) {\n",
    "    if (!require(x, character.only = TRUE)) {\n",
    "        install.packages(x, dependencies = TRUE)\n",
    "        library(x, character.only = TRUE, quietly=TRUE)\n",
    "    }\n",
    "})\n",
    "Sys.setenv(\"AWS_DEFAULT_REGION\" = 'us-west-2')\n",
    "\n",
    "# ##### THE FOLLOWING COMMANDS ARE FOR THE INSTALLATION OF PACKAGES ON NASA MAAP #####\n",
    "# ##### CONDA-FORGE YOUR WAY THROUGH PACKAGES THAT DID NOT INSTALL ##########\n",
    "\n",
    "# conda install conda-forge::r-fmesher\n",
    "# conda install conda-forge::r-exactextractr\n",
    "# conda install conda-forge::r-sn\n",
    "# conda install conda-forge::r-inlabru\n",
    "# conda install conda-forge::r-fields"
   ]
  },
  {
   "cell_type": "code",
   "execution_count": 1,
   "id": "cd13c1f8-fd08-4651-8405-681caab4424c",
   "metadata": {
    "tags": []
   },
   "outputs": [
    {
     "name": "stderr",
     "output_type": "stream",
     "text": [
      "Linking to GEOS 3.11.2, GDAL 3.7.0, PROJ 9.2.0; sf_use_s2() is TRUE\n",
      "\n",
      "terra 1.7.29\n",
      "\n",
      "\n",
      "Attaching package: ‘dplyr’\n",
      "\n",
      "\n",
      "The following objects are masked from ‘package:terra’:\n",
      "\n",
      "    intersect, union\n",
      "\n",
      "\n",
      "The following objects are masked from ‘package:stats’:\n",
      "\n",
      "    filter, lag\n",
      "\n",
      "\n",
      "The following objects are masked from ‘package:base’:\n",
      "\n",
      "    intersect, setdiff, setequal, union\n",
      "\n",
      "\n",
      "Loading required package: spData\n",
      "\n",
      "To access larger datasets in this package, install the spDataLarge\n",
      "package with: `install.packages('spDataLarge',\n",
      "repos='https://nowosad.github.io/drat/', type='source')`\n",
      "\n",
      "Loading required package: sp\n",
      "\n",
      "\n",
      "Attaching package: ‘raster’\n",
      "\n",
      "\n",
      "The following object is masked from ‘package:dplyr’:\n",
      "\n",
      "    select\n",
      "\n",
      "\n",
      "Loading required package: viridisLite\n",
      "\n"
     ]
    }
   ],
   "source": [
    "############## LOAD PACKAGES ###########\n",
    "\n",
    "# library(\"fmesher\")\n",
    "# library(MatrixModels)\n",
    "# library(Matrix)\n",
    "# library(INLA)\n",
    "# library(inlabru)\n",
    "# library(\"jpeg\")\n",
    "\n",
    "library(sf)\n",
    "library(terra)\n",
    "library(dplyr)\n",
    "library(spdep)\n",
    "library(raster)\n",
    "library(exactextractr)\n",
    "library(stringr)\n",
    "\n",
    "library(ggplot2)\n",
    "library(viridis)\n",
    "# library(sn)"
   ]
  },
  {
   "cell_type": "code",
   "execution_count": 14,
   "id": "e2847b0d-b690-41b4-8642-6dad024cb0e9",
   "metadata": {},
   "outputs": [
    {
     "data": {
      "text/html": [
       "<style>\n",
       ".list-inline {list-style: none; margin:0; padding: 0}\n",
       ".list-inline>li {display: inline-block}\n",
       ".list-inline>li:not(:last-child)::after {content: \"\\00b7\"; padding: 0 .5ex}\n",
       "</style>\n",
       "<ol class=list-inline><li>'/projects/my-public-bucket/Data/NASA_CMS_2023/MONGOLIA/GRID/1883_MON_L2A.tif'</li><li>'/projects/my-public-bucket/Data/NASA_CMS_2023/MONGOLIA/GRID/1884_MON_L2A.tif'</li><li>'/projects/my-public-bucket/Data/NASA_CMS_2023/MONGOLIA/GRID/1952_MON_L2A.tif'</li><li>'/projects/my-public-bucket/Data/NASA_CMS_2023/MONGOLIA/GRID/1953_MON_L2A.tif'</li><li>'/projects/my-public-bucket/Data/NASA_CMS_2023/MONGOLIA/GRID/1954_MON_L2A.tif'</li><li>'/projects/my-public-bucket/Data/NASA_CMS_2023/MONGOLIA/GRID/1955_MON_L2A.tif'</li><li>'/projects/my-public-bucket/Data/NASA_CMS_2023/MONGOLIA/GRID/2021_MON_L2A.tif'</li><li>'/projects/my-public-bucket/Data/NASA_CMS_2023/MONGOLIA/GRID/2022_MON_L2A.tif'</li><li>'/projects/my-public-bucket/Data/NASA_CMS_2023/MONGOLIA/GRID/2023_MON_L2A.tif'</li><li>'/projects/my-public-bucket/Data/NASA_CMS_2023/MONGOLIA/GRID/2024_MON_L2A.tif'</li><li>'/projects/my-public-bucket/Data/NASA_CMS_2023/MONGOLIA/GRID/2091_MON_L2A.tif'</li><li>'/projects/my-public-bucket/Data/NASA_CMS_2023/MONGOLIA/GRID/2092_MON_L2A.tif'</li><li>'/projects/my-public-bucket/Data/NASA_CMS_2023/MONGOLIA/GRID/2093_MON_L2A.tif'</li><li>'/projects/my-public-bucket/Data/NASA_CMS_2023/MONGOLIA/GRID/2094_MON_L2A.tif'</li></ol>\n"
      ],
      "text/latex": [
       "\\begin{enumerate*}\n",
       "\\item '/projects/my-public-bucket/Data/NASA\\_CMS\\_2023/MONGOLIA/GRID/1883\\_MON\\_L2A.tif'\n",
       "\\item '/projects/my-public-bucket/Data/NASA\\_CMS\\_2023/MONGOLIA/GRID/1884\\_MON\\_L2A.tif'\n",
       "\\item '/projects/my-public-bucket/Data/NASA\\_CMS\\_2023/MONGOLIA/GRID/1952\\_MON\\_L2A.tif'\n",
       "\\item '/projects/my-public-bucket/Data/NASA\\_CMS\\_2023/MONGOLIA/GRID/1953\\_MON\\_L2A.tif'\n",
       "\\item '/projects/my-public-bucket/Data/NASA\\_CMS\\_2023/MONGOLIA/GRID/1954\\_MON\\_L2A.tif'\n",
       "\\item '/projects/my-public-bucket/Data/NASA\\_CMS\\_2023/MONGOLIA/GRID/1955\\_MON\\_L2A.tif'\n",
       "\\item '/projects/my-public-bucket/Data/NASA\\_CMS\\_2023/MONGOLIA/GRID/2021\\_MON\\_L2A.tif'\n",
       "\\item '/projects/my-public-bucket/Data/NASA\\_CMS\\_2023/MONGOLIA/GRID/2022\\_MON\\_L2A.tif'\n",
       "\\item '/projects/my-public-bucket/Data/NASA\\_CMS\\_2023/MONGOLIA/GRID/2023\\_MON\\_L2A.tif'\n",
       "\\item '/projects/my-public-bucket/Data/NASA\\_CMS\\_2023/MONGOLIA/GRID/2024\\_MON\\_L2A.tif'\n",
       "\\item '/projects/my-public-bucket/Data/NASA\\_CMS\\_2023/MONGOLIA/GRID/2091\\_MON\\_L2A.tif'\n",
       "\\item '/projects/my-public-bucket/Data/NASA\\_CMS\\_2023/MONGOLIA/GRID/2092\\_MON\\_L2A.tif'\n",
       "\\item '/projects/my-public-bucket/Data/NASA\\_CMS\\_2023/MONGOLIA/GRID/2093\\_MON\\_L2A.tif'\n",
       "\\item '/projects/my-public-bucket/Data/NASA\\_CMS\\_2023/MONGOLIA/GRID/2094\\_MON\\_L2A.tif'\n",
       "\\end{enumerate*}\n"
      ],
      "text/markdown": [
       "1. '/projects/my-public-bucket/Data/NASA_CMS_2023/MONGOLIA/GRID/1883_MON_L2A.tif'\n",
       "2. '/projects/my-public-bucket/Data/NASA_CMS_2023/MONGOLIA/GRID/1884_MON_L2A.tif'\n",
       "3. '/projects/my-public-bucket/Data/NASA_CMS_2023/MONGOLIA/GRID/1952_MON_L2A.tif'\n",
       "4. '/projects/my-public-bucket/Data/NASA_CMS_2023/MONGOLIA/GRID/1953_MON_L2A.tif'\n",
       "5. '/projects/my-public-bucket/Data/NASA_CMS_2023/MONGOLIA/GRID/1954_MON_L2A.tif'\n",
       "6. '/projects/my-public-bucket/Data/NASA_CMS_2023/MONGOLIA/GRID/1955_MON_L2A.tif'\n",
       "7. '/projects/my-public-bucket/Data/NASA_CMS_2023/MONGOLIA/GRID/2021_MON_L2A.tif'\n",
       "8. '/projects/my-public-bucket/Data/NASA_CMS_2023/MONGOLIA/GRID/2022_MON_L2A.tif'\n",
       "9. '/projects/my-public-bucket/Data/NASA_CMS_2023/MONGOLIA/GRID/2023_MON_L2A.tif'\n",
       "10. '/projects/my-public-bucket/Data/NASA_CMS_2023/MONGOLIA/GRID/2024_MON_L2A.tif'\n",
       "11. '/projects/my-public-bucket/Data/NASA_CMS_2023/MONGOLIA/GRID/2091_MON_L2A.tif'\n",
       "12. '/projects/my-public-bucket/Data/NASA_CMS_2023/MONGOLIA/GRID/2092_MON_L2A.tif'\n",
       "13. '/projects/my-public-bucket/Data/NASA_CMS_2023/MONGOLIA/GRID/2093_MON_L2A.tif'\n",
       "14. '/projects/my-public-bucket/Data/NASA_CMS_2023/MONGOLIA/GRID/2094_MON_L2A.tif'\n",
       "\n",
       "\n"
      ],
      "text/plain": [
       " [1] \"/projects/my-public-bucket/Data/NASA_CMS_2023/MONGOLIA/GRID/1883_MON_L2A.tif\"\n",
       " [2] \"/projects/my-public-bucket/Data/NASA_CMS_2023/MONGOLIA/GRID/1884_MON_L2A.tif\"\n",
       " [3] \"/projects/my-public-bucket/Data/NASA_CMS_2023/MONGOLIA/GRID/1952_MON_L2A.tif\"\n",
       " [4] \"/projects/my-public-bucket/Data/NASA_CMS_2023/MONGOLIA/GRID/1953_MON_L2A.tif\"\n",
       " [5] \"/projects/my-public-bucket/Data/NASA_CMS_2023/MONGOLIA/GRID/1954_MON_L2A.tif\"\n",
       " [6] \"/projects/my-public-bucket/Data/NASA_CMS_2023/MONGOLIA/GRID/1955_MON_L2A.tif\"\n",
       " [7] \"/projects/my-public-bucket/Data/NASA_CMS_2023/MONGOLIA/GRID/2021_MON_L2A.tif\"\n",
       " [8] \"/projects/my-public-bucket/Data/NASA_CMS_2023/MONGOLIA/GRID/2022_MON_L2A.tif\"\n",
       " [9] \"/projects/my-public-bucket/Data/NASA_CMS_2023/MONGOLIA/GRID/2023_MON_L2A.tif\"\n",
       "[10] \"/projects/my-public-bucket/Data/NASA_CMS_2023/MONGOLIA/GRID/2024_MON_L2A.tif\"\n",
       "[11] \"/projects/my-public-bucket/Data/NASA_CMS_2023/MONGOLIA/GRID/2091_MON_L2A.tif\"\n",
       "[12] \"/projects/my-public-bucket/Data/NASA_CMS_2023/MONGOLIA/GRID/2092_MON_L2A.tif\"\n",
       "[13] \"/projects/my-public-bucket/Data/NASA_CMS_2023/MONGOLIA/GRID/2093_MON_L2A.tif\"\n",
       "[14] \"/projects/my-public-bucket/Data/NASA_CMS_2023/MONGOLIA/GRID/2094_MON_L2A.tif\""
      ]
     },
     "metadata": {},
     "output_type": "display_data"
    },
    {
     "ename": "ERROR",
     "evalue": "Error: [crop] cannot get a SpatExtent from y\n",
     "output_type": "error",
     "traceback": [
      "Error: [crop] cannot get a SpatExtent from y\nTraceback:\n",
      "1. mosaic_mean(raster_files)",
      "2. lapply(rasters_masked, function(r) {\n .     crop(r, common_extent)\n . })   # at line 40-42 of file <text>",
      "3. FUN(X[[i]], ...)",
      "4. crop(r, common_extent)   # at line 41 of file <text>",
      "5. crop(r, common_extent)",
      "6. .local(x, y, ...)",
      "7. .getExt(y, method = \"crop\")",
      "8. error(method, \"cannot get a SpatExtent from y\")",
      "9. stop(\"[\", f, \"] \", emsg, ..., call. = FALSE)"
     ]
    }
   ],
   "source": [
    "# # Function to mosaic and compute mean, ignoring 0 and NoData values\n",
    "# mosaic_mean <- function(raster_files) {\n",
    "#   # Load raster files using terra\n",
    "#   rasters <- lapply(raster_files, rast)\n",
    "  \n",
    "#   # Define NoData value\n",
    "#   nodata_value <- -9999\n",
    "  \n",
    "#   # Mask the rasters by replacing NoData and 0 values with NA\n",
    "#   rasters_masked <- lapply(rasters, function(r) {\n",
    "#     r[r == nodata_value | r == 0] <- NA\n",
    "#     return(r)\n",
    "#   })\n",
    "  \n",
    "#   # Get the extents of the rasters\n",
    "#   raster_extents <- lapply(rasters_masked, ext)\n",
    "  \n",
    "#   # Find the intersection of all raster extents\n",
    "#   common_extent <- Reduce(intersect, raster_extents)\n",
    "  \n",
    "#   # Crop all rasters to the common extent\n",
    "#   rasters_cropped <- lapply(rasters_masked, function(r) {\n",
    "#     crop(r, common_extent)\n",
    "#   })\n",
    "  \n",
    "#   # Use the first raster as the reference\n",
    "#   reference_raster <- rasters_cropped[[1]]\n",
    "  \n",
    "#   # Resample all rasters to match the reference raster resolution and extent\n",
    "#   rasters_resampled <- lapply(rasters_cropped, function(r) {\n",
    "#     resample(r, reference_raster, method = \"bilinear\")\n",
    "#   })\n",
    "  \n",
    "#   # Create mosaic using mean function\n",
    "#   mosaic_result <- do.call(mosaic, c(rasters_resampled, fun = \"mean\", na.rm = TRUE))\n",
    "  \n",
    "#   return(mosaic_result)\n",
    "# }\n",
    "\n",
    "# FOLDER <- \"/projects/my-public-bucket/Data/NASA_CMS_2023/MONGOLIA/GRID\"\n",
    "# raster_files <- list.files(path = FOLDER, pattern = (\"*.tif\"), full.names = TRUE)\n",
    "# raster_files <- raster_files[1:14]\n",
    "# raster_files\n",
    "\n",
    "# mosaic_raster <- mosaic_mean(raster_files)\n",
    "# plot(mosaic_raster)\n",
    "\n",
    "# writeRaster(mosaic_raster, \n",
    "#             \"/projects/my-public-bucket/Data/NASA_CMS_2023/MONGOLIA/GRID/GEDI_L2A_Uvs.tif\", \n",
    "#             format = \"GTiff\", \n",
    "#             options = c(\"COMPRESS=DEFLATE\", \"TILED=YES\", \"BIGTIFF=YES\"))\n",
    "\n",
    "# raster_files <- raster_files[15:length(raster_files)]\n",
    "# raster_files\n",
    "\n",
    "# mosaic_raster <- mosaic_mean(raster_files)\n",
    "# plot(mosaic_raster)\n",
    "\n",
    "# writeRaster(mosaic_raster, \n",
    "#             \"/projects/my-public-bucket/Data/NASA_CMS_2023/MONGOLIA/GRID/GEDI_L2A_Selenge.tif\", \n",
    "#             format = \"GTiff\", \n",
    "#             options = c(\"COMPRESS=DEFLATE\", \"TILED=YES\", \"BIGTIFF=YES\"))"
   ]
  },
  {
   "cell_type": "code",
   "execution_count": null,
   "id": "3b2b4e25-0cb5-4291-9712-16ebb03fbd85",
   "metadata": {
    "scrolled": true,
    "tags": []
   },
   "outputs": [],
   "source": [
    "Mongolia <- st_read('/projects/my-private-bucket/Data/NFI_data/Mongolia/240924_NFI_6933.gpkg') %>% filter( is.na(st_dimension(.)) == FALSE )#%>% st_transform(crs=6933)\n",
    "plot(Mongolia)\n",
    "colnames(Mongolia)\n",
    "Mongolia['AGB'] = Mongolia$coverted.to.GS.ha\n",
    "Mongolia_PSU <- aggregate(x= Mongolia, list(Mongolia$Unit_ID), FUN = mean)\n",
    "# st_write(Mongolia_PSU,'/projects/my-private-bucket/Data/NFI_data/Mongolia/240924_NFI_PSU_6933.gpkg')"
   ]
  },
  {
   "cell_type": "code",
   "execution_count": 3,
   "id": "3038c72c-f02e-4661-b732-08f326499d06",
   "metadata": {},
   "outputs": [
    {
     "name": "stderr",
     "output_type": "stream",
     "text": [
      "Registered S3 method overwritten by 'geojsonsf':\n",
      "  method        from   \n",
      "  print.geojson geojson\n",
      "\n"
     ]
    },
    {
     "data": {
      "application/geo+json": {
       "features": [
        {
         "geometry": {
          "coordinates": [
           [
            8909489.7615,
            5664219.8106
           ],
           [
            8909550.1619,
            5664145.7105
           ],
           [
            8909620.0179,
            5664218.2601
           ]
          ],
          "type": "MultiPoint"
         },
         "properties": {
          "AGB": 91.2699,
          "AGB..DW.": 0.1767,
          "AGB..GS.": 11.4633,
          "AGB.all..M111.": 11.66,
          "Administration.Unit": "NA",
          "Count_of_Re_measurement_year": 0,
          "Elevation": 873.6667,
          "GPS_Field_E": 92.3401,
          "GPS_Field_N": 50.6106,
          "Group.1": 368,
          "Inventory_status": 1,
          "Plot_ID": 2,
          "Reference.area.R20m": 0.1256,
          "Unit_ID": 368,
          "Village": "NA",
          "coverted.to.GS.ha": 91.2699
         },
         "type": "Feature"
        },
        {
         "geometry": {
          "coordinates": [
           [
            8911606.8634,
            5664227.2369
           ],
           [
            8911668.7111,
            5664148.8116
           ],
           [
            8911737.8918,
            5664218.2601
           ]
          ],
          "type": "MultiPoint"
         },
         "properties": {
          "AGB": 82.5705,
          "AGB..DW.": 0,
          "AGB..GS.": 10.3733,
          "AGB.all..M111.": "NA",
          "Administration.Unit": "NA",
          "Count_of_Re_measurement_year": 0,
          "Elevation": 872.3333,
          "GPS_Field_E": 92.3621,
          "GPS_Field_N": 50.6106,
          "Group.1": 376,
          "Inventory_status": 1,
          "Plot_ID": 2,
          "Reference.area.R20m": 0.1256,
          "Unit_ID": 376,
          "Village": "NA",
          "coverted.to.GS.ha": 82.5705
         },
         "type": "Feature"
        },
        {
         "geometry": {
          "coordinates": [
           [
            8801720.0861,
            5650002.2976
           ],
           [
            8801764.1804,
            5649924.4868
           ],
           [
            8801851.1145,
            5649992.6328
           ]
          ],
          "type": "MultiPoint"
         },
         "properties": {
          "AGB": 94.0123,
          "AGB..DW.": 0,
          "AGB..GS.": 11.81,
          "AGB.all..M111.": 11.81,
          "Administration.Unit": "NA",
          "Count_of_Re_measurement_year": 0,
          "Elevation": 1926,
          "GPS_Field_E": 91.2231,
          "GPS_Field_N": 50.4366,
          "Group.1": 407,
          "Inventory_status": 1,
          "Plot_ID": 2,
          "Reference.area.R20m": 0.1256,
          "Unit_ID": 407,
          "Village": "NA",
          "coverted.to.GS.ha": 94.0123
         },
         "type": "Feature"
        },
        {
         "geometry": {
          "coordinates": [
           [
            8927936.4909,
            5662092.7052
           ],
           [
            8927974.0241,
            5662029.751
           ],
           [
            8928045.424,
            5662084.6217
           ]
          ],
          "type": "MultiPoint"
         },
         "properties": {
          "AGB": 125.0915,
          "AGB..DW.": 0.8567,
          "AGB..GS.": 15.71,
          "AGB.all..M111.": 16.6667,
          "Administration.Unit": "NA",
          "Count_of_Re_measurement_year": 0,
          "Elevation": 820,
          "GPS_Field_E": 92.5311,
          "GPS_Field_N": 50.5845,
          "Group.1": 408,
          "Inventory_status": 1,
          "Plot_ID": 2,
          "Reference.area.R20m": 0.1256,
          "Unit_ID": 408,
          "Village": "NA",
          "coverted.to.GS.ha": 125.0915
         },
         "type": "Feature"
        },
        {
         "geometry": {
          "coordinates": [
           [
            8934069.2554,
            5659893.9303
           ],
           [
            8934147.7952,
            5659822.934
           ],
           [
            8934206.8448,
            5659894.9107
           ]
          ],
          "type": "MultiPoint"
         },
         "properties": {
          "AGB": 253.5901,
          "AGB..DW.": 0.5567,
          "AGB..GS.": 31.8533,
          "AGB.all..M111.": 32.6733,
          "Administration.Unit": "NA",
          "Count_of_Re_measurement_year": 0,
          "Elevation": 777.3333,
          "GPS_Field_E": 92.5949,
          "GPS_Field_N": 50.5576,
          "Group.1": 438,
          "Inventory_status": 1,
          "Plot_ID": 2,
          "Reference.area.R20m": 0.1256,
          "Unit_ID": 438,
          "Village": "NA",
          "coverted.to.GS.ha": 253.5901
         },
         "type": "Feature"
        },
        {
         "geometry": {
          "coordinates": [
           [
            8816369.791,
            5640240.9936
           ],
           [
            8816434.6298,
            5640174.6492
           ],
           [
            8816494.9337,
            5640239.4336
           ]
          ],
          "type": "MultiPoint"
         },
         "properties": {
          "AGB": 51.8748,
          "AGB..DW.": 0.5333,
          "AGB..GS.": 6.5167,
          "AGB.all..M111.": "NA",
          "Administration.Unit": "NA",
          "Count_of_Re_measurement_year": 0,
          "Elevation": 1506,
          "GPS_Field_E": 91.375,
          "GPS_Field_N": 50.3177,
          "Group.1": 521,
          "Inventory_status": 1,
          "Plot_ID": 2,
          "Reference.area.R20m": 0.1256,
          "Unit_ID": 521,
          "Village": "NA",
          "coverted.to.GS.ha": 51.8748
         },
         "type": "Feature"
        },
        {
         "geometry": {
          "coordinates": [
           [
            9001590.9332,
            5657698.0818
           ],
           [
            9001653.4564,
            5657766.6646
           ],
           [
            9001745.5043,
            5657767.5638
           ]
          ],
          "type": "MultiPoint"
         },
         "properties": {
          "AGB": 4.2405,
          "AGB..DW.": 0,
          "AGB..GS.": 0.5333,
          "AGB.all..M111.": "NA",
          "Administration.Unit": "NA",
          "Count_of_Re_measurement_year": 0,
          "Elevation": 895.3333,
          "GPS_Field_E": 93.2947,
          "GPS_Field_N": 50.5316,
          "Group.1": 522,
          "Inventory_status": 1,
          "Plot_ID": 2,
          "Reference.area.R20m": 0.1256,
          "Unit_ID": 522,
          "Village": "NA",
          "coverted.to.GS.ha": 4.2405
         },
         "type": "Feature"
        },
        {
         "geometry": {
          "coordinates": [
           [
            8802345.7997,
            5636716.9536
           ],
           [
            8802429.6462,
            5636773.0835
           ],
           [
            8802513.5893,
            5636769.6319
           ]
          ],
          "type": "MultiPoint"
         },
         "properties": {
          "AGB": 34.9962,
          "AGB..DW.": 0,
          "AGB..GS.": 4.3967,
          "AGB.all..M111.": "NA",
          "Administration.Unit": "NA",
          "Count_of_Re_measurement_year": 0,
          "Elevation": 2207.6667,
          "GPS_Field_E": 91.2299,
          "GPS_Field_N": 50.2755,
          "Group.1": 538,
          "Inventory_status": 1,
          "Plot_ID": 2,
          "Reference.area.R20m": 0.1256,
          "Unit_ID": 538,
          "Village": "NA",
          "coverted.to.GS.ha": 34.9962
         },
         "type": "Feature"
        },
        {
         "geometry": {
          "coordinates": [
           [
            9075112.8034,
            5659495.3046
           ],
           [
            9075176.0984,
            5659574.4774
           ],
           [
            9075188.6416,
            5659560.5058
           ]
          ],
          "type": "MultiPoint"
         },
         "properties": {
          "AGB": 2.2036,
          "AGB..DW.": 0,
          "AGB..GS.": 0.2767,
          "AGB.all..M111.": "NA",
          "Administration.Unit": "NA",
          "Count_of_Re_measurement_year": 0,
          "Elevation": 939.6667,
          "GPS_Field_E": 94.0565,
          "GPS_Field_N": 50.5536,
          "Group.1": 573,
          "Inventory_status": 1,
          "Plot_ID": 2,
          "Reference.area.R20m": 0.1256,
          "Unit_ID": 573,
          "Village": "NA",
          "coverted.to.GS.ha": 2.2036
         },
         "type": "Feature"
        },
        {
         "geometry": {
          "coordinates": [
           [
            8831194.0396,
            5625934.896
           ],
           [
            8831257.3346,
            5626004.9401
           ],
           [
            8831302.2972,
            5626001.8088
           ]
          ],
          "type": "MultiPoint"
         },
         "properties": {
          "AGB": 61.4394,
          "AGB..DW.": 0,
          "AGB..GS.": 7.7167,
          "AGB.all..M111.": "NA",
          "Administration.Unit": "NA",
          "Count_of_Re_measurement_year": 0,
          "Elevation": 1956.3333,
          "GPS_Field_E": 91.5286,
          "GPS_Field_N": 50.1446,
          "Group.1": 669,
          "Inventory_status": 1,
          "Plot_ID": 2,
          "Reference.area.R20m": 0.1256,
          "Unit_ID": 669,
          "Village": "NA",
          "coverted.to.GS.ha": 61.4394
         },
         "type": "Feature"
        },
        {
         "geometry": {
          "coordinates": [
           [
            8835438.5676,
            5621490.9284
           ],
           [
            8835507.0728,
            5621561.7105
           ],
           [
            8835574.8062,
            5621550.986
           ]
          ],
          "type": "MultiPoint"
         },
         "properties": {
          "AGB": 21.6769,
          "AGB..DW.": 1.01,
          "AGB..GS.": 2.7233,
          "AGB.all..M111.": "NA",
          "Administration.Unit": "NA",
          "Count_of_Re_measurement_year": 0,
          "Elevation": 1813.3333,
          "GPS_Field_E": 91.5727,
          "GPS_Field_N": 50.0906,
          "Group.1": 727,
          "Inventory_status": 1,
          "Plot_ID": 2,
          "Reference.area.R20m": 0.1256,
          "Unit_ID": 727,
          "Village": "NA",
          "coverted.to.GS.ha": 21.6769
         },
         "type": "Feature"
        },
        {
         "geometry": {
          "coordinates": [
           [
            8831517.1722,
            5614877.3507
           ],
           [
            8831583.4582,
            5614794.7162
           ],
           [
            8831645.9814,
            5614874.789
           ]
          ],
          "type": "MultiPoint"
         },
         "properties": {
          "AGB": 142.7031,
          "AGB..DW.": 0,
          "AGB..GS.": 17.9233,
          "AGB.all..M111.": "NA",
          "Administration.Unit": "NA",
          "Count_of_Re_measurement_year": 0,
          "Elevation": 2181.3333,
          "GPS_Field_E": 91.532,
          "GPS_Field_N": 50.0097,
          "Group.1": 778,
          "Inventory_status": 1,
          "Plot_ID": 2,
          "Reference.area.R20m": 0.1256,
          "Unit_ID": 778,
          "Village": "NA",
          "coverted.to.GS.ha": 142.7031
         },
         "type": "Feature"
        },
        {
         "geometry": {
          "coordinates": [
           [
            8843853.329,
            5609403.2813
           ],
           [
            8843932.8337,
            5609338.0769
           ],
           [
            8843978.4718,
            5609408.3288
           ]
          ],
          "type": "MultiPoint"
         },
         "properties": {
          "AGB": 74.7744,
          "AGB..DW.": 0,
          "AGB..GS.": 9.3933,
          "AGB.all..M111.": "NA",
          "Administration.Unit": "NA",
          "Count_of_Re_measurement_year": 0,
          "Elevation": 2219,
          "GPS_Field_E": 91.6599,
          "GPS_Field_N": 49.9436,
          "Group.1": 849,
          "Inventory_status": 1,
          "Plot_ID": 2,
          "Reference.area.R20m": 0.1256,
          "Unit_ID": 849,
          "Village": "NA",
          "coverted.to.GS.ha": 74.7744
         },
         "type": "Feature"
        },
        {
         "geometry": {
          "coordinates": [
           [
            8805779.8429,
            5603366.6609
           ],
           [
            8805830.5946,
            5603296.138
           ],
           [
            8805913.7658,
            5603360.0313
           ]
          ],
          "type": "MultiPoint"
         },
         "properties": {
          "AGB": 148.152,
          "AGB..DW.": 0.09,
          "AGB..GS.": 18.6067,
          "AGB.all..M111.": 18.92,
          "Administration.Unit": "NA",
          "Count_of_Re_measurement_year": 0,
          "Elevation": 2258.6667,
          "GPS_Field_E": 91.2652,
          "GPS_Field_N": 49.8706,
          "Group.1": 885,
          "Inventory_status": 1,
          "Plot_ID": 2,
          "Reference.area.R20m": 0.1256,
          "Unit_ID": 885,
          "Village": "NA",
          "coverted.to.GS.ha": 148.152
         },
         "type": "Feature"
        },
        {
         "geometry": {
          "coordinates": [
           [
            8856042.1514,
            5607263.8097
           ],
           [
            8856095.2188,
            5607184.2477
           ],
           [
            8856164.3995,
            5607256.2758
           ]
          ],
          "type": "MultiPoint"
         },
         "properties": {
          "AGB": 83.15,
          "AGB..DW.": 0,
          "AGB..GS.": 10.4433,
          "AGB.all..M111.": "NA",
          "Administration.Unit": "NA",
          "Count_of_Re_measurement_year": 0,
          "Elevation": 1685.3333,
          "GPS_Field_E": 91.7861,
          "GPS_Field_N": 49.9176,
          "Group.1": 895,
          "Inventory_status": 1,
          "Plot_ID": 2,
          "Reference.area.R20m": 0.1256,
          "Unit_ID": 895,
          "Village": "NA",
          "coverted.to.GS.ha": 83.15
         },
         "type": "Feature"
        },
        {
         "geometry": {
          "coordinates": [
           [
            8783855.6513,
            5598621.9875
           ],
           [
            8783883.5359,
            5598618.5029
           ],
           [
            8783918.1745,
            5598565.6526
           ]
          ],
          "type": "MultiPoint"
         },
         "properties": {
          "AGB": 58.138,
          "AGB..DW.": 0.2367,
          "AGB..GS.": 7.3,
          "AGB.all..M111.": 7.5633,
          "Administration.Unit": "NA",
          "Count_of_Re_measurement_year": 0,
          "Elevation": 2342,
          "GPS_Field_E": 91.0377,
          "GPS_Field_N": 49.8134,
          "Group.1": 922,
          "Inventory_status": 1,
          "Plot_ID": 2,
          "Reference.area.R20m": 0.1256,
          "Unit_ID": 922,
          "Village": "NA",
          "coverted.to.GS.ha": 58.138
         },
         "type": "Feature"
        },
        {
         "geometry": {
          "coordinates": [
           [
            8858059.1971,
            5605109.039
           ],
           [
            8858122.4921,
            5605030.3457
           ],
           [
            8858188.0062,
            5605106.5539
           ]
          ],
          "type": "MultiPoint"
         },
         "properties": {
          "AGB": 44.9743,
          "AGB..DW.": 0.2367,
          "AGB..GS.": 5.65,
          "AGB.all..M111.": "NA",
          "Administration.Unit": "NA",
          "Count_of_Re_measurement_year": 0,
          "Elevation": 1777,
          "GPS_Field_E": 91.8071,
          "GPS_Field_N": 49.8916,
          "Group.1": 925,
          "Inventory_status": 1,
          "Plot_ID": 2,
          "Reference.area.R20m": 0.1256,
          "Unit_ID": 925,
          "Village": "NA",
          "coverted.to.GS.ha": 44.9743
         },
         "type": "Feature"
        },
        {
         "geometry": {
          "coordinates": [
           [
            8826028.6466,
            5600310.1789
           ],
           [
            8826083.8368,
            5600234.5438
           ],
           [
            8826152.2455,
            5600300.9734
           ]
          ],
          "type": "MultiPoint"
         },
         "properties": {
          "AGB": 135.8667,
          "AGB..DW.": 0.19,
          "AGB..GS.": 17.0667,
          "AGB.all..M111.": "NA",
          "Administration.Unit": "NA",
          "Count_of_Re_measurement_year": 0,
          "Elevation": 2204,
          "GPS_Field_E": 91.4751,
          "GPS_Field_N": 49.8337,
          "Group.1": 958,
          "Inventory_status": 1,
          "Plot_ID": 2,
          "Reference.area.R20m": 0.1256,
          "Unit_ID": 958,
          "Village": "NA",
          "coverted.to.GS.ha": 135.8667
         },
         "type": "Feature"
        },
        {
         "geometry": {
          "coordinates": [
           [
            8793986.2283,
            5596563.9699
           ],
           [
            8794051.7425,
            5596489.8423
           ],
           [
            8794118.8005,
            5596561.3966
           ]
          ],
          "type": "MultiPoint"
         },
         "properties": {
          "AGB": 107.7278,
          "AGB..DW.": 0.4633,
          "AGB..GS.": 13.53,
          "AGB.all..M111.": 14.0167,
          "Administration.Unit": "NA",
          "Count_of_Re_measurement_year": 0,
          "Elevation": 2356.6667,
          "GPS_Field_E": 91.143,
          "GPS_Field_N": 49.7886,
          "Group.1": 959,
          "Inventory_status": 1,
          "Plot_ID": 2,
          "Reference.area.R20m": 0.1256,
          "Unit_ID": 959,
          "Village": "NA",
          "coverted.to.GS.ha": 107.7278
         },
         "type": "Feature"
        },
        {
         "geometry": {
          "coordinates": [
           [
            8860177.0709,
            5601712.9866
           ],
           [
            8860248.4708,
            5601631.6572
           ],
           [
            8860338.203,
            5601700.6339
           ]
          ],
          "type": "MultiPoint"
         },
         "properties": {
          "AGB": 21.2844,
          "AGB..DW.": 0,
          "AGB..GS.": 2.6733,
          "AGB.all..M111.": "NA",
          "Administration.Unit": "NA",
          "Count_of_Re_measurement_year": 0,
          "Elevation": 1757.3333,
          "GPS_Field_E": 91.8292,
          "GPS_Field_N": 49.8506,
          "Group.1": 962,
          "Inventory_status": 1,
          "Plot_ID": 2,
          "Reference.area.R20m": 0.1256,
          "Unit_ID": 962,
          "Village": "NA",
          "coverted.to.GS.ha": 21.2844
         },
         "type": "Feature"
        },
        {
         "geometry": {
          "coordinates": [
           [
            8858242.4245,
            5600641.6461
           ],
           [
            8858314.0173,
            5600557.8904
           ],
           [
            8858385.9961,
            5600620.1684
           ]
          ],
          "type": "MultiPoint"
         },
         "properties": {
          "AGB": 29.162,
          "AGB..DW.": 0,
          "AGB..GS.": 3.6633,
          "AGB.all..M111.": "NA",
          "Administration.Unit": "NA",
          "Count_of_Re_measurement_year": 0,
          "Elevation": 2036.3333,
          "GPS_Field_E": 91.8091,
          "GPS_Field_N": 49.8376,
          "Group.1": 981,
          "Inventory_status": 1,
          "Plot_ID": 2,
          "Reference.area.R20m": 0.1256,
          "Unit_ID": 981,
          "Village": "NA",
          "coverted.to.GS.ha": 29.162
         },
         "type": "Feature"
        },
        {
         "geometry": {
          "coordinates": [
           [
            8836240.1756,
            5594818.8308
           ],
           [
            8836310.9,
            5594746.2492
           ],
           [
            8836375.6423,
            5594819.4121
           ]
          ],
          "type": "MultiPoint"
         },
         "properties": {
          "AGB": 158.6146,
          "AGB..DW.": 0,
          "AGB..GS.": 19.9233,
          "AGB.all..M111.": "NA",
          "Administration.Unit": "NA",
          "Count_of_Re_measurement_year": 0,
          "Elevation": 2315.6667,
          "GPS_Field_E": 91.581,
          "GPS_Field_N": 49.7676,
          "Group.1": 999,
          "Inventory_status": 1,
          "Plot_ID": 2,
          "Reference.area.R20m": 0.1256,
          "Unit_ID": 999,
          "Village": "NA",
          "coverted.to.GS.ha": 158.6146
         },
         "type": "Feature"
        },
        {
         "geometry": {
          "coordinates": [
           [
            8862534.8097,
            5591582.7946
           ],
           [
            8862551.0194,
            5591591.0225
           ],
           [
            8862587.1052,
            5591581.8804
           ]
          ],
          "type": "MultiPoint"
         },
         "properties": {
          "AGB": 59.7325,
          "AGB..DW.": 0,
          "AGB..GS.": 7.5033,
          "AGB.all..M111.": "NA",
          "Administration.Unit": "NA",
          "Count_of_Re_measurement_year": 0,
          "Elevation": 1338.3333,
          "GPS_Field_E": 91.853,
          "GPS_Field_N": 49.7289,
          "Group.1": 1059,
          "Inventory_status": 1,
          "Plot_ID": 2,
          "Reference.area.R20m": 0.1256,
          "Unit_ID": 1059,
          "Village": "NA",
          "coverted.to.GS.ha": 59.7325
         },
         "type": "Feature"
        },
        {
         "geometry": {
          "coordinates": [
           [
            8846491.5534,
            5589189.3414
           ],
           [
            8846532.0776,
            5589261.6893
           ],
           [
            8846564.497,
            5589191.9193
           ]
          ],
          "type": "MultiPoint"
         },
         "properties": {
          "AGB": 159.4985,
          "AGB..DW.": 0,
          "AGB..GS.": 20.0333,
          "AGB.all..M111.": "NA",
          "Administration.Unit": "NA",
          "Count_of_Re_measurement_year": 0,
          "Elevation": 2225.3333,
          "GPS_Field_E": 91.6869,
          "GPS_Field_N": 49.7004,
          "Group.1": 1060,
          "Inventory_status": 1,
          "Plot_ID": 2,
          "Reference.area.R20m": 0.1256,
          "Unit_ID": 1060,
          "Village": "NA",
          "coverted.to.GS.ha": 159.4985
         },
         "type": "Feature"
        },
        {
         "geometry": {
          "coordinates": [
           [
            8936850.2795,
            5594247.2781
           ],
           [
            8936908.4607,
            5594327.0943
           ],
           [
            8936972.5276,
            5594322.028
           ]
          ],
          "type": "MultiPoint"
         },
         "properties": {
          "AGB": 92.0364,
          "AGB..DW.": 1.5533,
          "AGB..GS.": 11.5567,
          "AGB.all..M111.": 14.8733,
          "Administration.Unit": "NA",
          "Count_of_Re_measurement_year": 0,
          "Elevation": 1638.6667,
          "GPS_Field_E": 92.6236,
          "GPS_Field_N": 49.7616,
          "Group.1": 1099,
          "Inventory_status": 1,
          "Plot_ID": 2,
          "Reference.area.R20m": 0.1256,
          "Unit_ID": 1099,
          "Village": "NA",
          "coverted.to.GS.ha": 92.0364
         },
         "type": "Feature"
        },
        {
         "geometry": {
          "coordinates": [
           [
            8952801.5843,
            5594402.5071
           ],
           [
            8952863.432,
            5594328.7554
           ],
           [
            8952925.9551,
            5594403.5038
           ]
          ],
          "type": "MultiPoint"
         },
         "properties": {
          "AGB": 112.954,
          "AGB..DW.": 1.3567,
          "AGB..GS.": 14.19,
          "AGB.all..M111.": "NA",
          "Administration.Unit": "NA",
          "Count_of_Re_measurement_year": 0,
          "Elevation": 1622.3333,
          "GPS_Field_E": 92.789,
          "GPS_Field_N": 49.7626,
          "Group.1": 1120,
          "Inventory_status": 1,
          "Plot_ID": 2,
          "Reference.area.R20m": 0.1256,
          "Unit_ID": 1120,
          "Village": "NA",
          "coverted.to.GS.ha": 112.954
         },
         "type": "Feature"
        },
        {
         "geometry": {
          "coordinates": [
           [
            10167835.8475,
            5646418.2051
           ],
           [
            10167846.1715,
            5646484.8544
           ],
           [
            10167970.5423,
            5646420.0906
           ]
          ],
          "type": "MultiPoint"
         },
         "properties": {
          "AGB": 71.5444,
          "AGB..DW.": 0,
          "AGB..GS.": 8.9867,
          "AGB.all..M111.": "NA",
          "Administration.Unit": "NA",
          "Count_of_Re_measurement_year": 1,
          "Elevation": 1042,
          "GPS_Field_E": 105.3817,
          "GPS_Field_N": 50.3935,
          "Group.1": 1123,
          "Inventory_status": 1,
          "Plot_ID": 2,
          "Reference.area.R20m": 0.1256,
          "Unit_ID": 1123,
          "Village": "NA",
          "coverted.to.GS.ha": 71.5444
         },
         "type": "Feature"
        },
        {
         "geometry": {
          "coordinates": [
           [
            10197582.1817,
            5644257.5991
           ],
           [
            10197637.8543,
            5644189.3536
           ],
           [
            10197692.6585,
            5644264.1611
           ]
          ],
          "type": "MultiPoint"
         },
         "properties": {
          "AGB": 125.1511,
          "AGB..DW.": 0.42,
          "AGB..GS.": 15.72,
          "AGB.all..M111.": "NA",
          "Administration.Unit": "NA",
          "Count_of_Re_measurement_year": 1,
          "Elevation": 1004.3333,
          "GPS_Field_E": 105.69,
          "GPS_Field_N": 50.3666,
          "Group.1": 1170,
          "Inventory_status": 1,
          "Plot_ID": 2,
          "Reference.area.R20m": 0.1256,
          "Unit_ID": 1170,
          "Village": "NA",
          "coverted.to.GS.ha": 125.1511
         },
         "type": "Feature"
        },
        {
         "geometry": {
          "coordinates": [
           [
            9013106.9567,
            5594323.606
           ],
           [
            9013173.2428,
            5594249.8528
           ],
           [
            9013232.8713,
            5594313.8055
           ]
          ],
          "type": "MultiPoint"
         },
         "properties": {
          "AGB": 110.1681,
          "AGB..DW.": 1.5,
          "AGB..GS.": 13.84,
          "AGB.all..M111.": "NA",
          "Administration.Unit": "NA",
          "Count_of_Re_measurement_year": 0,
          "Elevation": 1600.3333,
          "GPS_Field_E": 93.414,
          "GPS_Field_N": 49.7616,
          "Group.1": 1177,
          "Inventory_status": 1,
          "Plot_ID": 2,
          "Reference.area.R20m": 0.1256,
          "Unit_ID": 1177,
          "Village": "NA",
          "coverted.to.GS.ha": 110.1681
         },
         "type": "Feature"
        },
        {
         "geometry": {
          "coordinates": [
           [
            9005075.7282,
            5593247.9062
           ],
           [
            9005139.7951,
            5593168.3181
           ],
           [
            9005210.4231,
            5593246.3278
           ]
          ],
          "type": "MultiPoint"
         },
         "properties": {
          "AGB": 58.8883,
          "AGB..DW.": 1.36,
          "AGB..GS.": 7.3967,
          "AGB.all..M111.": "NA",
          "Administration.Unit": "NA",
          "Count_of_Re_measurement_year": 0,
          "Elevation": 1616.3333,
          "GPS_Field_E": 93.3308,
          "GPS_Field_N": 49.7486,
          "Group.1": 1209,
          "Inventory_status": 1,
          "Plot_ID": 2,
          "Reference.area.R20m": 0.1256,
          "Unit_ID": 1209,
          "Village": "NA",
          "coverted.to.GS.ha": 58.8883
         },
         "type": "Feature"
        },
        {
         "geometry": {
          "coordinates": [
           [
            8962933.7051,
            5588758.5538
           ],
           [
            8962995.5528,
            5588681.1237
           ],
           [
            8963064.7334,
            5588757.639
           ]
          ],
          "type": "MultiPoint"
         },
         "properties": {
          "AGB": 62.6427,
          "AGB..DW.": 0.2367,
          "AGB..GS.": 7.87,
          "AGB.all..M111.": "NA",
          "Administration.Unit": "NA",
          "Count_of_Re_measurement_year": 0,
          "Elevation": 1677.6667,
          "GPS_Field_E": 92.894,
          "GPS_Field_N": 49.6946,
          "Group.1": 1211,
          "Inventory_status": 1,
          "Plot_ID": 2,
          "Reference.area.R20m": 0.1256,
          "Unit_ID": 1211,
          "Village": "NA",
          "coverted.to.GS.ha": 62.6427
         },
         "type": "Feature"
        },
        {
         "geometry": {
          "coordinates": [
           [
            8952893.5357,
            5587677.2267
           ],
           [
            8952961.2691,
            5587596.6148
           ],
           [
            8953031.2216,
            5587674.6478
           ]
          ],
          "type": "MultiPoint"
         },
         "properties": {
          "AGB": 169.7952,
          "AGB..DW.": 0.4033,
          "AGB..GS.": 21.3233,
          "AGB.all..M111.": "NA",
          "Administration.Unit": "NA",
          "Count_of_Re_measurement_year": 0,
          "Elevation": 2191.6667,
          "GPS_Field_E": 92.79,
          "GPS_Field_N": 49.6816,
          "Group.1": 1221,
          "Inventory_status": 1,
          "Plot_ID": 2,
          "Reference.area.R20m": 0.1256,
          "Unit_ID": 1221,
          "Village": "NA",
          "coverted.to.GS.ha": 169.7952
         },
         "type": "Feature"
        },
        {
         "geometry": {
          "coordinates": [
           [
            9008989.7907,
            5592095.388
           ],
           [
            9009057.524,
            5592093.8091
           ],
           [
            9009123.0382,
            5592014.2816
           ]
          ],
          "type": "MultiPoint"
         },
         "properties": {
          "AGB": 44.1355,
          "AGB..DW.": 1.18,
          "AGB..GS.": 5.5433,
          "AGB.all..M111.": "NA",
          "Administration.Unit": "NA",
          "Count_of_Re_measurement_year": 0,
          "Elevation": 1367.3333,
          "GPS_Field_E": 93.3714,
          "GPS_Field_N": 49.7348,
          "Group.1": 1223,
          "Inventory_status": 1,
          "Plot_ID": 2,
          "Reference.area.R20m": 0.1256,
          "Unit_ID": 1223,
          "Village": "NA",
          "coverted.to.GS.ha": 44.1355
         },
         "type": "Feature"
        },
        {
         "geometry": {
          "coordinates": [
           [
            10106681.7817,
            5639989.1579
           ],
           [
            10106741.0243,
            5639920.9205
           ],
           [
            10106829.7916,
            5639980.7001
           ]
          ],
          "type": "MultiPoint"
         },
         "properties": {
          "AGB": 26.4577,
          "AGB..DW.": 0.6033,
          "AGB..GS.": 3.3233,
          "AGB.all..M111.": "NA",
          "Administration.Unit": "NA",
          "Count_of_Re_measurement_year": 1,
          "Elevation": 451.3333,
          "GPS_Field_E": 104.7481,
          "GPS_Field_N": 50.3145,
          "Group.1": 1228,
          "Inventory_status": 1,
          "Plot_ID": 2,
          "Reference.area.R20m": 0.1256,
          "Unit_ID": 1228,
          "Village": "NA",
          "coverted.to.GS.ha": 26.4577
         },
         "type": "Feature"
        },
        {
         "geometry": {
          "coordinates": [
           [
            10155504.2254,
            5639997.2871
           ],
           [
            10155566.7486,
            5639918.3749
           ],
           [
            10155635.7362,
            5639998.9294
           ]
          ],
          "type": "MultiPoint"
         },
         "properties": {
          "AGB": 136.0531,
          "AGB..DW.": 0,
          "AGB..GS.": 17.09,
          "AGB.all..M111.": "NA",
          "Administration.Unit": "NA",
          "Count_of_Re_measurement_year": 1,
          "Elevation": 1112.6667,
          "GPS_Field_E": 105.254,
          "GPS_Field_N": 50.3146,
          "Group.1": 1230,
          "Inventory_status": 1,
          "Plot_ID": 2,
          "Reference.area.R20m": 0.1256,
          "Unit_ID": 1230,
          "Village": "NA",
          "coverted.to.GS.ha": 136.0531
         },
         "type": "Feature"
        },
        {
         "geometry": {
          "coordinates": [
           [
            10216387.4542,
            5639752.6623
           ],
           [
            10216448.53,
            5639673.7452
           ],
           [
            10216507.3867,
            5639754.2225
           ]
          ],
          "type": "MultiPoint"
         },
         "properties": {
          "AGB": 278.14,
          "AGB..DW.": 0.2333,
          "AGB..GS.": 34.9333,
          "AGB.all..M111.": "NA",
          "Administration.Unit": "NA",
          "Count_of_Re_measurement_year": 1,
          "Elevation": 928.6667,
          "GPS_Field_E": 105.885,
          "GPS_Field_N": 50.3117,
          "Group.1": 1233,
          "Inventory_status": 1,
          "Plot_ID": 2,
          "Reference.area.R20m": 0.1256,
          "Unit_ID": 1233,
          "Village": "NA",
          "coverted.to.GS.ha": 278.14
         },
         "type": "Feature"
        },
        {
         "geometry": {
          "coordinates": [
           [
            8964858.7028,
            5586507.3249
           ],
           [
            8964927.1116,
            5586431.7661
           ],
           [
            8964994.0731,
            5586508.2402
           ]
          ],
          "type": "MultiPoint"
         },
         "properties": {
          "AGB": 59.4939,
          "AGB..DW.": 0.7433,
          "AGB..GS.": 7.4733,
          "AGB.all..M111.": "NA",
          "Administration.Unit": "NA",
          "Count_of_Re_measurement_year": 0,
          "Elevation": 1754.3333,
          "GPS_Field_E": 92.914,
          "GPS_Field_N": 49.6676,
          "Group.1": 1279,
          "Inventory_status": 1,
          "Plot_ID": 2,
          "Reference.area.R20m": 0.1256,
          "Unit_ID": 1279,
          "Village": "NA",
          "coverted.to.GS.ha": 59.4939
         },
         "type": "Feature"
        },
        {
         "geometry": {
          "coordinates": [
           [
            8993042.9242,
            5588752.8152
           ],
           [
            8993104.7719,
            5588687.0287
           ],
           [
            8993176.1718,
            5588746.8271
           ]
          ],
          "type": "MultiPoint"
         },
         "properties": {
          "AGB": 16.4135,
          "AGB..DW.": 0,
          "AGB..GS.": 2.06,
          "AGB.all..M111.": "NA",
          "Administration.Unit": "NA",
          "Count_of_Re_measurement_year": 0,
          "Elevation": 1617.3333,
          "GPS_Field_E": 93.2061,
          "GPS_Field_N": 49.6946,
          "Group.1": 1280,
          "Inventory_status": 1,
          "Plot_ID": 2,
          "Reference.area.R20m": 0.1256,
          "Unit_ID": 1280,
          "Village": "NA",
          "coverted.to.GS.ha": 16.4135
         },
         "type": "Feature"
        },
        {
         "geometry": {
          "coordinates": [
           [
            10170357.3234,
            5638431.7218
           ],
           [
            10170423.899,
            5638358.7751
           ],
           [
            10170494.3339,
            5638436.7328
           ]
          ],
          "type": "MultiPoint"
         },
         "properties": {
          "AGB": 128.1569,
          "AGB..DW.": 1.34,
          "AGB..GS.": 16.0967,
          "AGB.all..M111.": 18.3267,
          "Administration.Unit": "NA",
          "Count_of_Re_measurement_year": 1,
          "Elevation": 1243.6667,
          "GPS_Field_E": 105.408,
          "GPS_Field_N": 50.2956,
          "Group.1": 1286,
          "Inventory_status": 1,
          "Plot_ID": 2,
          "Reference.area.R20m": 0.1256,
          "Unit_ID": 1286,
          "Village": "NA",
          "coverted.to.GS.ha": 128.1569
         },
         "type": "Feature"
        },
        {
         "geometry": {
          "coordinates": [
           [
            8993031.9248,
            5587669.906
           ],
           [
            8993103.3246,
            5587598.1955
           ],
           [
            8993168.0669,
            5587667.3271
           ]
          ],
          "type": "MultiPoint"
         },
         "properties": {
          "AGB": 120.7342,
          "AGB..DW.": 0.13,
          "AGB..GS.": 15.1633,
          "AGB.all..M111.": "NA",
          "Administration.Unit": "NA",
          "Count_of_Re_measurement_year": 0,
          "Elevation": 1896.6667,
          "GPS_Field_E": 93.206,
          "GPS_Field_N": 49.6816,
          "Group.1": 1295,
          "Inventory_status": 1,
          "Plot_ID": 2,
          "Reference.area.R20m": 0.1256,
          "Unit_ID": 1295,
          "Village": "NA",
          "coverted.to.GS.ha": 120.7342
         },
         "type": "Feature"
        },
        {
         "geometry": {
          "coordinates": [
           [
            8988983.9394,
            5585423.738
           ],
           [
            8989046.4625,
            5585351.3222
           ],
           [
            8989115.6431,
            5585417.9947
           ]
          ],
          "type": "MultiPoint"
         },
         "properties": {
          "AGB": 96.9465,
          "AGB..DW.": 0,
          "AGB..GS.": 12.18,
          "AGB.all..M111.": "NA",
          "Administration.Unit": "NA",
          "Count_of_Re_measurement_year": 0,
          "Elevation": 1934,
          "GPS_Field_E": 93.164,
          "GPS_Field_N": 49.6546,
          "Group.1": 1324,
          "Inventory_status": 1,
          "Plot_ID": 2,
          "Reference.area.R20m": 0.1256,
          "Unit_ID": 1324,
          "Village": "NA",
          "coverted.to.GS.ha": 96.9465
         },
         "type": "Feature"
        },
        {
         "geometry": {
          "coordinates": [
           [
            10170354.1394,
            5635475.9739
           ],
           [
            10170417.4344,
            5635401.3285
           ],
           [
            10170463.0724,
            5635480.0021
           ]
          ],
          "type": "MultiPoint"
         },
         "properties": {
          "AGB": 244.6921,
          "AGB..DW.": 0.3633,
          "AGB..GS.": 30.7333,
          "AGB.all..M111.": 31.5733,
          "Administration.Unit": "NA",
          "Count_of_Re_measurement_year": 1,
          "Elevation": 1328,
          "GPS_Field_E": 105.4079,
          "GPS_Field_N": 50.2596,
          "Group.1": 1334,
          "Inventory_status": 1,
          "Plot_ID": 2,
          "Reference.area.R20m": 0.1256,
          "Unit_ID": 1334,
          "Village": "NA",
          "coverted.to.GS.ha": 244.6921
         },
         "type": "Feature"
        },
        {
         "geometry": {
          "coordinates": [
           [
            10286651.2722,
            5634233.6184
           ],
           [
            10286783.4584,
            5634160.512
           ],
           [
            10286842.0255,
            5634239.2103
           ]
          ],
          "type": "MultiPoint"
         },
         "properties": {
          "AGB": 153.6339,
          "AGB..DW.": 0,
          "AGB..GS.": 19.2933,
          "AGB.all..M111.": "NA",
          "Administration.Unit": "NA",
          "Count_of_Re_measurement_year": 1,
          "Elevation": 774.3333,
          "GPS_Field_E": 106.6137,
          "GPS_Field_N": 50.2445,
          "Group.1": 1336,
          "Inventory_status": 1,
          "Plot_ID": 2,
          "Reference.area.R20m": 0.1256,
          "Unit_ID": 1336,
          "Village": "NA",
          "coverted.to.GS.ha": 153.6339
         },
         "type": "Feature"
        },
        {
         "geometry": {
          "coordinates": [
           [
            8987022.8557,
            5586440.0044
           ],
           [
            8987069.2656,
            5586496.5071
           ],
           [
            8987097.9221,
            5586496.5071
           ]
          ],
          "type": "MultiPoint"
         },
         "properties": {
          "AGB": 95.2637,
          "AGB..DW.": 0,
          "AGB..GS.": 11.9633,
          "AGB.all..M111.": 11.9633,
          "Administration.Unit": "NA",
          "Count_of_Re_measurement_year": 0,
          "Elevation": 1710,
          "GPS_Field_E": 93.1434,
          "GPS_Field_N": 49.6675,
          "Group.1": 1367,
          "Inventory_status": 1,
          "Plot_ID": 2,
          "Reference.area.R20m": 0.1256,
          "Unit_ID": 1367,
          "Village": "NA",
          "coverted.to.GS.ha": 95.2637
         },
         "type": "Feature"
        },
        {
         "geometry": {
          "coordinates": [
           [
            8986899.9322,
            5582021.395
           ],
           [
            8986961.7799,
            5582021.395
           ],
           [
            8987026.5222,
            5581939.0889
           ]
          ],
          "type": "MultiPoint"
         },
         "properties": {
          "AGB": 150.3487,
          "AGB..DW.": 0,
          "AGB..GS.": 18.8833,
          "AGB.all..M111.": 18.8833,
          "Administration.Unit": "NA",
          "Count_of_Re_measurement_year": 0,
          "Elevation": 1733,
          "GPS_Field_E": 93.1424,
          "GPS_Field_N": 49.6137,
          "Group.1": 1390,
          "Inventory_status": 1,
          "Plot_ID": 2,
          "Reference.area.R20m": 0.1256,
          "Unit_ID": 1390,
          "Village": "NA",
          "coverted.to.GS.ha": 150.3487
         },
         "type": "Feature"
        },
        {
         "geometry": {
          "coordinates": [
           [
            9015014.2975,
            5584267.5128
           ],
           [
            9015041.5067,
            5584266.5137
           ],
           [
            9015102.5825,
            5584191.9127
           ]
          ],
          "type": "MultiPoint"
         },
         "properties": {
          "AGB": 60.522,
          "AGB..DW.": 0,
          "AGB..GS.": 7.6033,
          "AGB.all..M111.": "NA",
          "Administration.Unit": "NA",
          "Count_of_Re_measurement_year": 0,
          "Elevation": 1627.3333,
          "GPS_Field_E": 93.4335,
          "GPS_Field_N": 49.6407,
          "Group.1": 1403,
          "Inventory_status": 1,
          "Plot_ID": 2,
          "Reference.area.R20m": 0.1256,
          "Unit_ID": 1403,
          "Village": "NA",
          "coverted.to.GS.ha": 60.522
         },
         "type": "Feature"
        },
        {
         "geometry": {
          "coordinates": [
           [
            9024972.6465,
            5581932.4244
           ],
           [
            9025041.1518,
            5581854.8651
           ],
           [
            9025101.4557,
            5581923.8438
           ]
          ],
          "type": "MultiPoint"
         },
         "properties": {
          "AGB": 195.7812,
          "AGB..DW.": 2.7767,
          "AGB..GS.": 24.59,
          "AGB.all..M111.": "NA",
          "Administration.Unit": "NA",
          "Count_of_Re_measurement_year": 0,
          "Elevation": 1929,
          "GPS_Field_E": 93.537,
          "GPS_Field_N": 49.6126,
          "Group.1": 1442,
          "Inventory_status": 1,
          "Plot_ID": 2,
          "Reference.area.R20m": 0.1256,
          "Unit_ID": 1442,
          "Village": "NA",
          "coverted.to.GS.ha": 195.7812
         },
         "type": "Feature"
        },
        {
         "geometry": {
          "coordinates": [
           [
            10272913.5556,
            5626992.8426
           ],
           [
            10272987.85,
            5626922.7335
           ],
           [
            10273050.5661,
            5626995.4789
           ]
          ],
          "type": "MultiPoint"
         },
         "properties": {
          "AGB": 68.8255,
          "AGB..DW.": 0.42,
          "AGB..GS.": 8.6433,
          "AGB.all..M111.": "NA",
          "Administration.Unit": "NA",
          "Count_of_Re_measurement_year": 1,
          "Elevation": 897,
          "GPS_Field_E": 106.4709,
          "GPS_Field_N": 50.1566,
          "Group.1": 1472,
          "Inventory_status": 1,
          "Plot_ID": 2,
          "Reference.area.R20m": 0.1256,
          "Unit_ID": 1472,
          "Village": "NA",
          "coverted.to.GS.ha": 68.8255
         },
         "type": "Feature"
        },
        {
         "geometry": {
          "coordinates": [
           [
            9030994.9342,
            5580759.8821
           ],
           [
            9031056.01,
            5580759.2988
           ],
           [
            9031117.1823,
            5580687.4673
           ]
          ],
          "type": "MultiPoint"
         },
         "properties": {
          "AGB": 218.0685,
          "AGB..DW.": 0.6,
          "AGB..GS.": 27.39,
          "AGB.all..M111.": "NA",
          "Administration.Unit": "NA",
          "Count_of_Re_measurement_year": 0,
          "Elevation": 1945.3333,
          "GPS_Field_E": 93.5994,
          "GPS_Field_N": 49.5986,
          "Group.1": 1474,
          "Inventory_status": 1,
          "Plot_ID": 2,
          "Reference.area.R20m": 0.1256,
          "Unit_ID": 1474,
          "Village": "NA",
          "coverted.to.GS.ha": 218.0685
         },
         "type": "Feature"
        },
        {
         "geometry": {
          "coordinates": [
           [
            10116299.2447,
            5626597.4639
           ],
           [
            10116363.3115,
            5626666.0133
           ]
          ],
          "type": "MultiPoint"
         },
         "properties": {
          "AGB": 191.4406,
          "AGB..DW.": 2.4567,
          "AGB..GS.": 24.0467,
          "AGB.all..M111.": "NA",
          "Administration.Unit": "NA",
          "Count_of_Re_measurement_year": 1,
          "Elevation": 1269.3333,
          "GPS_Field_E": 104.8472,
          "GPS_Field_N": 50.1523,
          "Group.1": 1485,
          "Inventory_status": 1,
          "Plot_ID": 2,
          "Reference.area.R20m": 0.1256,
          "Unit_ID": 1485,
          "Village": "NA",
          "coverted.to.GS.ha": 191.4406
         },
         "type": "Feature"
        },
        {
         "geometry": {
          "coordinates": [
           [
            9053048.7068,
            5580678.2174
           ],
           [
            9053115.7647,
            5580607.3012
           ],
           [
            9053183.4016,
            5580678.2174
           ]
          ],
          "type": "MultiPoint"
         },
         "properties": {
          "AGB": 103.9238,
          "AGB..DW.": 0.6567,
          "AGB..GS.": 13.0533,
          "AGB.all..M111.": 14.1533,
          "Administration.Unit": "NA",
          "Count_of_Re_measurement_year": 0,
          "Elevation": 1791.3333,
          "GPS_Field_E": 93.828,
          "GPS_Field_N": 49.5976,
          "Group.1": 1505,
          "Inventory_status": 1,
          "Plot_ID": 2,
          "Reference.area.R20m": 0.1256,
          "Unit_ID": 1505,
          "Village": "NA",
          "coverted.to.GS.ha": 103.9238
         },
         "type": "Feature"
        },
        {
         "geometry": {
          "coordinates": [
           [
            10313245.3996,
            5621983.4071
           ],
           [
            10313272.7052,
            5622059.2121
           ],
           [
            10313274.9244,
            5622060.7793
           ]
          ],
          "type": "MultiPoint"
         },
         "properties": {
          "AGB": 88.5866,
          "AGB..DW.": 0.4233,
          "AGB..GS.": 11.1267,
          "AGB.all..M111.": "NA",
          "Administration.Unit": "NA",
          "Count_of_Re_measurement_year": 1,
          "Elevation": 845.3333,
          "GPS_Field_E": 106.8884,
          "GPS_Field_N": 50.0967,
          "Group.1": 1545,
          "Inventory_status": 1,
          "Plot_ID": 2,
          "Reference.area.R20m": 0.1256,
          "Unit_ID": 1545,
          "Village": "NA",
          "coverted.to.GS.ha": 88.5866
         },
         "type": "Feature"
        },
        {
         "geometry": {
          "coordinates": [
           [
            9070994.8654,
            5578193.5032
           ],
           [
            9071063.3707,
            5578268.5467
           ],
           [
            9071126.6657,
            5578193.5032
           ]
          ],
          "type": "MultiPoint"
         },
         "properties": {
          "AGB": 8.3684,
          "AGB..DW.": 0.6933,
          "AGB..GS.": 1.05,
          "AGB.all..M111.": "NA",
          "Administration.Unit": "NA",
          "Count_of_Re_measurement_year": 0,
          "Elevation": 1628,
          "GPS_Field_E": 94.014,
          "GPS_Field_N": 49.5684,
          "Group.1": 1559,
          "Inventory_status": 1,
          "Plot_ID": 2,
          "Reference.area.R20m": 0.1256,
          "Unit_ID": 1559,
          "Village": "NA",
          "coverted.to.GS.ha": 8.3684
         },
         "type": "Feature"
        },
        {
         "geometry": {
          "coordinates": [
           [
            9044941.7365,
            5575091.3416
           ],
           [
            9045007.2507,
            5575016.2402
           ],
           [
            9045070.5457,
            5575091.3416
           ]
          ],
          "type": "MultiPoint"
         },
         "properties": {
          "AGB": 164.2795,
          "AGB..DW.": 1.1733,
          "AGB..GS.": 20.6333,
          "AGB.all..M111.": "NA",
          "Administration.Unit": "NA",
          "Count_of_Re_measurement_year": 0,
          "Elevation": 1959.3333,
          "GPS_Field_E": 93.744,
          "GPS_Field_N": 49.5306,
          "Group.1": 1592,
          "Inventory_status": 1,
          "Plot_ID": 2,
          "Reference.area.R20m": 0.1256,
          "Unit_ID": 1592,
          "Village": "NA",
          "coverted.to.GS.ha": 164.2795
         },
         "type": "Feature"
        },
        {
         "geometry": {
          "coordinates": [
           [
            9050872.7482,
            5575089.5058
           ],
           [
            9050928.7102,
            5575093.5947
           ],
           [
            9050984.5758,
            5575017.8257
           ]
          ],
          "type": "MultiPoint"
         },
         "properties": {
          "AGB": 183.5451,
          "AGB..DW.": 0.9867,
          "AGB..GS.": 23.0533,
          "AGB.all..M111.": "NA",
          "Administration.Unit": "NA",
          "Count_of_Re_measurement_year": 0,
          "Elevation": 1990,
          "GPS_Field_E": 93.8053,
          "GPS_Field_N": 49.5306,
          "Group.1": 1603,
          "Inventory_status": 1,
          "Plot_ID": 2,
          "Reference.area.R20m": 0.1256,
          "Unit_ID": 1603,
          "Village": "NA",
          "coverted.to.GS.ha": 183.5451
         },
         "type": "Feature"
        },
        {
         "geometry": {
          "coordinates": [
           [
            9179444.0936,
            5584905.2294
           ],
           [
            9179505.8448,
            5584830.2237
           ],
           [
            9179572.9028,
            5584906.1451
           ]
          ],
          "type": "MultiPoint"
         },
         "properties": {
          "AGB": 116.47,
          "AGB..DW.": 1.5233,
          "AGB..GS.": 14.6267,
          "AGB.all..M111.": "NA",
          "Administration.Unit": "NA",
          "Count_of_Re_measurement_year": 0,
          "Elevation": 1820.6667,
          "GPS_Field_E": 95.138,
          "GPS_Field_N": 49.6483,
          "Group.1": 1610,
          "Inventory_status": 1,
          "Plot_ID": 2,
          "Reference.area.R20m": 0.1256,
          "Unit_ID": 1610,
          "Village": "NA",
          "coverted.to.GS.ha": 116.47
         },
         "type": "Feature"
        },
        {
         "geometry": {
          "coordinates": [
           [
            10094666.5382,
            5619969.3882
           ],
           [
            10094685.6425,
            5619914.9189
           ],
           [
            10094796.1193,
            5619969.3882
           ]
          ],
          "type": "MultiPoint"
         },
         "properties": {
          "AGB": 125.3007,
          "AGB..DW.": 0.75,
          "AGB..GS.": 15.7367,
          "AGB.all..M111.": 16.6767,
          "Administration.Unit": "NA",
          "Count_of_Re_measurement_year": 1,
          "Elevation": 1117.3333,
          "GPS_Field_E": 104.6233,
          "GPS_Field_N": 50.0715,
          "Group.1": 1614,
          "Inventory_status": 1,
          "Plot_ID": 2,
          "Reference.area.R20m": 0.1256,
          "Unit_ID": 1614,
          "Village": "NA",
          "coverted.to.GS.ha": 125.3007
         },
         "type": "Feature"
        },
        {
         "geometry": {
          "coordinates": [
           [
            9052998.6304,
            5573925.1964
           ],
           [
            9053012.6209,
            5573848.4878
           ],
           [
            9053085.5645,
            5573925.1964
           ]
          ],
          "type": "MultiPoint"
         },
         "properties": {
          "AGB": 158.583,
          "AGB..DW.": 0.8167,
          "AGB..GS.": 19.9167,
          "AGB.all..M111.": 20.85,
          "Administration.Unit": "NA",
          "Count_of_Re_measurement_year": 0,
          "Elevation": 2024.3333,
          "GPS_Field_E": 93.8271,
          "GPS_Field_N": 49.5166,
          "Group.1": 1638,
          "Inventory_status": 1,
          "Plot_ID": 2,
          "Reference.area.R20m": 0.1256,
          "Unit_ID": 1638,
          "Village": "NA",
          "coverted.to.GS.ha": 158.583
         },
         "type": "Feature"
        },
        {
         "geometry": {
          "coordinates": [
           [
            10127049.4565,
            5617752.7137
           ],
           [
            10127102.2345,
            5617683.4331
           ],
           [
            10127171.2222,
            5617756.7598
           ]
          ],
          "type": "MultiPoint"
         },
         "properties": {
          "AGB": 96.9719,
          "AGB..DW.": 0.31,
          "AGB..GS.": 12.18,
          "AGB.all..M111.": "NA",
          "Administration.Unit": "NA",
          "Count_of_Re_measurement_year": 1,
          "Elevation": 1311,
          "GPS_Field_E": 104.959,
          "GPS_Field_N": 50.0446,
          "Group.1": 1660,
          "Inventory_status": 1,
          "Plot_ID": 2,
          "Reference.area.R20m": 0.1256,
          "Unit_ID": 1660,
          "Village": "NA",
          "coverted.to.GS.ha": 96.9719
         },
         "type": "Feature"
        },
        {
         "geometry": {
          "coordinates": [
           [
            10094730.4121,
            5614637.7887
           ],
           [
            10094785.3128,
            5614712.1627
           ],
           [
            10094857.967,
            5614634.3179
           ]
          ],
          "type": "MultiPoint"
         },
         "properties": {
          "AGB": 115.9351,
          "AGB..DW.": 0.8267,
          "AGB..GS.": 14.56,
          "AGB.all..M111.": "NA",
          "Administration.Unit": "NA",
          "Count_of_Re_measurement_year": 1,
          "Elevation": 1203.6667,
          "GPS_Field_E": 104.6241,
          "GPS_Field_N": 50.0074,
          "Group.1": 1694,
          "Inventory_status": 1,
          "Plot_ID": 2,
          "Reference.area.R20m": 0.1256,
          "Unit_ID": 1694,
          "Village": "NA",
          "coverted.to.GS.ha": 115.9351
         },
         "type": "Feature"
        },
        {
         "geometry": {
          "coordinates": [
           [
            9066868.1472,
            5570501.8904
           ],
           [
            9066911.5661,
            5570427.2903
           ],
           [
            9066988.0797,
            5570499.9691
           ]
          ],
          "type": "MultiPoint"
         },
         "properties": {
          "AGB": 49.27,
          "AGB..DW.": 0,
          "AGB..GS.": 6.1867,
          "AGB.all..M111.": "NA",
          "Administration.Unit": "NA",
          "Count_of_Re_measurement_year": 0,
          "Elevation": 1983.6667,
          "GPS_Field_E": 93.9711,
          "GPS_Field_N": 49.4756,
          "Group.1": 1697,
          "Inventory_status": 1,
          "Plot_ID": 2,
          "Reference.area.R20m": 0.1256,
          "Unit_ID": 1697,
          "Village": "NA",
          "coverted.to.GS.ha": 49.27
         },
         "type": "Feature"
        },
        {
         "geometry": {
          "coordinates": [
           [
            9167116.8135,
            5578351.9268
           ],
           [
            9167166.311,
            5578271.882
           ],
           [
            9167224.2992,
            5578349.3421
           ]
          ],
          "type": "MultiPoint"
         },
         "properties": {
          "AGB": 8.8923,
          "AGB..DW.": 14.8867,
          "AGB..GS.": 1.1167,
          "AGB.all..M111.": "NA",
          "Administration.Unit": "NA",
          "Count_of_Re_measurement_year": 0,
          "Elevation": 1619.6667,
          "GPS_Field_E": 95.0101,
          "GPS_Field_N": 49.5697,
          "Group.1": 1698,
          "Inventory_status": 1,
          "Plot_ID": 2,
          "Reference.area.R20m": 0.1256,
          "Unit_ID": 1698,
          "Village": "NA",
          "coverted.to.GS.ha": 8.8923
         },
         "type": "Feature"
        },
        {
         "geometry": {
          "coordinates": [
           [
            10357218.25,
            5612468.6028
           ],
           [
            10357224.1356,
            5612396.7505
           ],
           [
            10357283.0887,
            5612461.4094
           ]
          ],
          "type": "MultiPoint"
         },
         "properties": {
          "AGB": 4.8908,
          "AGB..DW.": 0.4333,
          "AGB..GS.": 0.6167,
          "AGB.all..M111.": "NA",
          "Administration.Unit": "NA",
          "Count_of_Re_measurement_year": 1,
          "Elevation": 991.3333,
          "GPS_Field_E": 107.3442,
          "GPS_Field_N": 49.9806,
          "Group.1": 1704,
          "Inventory_status": 1,
          "Plot_ID": 2,
          "Reference.area.R20m": 0.1256,
          "Unit_ID": 1704,
          "Village": "NA",
          "coverted.to.GS.ha": 4.8908
         },
         "type": "Feature"
        },
        {
         "geometry": {
          "coordinates": [
           [
            9068790.1539,
            5569328.6838
           ],
           [
            9068859.3346,
            5569254.3968
           ],
           [
            9068915.2966,
            5569326.0934
           ]
          ],
          "type": "MultiPoint"
         },
         "properties": {
          "AGB": 206.8661,
          "AGB..DW.": 2.4333,
          "AGB..GS.": 25.9833,
          "AGB.all..M111.": 29.07,
          "Administration.Unit": "NA",
          "Count_of_Re_measurement_year": 0,
          "Elevation": 1930.6667,
          "GPS_Field_E": 93.9911,
          "GPS_Field_N": 49.4616,
          "Group.1": 1715,
          "Inventory_status": 1,
          "Plot_ID": 2,
          "Reference.area.R20m": 0.1256,
          "Unit_ID": 1715,
          "Village": "NA",
          "coverted.to.GS.ha": 206.8661
         },
         "type": "Feature"
        },
        {
         "geometry": {
          "coordinates": [
           [
            10339507.4213,
            5609822.1204
           ],
           [
            10339562.4185,
            5609752.372
           ],
           [
            10339593.9695,
            5609823.6924
           ]
          ],
          "type": "MultiPoint"
         },
         "properties": {
          "AGB": 155.4198,
          "AGB..DW.": 0.6233,
          "AGB..GS.": 19.5233,
          "AGB.all..M111.": "NA",
          "Administration.Unit": "NA",
          "Count_of_Re_measurement_year": 1,
          "Elevation": 994,
          "GPS_Field_E": 107.1609,
          "GPS_Field_N": 49.9486,
          "Group.1": 1768,
          "Inventory_status": 1,
          "Plot_ID": 2,
          "Reference.area.R20m": 0.1256,
          "Unit_ID": 1768,
          "Village": "NA",
          "coverted.to.GS.ha": 155.4198
         },
         "type": "Feature"
        },
        {
         "geometry": {
          "coordinates": [
           [
            10362068.8082,
            5609824.2715
           ],
           [
            10362190.381,
            5609822.6995
           ],
           [
            10362201.8628,
            5609746.663
           ]
          ],
          "type": "MultiPoint"
         },
         "properties": {
          "AGB": 82.8909,
          "AGB..DW.": 0,
          "AGB..GS.": 10.4067,
          "AGB.all..M111.": "NA",
          "Administration.Unit": "NA",
          "Count_of_Re_measurement_year": 1,
          "Elevation": 888.6667,
          "GPS_Field_E": 107.3951,
          "GPS_Field_N": 49.9486,
          "Group.1": 1769,
          "Inventory_status": 1,
          "Plot_ID": 2,
          "Reference.area.R20m": 0.1256,
          "Unit_ID": 1769,
          "Village": "NA",
          "coverted.to.GS.ha": 82.8909
         },
         "type": "Feature"
        },
        {
         "geometry": {
          "coordinates": [
           [
            10366482.0907,
            5609254.2528
           ],
           [
            10395822.7002,
            5609327.1542
           ]
          ],
          "type": "MultiPoint"
         },
         "properties": {
          "AGB": 92.0963,
          "AGB..DW.": 0,
          "AGB..GS.": 11.5667,
          "AGB.all..M111.": "NA",
          "Administration.Unit": "NA",
          "Count_of_Re_measurement_year": 1,
          "Elevation": 964.6667,
          "GPS_Field_E": 107.6427,
          "GPS_Field_N": 49.9426,
          "Group.1": 1770,
          "Inventory_status": 1,
          "Plot_ID": 2,
          "Reference.area.R20m": 0.1256,
          "Unit_ID": 1770,
          "Village": "NA",
          "coverted.to.GS.ha": 92.0963
         },
         "type": "Feature"
        },
        {
         "geometry": {
          "coordinates": [
           [
            10371792.985,
            5609246.0606
           ],
           [
            10371793.6604,
            5609171.5855
           ],
           [
            10371796.2656,
            5609246.0606
           ]
          ],
          "type": "MultiPoint"
         },
         "properties": {
          "AGB": 104.3775,
          "AGB..DW.": 0,
          "AGB..GS.": 13.11,
          "AGB.all..M111.": "NA",
          "Administration.Unit": "NA",
          "Count_of_Re_measurement_year": 1,
          "Elevation": 785.3333,
          "GPS_Field_E": 107.495,
          "GPS_Field_N": 49.9416,
          "Group.1": 1771,
          "Inventory_status": 1,
          "Plot_ID": 2,
          "Reference.area.R20m": 0.1256,
          "Unit_ID": 1771,
          "Village": "NA",
          "coverted.to.GS.ha": 104.3775
         },
         "type": "Feature"
        },
        {
         "geometry": {
          "coordinates": [
           [
            10404049.9888,
            5608584.0116
           ],
           [
            10404113.6697,
            5608517.7179
           ],
           [
            10404184.3942,
            5608580.5355
           ]
          ],
          "type": "MultiPoint"
         },
         "properties": {
          "AGB": 89.7469,
          "AGB..DW.": 0.1033,
          "AGB..GS.": 11.2733,
          "AGB.all..M111.": "NA",
          "Administration.Unit": "NA",
          "Count_of_Re_measurement_year": 1,
          "Elevation": 758,
          "GPS_Field_E": 107.83,
          "GPS_Field_N": 49.9336,
          "Group.1": 1772,
          "Inventory_status": 1,
          "Plot_ID": 2,
          "Reference.area.R20m": 0.1256,
          "Unit_ID": 1772,
          "Village": "NA",
          "coverted.to.GS.ha": 89.7469
         },
         "type": "Feature"
        },
        {
         "geometry": {
          "coordinates": [
           [
            9203154.1497,
            5577686.4232
           ],
           [
            9203229.9879,
            5577753.8874
           ],
           [
            9203294.7302,
            5577746.5489
           ]
          ],
          "type": "MultiPoint"
         },
         "properties": {
          "AGB": 122.5253,
          "AGB..DW.": 0.1633,
          "AGB..GS.": 15.39,
          "AGB.all..M111.": 15.5933,
          "Administration.Unit": "NA",
          "Count_of_Re_measurement_year": 0,
          "Elevation": 1700,
          "GPS_Field_E": 95.3838,
          "GPS_Field_N": 49.5625,
          "Group.1": 1774,
          "Inventory_status": 1,
          "Plot_ID": 2,
          "Reference.area.R20m": 0.1256,
          "Unit_ID": 1774,
          "Village": "NA",
          "coverted.to.GS.ha": 122.5253
         },
         "type": "Feature"
        },
        {
         "geometry": {
          "coordinates": [
           [
            9142848.0054,
            5571847.385
           ],
           [
            9142922.2998,
            5571921.6255
           ],
           [
            9142984.1475,
            5571925.1329
           ]
          ],
          "type": "MultiPoint"
         },
         "properties": {
          "AGB": 43.2404,
          "AGB..DW.": 0.1967,
          "AGB..GS.": 5.4333,
          "AGB.all..M111.": "NA",
          "Administration.Unit": "NA",
          "Count_of_Re_measurement_year": 0,
          "Elevation": 1719.6667,
          "GPS_Field_E": 94.7587,
          "GPS_Field_N": 49.4926,
          "Group.1": 1783,
          "Inventory_status": 1,
          "Plot_ID": 2,
          "Reference.area.R20m": 0.1256,
          "Unit_ID": 1783,
          "Village": "NA",
          "coverted.to.GS.ha": 43.2404
         },
         "type": "Feature"
        },
        {
         "geometry": {
          "coordinates": [
           [
            10339451.7488,
            5606847.2717
           ],
           [
            10339462.0728,
            5606773.6631
           ],
           [
            10339514.2719,
            5606849.7556
           ]
          ],
          "type": "MultiPoint"
         },
         "properties": {
          "AGB": 220.2102,
          "AGB..DW.": 1.3533,
          "AGB..GS.": 27.6567,
          "AGB.all..M111.": "NA",
          "Administration.Unit": "NA",
          "Count_of_Re_measurement_year": 1,
          "Elevation": 1096,
          "GPS_Field_E": 107.1601,
          "GPS_Field_N": 49.9126,
          "Group.1": 1824,
          "Inventory_status": 1,
          "Plot_ID": 2,
          "Reference.area.R20m": 0.1256,
          "Unit_ID": 1824,
          "Village": "NA",
          "coverted.to.GS.ha": 220.2102
         },
         "type": "Feature"
        },
        {
         "geometry": {
          "coordinates": [
           [
            10405074.9625,
            5604848.02
           ],
           [
            10405179.4572,
            5604781.665
           ],
           [
            10405211.8766,
            5604856.2212
           ]
          ],
          "type": "MultiPoint"
         },
         "properties": {
          "AGB": 252.5627,
          "AGB..DW.": 0,
          "AGB..GS.": 31.7233,
          "AGB.all..M111.": 31.7233,
          "Administration.Unit": "NA",
          "Count_of_Re_measurement_year": 1,
          "Elevation": 1150.3333,
          "GPS_Field_E": 107.8408,
          "GPS_Field_N": 49.8886,
          "Group.1": 1839,
          "Inventory_status": 1,
          "Plot_ID": 2,
          "Reference.area.R20m": 0.1256,
          "Unit_ID": 1839,
          "Village": "NA",
          "coverted.to.GS.ha": 252.5627
         },
         "type": "Feature"
        },
        {
         "geometry": {
          "coordinates": [
           [
            9178764.6372,
            5571414.7764
           ],
           [
            9178771.9702,
            5571420.4557
           ],
           [
            9178836.0371,
            5571342.7819
           ]
          ],
          "type": "MultiPoint"
         },
         "properties": {
          "AGB": 194.4345,
          "AGB..DW.": 3.73,
          "AGB..GS.": 24.42,
          "AGB.all..M111.": "NA",
          "Administration.Unit": "NA",
          "Count_of_Re_measurement_year": 0,
          "Elevation": 1842.3333,
          "GPS_Field_E": 95.1305,
          "GPS_Field_N": 49.4866,
          "Group.1": 1862,
          "Inventory_status": 1,
          "Plot_ID": 2,
          "Reference.area.R20m": 0.1256,
          "Unit_ID": 1862,
          "Village": "NA",
          "coverted.to.GS.ha": 194.4345
         },
         "type": "Feature"
        },
        {
         "geometry": {
          "coordinates": [
           [
            10215724.8829,
            5606347.2203
           ],
           [
            10215773.512,
            5606274.2651
           ],
           [
            10215919.2063,
            5606362.043
           ]
          ],
          "type": "MultiPoint"
         },
         "properties": {
          "AGB": 37.5463,
          "AGB..DW.": 0.06,
          "AGB..GS.": 4.7167,
          "AGB.all..M111.": "NA",
          "Administration.Unit": "NA",
          "Count_of_Re_measurement_year": 1,
          "Elevation": 738.6667,
          "GPS_Field_E": 105.8783,
          "GPS_Field_N": 49.9067,
          "Group.1": 1870,
          "Inventory_status": 1,
          "Plot_ID": 2,
          "Reference.area.R20m": 0.1256,
          "Unit_ID": 1870,
          "Village": "NA",
          "coverted.to.GS.ha": 37.5463
         },
         "type": "Feature"
        },
        {
         "geometry": {
          "coordinates": [
           [
            9118680.0254,
            5565395.1582
           ],
           [
            9118728.6545,
            5565467.2561
           ],
           [
            9118786.7392,
            5565467.2561
           ]
          ],
          "type": "MultiPoint"
         },
         "properties": {
          "AGB": 182.9029,
          "AGB..DW.": 4.8,
          "AGB..GS.": 22.9733,
          "AGB.all..M111.": "NA",
          "Administration.Unit": "NA",
          "Count_of_Re_measurement_year": 0,
          "Elevation": 1972,
          "GPS_Field_E": 94.5081,
          "GPS_Field_N": 49.4154,
          "Group.1": 1893,
          "Inventory_status": 1,
          "Plot_ID": 2,
          "Reference.area.R20m": 0.1256,
          "Unit_ID": 1893,
          "Village": "NA",
          "coverted.to.GS.ha": 182.9029
         },
         "type": "Feature"
        },
        {
         "geometry": {
          "coordinates": [
           [
            10355325.6716,
            5603615.0971
           ],
           [
            10355341.1094,
            5603543.0041
           ],
           [
            10355458.1472,
            5603571.1786
           ]
          ],
          "type": "MultiPoint"
         },
         "properties": {
          "AGB": 53.6222,
          "AGB..DW.": 0.1833,
          "AGB..GS.": 6.7333,
          "AGB.all..M111.": 7.0367,
          "Administration.Unit": "NA",
          "Count_of_Re_measurement_year": 1,
          "Elevation": 1058.6667,
          "GPS_Field_E": 107.3248,
          "GPS_Field_N": 49.8734,
          "Group.1": 1897,
          "Inventory_status": 1,
          "Plot_ID": 2,
          "Reference.area.R20m": 0.1256,
          "Unit_ID": 1897,
          "Village": "NA",
          "coverted.to.GS.ha": 53.6222
         },
         "type": "Feature"
        },
        {
         "geometry": {
          "coordinates": [
           [
            10376806.0262,
            5603127.9887
           ],
           [
            10376812.6838,
            5603204.1498
           ],
           [
            10376880.3206,
            5603204.1498
           ]
          ],
          "type": "MultiPoint"
         },
         "properties": {
          "AGB": 152.2142,
          "AGB..DW.": 0.11,
          "AGB..GS.": 19.12,
          "AGB.all..M111.": "NA",
          "Administration.Unit": "NA",
          "Count_of_Re_measurement_year": 1,
          "Elevation": 684.3333,
          "GPS_Field_E": 107.5472,
          "GPS_Field_N": 49.8686,
          "Group.1": 1898,
          "Inventory_status": 1,
          "Plot_ID": 2,
          "Reference.area.R20m": 0.1256,
          "Unit_ID": 1898,
          "Village": "NA",
          "coverted.to.GS.ha": 152.2142
         },
         "type": "Feature"
        },
        {
         "geometry": {
          "coordinates": [
           [
            10387536.6514,
            5602957.2631
           ],
           [
            10387619.0507,
            5602875.9587
           ],
           [
            10387626.3836,
            5602949.6383
           ]
          ],
          "type": "MultiPoint"
         },
         "properties": {
          "AGB": 46.3758,
          "AGB..DW.": 0,
          "AGB..GS.": 5.8233,
          "AGB.all..M111.": "NA",
          "Administration.Unit": "NA",
          "Count_of_Re_measurement_year": 1,
          "Elevation": 1083.6667,
          "GPS_Field_E": 107.6588,
          "GPS_Field_N": 49.8656,
          "Group.1": 1899,
          "Inventory_status": 1,
          "Plot_ID": 2,
          "Reference.area.R20m": 0.1256,
          "Unit_ID": 1899,
          "Village": "NA",
          "coverted.to.GS.ha": 46.3758
         },
         "type": "Feature"
        },
        {
         "geometry": {
          "coordinates": [
           [
            10392877.9389,
            5602862.6979
           ],
           [
            10392916.2439,
            5602792.1662
           ],
           [
            10392933.9009,
            5602870.3229
           ]
          ],
          "type": "MultiPoint"
         },
         "properties": {
          "AGB": 132.0946,
          "AGB..DW.": 0.1533,
          "AGB..GS.": 16.59,
          "AGB.all..M111.": "NA",
          "Administration.Unit": "NA",
          "Count_of_Re_measurement_year": 1,
          "Elevation": 1208.6667,
          "GPS_Field_E": 107.7139,
          "GPS_Field_N": 49.8646,
          "Group.1": 1900,
          "Inventory_status": 1,
          "Plot_ID": 2,
          "Reference.area.R20m": 0.1256,
          "Unit_ID": 1900,
          "Village": "NA",
          "coverted.to.GS.ha": 132.0946
         },
         "type": "Feature"
        },
        {
         "geometry": {
          "coordinates": [
           [
            10398256.856,
            5602788.105
           ],
           [
            10398326.1332,
            5602712.8477
           ],
           [
            10398384.2179,
            5602787.1105
           ]
          ],
          "type": "MultiPoint"
         },
         "properties": {
          "AGB": 119.9786,
          "AGB..DW.": 0.28,
          "AGB..GS.": 15.07,
          "AGB.all..M111.": "NA",
          "Administration.Unit": "NA",
          "Count_of_Re_measurement_year": 1,
          "Elevation": 877.6667,
          "GPS_Field_E": 107.77,
          "GPS_Field_N": 49.8636,
          "Group.1": 1901,
          "Inventory_status": 1,
          "Plot_ID": 2,
          "Reference.area.R20m": 0.1256,
          "Unit_ID": 1901,
          "Village": "NA",
          "coverted.to.GS.ha": 119.9786
         },
         "type": "Feature"
        },
        {
         "geometry": {
          "coordinates": [
           [
            9142491.8745,
            5565150.1667
           ],
           [
            9142557.1957,
            5565074.801
           ],
           [
            9142625.701,
            5565149.1629
           ]
          ],
          "type": "MultiPoint"
         },
         "properties": {
          "AGB": 89.2866,
          "AGB..DW.": 0.0233,
          "AGB..GS.": 11.2133,
          "AGB.all..M111.": "NA",
          "Administration.Unit": "NA",
          "Count_of_Re_measurement_year": 0,
          "Elevation": 2084,
          "GPS_Field_E": 94.755,
          "GPS_Field_N": 49.4116,
          "Group.1": 1932,
          "Inventory_status": 1,
          "Plot_ID": 2,
          "Reference.area.R20m": 0.1256,
          "Unit_ID": 1932,
          "Village": "NA",
          "coverted.to.GS.ha": 89.2866
         },
         "type": "Feature"
        },
        {
         "geometry": {
          "coordinates": [
           [
            10094812.329,
            5602861.1232
           ],
           [
            10094871.9575,
            5602789.6798
           ],
           [
            10094925.7003,
            5602857.6422
           ]
          ],
          "type": "MultiPoint"
         },
         "properties": {
          "AGB": 181.3225,
          "AGB..DW.": 0.8567,
          "AGB..GS.": 22.7767,
          "AGB.all..M111.": "NA",
          "Administration.Unit": "NA",
          "Count_of_Re_measurement_year": 1,
          "Elevation": 1047.3333,
          "GPS_Field_E": 104.6249,
          "GPS_Field_N": 49.8645,
          "Group.1": 1936,
          "Inventory_status": 1,
          "Plot_ID": 2,
          "Reference.area.R20m": 0.1256,
          "Unit_ID": 1936,
          "Village": "NA",
          "coverted.to.GS.ha": 181.3225
         },
         "type": "Feature"
        },
        {
         "geometry": {
          "coordinates": [
           [
            10387362.8796,
            5599967.4877
           ],
           [
            10387425.4992,
            5599891.2657
           ],
           [
            10387488.7942,
            5599966.5754
           ]
          ],
          "type": "MultiPoint"
         },
         "properties": {
          "AGB": 283.466,
          "AGB..DW.": 1.62,
          "AGB..GS.": 35.6033,
          "AGB.all..M111.": "NA",
          "Administration.Unit": "NA",
          "Count_of_Re_measurement_year": 1,
          "Elevation": 986.6667,
          "GPS_Field_E": 107.657,
          "GPS_Field_N": 49.8296,
          "Group.1": 1943,
          "Inventory_status": 1,
          "Plot_ID": 2,
          "Reference.area.R20m": 0.1256,
          "Unit_ID": 1943,
          "Village": "NA",
          "coverted.to.GS.ha": 283.466
         },
         "type": "Feature"
        },
        {
         "geometry": {
          "coordinates": [
           [
            10414094.0176,
            5599468.2447
           ],
           [
            10414149.2077,
            5599395.0825
           ],
           [
            10414221.3795,
            5599466.6687
           ]
          ],
          "type": "MultiPoint"
         },
         "properties": {
          "AGB": 118.0814,
          "AGB..DW.": 0.12,
          "AGB..GS.": 14.83,
          "AGB.all..M111.": 15.03,
          "Administration.Unit": "NA",
          "Count_of_Re_measurement_year": 1,
          "Elevation": 1132.6667,
          "GPS_Field_E": 107.934,
          "GPS_Field_N": 49.8236,
          "Group.1": 1944,
          "Inventory_status": 1,
          "Plot_ID": 2,
          "Reference.area.R20m": 0.1256,
          "Unit_ID": 1944,
          "Village": "NA",
          "coverted.to.GS.ha": 118.0814
         },
         "type": "Feature"
        },
        {
         "geometry": {
          "coordinates": [
           [
            9154455.3049,
            5564988.6433
           ],
           [
            9154523.8101,
            5564910.8489
           ],
           [
            9154592.2189,
            5564988.6433
           ]
          ],
          "type": "MultiPoint"
         },
         "properties": {
          "AGB": 314.5284,
          "AGB..DW.": 2.63,
          "AGB..GS.": 39.5067,
          "AGB.all..M111.": 43.95,
          "Administration.Unit": "NA",
          "Count_of_Re_measurement_year": 0,
          "Elevation": 1945.3333,
          "GPS_Field_E": 94.879,
          "GPS_Field_N": 49.4097,
          "Group.1": 1950,
          "Inventory_status": 1,
          "Plot_ID": 2,
          "Reference.area.R20m": 0.1256,
          "Unit_ID": 1950,
          "Village": "NA",
          "coverted.to.GS.ha": 314.5284
         },
         "type": "Feature"
        },
        {
         "geometry": {
          "coordinates": [
           [
            10404634.7921,
            5598141.4977
           ],
           [
            10404693.6488,
            5598066.2371
           ],
           [
            10404765.0486,
            5598140.9168
           ]
          ],
          "type": "MultiPoint"
         },
         "properties": {
          "AGB": 122.454,
          "AGB..DW.": 0,
          "AGB..GS.": 15.38,
          "AGB.all..M111.": "NA",
          "Administration.Unit": "NA",
          "Count_of_Re_measurement_year": 1,
          "Elevation": 1073.6667,
          "GPS_Field_E": 107.836,
          "GPS_Field_N": 49.8076,
          "Group.1": 1973,
          "Inventory_status": 1,
          "Plot_ID": 2,
          "Reference.area.R20m": 0.1256,
          "Unit_ID": 1973,
          "Village": "NA",
          "coverted.to.GS.ha": 122.454
         },
         "type": "Feature"
        },
        {
         "geometry": {
          "coordinates": [
           [
            10106792.0655,
            5599895.9933
           ],
           [
            10106850.2467,
            5599902.048
           ],
           [
            10106935.6371,
            5599817.1987
           ]
          ],
          "type": "MultiPoint"
         },
         "properties": {
          "AGB": 11.66,
          "AGB..DW.": 1.26,
          "AGB..GS.": 1.4633,
          "AGB.all..M111.": "NA",
          "Administration.Unit": "NA",
          "Count_of_Re_measurement_year": 1,
          "Elevation": 1013.3333,
          "GPS_Field_E": 104.7492,
          "GPS_Field_N": 49.8288,
          "Group.1": 1988,
          "Inventory_status": 1,
          "Plot_ID": 2,
          "Reference.area.R20m": 0.1256,
          "Unit_ID": 1988,
          "Village": "NA",
          "coverted.to.GS.ha": 11.66
         },
         "type": "Feature"
        },
        {
         "geometry": {
          "coordinates": [
           [
            10397903.5233,
            5596807.1788
           ],
           [
            10397942.6002,
            5596737.4549
           ],
           [
            10397961.7045,
            5596806.1828
           ]
          ],
          "type": "MultiPoint"
         },
         "properties": {
          "AGB": 181.2071,
          "AGB..DW.": 0.1333,
          "AGB..GS.": 22.7567,
          "AGB.all..M111.": "NA",
          "Administration.Unit": "NA",
          "Count_of_Re_measurement_year": 1,
          "Elevation": 1000.3333,
          "GPS_Field_E": 107.766,
          "GPS_Field_N": 49.7915,
          "Group.1": 2001,
          "Inventory_status": 1,
          "Plot_ID": 2,
          "Reference.area.R20m": 0.1256,
          "Unit_ID": 2001,
          "Village": "NA",
          "coverted.to.GS.ha": 181.2071
         },
         "type": "Feature"
        },
        {
         "geometry": {
          "coordinates": [
           [
            10403044.6982,
            5596408.8233
           ],
           [
            10403102.8795,
            5596453.4835
           ],
           [
            10403110.2124,
            5596489.8423
           ]
          ],
          "type": "MultiPoint"
         },
         "properties": {
          "AGB": 69.4501,
          "AGB..DW.": 0,
          "AGB..GS.": 8.7233,
          "AGB.all..M111.": "NA",
          "Administration.Unit": "NA",
          "Count_of_Re_measurement_year": 1,
          "Elevation": 1191.3333,
          "GPS_Field_E": 107.8193,
          "GPS_Field_N": 49.7875,
          "Group.1": 2002,
          "Inventory_status": 1,
          "Plot_ID": 2,
          "Reference.area.R20m": 0.1256,
          "Unit_ID": 2002,
          "Village": "NA",
          "coverted.to.GS.ha": 69.4501
         },
         "type": "Feature"
        },
        {
         "geometry": {
          "coordinates": [
           [
            10408565.7397,
            5596547.2021
           ],
           [
            10408648.9108,
            5596489.2612
           ],
           [
            10408652.5773,
            5596491.7515
           ]
          ],
          "type": "MultiPoint"
         },
         "properties": {
          "AGB": 171.6867,
          "AGB..DW.": 0.41,
          "AGB..GS.": 21.5633,
          "AGB.all..M111.": "NA",
          "Administration.Unit": "NA",
          "Count_of_Re_measurement_year": 1,
          "Elevation": 1470.3333,
          "GPS_Field_E": 107.8767,
          "GPS_Field_N": 49.7882,
          "Group.1": 2003,
          "Inventory_status": 1,
          "Plot_ID": 2,
          "Reference.area.R20m": 0.1256,
          "Unit_ID": 2003,
          "Village": "NA",
          "coverted.to.GS.ha": 171.6867
         },
         "type": "Feature"
        },
        {
         "geometry": {
          "coordinates": [
           [
            9190377.8224,
            5564457.6882
           ],
           [
            9190441.8893,
            5564381.3898
           ],
           [
            9190473.5368,
            5564418.1169
           ]
          ],
          "type": "MultiPoint"
         },
         "properties": {
          "AGB": 213.7389,
          "AGB..DW.": 3.8133,
          "AGB..GS.": 26.8467,
          "AGB.all..M111.": 31.8867,
          "Administration.Unit": "NA",
          "Count_of_Re_measurement_year": 0,
          "Elevation": 2164.6667,
          "GPS_Field_E": 95.2512,
          "GPS_Field_N": 49.4032,
          "Group.1": 2012,
          "Inventory_status": 1,
          "Plot_ID": 2,
          "Reference.area.R20m": 0.1256,
          "Unit_ID": 2012,
          "Village": "NA",
          "coverted.to.GS.ha": 213.7389
         },
         "type": "Feature"
        },
        {
         "geometry": {
          "coordinates": [
           [
            10349436.6315,
            5594732.2974
           ],
           [
            10349509.4786,
            5594659.133
           ],
           [
            10349573.5455,
            5594731.3839
           ]
          ],
          "type": "MultiPoint"
         },
         "properties": {
          "AGB": 221.5274,
          "AGB..DW.": 0.11,
          "AGB..GS.": 27.8267,
          "AGB.all..M111.": 28.2367,
          "Administration.Unit": "NA",
          "Count_of_Re_measurement_year": 1,
          "Elevation": 1017,
          "GPS_Field_E": 107.264,
          "GPS_Field_N": 49.7665,
          "Group.1": 2033,
          "Inventory_status": 1,
          "Plot_ID": 2,
          "Reference.area.R20m": 0.1256,
          "Unit_ID": 2033,
          "Village": "NA",
          "coverted.to.GS.ha": 221.5274
         },
         "type": "Feature"
        },
        {
         "geometry": {
          "coordinates": [
           [
            10386988.3198,
            5594079.3349
           ],
           [
            10387035.5981,
            5594000.5936
           ],
           [
            10387121.4709,
            5594067.9558
           ]
          ],
          "type": "MultiPoint"
         },
         "properties": {
          "AGB": 320.6188,
          "AGB..DW.": 0.37,
          "AGB..GS.": 40.27,
          "AGB.all..M111.": 41.2067,
          "Administration.Unit": "NA",
          "Count_of_Re_measurement_year": 1,
          "Elevation": 982.6667,
          "GPS_Field_E": 107.6531,
          "GPS_Field_N": 49.7586,
          "Group.1": 2034,
          "Inventory_status": 1,
          "Plot_ID": 2,
          "Reference.area.R20m": 0.1256,
          "Unit_ID": 2034,
          "Village": "NA",
          "coverted.to.GS.ha": 320.6188
         },
         "type": "Feature"
        },
        {
         "geometry": {
          "coordinates": [
           [
            10392269.9788,
            5593891.782
           ],
           [
            10392349.4835,
            5593829.4008
           ],
           [
            10392400.2353,
            5593910.8035
           ]
          ],
          "type": "MultiPoint"
         },
         "properties": {
          "AGB": 117.2307,
          "AGB..DW.": 0.4633,
          "AGB..GS.": 14.7233,
          "AGB.all..M111.": 15.6533,
          "Administration.Unit": "NA",
          "Count_of_Re_measurement_year": 1,
          "Elevation": 905.6667,
          "GPS_Field_E": 107.708,
          "GPS_Field_N": 49.7565,
          "Group.1": 2035,
          "Inventory_status": 1,
          "Plot_ID": 2,
          "Reference.area.R20m": 0.1256,
          "Unit_ID": 2035,
          "Village": "NA",
          "coverted.to.GS.ha": 117.2307
         },
         "type": "Feature"
        },
        {
         "geometry": {
          "coordinates": [
           [
            10392198.579,
            5591648.4514
           ],
           [
            10392247.1116,
            5591584.3737
           ],
           [
            10392326.6163,
            5591668.3975
           ]
          ],
          "type": "MultiPoint"
         },
         "properties": {
          "AGB": 118.9936,
          "AGB..DW.": 0.8,
          "AGB..GS.": 14.9467,
          "AGB.all..M111.": 16.22,
          "Administration.Unit": "NA",
          "Count_of_Re_measurement_year": 1,
          "Elevation": 1023.6667,
          "GPS_Field_E": 107.7071,
          "GPS_Field_N": 49.7295,
          "Group.1": 2045,
          "Inventory_status": 1,
          "Plot_ID": 2,
          "Reference.area.R20m": 0.1256,
          "Unit_ID": 2045,
          "Village": "NA",
          "coverted.to.GS.ha": 118.9936
         },
         "type": "Feature"
        },
        {
         "geometry": {
          "coordinates": [
           [
            10404152.5537,
            5591414.1599
           ],
           [
            10404218.0679,
            5591341.8501
           ],
           [
            10404279.9156,
            5591437.2655
           ]
          ],
          "type": "MultiPoint"
         },
         "properties": {
          "AGB": 86.3894,
          "AGB..DW.": 0.4,
          "AGB..GS.": 10.85,
          "AGB.all..M111.": "NA",
          "Administration.Unit": "NA",
          "Count_of_Re_measurement_year": 1,
          "Elevation": 1013,
          "GPS_Field_E": 107.831,
          "GPS_Field_N": 49.7267,
          "Group.1": 2046,
          "Inventory_status": 1,
          "Plot_ID": 2,
          "Reference.area.R20m": 0.1256,
          "Unit_ID": 2046,
          "Village": "NA",
          "coverted.to.GS.ha": 86.3894
         },
         "type": "Feature"
        },
        {
         "geometry": {
          "coordinates": [
           [
            10416215.5579,
            5591163.9792
           ],
           [
            10416272.2918,
            5591091.665
           ],
           [
            10416348.8055,
            5591162.4
           ]
          ],
          "type": "MultiPoint"
         },
         "properties": {
          "AGB": 113.464,
          "AGB..DW.": 0,
          "AGB..GS.": 14.2533,
          "AGB.all..M111.": 14.2533,
          "Administration.Unit": "NA",
          "Count_of_Re_measurement_year": 1,
          "Elevation": 1364,
          "GPS_Field_E": 107.9561,
          "GPS_Field_N": 49.7236,
          "Group.1": 2047,
          "Inventory_status": 1,
          "Plot_ID": 2,
          "Reference.area.R20m": 0.1256,
          "Unit_ID": 2047,
          "Village": "NA",
          "coverted.to.GS.ha": 113.464
         },
         "type": "Feature"
        },
        {
         "geometry": {
          "coordinates": [
           [
            10343946.5621,
            5591812.3394
           ],
           [
            10344001.9452,
            5591759.0682
           ],
           [
            10344082.0289,
            5591802.2005
           ]
          ],
          "type": "MultiPoint"
         },
         "properties": {
          "AGB": 233.3981,
          "AGB..DW.": 0.7033,
          "AGB..GS.": 29.3133,
          "AGB.all..M111.": "NA",
          "Administration.Unit": "NA",
          "Count_of_Re_measurement_year": 1,
          "Elevation": 1098.6667,
          "GPS_Field_E": 107.2071,
          "GPS_Field_N": 49.7314,
          "Group.1": 2056,
          "Inventory_status": 1,
          "Plot_ID": 2,
          "Reference.area.R20m": 0.1256,
          "Unit_ID": 2056,
          "Village": "NA",
          "coverted.to.GS.ha": 233.3981
         },
         "type": "Feature"
        },
        {
         "geometry": {
          "coordinates": [
           [
            10349203.3276,
            5591741.6157
           ],
           [
            10349274.7275,
            5591745.7711
           ],
           [
            10349407.2031,
            5591672.553
           ]
          ],
          "type": "MultiPoint"
         },
         "properties": {
          "AGB": 122.5488,
          "AGB..DW.": 2.8667,
          "AGB..GS.": 15.3933,
          "AGB.all..M111.": 19.6067,
          "Administration.Unit": "NA",
          "Count_of_Re_measurement_year": 1,
          "Elevation": 998.3333,
          "GPS_Field_E": 107.2618,
          "GPS_Field_N": 49.7306,
          "Group.1": 2057,
          "Inventory_status": 1,
          "Plot_ID": 2,
          "Reference.area.R20m": 0.1256,
          "Unit_ID": 2057,
          "Village": "NA",
          "coverted.to.GS.ha": 122.5488
         },
         "type": "Feature"
        },
        {
         "geometry": {
          "coordinates": [
           [
            10386751.1566,
            5591070.1368
           ],
           [
            10386845.4237,
            5591006.05
           ],
           [
            10386885.176,
            5591071.716
           ]
          ],
          "type": "MultiPoint"
         },
         "properties": {
          "AGB": 45.6562,
          "AGB..DW.": 0,
          "AGB..GS.": 5.7333,
          "AGB.all..M111.": "NA",
          "Administration.Unit": "NA",
          "Count_of_Re_measurement_year": 1,
          "Elevation": 814.6667,
          "GPS_Field_E": 107.6508,
          "GPS_Field_N": 49.7225,
          "Group.1": 2058,
          "Inventory_status": 1,
          "Plot_ID": 2,
          "Reference.area.R20m": 0.1256,
          "Unit_ID": 2058,
          "Village": "NA",
          "coverted.to.GS.ha": 45.6562
         },
         "type": "Feature"
        },
        {
         "geometry": {
          "coordinates": [
           [
            10402812.0698,
            5590733.3167
           ],
           [
            10402861.3743,
            5590673.3811
           ],
           [
            10402940.2036,
            5590754.9299
           ]
          ],
          "type": "MultiPoint"
         },
         "properties": {
          "AGB": 132.1762,
          "AGB..DW.": 1.3967,
          "AGB..GS.": 16.6,
          "AGB.all..M111.": "NA",
          "Administration.Unit": "NA",
          "Count_of_Re_measurement_year": 1,
          "Elevation": 1103,
          "GPS_Field_E": 107.8171,
          "GPS_Field_N": 49.7185,
          "Group.1": 2059,
          "Inventory_status": 1,
          "Plot_ID": 2,
          "Reference.area.R20m": 0.1256,
          "Unit_ID": 2059,
          "Village": "NA",
          "coverted.to.GS.ha": 132.1762
         },
         "type": "Feature"
        },
        {
         "geometry": {
          "coordinates": [
           [
            10391898.5066,
            5587904.4123
           ],
           [
            10391957.9422,
            5587847.5963
           ],
           [
            10392028.7631,
            5587919.3025
           ]
          ],
          "type": "MultiPoint"
         },
         "properties": {
          "AGB": 161.1066,
          "AGB..DW.": 3.0667,
          "AGB..GS.": 20.2333,
          "AGB.all..M111.": "NA",
          "Administration.Unit": "NA",
          "Count_of_Re_measurement_year": 1,
          "Elevation": 1017,
          "GPS_Field_E": 107.704,
          "GPS_Field_N": 49.6845,
          "Group.1": 2104,
          "Inventory_status": 1,
          "Plot_ID": 2,
          "Reference.area.R20m": 0.1256,
          "Unit_ID": 2104,
          "Village": "NA",
          "coverted.to.GS.ha": 161.1066
         },
         "type": "Feature"
        },
        {
         "geometry": {
          "coordinates": [
           [
            10407916.387,
            5587586.4654
           ],
           [
            10407965.788,
            5587506.7669
           ],
           [
            10408046.74,
            5587588.3789
           ]
          ],
          "type": "MultiPoint"
         },
         "properties": {
          "AGB": 136.6702,
          "AGB..DW.": 0,
          "AGB..GS.": 17.1633,
          "AGB.all..M111.": 17.1633,
          "Administration.Unit": "NA",
          "Count_of_Re_measurement_year": 1,
          "Elevation": 1512,
          "GPS_Field_E": 107.87,
          "GPS_Field_N": 49.6805,
          "Group.1": 2105,
          "Inventory_status": 1,
          "Plot_ID": 2,
          "Reference.area.R20m": 0.1256,
          "Unit_ID": 2105,
          "Village": "NA",
          "coverted.to.GS.ha": 136.6702
         },
         "type": "Feature"
        },
        {
         "geometry": {
          "coordinates": [
           [
            10343637.4201,
            5585830.8241
           ],
           [
            10343713.9337,
            5585769.1521
           ],
           [
            10343747.8004,
            5585851.7142
           ]
          ],
          "type": "MultiPoint"
         },
         "properties": {
          "AGB": 57.3678,
          "AGB..DW.": 1.4767,
          "AGB..GS.": 7.2033,
          "AGB.all..M111.": "NA",
          "Administration.Unit": "NA",
          "Count_of_Re_measurement_year": 1,
          "Elevation": 1230,
          "GPS_Field_E": 107.2038,
          "GPS_Field_N": 49.6596,
          "Group.1": 2127,
          "Inventory_status": 1,
          "Plot_ID": 2,
          "Reference.area.R20m": 0.1256,
          "Unit_ID": 2127,
          "Village": "NA",
          "coverted.to.GS.ha": 57.3678
         },
         "type": "Feature"
        },
        {
         "geometry": {
          "coordinates": [
           [
            10354386.3776,
            5585656.7916
           ],
           [
            10354435.0067,
            5585597.7804
           ],
           [
            10354505.2487,
            5585659.2886
           ]
          ],
          "type": "MultiPoint"
         },
         "properties": {
          "AGB": 156.9423,
          "AGB..DW.": 0,
          "AGB..GS.": 19.7133,
          "AGB.all..M111.": "NA",
          "Administration.Unit": "NA",
          "Count_of_Re_measurement_year": 1,
          "Elevation": 1375.3333,
          "GPS_Field_E": 107.3152,
          "GPS_Field_N": 49.6574,
          "Group.1": 2128,
          "Inventory_status": 1,
          "Plot_ID": 2,
          "Reference.area.R20m": 0.1256,
          "Unit_ID": 2128,
          "Village": "NA",
          "coverted.to.GS.ha": 156.9423
         },
         "type": "Feature"
        },
        {
         "geometry": {
          "coordinates": [
           [
            10367674.2752,
            5585434.5587
           ],
           [
            10367743.4558,
            5585352.3211
           ],
           [
            10367795.076,
            5585432.9772
           ]
          ],
          "type": "MultiPoint"
         },
         "properties": {
          "AGB": 58.9281,
          "AGB..DW.": 0,
          "AGB..GS.": 7.4033,
          "AGB.all..M111.": "NA",
          "Administration.Unit": "NA",
          "Count_of_Re_measurement_year": 1,
          "Elevation": 1019.3333,
          "GPS_Field_E": 107.453,
          "GPS_Field_N": 49.6547,
          "Group.1": 2129,
          "Inventory_status": 1,
          "Plot_ID": 2,
          "Reference.area.R20m": 0.1256,
          "Unit_ID": 2129,
          "Village": "NA",
          "coverted.to.GS.ha": 58.9281
         },
         "type": "Feature"
        },
        {
         "geometry": {
          "coordinates": [
           [
            10370451.7292,
            5585270.6645
           ],
           [
            10370588.7398,
            5585434.5587
           ],
           [
            10370699.2166,
            5585432.9772
           ]
          ],
          "type": "MultiPoint"
         },
         "properties": {
          "AGB": 99.8749,
          "AGB..DW.": 0,
          "AGB..GS.": 12.5433,
          "AGB.all..M111.": "NA",
          "Administration.Unit": "NA",
          "Count_of_Re_measurement_year": 1,
          "Elevation": 962,
          "GPS_Field_E": 107.4824,
          "GPS_Field_N": 49.6543,
          "Group.1": 2130,
          "Inventory_status": 1,
          "Plot_ID": 2,
          "Reference.area.R20m": 0.1256,
          "Unit_ID": 2130,
          "Village": "NA",
          "coverted.to.GS.ha": 99.8749
         },
         "type": "Feature"
        },
        {
         "geometry": {
          "coordinates": [
           [
            10379738.3407,
            5585143.3902
           ],
           [
            10379799.1271,
            5585100.1877
           ],
           [
            10379874.0969,
            5585174.1895
           ]
          ],
          "type": "MultiPoint"
         },
         "properties": {
          "AGB": 141.9435,
          "AGB..DW.": 1.2933,
          "AGB..GS.": 17.8267,
          "AGB.all..M111.": "NA",
          "Administration.Unit": "NA",
          "Count_of_Re_measurement_year": 1,
          "Elevation": 1306.6667,
          "GPS_Field_E": 107.578,
          "GPS_Field_N": 49.6515,
          "Group.1": 2131,
          "Inventory_status": 1,
          "Plot_ID": 2,
          "Reference.area.R20m": 0.1256,
          "Unit_ID": 2131,
          "Village": "NA",
          "coverted.to.GS.ha": 141.9435
         },
         "type": "Feature"
        },
        {
         "geometry": {
          "coordinates": [
           [
            10391765.645,
            5584851.2021
           ],
           [
            10391784.8458,
            5584925.2084
           ],
           [
            10391844.5708,
            5584888.6633
           ]
          ],
          "type": "MultiPoint"
         },
         "properties": {
          "AGB": 103.692,
          "AGB..DW.": 5.86,
          "AGB..GS.": 13.0233,
          "AGB.all..M111.": "NA",
          "Administration.Unit": "NA",
          "Count_of_Re_measurement_year": 1,
          "Elevation": 965.3333,
          "GPS_Field_E": 107.7023,
          "GPS_Field_N": 49.6484,
          "Group.1": 2132,
          "Inventory_status": 1,
          "Plot_ID": 2,
          "Reference.area.R20m": 0.1256,
          "Unit_ID": 2132,
          "Village": "NA",
          "coverted.to.GS.ha": 103.692
         },
         "type": "Feature"
        },
        {
         "geometry": {
          "coordinates": [
           [
            10402475.7186,
            5584687.0349
           ],
           [
            10402485.2708,
            5584762.9589
           ],
           [
            10402546.9255,
            5584765.4564
           ]
          ],
          "type": "MultiPoint"
         },
         "properties": {
          "AGB": 163.7507,
          "AGB..DW.": 0.61,
          "AGB..GS.": 20.57,
          "AGB.all..M111.": "NA",
          "Administration.Unit": "NA",
          "Count_of_Re_measurement_year": 1,
          "Elevation": 1378.3333,
          "GPS_Field_E": 107.8133,
          "GPS_Field_N": 49.6466,
          "Group.1": 2133,
          "Inventory_status": 1,
          "Plot_ID": 2,
          "Reference.area.R20m": 0.1256,
          "Unit_ID": 2133,
          "Village": "NA",
          "coverted.to.GS.ha": 163.7507
         },
         "type": "Feature"
        },
        {
         "geometry": {
          "coordinates": [
           [
            10403823.5355,
            5584760.3782
           ],
           [
            10403827.202,
            5584686.3689
           ],
           [
            10403880.9448,
            5584774.697
           ]
          ],
          "type": "MultiPoint"
         },
         "properties": {
          "AGB": 146.3901,
          "AGB..DW.": 0,
          "AGB..GS.": 18.3867,
          "AGB.all..M111.": "NA",
          "Administration.Unit": "NA",
          "Count_of_Re_measurement_year": 1,
          "Elevation": 1369,
          "GPS_Field_E": 107.8272,
          "GPS_Field_N": 49.6467,
          "Group.1": 2134,
          "Inventory_status": 1,
          "Plot_ID": 2,
          "Reference.area.R20m": 0.1256,
          "Unit_ID": 2134,
          "Village": "NA",
          "coverted.to.GS.ha": 146.3901
         },
         "type": "Feature"
        },
        {
         "geometry": {
          "coordinates": [
           [
            10167183.6002,
            5586407.6336
           ],
           [
            10167238.8868,
            5586355.124
           ],
           [
            10167309.5148,
            5586423.5277
           ]
          ],
          "type": "MultiPoint"
         },
         "properties": {
          "AGB": 65.0341,
          "AGB..DW.": 0,
          "AGB..GS.": 8.17,
          "AGB.all..M111.": "NA",
          "Administration.Unit": "NA",
          "Count_of_Re_measurement_year": 1,
          "Elevation": 1088.6667,
          "GPS_Field_E": 105.375,
          "GPS_Field_N": 49.6665,
          "Group.1": 2146,
          "Inventory_status": 1,
          "Plot_ID": 2,
          "Reference.area.R20m": 0.1256,
          "Unit_ID": 2146,
          "Village": "NA",
          "coverted.to.GS.ha": 65.0341
         },
         "type": "Feature"
        },
        {
         "geometry": {
          "coordinates": [
           [
            10348840.3463,
            5582755.4119
           ],
           [
            10348930.9469,
            5582687.1136
           ],
           [
            10348977.2603,
            5582750.3312
           ]
          ],
          "type": "MultiPoint"
         },
         "properties": {
          "AGB": 94.6383,
          "AGB..DW.": 0,
          "AGB..GS.": 11.8867,
          "AGB.all..M111.": 11.8867,
          "Administration.Unit": "NA",
          "Count_of_Re_measurement_year": 1,
          "Elevation": 1180.3333,
          "GPS_Field_E": 107.2579,
          "GPS_Field_N": 49.6225,
          "Group.1": 2171,
          "Inventory_status": 1,
          "Plot_ID": 2,
          "Reference.area.R20m": 0.1256,
          "Unit_ID": 2171,
          "Village": "NA",
          "coverted.to.GS.ha": 94.6383
         },
         "type": "Feature"
        },
        {
         "geometry": {
          "coordinates": [
           [
            10359439.5571,
            5582434.4831
           ],
           [
            10359514.8164,
            5582438.6479
           ],
           [
            10359534.1137,
            5582521.1938
           ]
          ],
          "type": "MultiPoint"
         },
         "properties": {
          "AGB": 92.6038,
          "AGB..DW.": 0.88,
          "AGB..GS.": 11.6333,
          "AGB.all..M111.": "NA",
          "Administration.Unit": "NA",
          "Count_of_Re_measurement_year": 1,
          "Elevation": 989.3333,
          "GPS_Field_E": 107.3676,
          "GPS_Field_N": 49.6193,
          "Group.1": 2172,
          "Inventory_status": 1,
          "Plot_ID": 2,
          "Reference.area.R20m": 0.1256,
          "Unit_ID": 2172,
          "Village": "NA",
          "coverted.to.GS.ha": 92.6038
         },
         "type": "Feature"
        },
        {
         "geometry": {
          "coordinates": [
           [
            10370203.663,
            5582433.8167
           ],
           [
            10370256.634,
            5582352.8517
           ],
           [
            10370330.253,
            5582412.9092
           ]
          ],
          "type": "MultiPoint"
         },
         "properties": {
          "AGB": 118.1252,
          "AGB..DW.": 1.1967,
          "AGB..GS.": 14.8367,
          "AGB.all..M111.": "NA",
          "Administration.Unit": "NA",
          "Count_of_Re_measurement_year": 1,
          "Elevation": 786.6667,
          "GPS_Field_E": 107.4792,
          "GPS_Field_N": 49.6186,
          "Group.1": 2173,
          "Inventory_status": 1,
          "Plot_ID": 2,
          "Reference.area.R20m": 0.1256,
          "Unit_ID": 2173,
          "Village": "NA",
          "coverted.to.GS.ha": 118.1252
         },
         "type": "Feature"
        },
        {
         "geometry": {
          "coordinates": [
           [
            10386235.8233,
            5582090.6207
           ],
           [
            10386270.4619,
            5582017.2297
           ],
           [
            10386311.6616,
            5582102.1166
           ]
          ],
          "type": "MultiPoint"
         },
         "properties": {
          "AGB": 32.3161,
          "AGB..DW.": 0.74,
          "AGB..GS.": 4.06,
          "AGB.all..M111.": "NA",
          "Administration.Unit": "NA",
          "Count_of_Re_measurement_year": 1,
          "Elevation": 1050.3333,
          "GPS_Field_E": 107.6451,
          "GPS_Field_N": 49.6146,
          "Group.1": 2174,
          "Inventory_status": 1,
          "Plot_ID": 2,
          "Reference.area.R20m": 0.1256,
          "Unit_ID": 2174,
          "Village": "NA",
          "coverted.to.GS.ha": 32.3161
         },
         "type": "Feature"
        },
        {
         "geometry": {
          "coordinates": [
           [
            10211804.2594,
            5545270.5164
           ],
           [
            10211875.6593,
            5545194.8756
           ],
           [
            10211936.7351,
            5545271.1888
           ]
          ],
          "type": "MultiPoint"
         },
         "properties": {
          "AGB": 67.615,
          "AGB..DW.": 0.2267,
          "AGB..GS.": 8.4933,
          "AGB.all..M111.": "NA",
          "Administration.Unit": "NA",
          "Count_of_Re_measurement_year": 1,
          "Elevation": 751.6667,
          "GPS_Field_E": 105.8376,
          "GPS_Field_N": 49.1745,
          "Group.1": 2186,
          "Inventory_status": 1,
          "Plot_ID": 2,
          "Reference.area.R20m": 0.1256,
          "Unit_ID": 2186,
          "Village": "NA",
          "coverted.to.GS.ha": 67.615
         },
         "type": "Feature"
        },
        {
         "geometry": {
          "coordinates": [
           [
            10185796.0931,
            5581778.3041
           ],
           [
            10185863.73,
            5581772.2225
           ],
           [
            10185924.2269,
            5581788.1347
           ]
          ],
          "type": "MultiPoint"
         },
         "properties": {
          "AGB": 135.7083,
          "AGB..DW.": 0,
          "AGB..GS.": 17.0433,
          "AGB.all..M111.": 17.0433,
          "Administration.Unit": "NA",
          "Count_of_Re_measurement_year": 1,
          "Elevation": 1232,
          "GPS_Field_E": 105.568,
          "GPS_Field_N": 49.6111,
          "Group.1": 2195,
          "Inventory_status": 1,
          "Plot_ID": 2,
          "Reference.area.R20m": 0.1256,
          "Unit_ID": 2195,
          "Village": "NA",
          "coverted.to.GS.ha": 135.7083
         },
         "type": "Feature"
        },
        {
         "geometry": {
          "coordinates": [
           [
            10143038.198,
            5581678.9976
           ],
           [
            10143122.4306,
            5581605.6826
           ],
           [
            10143170.3842,
            5581680.7472
           ]
          ],
          "type": "MultiPoint"
         },
         "properties": {
          "AGB": 79.838,
          "AGB..DW.": 0,
          "AGB..GS.": 10.0267,
          "AGB.all..M111.": "NA",
          "Administration.Unit": "NA",
          "Count_of_Re_measurement_year": 1,
          "Elevation": 1241,
          "GPS_Field_E": 105.1249,
          "GPS_Field_N": 49.6096,
          "Group.1": 2207,
          "Inventory_status": 1,
          "Plot_ID": 2,
          "Reference.area.R20m": 0.1256,
          "Unit_ID": 2207,
          "Village": "NA",
          "coverted.to.GS.ha": 79.838
         },
         "type": "Feature"
        },
        {
         "geometry": {
          "coordinates": [
           [
            10355319.7859,
            5579678.9439
           ],
           [
            10355381.6336,
            5579603.9261
           ],
           [
            10355442.7094,
            5579680.5276
           ]
          ],
          "type": "MultiPoint"
         },
         "properties": {
          "AGB": 114.5523,
          "AGB..DW.": 1.19,
          "AGB..GS.": 14.3867,
          "AGB.all..M111.": "NA",
          "Administration.Unit": "NA",
          "Count_of_Re_measurement_year": 1,
          "Elevation": 1153,
          "GPS_Field_E": 107.3249,
          "GPS_Field_N": 49.5856,
          "Group.1": 2208,
          "Inventory_status": 1,
          "Plot_ID": 2,
          "Reference.area.R20m": 0.1256,
          "Unit_ID": 2208,
          "Village": "NA",
          "coverted.to.GS.ha": 114.5523
         },
         "type": "Feature"
        },
        {
         "geometry": {
          "coordinates": [
           [
            10367276.7517,
            5579493.8975
           ],
           [
            10367354.0372,
            5579436.6314
           ],
           [
            10367393.1142,
            5579513.3194
           ]
          ],
          "type": "MultiPoint"
         },
         "properties": {
          "AGB": 137.2784,
          "AGB..DW.": 6.9067,
          "AGB..GS.": 17.2433,
          "AGB.all..M111.": "NA",
          "Administration.Unit": "NA",
          "Count_of_Re_measurement_year": 1,
          "Elevation": 1212,
          "GPS_Field_E": 107.4489,
          "GPS_Field_N": 49.5835,
          "Group.1": 2209,
          "Inventory_status": 1,
          "Plot_ID": 2,
          "Reference.area.R20m": 0.1256,
          "Unit_ID": 2209,
          "Village": "NA",
          "coverted.to.GS.ha": 137.2784
         },
         "type": "Feature"
        },
        {
         "geometry": {
          "coordinates": [
           [
            10391320.3609,
            5579003.901
           ],
           [
            10391382.2086,
            5578937.1243
           ],
           [
            10391452.0646,
            5579015.6556
           ]
          ],
          "type": "MultiPoint"
         },
         "properties": {
          "AGB": 38.7105,
          "AGB..DW.": 0.38,
          "AGB..GS.": 4.8633,
          "AGB.all..M111.": "NA",
          "Administration.Unit": "NA",
          "Count_of_Re_measurement_year": 1,
          "Elevation": 1260.3333,
          "GPS_Field_E": 107.6981,
          "GPS_Field_N": 49.5776,
          "Group.1": 2210,
          "Inventory_status": 1,
          "Plot_ID": 2,
          "Reference.area.R20m": 0.1256,
          "Unit_ID": 2210,
          "Village": "NA",
          "coverted.to.GS.ha": 38.7105
         },
         "type": "Feature"
        },
        {
         "geometry": {
          "coordinates": [
           [
            10403371.5937,
            5578763.7998
           ],
           [
            10403441.4498,
            5578688.6819
           ],
           [
            10403505.5167,
            5578765.3838
           ]
          ],
          "type": "MultiPoint"
         },
         "properties": {
          "AGB": 150.4238,
          "AGB..DW.": 0.4533,
          "AGB..GS.": 18.8933,
          "AGB.all..M111.": 19.3467,
          "Administration.Unit": "NA",
          "Count_of_Re_measurement_year": 1,
          "Elevation": 1043.6667,
          "GPS_Field_E": 107.823,
          "GPS_Field_N": 49.5746,
          "Group.1": 2211,
          "Inventory_status": 1,
          "Plot_ID": 2,
          "Reference.area.R20m": 0.1256,
          "Unit_ID": 2211,
          "Village": "NA",
          "coverted.to.GS.ha": 150.4238
         },
         "type": "Feature"
        },
        {
         "geometry": {
          "coordinates": [
           [
            10364549.4705,
            5576510.5012
           ],
           [
            10364554.5843,
            5576434.4246
           ],
           [
            10364614.9847,
            5576515.2559
           ]
          ],
          "type": "MultiPoint"
         },
         "properties": {
          "AGB": 183.1481,
          "AGB..DW.": 2.1567,
          "AGB..GS.": 23.0033,
          "AGB.all..M111.": "NA",
          "Administration.Unit": "NA",
          "Count_of_Re_measurement_year": 1,
          "Elevation": 997,
          "GPS_Field_E": 107.4202,
          "GPS_Field_N": 49.5476,
          "Group.1": 2234,
          "Inventory_status": 1,
          "Plot_ID": 2,
          "Reference.area.R20m": 0.1256,
          "Unit_ID": 2234,
          "Village": "NA",
          "coverted.to.GS.ha": 183.1481
         },
         "type": "Feature"
        },
        {
         "geometry": {
          "coordinates": [
           [
            10369805.0782,
            5576425.2486
           ],
           [
            10369862.777,
            5576349.4207
           ],
           [
            10369911.4061,
            5576425.2486
           ]
          ],
          "type": "MultiPoint"
         },
         "properties": {
          "AGB": 82.2613,
          "AGB..DW.": 1.0833,
          "AGB..GS.": 10.3333,
          "AGB.all..M111.": "NA",
          "Administration.Unit": "NA",
          "Count_of_Re_measurement_year": 1,
          "Elevation": 1151,
          "GPS_Field_E": 107.475,
          "GPS_Field_N": 49.5466,
          "Group.1": 2235,
          "Inventory_status": 1,
          "Plot_ID": 2,
          "Reference.area.R20m": 0.1256,
          "Unit_ID": 2235,
          "Village": "NA",
          "coverted.to.GS.ha": 82.2613
         },
         "type": "Feature"
        },
        {
         "geometry": {
          "coordinates": [
           [
            10380497.0124,
            5576264.2482
           ],
           [
            10380566.193,
            5576187.4997
           ],
           [
            10380637.5929,
            5576266.7509
           ]
          ],
          "type": "MultiPoint"
         },
         "properties": {
          "AGB": 54.3846,
          "AGB..DW.": 1.2533,
          "AGB..GS.": 6.83,
          "AGB.all..M111.": "NA",
          "Administration.Unit": "NA",
          "Count_of_Re_measurement_year": 1,
          "Elevation": 836.6667,
          "GPS_Field_E": 107.5859,
          "GPS_Field_N": 49.5447,
          "Group.1": 2236,
          "Inventory_status": 1,
          "Plot_ID": 2,
          "Reference.area.R20m": 0.1256,
          "Unit_ID": 2236,
          "Village": "NA",
          "coverted.to.GS.ha": 54.3846
         },
         "type": "Feature"
        },
        {
         "geometry": {
          "coordinates": [
           [
            10385855.2815,
            5576167.4781
           ],
           [
            10385887.7008,
            5576098.4029
           ],
           [
            10385991.5201,
            5576169.3969
           ]
          ],
          "type": "MultiPoint"
         },
         "properties": {
          "AGB": 59.1604,
          "AGB..DW.": 0.1133,
          "AGB..GS.": 7.43,
          "AGB.all..M111.": "NA",
          "Administration.Unit": "NA",
          "Count_of_Re_measurement_year": 1,
          "Elevation": 1327.3333,
          "GPS_Field_E": 107.6413,
          "GPS_Field_N": 49.5435,
          "Group.1": 2237,
          "Inventory_status": 1,
          "Plot_ID": 2,
          "Reference.area.R20m": 0.1256,
          "Unit_ID": 2237,
          "Village": "NA",
          "coverted.to.GS.ha": 59.1604
         },
         "type": "Feature"
        },
        {
         "geometry": {
          "coordinates": [
           [
            10391133.3704,
            5576005.8002
           ],
           [
            10391180.4558,
            5575938.0572
           ],
           [
            10391263.6269,
            5576019.8159
           ]
          ],
          "type": "MultiPoint"
         },
         "properties": {
          "AGB": 46.6903,
          "AGB..DW.": 0.7967,
          "AGB..GS.": 5.8633,
          "AGB.all..M111.": "NA",
          "Administration.Unit": "NA",
          "Count_of_Re_measurement_year": 1,
          "Elevation": 1404.6667,
          "GPS_Field_E": 107.6961,
          "GPS_Field_N": 49.5416,
          "Group.1": 2238,
          "Inventory_status": 1,
          "Plot_ID": 2,
          "Reference.area.R20m": 0.1256,
          "Unit_ID": 2238,
          "Village": "NA",
          "coverted.to.GS.ha": 46.6903
         },
         "type": "Feature"
        },
        {
         "geometry": {
          "coordinates": [
           [
            10110982.5611,
            5575681.174
           ],
           [
            10111093.5204,
            5575600.9938
           ],
           [
            10111167.1394,
            5575674.4993
           ]
          ],
          "type": "MultiPoint"
         },
         "properties": {
          "AGB": 58.4193,
          "AGB..DW.": 0.7167,
          "AGB..GS.": 7.3367,
          "AGB.all..M111.": "NA",
          "Administration.Unit": "NA",
          "Count_of_Re_measurement_year": 1,
          "Elevation": 1270,
          "GPS_Field_E": 104.7929,
          "GPS_Field_N": 49.5376,
          "Group.1": 2261,
          "Inventory_status": 1,
          "Plot_ID": 2,
          "Reference.area.R20m": 0.1256,
          "Unit_ID": 2261,
          "Village": "NA",
          "coverted.to.GS.ha": 58.4193
         },
         "type": "Feature"
        },
        {
         "geometry": {
          "coordinates": [
           [
            10374997.0049,
            5573332.6921
           ],
           [
            10375074.4834,
            5573264.9886
           ],
           [
            10375130.4455,
            5573340.2888
           ]
          ],
          "type": "MultiPoint"
         },
         "properties": {
          "AGB": 113.8257,
          "AGB..DW.": 2.2533,
          "AGB..GS.": 14.2967,
          "AGB.all..M111.": 16.9033,
          "Administration.Unit": "NA",
          "Count_of_Re_measurement_year": 1,
          "Elevation": 1137.6667,
          "GPS_Field_E": 107.5289,
          "GPS_Field_N": 49.5096,
          "Group.1": 2266,
          "Inventory_status": 1,
          "Plot_ID": 2,
          "Reference.area.R20m": 0.1256,
          "Unit_ID": 2266,
          "Village": "NA",
          "coverted.to.GS.ha": 113.8257
         },
         "type": "Feature"
        },
        {
         "geometry": {
          "coordinates": [
           [
            10390919.1709,
            5573008.106
           ],
           [
            10390991.2462,
            5572931.9648
           ],
           [
            10391055.313,
            5573007.1041
           ]
          ],
          "type": "MultiPoint"
         },
         "properties": {
          "AGB": 0,
          "AGB..DW.": 4.0167,
          "AGB..GS.": 0,
          "AGB.all..M111.": "NA",
          "Administration.Unit": "NA",
          "Count_of_Re_measurement_year": 1,
          "Elevation": 1294.3333,
          "GPS_Field_E": 107.6939,
          "GPS_Field_N": 49.5056,
          "Group.1": 2267,
          "Inventory_status": 1,
          "Plot_ID": 2,
          "Reference.area.R20m": 0.1256,
          "Unit_ID": 2267,
          "Village": "NA",
          "coverted.to.GS.ha": 0
         },
         "type": "Feature"
        },
        {
         "geometry": {
          "coordinates": [
           [
            10406943.2264,
            5572671.4712
           ],
           [
            10407003.6268,
            5572593.7374
           ],
           [
            10407076.4739,
            5572671.4712
           ]
          ],
          "type": "MultiPoint"
         },
         "properties": {
          "AGB": 109.4273,
          "AGB..DW.": 0.64,
          "AGB..GS.": 13.7467,
          "AGB.all..M111.": 15.1433,
          "Administration.Unit": "NA",
          "Count_of_Re_measurement_year": 1,
          "Elevation": 1386.6667,
          "GPS_Field_E": 107.86,
          "GPS_Field_N": 49.5016,
          "Group.1": 2268,
          "Inventory_status": 1,
          "Plot_ID": 2,
          "Reference.area.R20m": 0.1256,
          "Unit_ID": 2268,
          "Village": "NA",
          "coverted.to.GS.ha": 109.4273
         },
         "type": "Feature"
        },
        {
         "geometry": {
          "coordinates": [
           [
            10318700.9269,
            5507693.8712
           ],
           [
            10318753.2225,
            5507616.6277
           ],
           [
            10318832.7271,
            5507691.3276
           ]
          ],
          "type": "MultiPoint"
         },
         "properties": {
          "AGB": 27.7753,
          "AGB..DW.": 0.8367,
          "AGB..GS.": 3.49,
          "AGB.all..M111.": "NA",
          "Administration.Unit": "NA",
          "Count_of_Re_measurement_year": 1,
          "Elevation": 1183.3333,
          "GPS_Field_E": 106.9454,
          "GPS_Field_N": 48.7294,
          "Group.1": 2270,
          "Inventory_status": 1,
          "Plot_ID": 2,
          "Reference.area.R20m": 0.1256,
          "Unit_ID": 2270,
          "Village": "NA",
          "coverted.to.GS.ha": 27.7753
         },
         "type": "Feature"
        },
        {
         "geometry": {
          "coordinates": [
           [
            10261817.8263,
            5535780.5441
           ],
           [
            10261883.3405,
            5535704.6488
           ],
           [
            10261946.6355,
            5535781.1337
           ]
          ],
          "type": "MultiPoint"
         },
         "properties": {
          "AGB": 70.9536,
          "AGB..DW.": 2.1967,
          "AGB..GS.": 8.91,
          "AGB.all..M111.": "NA",
          "Administration.Unit": "NA",
          "Count_of_Re_measurement_year": 1,
          "Elevation": 1072,
          "GPS_Field_E": 106.3559,
          "GPS_Field_N": 49.0617,
          "Group.1": 2284,
          "Inventory_status": 1,
          "Plot_ID": 2,
          "Reference.area.R20m": 0.1256,
          "Unit_ID": 2284,
          "Village": "NA",
          "coverted.to.GS.ha": 70.9536
         },
         "type": "Feature"
        },
        {
         "geometry": {
          "coordinates": [
           [
            10131127.1597,
            5574918.5229
           ],
           [
            10131161.0264,
            5574847.5074
           ],
           [
            10131252.3024,
            5574926.7843
           ]
          ],
          "type": "MultiPoint"
         },
         "properties": {
          "AGB": 86.7617,
          "AGB..DW.": 0,
          "AGB..GS.": 10.8967,
          "AGB.all..M111.": "NA",
          "Administration.Unit": "NA",
          "Count_of_Re_measurement_year": 1,
          "Elevation": 1363.6667,
          "GPS_Field_E": 105.0013,
          "GPS_Field_N": 49.5286,
          "Group.1": 2289,
          "Inventory_status": 1,
          "Plot_ID": 2,
          "Reference.area.R20m": 0.1256,
          "Unit_ID": 2289,
          "Village": "NA",
          "coverted.to.GS.ha": 86.7617
         },
         "type": "Feature"
        },
        {
         "geometry": {
          "coordinates": [
           [
            10378952.8459,
            5572498.4676
           ],
           [
            10379025.6931,
            5572426.826
           ],
           [
            10379082.234,
            5572496.8812
           ]
          ],
          "type": "MultiPoint"
         },
         "properties": {
          "AGB": 30.5163,
          "AGB..DW.": 1.6967,
          "AGB..GS.": 3.8333,
          "AGB.all..M111.": "NA",
          "Administration.Unit": "NA",
          "Count_of_Re_measurement_year": 1,
          "Elevation": 691.3333,
          "GPS_Field_E": 107.5699,
          "GPS_Field_N": 49.4995,
          "Group.1": 2296,
          "Inventory_status": 1,
          "Plot_ID": 2,
          "Reference.area.R20m": 0.1256,
          "Unit_ID": 2296,
          "Village": "NA",
          "coverted.to.GS.ha": 30.5163
         },
         "type": "Feature"
        },
        {
         "geometry": {
          "coordinates": [
           [
            10390933.8368,
            5572255.8163
           ],
           [
            10390997.1318,
            5572178.6592
           ],
           [
            10391070.0754,
            5572254.8143
           ]
          ],
          "type": "MultiPoint"
         },
         "properties": {
          "AGB": 21.753,
          "AGB..DW.": 4.1667,
          "AGB..GS.": 2.7333,
          "AGB.all..M111.": 10.7733,
          "Administration.Unit": "NA",
          "Count_of_Re_measurement_year": 1,
          "Elevation": 1291,
          "GPS_Field_E": 107.6941,
          "GPS_Field_N": 49.4966,
          "Group.1": 2297,
          "Inventory_status": 1,
          "Plot_ID": 2,
          "Reference.area.R20m": 0.1256,
          "Unit_ID": 2297,
          "Village": "NA",
          "coverted.to.GS.ha": 21.753
         },
         "type": "Feature"
        },
        {
         "geometry": {
          "coordinates": [
           [
            10169687.9016,
            5572588.9781
           ],
           [
            10169749.7493,
            5572515.4176
           ],
           [
            10169816.8073,
            5572587.0577
           ]
          ],
          "type": "MultiPoint"
         },
         "properties": {
          "AGB": 162.9911,
          "AGB..DW.": 0,
          "AGB..GS.": 20.4733,
          "AGB.all..M111.": 20.4733,
          "Administration.Unit": "NA",
          "Count_of_Re_measurement_year": 1,
          "Elevation": 1192.6667,
          "GPS_Field_E": 105.401,
          "GPS_Field_N": 49.5006,
          "Group.1": 2328,
          "Inventory_status": 1,
          "Plot_ID": 2,
          "Reference.area.R20m": 0.1256,
          "Unit_ID": 2328,
          "Village": "NA",
          "coverted.to.GS.ha": 162.9911
         },
         "type": "Feature"
        },
        {
         "geometry": {
          "coordinates": [
           [
            8840028.3234,
            5602676.1303
           ],
           [
            8840089.4957,
            5602599.0474
           ],
           [
            8840166.7813,
            5602676.1303
           ]
          ],
          "type": "MultiPoint"
         },
         "properties": {
          "AGB": 103.3929,
          "AGB..DW.": 0,
          "AGB..GS.": 12.9867,
          "AGB.all..M111.": "NA",
          "Administration.Unit": "NA",
          "Count_of_Re_measurement_year": 0,
          "Elevation": 2247.3333,
          "GPS_Field_E": 91.6202,
          "GPS_Field_N": 49.8623,
          "Group.1": 2339,
          "Inventory_status": 1,
          "Plot_ID": 2,
          "Reference.area.R20m": 0.1256,
          "Unit_ID": 2339,
          "Village": "NA",
          "coverted.to.GS.ha": 103.3929
         },
         "type": "Feature"
        },
        {
         "geometry": {
          "coordinates": [
           [
            10100571.788,
            5566498.3196
           ],
           [
            10100690.2731,
            5566552.5878
           ],
           [
            10100710.9212,
            5566479.2544
           ]
          ],
          "type": "MultiPoint"
         },
         "properties": {
          "AGB": 77.3391,
          "AGB..DW.": 4.07,
          "AGB..GS.": 9.71,
          "AGB.all..M111.": "NA",
          "Administration.Unit": "NA",
          "Count_of_Re_measurement_year": 1,
          "Elevation": 1465.6667,
          "GPS_Field_E": 104.6849,
          "GPS_Field_N": 49.4282,
          "Group.1": 2403,
          "Inventory_status": 1,
          "Plot_ID": 2,
          "Reference.area.R20m": 0.1256,
          "Unit_ID": 2403,
          "Village": "NA",
          "coverted.to.GS.ha": 77.3391
         },
         "type": "Feature"
        },
        {
         "geometry": {
          "coordinates": [
           [
            9148561.8264,
            5559519.5808
           ],
           [
            9148635.4454,
            5559444.1969
           ],
           [
            9148698.7404,
            5559515.4766
           ]
          ],
          "type": "MultiPoint"
         },
         "properties": {
          "AGB": 0,
          "AGB..DW.": 0,
          "AGB..GS.": 0,
          "AGB.all..M111.": "NA",
          "Administration.Unit": "NA",
          "Count_of_Re_measurement_year": 0,
          "Elevation": 2174,
          "GPS_Field_E": 94.818,
          "GPS_Field_N": 49.3443,
          "Group.1": 2415,
          "Inventory_status": 1,
          "Plot_ID": 2,
          "Reference.area.R20m": 0.1256,
          "Unit_ID": 2415,
          "Village": "NA",
          "coverted.to.GS.ha": 0
         },
         "type": "Feature"
        },
        {
         "geometry": {
          "coordinates": [
           [
            9163668.0079,
            5584091.8319
           ],
           [
            9163716.637,
            5584016.8947
           ],
           [
            9163789.4841,
            5584090.2499
           ]
          ],
          "type": "MultiPoint"
         },
         "properties": {
          "AGB": 73.9843,
          "AGB..DW.": 6.2,
          "AGB..GS.": 9.2933,
          "AGB.all..M111.": "NA",
          "Administration.Unit": "NA",
          "Count_of_Re_measurement_year": 0,
          "Elevation": 1516.6667,
          "GPS_Field_E": 94.9744,
          "GPS_Field_N": 49.6386,
          "Group.1": 2455,
          "Inventory_status": 1,
          "Plot_ID": 2,
          "Reference.area.R20m": 0.1256,
          "Unit_ID": 2455,
          "Village": "NA",
          "coverted.to.GS.ha": 73.9843
         },
         "type": "Feature"
        },
        {
         "geometry": {
          "coordinates": [
           [
            9191738.1825,
            5583550.5877
           ],
           [
            9191763.2689,
            5583502.2885
           ],
           [
            9191763.2689,
            5583574.737
           ]
          ],
          "type": "MultiPoint"
         },
         "properties": {
          "AGB": 31.2687,
          "AGB..DW.": 3.7667,
          "AGB..GS.": 3.9267,
          "AGB.all..M111.": "NA",
          "Administration.Unit": "NA",
          "Count_of_Re_measurement_year": 0,
          "Elevation": 1514.6667,
          "GPS_Field_E": 95.2649,
          "GPS_Field_N": 49.6323,
          "Group.1": 2458,
          "Inventory_status": 1,
          "Plot_ID": 2,
          "Reference.area.R20m": 0.1256,
          "Unit_ID": 2458,
          "Village": "NA",
          "coverted.to.GS.ha": 31.2687
         },
         "type": "Feature"
        },
        {
         "geometry": {
          "coordinates": [
           [
            9171072.751,
            5571607.535
           ],
           [
            9171133.8268,
            5571526.6075
           ],
           [
            9171205.9985,
            5571600.8538
           ]
          ],
          "type": "MultiPoint"
         },
         "properties": {
          "AGB": 54.6947,
          "AGB..DW.": 2.1133,
          "AGB..GS.": 6.87,
          "AGB.all..M111.": "NA",
          "Administration.Unit": "NA",
          "Count_of_Re_measurement_year": 0,
          "Elevation": 1765,
          "GPS_Field_E": 95.0512,
          "GPS_Field_N": 49.4888,
          "Group.1": 2461,
          "Inventory_status": 1,
          "Plot_ID": 2,
          "Reference.area.R20m": 0.1256,
          "Unit_ID": 2461,
          "Village": "NA",
          "coverted.to.GS.ha": 54.6947
         },
         "type": "Feature"
        },
        {
         "geometry": {
          "coordinates": [
           [
            8871471.4654,
            5633033.4834
           ],
           [
            8871535.5323,
            5632959.45
           ],
           [
            8871604.0376,
            5633034.4705
           ]
          ],
          "type": "MultiPoint"
         },
         "properties": {
          "AGB": 0,
          "AGB..DW.": 0,
          "AGB..GS.": 0,
          "AGB.all..M111.": "NA",
          "Administration.Unit": "NA",
          "Count_of_Re_measurement_year": 0,
          "Elevation": 848.6667,
          "GPS_Field_E": 91.9461,
          "GPS_Field_N": 50.2299,
          "Group.1": 2466,
          "Inventory_status": 1,
          "Plot_ID": 2,
          "Reference.area.R20m": 0.1256,
          "Unit_ID": 2466,
          "Village": "NA",
          "coverted.to.GS.ha": 0
         },
         "type": "Feature"
        },
        {
         "geometry": {
          "coordinates": [
           [
            9193993.7423,
            5589225.266
           ],
           [
            9194067.3613,
            5589148.4268
           ],
           [
            9194133.5509,
            5589222.6881
           ]
          ],
          "type": "MultiPoint"
         },
         "properties": {
          "AGB": 30.8638,
          "AGB..DW.": 3.8667,
          "AGB..GS.": 3.8767,
          "AGB.all..M111.": "NA",
          "Administration.Unit": "NA",
          "Count_of_Re_measurement_year": 0,
          "Elevation": 1560,
          "GPS_Field_E": 95.2888,
          "GPS_Field_N": 49.7002,
          "Group.1": 2467,
          "Inventory_status": 1,
          "Plot_ID": 2,
          "Reference.area.R20m": 0.1256,
          "Unit_ID": 2467,
          "Village": "NA",
          "coverted.to.GS.ha": 30.8638
         },
         "type": "Feature"
        },
        {
         "geometry": {
          "coordinates": [
           [
            9122759.6583,
            5569935.2135
           ],
           [
            9122813.4012,
            5569856.8434
           ],
           [
            9122892.9059,
            5569933.626
           ]
          ],
          "type": "MultiPoint"
         },
         "properties": {
          "AGB": 210.3747,
          "AGB..DW.": 2.45,
          "AGB..GS.": 26.4233,
          "AGB.all..M111.": 29.3,
          "Administration.Unit": "NA",
          "Count_of_Re_measurement_year": 0,
          "Elevation": 2030.3333,
          "GPS_Field_E": 94.5505,
          "GPS_Field_N": 49.4688,
          "Group.1": 2500,
          "Inventory_status": 1,
          "Plot_ID": 2,
          "Reference.area.R20m": 0.1256,
          "Unit_ID": 2500,
          "Village": "NA",
          "coverted.to.GS.ha": 210.3747
         },
         "type": "Feature"
        },
        {
         "geometry": {
          "coordinates": [
           [
            9159291.6797,
            5576289.358
           ],
           [
            9159352.852,
            5576222.5372
           ],
           [
            9159417.5943,
            5576300.2027
           ]
          ],
          "type": "MultiPoint"
         },
         "properties": {
          "AGB": 210.7609,
          "AGB..DW.": 2.4567,
          "AGB..GS.": 26.4733,
          "AGB.all..M111.": "NA",
          "Administration.Unit": "NA",
          "Count_of_Re_measurement_year": 0,
          "Elevation": 1550,
          "GPS_Field_E": 94.9291,
          "GPS_Field_N": 49.545,
          "Group.1": 2505,
          "Inventory_status": 1,
          "Plot_ID": 2,
          "Reference.area.R20m": 0.1256,
          "Unit_ID": 2505,
          "Village": "NA",
          "coverted.to.GS.ha": 210.7609
         },
         "type": "Feature"
        },
        {
         "geometry": {
          "coordinates": [
           [
            9185344.1332,
            5575876.2365
           ],
           [
            9185347.1243,
            5575805.6546
           ],
           [
            9185375.1053,
            5575836.5239
           ]
          ],
          "type": "MultiPoint"
         },
         "properties": {
          "AGB": 253.546,
          "AGB..DW.": 0.8133,
          "AGB..GS.": 31.8433,
          "AGB.all..M111.": "NA",
          "Administration.Unit": "NA",
          "Count_of_Re_measurement_year": 0,
          "Elevation": 1769.6667,
          "GPS_Field_E": 95.1986,
          "GPS_Field_N": 49.5399,
          "Group.1": 2532,
          "Inventory_status": 1,
          "Plot_ID": 2,
          "Reference.area.R20m": 0.1256,
          "Unit_ID": 2532,
          "Village": "NA",
          "coverted.to.GS.ha": 253.546
         },
         "type": "Feature"
        },
        {
         "geometry": {
          "coordinates": [
           [
            8865287.9492,
            5636320.9805
           ],
           [
            8865356.4544,
            5636289.0083
           ],
           [
            8865436.731,
            5636329.1173
           ]
          ],
          "type": "MultiPoint"
         },
         "properties": {
          "AGB": 0,
          "AGB..DW.": 0,
          "AGB..GS.": 0,
          "AGB.all..M111.": "NA",
          "Administration.Unit": "NA",
          "Count_of_Re_measurement_year": 0,
          "Elevation": 845,
          "GPS_Field_E": 91.8821,
          "GPS_Field_N": 50.2701,
          "Group.1": 2537,
          "Inventory_status": 1,
          "Plot_ID": 2,
          "Reference.area.R20m": 0.1256,
          "Unit_ID": 2537,
          "Village": "NA",
          "coverted.to.GS.ha": 0
         },
         "type": "Feature"
        },
        {
         "geometry": {
          "coordinates": [
           [
            9126999.8444,
            5568818.007
           ],
           [
            9127060.1483,
            5568746.218
           ],
           [
            9127142.6441,
            5568814.7477
           ]
          ],
          "type": "MultiPoint"
         },
         "properties": {
          "AGB": 153.0657,
          "AGB..DW.": 1.5433,
          "AGB..GS.": 19.2233,
          "AGB.all..M111.": "NA",
          "Administration.Unit": "NA",
          "Count_of_Re_measurement_year": 0,
          "Elevation": 2056,
          "GPS_Field_E": 94.5945,
          "GPS_Field_N": 49.4555,
          "Group.1": 2541,
          "Inventory_status": 1,
          "Plot_ID": 2,
          "Reference.area.R20m": 0.1256,
          "Unit_ID": 2541,
          "Village": "NA",
          "coverted.to.GS.ha": 153.0657
         },
         "type": "Feature"
        },
        {
         "geometry": {
          "coordinates": [
           [
            9177623.5905,
            5582757.6608
           ],
           [
            9177683.219,
            5582681.0333
           ],
           [
            9177758.2853,
            5582755.995
           ]
          ],
          "type": "MultiPoint"
         },
         "properties": {
          "AGB": 119.3827,
          "AGB..DW.": 1.3933,
          "AGB..GS.": 14.9933,
          "AGB.all..M111.": "NA",
          "Administration.Unit": "NA",
          "Count_of_Re_measurement_year": 0,
          "Elevation": 1784,
          "GPS_Field_E": 95.1191,
          "GPS_Field_N": 49.6225,
          "Group.1": 2542,
          "Inventory_status": 1,
          "Plot_ID": 2,
          "Reference.area.R20m": 0.1256,
          "Unit_ID": 2542,
          "Village": "NA",
          "coverted.to.GS.ha": 119.3827
         },
         "type": "Feature"
        },
        {
         "geometry": {
          "coordinates": [
           [
            10457545.7455,
            5546311.6998
           ],
           [
            10457679.6685,
            5546311.6998
           ]
          ],
          "type": "MultiPoint"
         },
         "properties": {
          "AGB": 89.537,
          "AGB..DW.": 2.585,
          "AGB..GS.": 11.245,
          "AGB.all..M111.": 17.015,
          "Administration.Unit": "NA",
          "Count_of_Re_measurement_year": 1,
          "Elevation": 1200.5,
          "GPS_Field_E": 108.3845,
          "GPS_Field_N": 49.1872,
          "Group.1": 2550,
          "Inventory_status": 1,
          "Plot_ID": 2.5,
          "Reference.area.R20m": 0.1256,
          "Unit_ID": 2550,
          "Village": "NA",
          "coverted.to.GS.ha": 89.537
         },
         "type": "Feature"
        },
        {
         "geometry": {
          "coordinates": [
           [
            8867372.7282,
            5634114.3778
           ],
           [
            8867447.0227,
            5634037.2396
           ],
           [
            8867511.0896,
            5634115.9403
           ]
          ],
          "type": "MultiPoint"
         },
         "properties": {
          "AGB": 0,
          "AGB..DW.": 0,
          "AGB..GS.": 0,
          "AGB.all..M111.": "NA",
          "Administration.Unit": "NA",
          "Count_of_Re_measurement_year": 0,
          "Elevation": 863.6667,
          "GPS_Field_E": 91.9037,
          "GPS_Field_N": 50.2431,
          "Group.1": 2592,
          "Inventory_status": 1,
          "Plot_ID": 2,
          "Reference.area.R20m": 0.1256,
          "Unit_ID": 2592,
          "Village": "NA",
          "coverted.to.GS.ha": 0
         },
         "type": "Feature"
        },
        {
         "geometry": {
          "coordinates": [
           [
            9183661.316,
            5582571.087
           ],
           [
            9183681.964,
            5582572.6696
           ],
           [
            9183694.5072,
            5582582.8314
           ]
          ],
          "type": "MultiPoint"
         },
         "properties": {
          "AGB": 72.6192,
          "AGB..DW.": 0.3,
          "AGB..GS.": 9.12,
          "AGB.all..M111.": 9.5567,
          "Administration.Unit": "NA",
          "Count_of_Re_measurement_year": 0,
          "Elevation": 1793.3333,
          "GPS_Field_E": 95.1812,
          "GPS_Field_N": 49.6207,
          "Group.1": 2593,
          "Inventory_status": 1,
          "Plot_ID": 2,
          "Reference.area.R20m": 0.1256,
          "Unit_ID": 2593,
          "Village": "NA",
          "coverted.to.GS.ha": 72.6192
         },
         "type": "Feature"
        },
        {
         "geometry": {
          "coordinates": [
           [
            9207014.3728,
            5571001.1669
           ],
           [
            9207073.3259,
            5570923.4016
           ],
           [
            9207142.5066,
            5570999.5798
           ]
          ],
          "type": "MultiPoint"
         },
         "properties": {
          "AGB": 90.3459,
          "AGB..DW.": 6.3733,
          "AGB..GS.": 11.3467,
          "AGB.all..M111.": 18.5333,
          "Administration.Unit": "NA",
          "Count_of_Re_measurement_year": 0,
          "Elevation": 1834.6667,
          "GPS_Field_E": 95.4237,
          "GPS_Field_N": 49.4816,
          "Group.1": 2594,
          "Inventory_status": 1,
          "Plot_ID": 2,
          "Reference.area.R20m": 0.1256,
          "Unit_ID": 2594,
          "Village": "NA",
          "coverted.to.GS.ha": 90.3459
         },
         "type": "Feature"
        },
        {
         "geometry": {
          "coordinates": [
           [
            8838743.0297,
            5640499.7101
           ],
           [
            8838812.3068,
            5640426.7194
           ],
           [
            8838881.4875,
            5640500.6953
           ]
          ],
          "type": "MultiPoint"
         },
         "properties": {
          "AGB": 12.1938,
          "AGB..DW.": 0,
          "AGB..GS.": 1.53,
          "AGB.all..M111.": "NA",
          "Administration.Unit": "NA",
          "Count_of_Re_measurement_year": 0,
          "Elevation": 1118.6667,
          "GPS_Field_E": 91.6069,
          "GPS_Field_N": 50.3208,
          "Group.1": 2595,
          "Inventory_status": 1,
          "Plot_ID": 2,
          "Reference.area.R20m": 0.1256,
          "Unit_ID": 2595,
          "Village": "NA",
          "coverted.to.GS.ha": 12.1938
         },
         "type": "Feature"
        },
        {
         "geometry": {
          "coordinates": [
           [
            9157130.387,
            5572936.1392
           ],
           [
            9157204.7779,
            5572861.917
           ],
           [
            9157268.0729,
            5572946.9093
           ]
          ],
          "type": "MultiPoint"
         },
         "properties": {
          "AGB": 195.993,
          "AGB..DW.": 1.7567,
          "AGB..GS.": 24.6167,
          "AGB.all..M111.": 28.6433,
          "Administration.Unit": "NA",
          "Count_of_Re_measurement_year": 0,
          "Elevation": 1699,
          "GPS_Field_E": 94.9068,
          "GPS_Field_N": 49.5048,
          "Group.1": 2597,
          "Inventory_status": 1,
          "Plot_ID": 2,
          "Reference.area.R20m": 0.1256,
          "Unit_ID": 2597,
          "Village": "NA",
          "coverted.to.GS.ha": 195.993
         },
         "type": "Feature"
        },
        {
         "geometry": {
          "coordinates": [
           [
            9166813.4606,
            5566036.8021
           ],
           [
            9166874.6329,
            5565955.7657
           ],
           [
            9166944.489,
            5566030.6973
           ]
          ],
          "type": "MultiPoint"
         },
         "properties": {
          "AGB": 240.7542,
          "AGB..DW.": 0.4133,
          "AGB..GS.": 30.24,
          "AGB.all..M111.": 31.63,
          "Administration.Unit": "NA",
          "Count_of_Re_measurement_year": 0,
          "Elevation": 1964,
          "GPS_Field_E": 95.0071,
          "GPS_Field_N": 49.4222,
          "Group.1": 2600,
          "Inventory_status": 1,
          "Plot_ID": 2,
          "Reference.area.R20m": 0.1256,
          "Unit_ID": 2600,
          "Village": "NA",
          "coverted.to.GS.ha": 240.7542
         },
         "type": "Feature"
        },
        {
         "geometry": {
          "coordinates": [
           [
            10389674.3049,
            5551991.0587
           ],
           [
            10389739.8191,
            5551908.1546
           ],
           [
            10389745.7048,
            5551992.653
           ]
          ],
          "type": "MultiPoint"
         },
         "properties": {
          "AGB": 138.1874,
          "AGB..DW.": 0.3267,
          "AGB..GS.": 17.3567,
          "AGB.all..M111.": 18.12,
          "Administration.Unit": "NA",
          "Count_of_Re_measurement_year": 1,
          "Elevation": 1413.6667,
          "GPS_Field_E": 107.6808,
          "GPS_Field_N": 49.2545,
          "Group.1": 2679,
          "Inventory_status": 1,
          "Plot_ID": 2,
          "Reference.area.R20m": 0.1256,
          "Unit_ID": 2679,
          "Village": "NA",
          "coverted.to.GS.ha": 138.1874
         },
         "type": "Feature"
        },
        {
         "geometry": {
          "coordinates": [
           [
            10401535.6528,
            5551747.7961
           ],
           [
            10401603.3862,
            5551669.6704
           ],
           [
            10401667.3566,
            5551722.5376
           ]
          ],
          "type": "MultiPoint"
         },
         "properties": {
          "AGB": 104.4265,
          "AGB..DW.": 1.3833,
          "AGB..GS.": 13.1167,
          "AGB.all..M111.": 15.9167,
          "Administration.Unit": "NA",
          "Count_of_Re_measurement_year": 1,
          "Elevation": 1351.3333,
          "GPS_Field_E": 107.804,
          "GPS_Field_N": 49.2515,
          "Group.1": 2680,
          "Inventory_status": 1,
          "Plot_ID": 2,
          "Reference.area.R20m": 0.1256,
          "Unit_ID": 2680,
          "Village": "NA",
          "coverted.to.GS.ha": 104.4265
         },
         "type": "Feature"
        },
        {
         "geometry": {
          "coordinates": [
           [
            9145087.259,
            5570814.1436
           ],
           [
            9145118.2311,
            5570774.9671
           ],
           [
            9145196.9639,
            5570850.1456
           ]
          ],
          "type": "MultiPoint"
         },
         "properties": {
          "AGB": 115.4301,
          "AGB..DW.": 0.4867,
          "AGB..GS.": 14.4967,
          "AGB.all..M111.": "NA",
          "Administration.Unit": "NA",
          "Count_of_Re_measurement_year": 0,
          "Elevation": 1736,
          "GPS_Field_E": 94.7817,
          "GPS_Field_N": 49.4796,
          "Group.1": 2690,
          "Inventory_status": 1,
          "Plot_ID": 2,
          "Reference.area.R20m": 0.1256,
          "Unit_ID": 2690,
          "Village": "NA",
          "coverted.to.GS.ha": 115.4301
         },
         "type": "Feature"
        },
        {
         "geometry": {
          "coordinates": [
           [
            8863264.3424,
            5638438.3757
           ],
           [
            8863332.8477,
            5638514.196
           ]
          ],
          "type": "MultiPoint"
         },
         "properties": {
          "AGB": 0,
          "AGB..DW.": 0,
          "AGB..GS.": 0,
          "AGB.all..M111.": "NA",
          "Administration.Unit": "NA",
          "Count_of_Re_measurement_year": 0,
          "Elevation": 884.5,
          "GPS_Field_E": 91.8607,
          "GPS_Field_N": 50.2964,
          "Group.1": 2691,
          "Inventory_status": 1,
          "Plot_ID": 1.5,
          "Reference.area.R20m": 0.1256,
          "Unit_ID": 2691,
          "Village": "NA",
          "coverted.to.GS.ha": 0
         },
         "type": "Feature"
        },
        {
         "geometry": {
          "coordinates": [
           [
            10471500.5562,
            5547466.1121
           ],
           [
            10471561.632,
            5547387.9067
           ],
           [
            10471633.8038,
            5547460.988
           ]
          ],
          "type": "MultiPoint"
         },
         "properties": {
          "AGB": 82.6202,
          "AGB..DW.": 0.5433,
          "AGB..GS.": 10.3733,
          "AGB.all..M111.": 11.8767,
          "Administration.Unit": "NA",
          "Count_of_Re_measurement_year": 1,
          "Elevation": 1187.3333,
          "GPS_Field_E": 108.5291,
          "GPS_Field_N": 49.2006,
          "Group.1": 2708,
          "Inventory_status": 1,
          "Plot_ID": 2,
          "Reference.area.R20m": 0.1256,
          "Unit_ID": 2708,
          "Village": "NA",
          "coverted.to.GS.ha": 82.6202
         },
         "type": "Feature"
        },
        {
         "geometry": {
          "coordinates": [
           [
            8799734.6879,
            5648888.3092
           ],
           [
            8799800.2021,
            5648887.6538
           ],
           [
            8799811.2981,
            5648825.1418
           ]
          ],
          "type": "MultiPoint"
         },
         "properties": {
          "AGB": 123.0391,
          "AGB..DW.": 0.1933,
          "AGB..GS.": 15.4533,
          "AGB.all..M111.": 16.04,
          "Administration.Unit": "NA",
          "Count_of_Re_measurement_year": 0,
          "Elevation": 2033.3333,
          "GPS_Field_E": 91.2024,
          "GPS_Field_N": 50.4231,
          "Group.1": 2715,
          "Inventory_status": 1,
          "Plot_ID": 2,
          "Reference.area.R20m": 0.1256,
          "Unit_ID": 2715,
          "Village": "NA",
          "coverted.to.GS.ha": 123.0391
         },
         "type": "Feature"
        },
        {
         "geometry": {
          "coordinates": [
           [
            10394692.5564,
            5548886.9957
           ],
           [
            10394758.0705,
            5548814.8629
           ],
           [
            10394825.8039,
            5548889.5149
           ]
          ],
          "type": "MultiPoint"
         },
         "properties": {
          "AGB": 105.334,
          "AGB..DW.": 1.9867,
          "AGB..GS.": 13.23,
          "AGB.all..M111.": 17.22,
          "Administration.Unit": "NA",
          "Count_of_Re_measurement_year": 1,
          "Elevation": 1284.6667,
          "GPS_Field_E": 107.733,
          "GPS_Field_N": 49.2176,
          "Group.1": 2744,
          "Inventory_status": 1,
          "Plot_ID": 2,
          "Reference.area.R20m": 0.1256,
          "Unit_ID": 2744,
          "Village": "NA",
          "coverted.to.GS.ha": 105.334
         },
         "type": "Feature"
        },
        {
         "geometry": {
          "coordinates": [
           [
            10405236.1911,
            5548640.9497
           ],
           [
            10405370.1141,
            5548639.3541
           ],
           [
            10405370.886,
            5548564.3617
           ]
          ],
          "type": "MultiPoint"
         },
         "properties": {
          "AGB": 40.4233,
          "AGB..DW.": 0.23,
          "AGB..GS.": 5.0767,
          "AGB.all..M111.": 5.6733,
          "Administration.Unit": "NA",
          "Count_of_Re_measurement_year": 1,
          "Elevation": 913.6667,
          "GPS_Field_E": 107.8425,
          "GPS_Field_N": 49.2146,
          "Group.1": 2745,
          "Inventory_status": 1,
          "Plot_ID": 2,
          "Reference.area.R20m": 0.1256,
          "Unit_ID": 2745,
          "Village": "NA",
          "coverted.to.GS.ha": 40.4233
         },
         "type": "Feature"
        },
        {
         "geometry": {
          "coordinates": [
           [
            10410622.4412,
            5548550.2533
           ],
           [
            10410680.6224,
            5548476.2671
           ],
           [
            10410754.2415,
            5548550.9251
           ]
          ],
          "type": "MultiPoint"
         },
         "properties": {
          "AGB": 80.1952,
          "AGB..DW.": 0.5967,
          "AGB..GS.": 10.07,
          "AGB.all..M111.": "NA",
          "Administration.Unit": "NA",
          "Count_of_Re_measurement_year": 1,
          "Elevation": 1413,
          "GPS_Field_E": 107.8981,
          "GPS_Field_N": 49.2135,
          "Group.1": 2746,
          "Inventory_status": 1,
          "Plot_ID": 2,
          "Reference.area.R20m": 0.1256,
          "Unit_ID": 2746,
          "Village": "NA",
          "coverted.to.GS.ha": 80.1952
         },
         "type": "Feature"
        },
        {
         "geometry": {
          "coordinates": [
           [
            10415856.3395,
            5548389.7663
           ],
           [
            10415920.4064,
            5548389.7663
           ],
           [
            10415986.596,
            5548313.5097
           ]
          ],
          "type": "MultiPoint"
         },
         "properties": {
          "AGB": 128.6923,
          "AGB..DW.": 0.19,
          "AGB..GS.": 16.16,
          "AGB.all..M111.": "NA",
          "Administration.Unit": "NA",
          "Count_of_Re_measurement_year": 1,
          "Elevation": 1556,
          "GPS_Field_E": 107.9524,
          "GPS_Field_N": 49.2116,
          "Group.1": 2747,
          "Inventory_status": 1,
          "Plot_ID": 2,
          "Reference.area.R20m": 0.1256,
          "Unit_ID": 2747,
          "Village": "NA",
          "coverted.to.GS.ha": 128.6923
         },
         "type": "Feature"
        },
        {
         "geometry": {
          "coordinates": [
           [
            9198900.745,
            5567690.5514
           ],
           [
            9198973.5922,
            5567767.3742
           ],
           [
            9199039.8782,
            5567764.8664
           ]
          ],
          "type": "MultiPoint"
         },
         "properties": {
          "AGB": 296.4596,
          "AGB..DW.": 2.5233,
          "AGB..GS.": 37.2367,
          "AGB.all..M111.": 40.9133,
          "Administration.Unit": "NA",
          "Count_of_Re_measurement_year": 0,
          "Elevation": 2098.3333,
          "GPS_Field_E": 95.3397,
          "GPS_Field_N": 49.4429,
          "Group.1": 2755,
          "Inventory_status": 1,
          "Plot_ID": 2,
          "Reference.area.R20m": 0.1256,
          "Unit_ID": 2755,
          "Village": "NA",
          "coverted.to.GS.ha": 296.4596
         },
         "type": "Feature"
        },
        {
         "geometry": {
          "coordinates": [
           [
            9122761.2021,
            5562110.0324
           ],
           [
            9122824.4971,
            5562026.4082
           ],
           [
            9122892.9059,
            5562105.2611
           ]
          ],
          "type": "MultiPoint"
         },
         "properties": {
          "AGB": 281.4554,
          "AGB..DW.": 1.1767,
          "AGB..GS.": 35.35,
          "AGB.all..M111.": "NA",
          "Administration.Unit": "NA",
          "Count_of_Re_measurement_year": 0,
          "Elevation": 2171.6667,
          "GPS_Field_E": 94.5505,
          "GPS_Field_N": 49.3752,
          "Group.1": 2758,
          "Inventory_status": 1,
          "Plot_ID": 2,
          "Reference.area.R20m": 0.1256,
          "Unit_ID": 2758,
          "Village": "NA",
          "coverted.to.GS.ha": 281.4554
         },
         "type": "Feature"
        },
        {
         "geometry": {
          "coordinates": [
           [
            10389196.8908,
            5545194.7075
           ],
           [
            10389254.7826,
            5545120.7463
           ],
           [
            10389328.1121,
            5545193.8671
           ]
          ],
          "type": "MultiPoint"
         },
         "properties": {
          "AGB": 115.3583,
          "AGB..DW.": 0,
          "AGB..GS.": 14.49,
          "AGB.all..M111.": 14.49,
          "Administration.Unit": "NA",
          "Count_of_Re_measurement_year": 1,
          "Elevation": 1318.3333,
          "GPS_Field_E": 107.676,
          "GPS_Field_N": 49.1736,
          "Group.1": 2830,
          "Inventory_status": 1,
          "Plot_ID": 2,
          "Reference.area.R20m": 0.1256,
          "Unit_ID": 2830,
          "Village": "NA",
          "coverted.to.GS.ha": 115.3583
         },
         "type": "Feature"
        },
        {
         "geometry": {
          "coordinates": [
           [
            8838709.9349,
            5641613.0398
           ],
           [
            8838774.0018,
            5641536.7044
           ],
           [
            8838851.2873,
            5641612.0548
           ]
          ],
          "type": "MultiPoint"
         },
         "properties": {
          "AGB": 12.984,
          "AGB..DW.": 0,
          "AGB..GS.": 1.6333,
          "AGB.all..M111.": "NA",
          "Administration.Unit": "NA",
          "Count_of_Re_measurement_year": 0,
          "Elevation": 1129.6667,
          "GPS_Field_E": 91.6066,
          "GPS_Field_N": 50.3343,
          "Group.1": 2836,
          "Inventory_status": 1,
          "Plot_ID": 2,
          "Reference.area.R20m": 0.1256,
          "Unit_ID": 2836,
          "Village": "NA",
          "coverted.to.GS.ha": 12.984
         },
         "type": "Feature"
        },
        {
         "geometry": {
          "coordinates": [
           [
            9136872.803,
            5565314.1094
           ],
           [
            9136905.8978,
            5565243.0126
           ],
           [
            9136977.2976,
            5565312.5202
           ]
          ],
          "type": "MultiPoint"
         },
         "properties": {
          "AGB": 143.2721,
          "AGB..DW.": 0.5667,
          "AGB..GS.": 17.9967,
          "AGB.all..M111.": "NA",
          "Administration.Unit": "NA",
          "Count_of_Re_measurement_year": 0,
          "Elevation": 2318.6667,
          "GPS_Field_E": 94.6966,
          "GPS_Field_N": 49.4136,
          "Group.1": 2837,
          "Inventory_status": 1,
          "Plot_ID": 2,
          "Reference.area.R20m": 0.1256,
          "Unit_ID": 2837,
          "Village": "NA",
          "coverted.to.GS.ha": 143.2721
         },
         "type": "Feature"
        },
        {
         "geometry": {
          "coordinates": [
           [
            9130898.3725,
            5566523.5723
           ],
           [
            9130969.7724,
            5566443.7998
           ],
           [
            9131022.7433,
            5566522.5689
           ]
          ],
          "type": "MultiPoint"
         },
         "properties": {
          "AGB": 117.9678,
          "AGB..DW.": 0.73,
          "AGB..GS.": 14.8167,
          "AGB.all..M111.": "NA",
          "Administration.Unit": "NA",
          "Count_of_Re_measurement_year": 0,
          "Elevation": 2224,
          "GPS_Field_E": 94.6348,
          "GPS_Field_N": 49.428,
          "Group.1": 2843,
          "Inventory_status": 1,
          "Plot_ID": 2,
          "Reference.area.R20m": 0.1256,
          "Unit_ID": 2843,
          "Village": "NA",
          "coverted.to.GS.ha": 117.9678
         },
         "type": "Feature"
        },
        {
         "geometry": {
          "coordinates": [
           [
            9158579.1285,
            5560331.8817
           ],
           [
            9158635.7659,
            5560428.1849
           ],
           [
            9158700.6047,
            5560335.2314
           ]
          ],
          "type": "MultiPoint"
         },
         "properties": {
          "AGB": 34.9317,
          "AGB..DW.": 0,
          "AGB..GS.": 4.39,
          "AGB.all..M111.": "NA",
          "Administration.Unit": "NA",
          "Count_of_Re_measurement_year": 0,
          "Elevation": 2248.3333,
          "GPS_Field_E": 94.9217,
          "GPS_Field_N": 49.3547,
          "Group.1": 2855,
          "Inventory_status": 1,
          "Plot_ID": 2,
          "Reference.area.R20m": 0.1256,
          "Unit_ID": 2855,
          "Village": "NA",
          "coverted.to.GS.ha": 34.9317
         },
         "type": "Feature"
        },
        {
         "geometry": {
          "coordinates": [
           [
            10357053.4514,
            5543511.9368
           ],
           [
            10357123.8864,
            5543436.0121
           ],
           [
            10357189.4971,
            5543511.9368
           ]
          ],
          "type": "MultiPoint"
         },
         "properties": {
          "AGB": 163.355,
          "AGB..DW.": 7.5667,
          "AGB..GS.": 20.52,
          "AGB.all..M111.": 31.6333,
          "Administration.Unit": "NA",
          "Count_of_Re_measurement_year": 1,
          "Elevation": 1468.3333,
          "GPS_Field_E": 107.343,
          "GPS_Field_N": 49.1536,
          "Group.1": 2882,
          "Inventory_status": 1,
          "Plot_ID": 2,
          "Reference.area.R20m": 0.1256,
          "Unit_ID": 2882,
          "Village": "NA",
          "coverted.to.GS.ha": 163.355
         },
         "type": "Feature"
        },
        {
         "geometry": {
          "coordinates": [
           [
            8845750.3458,
            5612791.8809
           ],
           [
            8845806.2114,
            5612712.7588
           ],
           [
            8845887.2598,
            5612778.6527
           ]
          ],
          "type": "MultiPoint"
         },
         "properties": {
          "AGB": 24.7957,
          "AGB..DW.": 0,
          "AGB..GS.": 3.1133,
          "AGB.all..M111.": "NA",
          "Administration.Unit": "NA",
          "Count_of_Re_measurement_year": 0,
          "Elevation": 1936,
          "GPS_Field_E": 91.6795,
          "GPS_Field_N": 49.9844,
          "Group.1": 2891,
          "Inventory_status": 1,
          "Plot_ID": 2,
          "Reference.area.R20m": 0.1256,
          "Unit_ID": 2891,
          "Village": "NA",
          "coverted.to.GS.ha": 24.7957
         },
         "type": "Feature"
        },
        {
         "geometry": {
          "coordinates": [
           [
            9192600.9628,
            5563209.9655
           ],
           [
            9192675.2572,
            5563282.7707
           ],
           [
            9192704.0101,
            5563243.523
           ]
          ],
          "type": "MultiPoint"
         },
         "properties": {
          "AGB": 213.8579,
          "AGB..DW.": 2.7433,
          "AGB..GS.": 26.8633,
          "AGB.all..M111.": "NA",
          "Administration.Unit": "NA",
          "Count_of_Re_measurement_year": 0,
          "Elevation": 2156.6667,
          "GPS_Field_E": 95.2743,
          "GPS_Field_N": 49.3891,
          "Group.1": 2913,
          "Inventory_status": 1,
          "Plot_ID": 2,
          "Reference.area.R20m": 0.1256,
          "Unit_ID": 2913,
          "Village": "NA",
          "coverted.to.GS.ha": 213.8579
         },
         "type": "Feature"
        },
        {
         "geometry": {
          "coordinates": [
           [
            10346570.8925,
            5540653.8567
           ],
           [
            10346635.6347,
            5540652.8471
           ],
           [
            10346705.5873,
            5540578.0489
           ]
          ],
          "type": "MultiPoint"
         },
         "properties": {
          "AGB": 39.3429,
          "AGB..DW.": 7.0933,
          "AGB..GS.": 4.9433,
          "AGB.all..M111.": "NA",
          "Administration.Unit": "NA",
          "Count_of_Re_measurement_year": 1,
          "Elevation": 1465.6667,
          "GPS_Field_E": 107.2343,
          "GPS_Field_N": 49.1196,
          "Group.1": 2941,
          "Inventory_status": 1,
          "Plot_ID": 2,
          "Reference.area.R20m": 0.1256,
          "Unit_ID": 2941,
          "Village": "NA",
          "coverted.to.GS.ha": 39.3429
         },
         "type": "Feature"
        },
        {
         "geometry": {
          "coordinates": [
           [
            10372986.2309,
            5540233.9938
           ],
           [
            10373035.5353,
            5540170.1273
           ],
           [
            10373117.2592,
            5540231.4695
           ]
          ],
          "type": "MultiPoint"
         },
         "properties": {
          "AGB": 99.78,
          "AGB..DW.": 1.2433,
          "AGB..GS.": 12.5333,
          "AGB.all..M111.": "NA",
          "Administration.Unit": "NA",
          "Count_of_Re_measurement_year": 1,
          "Elevation": 1362.3333,
          "GPS_Field_E": 107.508,
          "GPS_Field_N": 49.1146,
          "Group.1": 2943,
          "Inventory_status": 1,
          "Plot_ID": 2,
          "Reference.area.R20m": 0.1256,
          "Unit_ID": 2943,
          "Village": "NA",
          "coverted.to.GS.ha": 99.78
         },
         "type": "Feature"
        },
        {
         "geometry": {
          "coordinates": [
           [
            10353039.2362,
            5539050.6646
           ],
           [
            10353106.9696,
            5539049.0654
           ],
           [
            10353169.5892,
            5538974.9122
           ]
          ],
          "type": "MultiPoint"
         },
         "properties": {
          "AGB": 91.5701,
          "AGB..DW.": 0.4067,
          "AGB..GS.": 11.5,
          "AGB.all..M111.": "NA",
          "Administration.Unit": "NA",
          "Count_of_Re_measurement_year": 1,
          "Elevation": 1172.6667,
          "GPS_Field_E": 107.3013,
          "GPS_Field_N": 49.1005,
          "Group.1": 2973,
          "Inventory_status": 1,
          "Plot_ID": 2,
          "Reference.area.R20m": 0.1256,
          "Unit_ID": 2973,
          "Village": "NA",
          "coverted.to.GS.ha": 91.5701
         },
         "type": "Feature"
        },
        {
         "geometry": {
          "coordinates": [
           [
            8905417.4615,
            5664198.6743
           ],
           [
            8905491.8524,
            5664126.1243
           ],
           [
            8905554.3755,
            5664198.6743
           ]
          ],
          "type": "MultiPoint"
         },
         "properties": {
          "AGB": 280.3621,
          "AGB..DW.": 0,
          "AGB..GS.": 35.2133,
          "AGB.all..M111.": "NA",
          "Administration.Unit": "NA",
          "Count_of_Re_measurement_year": 0,
          "Elevation": 876.6667,
          "GPS_Field_E": 92.298,
          "GPS_Field_N": 50.6103,
          "Group.1": 2982,
          "Inventory_status": 1,
          "Plot_ID": 2,
          "Reference.area.R20m": 0.1256,
          "Unit_ID": 2982,
          "Village": "NA",
          "coverted.to.GS.ha": 280.3621
         },
         "type": "Feature"
        },
        {
         "geometry": {
          "coordinates": [
           [
            8841617.6454,
            5614777.4454
           ],
           [
            8841663.2835,
            5614799.757
           ],
           [
            8841700.8166,
            5614895.6126
           ]
          ],
          "type": "MultiPoint"
         },
         "properties": {
          "AGB": 44.0561,
          "AGB..DW.": 0,
          "AGB..GS.": 5.5333,
          "AGB.all..M111.": "NA",
          "Administration.Unit": "NA",
          "Count_of_Re_measurement_year": 0,
          "Elevation": 2030.6667,
          "GPS_Field_E": 91.6365,
          "GPS_Field_N": 50.0094,
          "Group.1": 2991,
          "Inventory_status": 1,
          "Plot_ID": 2,
          "Reference.area.R20m": 0.1256,
          "Unit_ID": 2991,
          "Village": "NA",
          "coverted.to.GS.ha": 44.0561
         },
         "type": "Feature"
        },
        {
         "geometry": {
          "coordinates": [
           [
            8827010.5875,
            5628171.8254
           ],
           [
            8827071.6633,
            5628097.619
           ],
           [
            8827137.9494,
            5628169.2722
           ]
          ],
          "type": "MultiPoint"
         },
         "properties": {
          "AGB": 52.7371,
          "AGB..DW.": 1.44,
          "AGB..GS.": 6.6267,
          "AGB.all..M111.": "NA",
          "Administration.Unit": "NA",
          "Count_of_Re_measurement_year": 0,
          "Elevation": 1936.3333,
          "GPS_Field_E": 91.4853,
          "GPS_Field_N": 50.1709,
          "Group.1": 3023,
          "Inventory_status": 1,
          "Plot_ID": 2,
          "Reference.area.R20m": 0.1256,
          "Unit_ID": 3023,
          "Village": "NA",
          "coverted.to.GS.ha": 52.7371
         },
         "type": "Feature"
        },
        {
         "geometry": {
          "coordinates": [
           [
            8847608.2856,
            5615009.397
           ],
           [
            8847707.6665,
            5615021.0479
           ],
           [
            8847758.5148,
            5614959.9008
           ]
          ],
          "type": "MultiPoint"
         },
         "properties": {
          "AGB": 28.364,
          "AGB..DW.": 0,
          "AGB..GS.": 3.5633,
          "AGB.all..M111.": "NA",
          "Administration.Unit": "NA",
          "Count_of_Re_measurement_year": 0,
          "Elevation": 1636.6667,
          "GPS_Field_E": 91.699,
          "GPS_Field_N": 50.0115,
          "Group.1": 3025,
          "Inventory_status": 1,
          "Plot_ID": 2,
          "Reference.area.R20m": 0.1256,
          "Unit_ID": 3025,
          "Village": "NA",
          "coverted.to.GS.ha": 28.364
         },
         "type": "Feature"
        },
        {
         "geometry": {
          "coordinates": [
           [
            9162724.2756,
            5563743.6738
           ],
           [
            9162778.0184,
            5563758.0658
           ],
           [
            9162830.314,
            5563825.7574
           ]
          ],
          "type": "MultiPoint"
         },
         "properties": {
          "AGB": 52.0637,
          "AGB..DW.": 0.63,
          "AGB..GS.": 6.54,
          "AGB.all..M111.": "NA",
          "Administration.Unit": "NA",
          "Count_of_Re_measurement_year": 0,
          "Elevation": 1912,
          "GPS_Field_E": 94.9646,
          "GPS_Field_N": 49.3955,
          "Group.1": 3030,
          "Inventory_status": 1,
          "Plot_ID": 2,
          "Reference.area.R20m": 0.1256,
          "Unit_ID": 3030,
          "Village": "NA",
          "coverted.to.GS.ha": 52.0637
         },
         "type": "Feature"
        },
        {
         "geometry": {
          "coordinates": [
           [
            10267137.7903,
            5535687.6333
           ],
           [
            10267202.6291,
            5535612.7472
           ],
           [
            10267218.0669,
            5535688.6441
           ]
          ],
          "type": "MultiPoint"
         },
         "properties": {
          "AGB": 74.0299,
          "AGB..DW.": 3.9833,
          "AGB..GS.": 9.3,
          "AGB.all..M111.": "NA",
          "Administration.Unit": "NA",
          "Count_of_Re_measurement_year": 1,
          "Elevation": 1300.6667,
          "GPS_Field_E": 106.4108,
          "GPS_Field_N": 49.0606,
          "Group.1": 3057,
          "Inventory_status": 1,
          "Plot_ID": 2,
          "Reference.area.R20m": 0.1256,
          "Unit_ID": 3057,
          "Village": "NA",
          "coverted.to.GS.ha": 74.0299
         },
         "type": "Feature"
        },
        {
         "geometry": {
          "coordinates": [
           [
            8833493.0182,
            5618125.3546
           ],
           [
            8833507.0087,
            5618159.9499
           ],
           [
            8833625.4939,
            5618120.896
           ]
          ],
          "type": "MultiPoint"
         },
         "properties": {
          "AGB": 66.9536,
          "AGB..DW.": 0.8133,
          "AGB..GS.": 8.4067,
          "AGB.all..M111.": 9.2833,
          "Administration.Unit": "NA",
          "Count_of_Re_measurement_year": 0,
          "Elevation": 1698.3333,
          "GPS_Field_E": 91.5523,
          "GPS_Field_N": 50.0495,
          "Group.1": 3065,
          "Inventory_status": 1,
          "Plot_ID": 2,
          "Reference.area.R20m": 0.1256,
          "Unit_ID": 3065,
          "Village": "NA",
          "coverted.to.GS.ha": 66.9536
         },
         "type": "Feature"
        },
        {
         "geometry": {
          "coordinates": [
           [
            10340942.3653,
            5532338.0311
           ],
           [
            10341012.3178,
            5532404.6293
           ],
           [
            10341075.6128,
            5532337.1038
           ]
          ],
          "type": "MultiPoint"
         },
         "properties": {
          "AGB": 23.1645,
          "AGB..DW.": 5.4867,
          "AGB..GS.": 2.91,
          "AGB.all..M111.": "NA",
          "Administration.Unit": "NA",
          "Count_of_Re_measurement_year": 1,
          "Elevation": 1132.6667,
          "GPS_Field_E": 107.176,
          "GPS_Field_N": 49.0214,
          "Group.1": 3082,
          "Inventory_status": 1,
          "Plot_ID": 2,
          "Reference.area.R20m": 0.1256,
          "Unit_ID": 3082,
          "Village": "NA",
          "coverted.to.GS.ha": 23.1645
         },
         "type": "Feature"
        },
        {
         "geometry": {
          "coordinates": [
           [
            10346140.8531,
            5534483.7362
           ],
           [
            10346220.5508,
            5533063.8103
           ],
           [
            10346271.978,
            5534484.7473
           ]
          ],
          "type": "MultiPoint"
         },
         "properties": {
          "AGB": 9.5371,
          "AGB..DW.": 1.49,
          "AGB..GS.": 1.1967,
          "AGB.all..M111.": "NA",
          "Administration.Unit": "NA",
          "Count_of_Re_measurement_year": 1,
          "Elevation": 1029.6667,
          "GPS_Field_E": 107.2299,
          "GPS_Field_N": 49.041,
          "Group.1": 3114,
          "Inventory_status": 1,
          "Plot_ID": 2,
          "Reference.area.R20m": 0.1256,
          "Unit_ID": 3114,
          "Village": "NA",
          "coverted.to.GS.ha": 9.5371
         },
         "type": "Feature"
        },
        {
         "geometry": {
          "coordinates": [
           [
            8822833.7929,
            5631468.0414
           ],
           [
            8822895.6406,
            5631386.4079
           ],
           [
            8822963.374,
            5631460.4706
           ]
          ],
          "type": "MultiPoint"
         },
         "properties": {
          "AGB": 102.8611,
          "AGB..DW.": 2.82,
          "AGB..GS.": 12.92,
          "AGB.all..M111.": 15.94,
          "Administration.Unit": "NA",
          "Count_of_Re_measurement_year": 0,
          "Elevation": 2119.3333,
          "GPS_Field_E": 91.442,
          "GPS_Field_N": 50.2108,
          "Group.1": 3128,
          "Inventory_status": 1,
          "Plot_ID": 2,
          "Reference.area.R20m": 0.1256,
          "Unit_ID": 3128,
          "Village": "NA",
          "coverted.to.GS.ha": 102.8611
         },
         "type": "Feature"
        },
        {
         "geometry": {
          "coordinates": [
           [
            10350131.5257,
            5528460.2189
           ],
           [
            10350199.259,
            5528460.8095
           ],
           [
            10350710.1539,
            5526904.6596
           ]
          ],
          "type": "MultiPoint"
         },
         "properties": {
          "AGB": 10.7842,
          "AGB..DW.": 0.2333,
          "AGB..GS.": 1.3533,
          "AGB.all..M111.": "NA",
          "Administration.Unit": "NA",
          "Count_of_Re_measurement_year": 1,
          "Elevation": 1044.6667,
          "GPS_Field_E": 107.2727,
          "GPS_Field_N": 48.969,
          "Group.1": 3211,
          "Inventory_status": 1,
          "Plot_ID": 2,
          "Reference.area.R20m": 0.1256,
          "Unit_ID": 3211,
          "Village": "NA",
          "coverted.to.GS.ha": 10.7842
         },
         "type": "Feature"
        },
        {
         "geometry": {
          "coordinates": [
           [
            10376026.4171,
            5521939.3961
           ],
           [
            10376091.9312,
            5521863.2535
           ],
           [
            10376158.9892,
            5521939.3961
           ]
          ],
          "type": "MultiPoint"
         },
         "properties": {
          "AGB": 115.0925,
          "AGB..DW.": 0,
          "AGB..GS.": 14.4567,
          "AGB.all..M111.": 14.4567,
          "Administration.Unit": "NA",
          "Count_of_Re_measurement_year": 1,
          "Elevation": 1607,
          "GPS_Field_E": 107.5396,
          "GPS_Field_N": 48.8977,
          "Group.1": 3214,
          "Inventory_status": 1,
          "Plot_ID": 2,
          "Reference.area.R20m": 0.1256,
          "Unit_ID": 3214,
          "Village": "NA",
          "coverted.to.GS.ha": 115.0925
         },
         "type": "Feature"
        },
        {
         "geometry": {
          "coordinates": [
           [
            10350910.1699,
            5536162.8636
           ],
           [
            10351011.4805,
            5529238.1228
           ],
           [
            10351043.321,
            5536161.9371
           ]
          ],
          "type": "MultiPoint"
         },
         "properties": {
          "AGB": 16.6144,
          "AGB..DW.": 0.8833,
          "AGB..GS.": 2.0867,
          "AGB.all..M111.": "NA",
          "Administration.Unit": "NA",
          "Count_of_Re_measurement_year": 1,
          "Elevation": 992,
          "GPS_Field_E": 107.2794,
          "GPS_Field_N": 49.0392,
          "Group.1": 3247,
          "Inventory_status": 1,
          "Plot_ID": 2,
          "Reference.area.R20m": 0.1256,
          "Unit_ID": 3247,
          "Village": "NA",
          "coverted.to.GS.ha": 16.6144
         },
         "type": "Feature"
        },
        {
         "geometry": {
          "coordinates": [
           [
            10372033.7183,
            5521422.9353
           ],
           [
            10372169.0885,
            5521421.245
           ],
           [
            10374697.0291,
            5521347.7133
           ]
          ],
          "type": "MultiPoint"
         },
         "properties": {
          "AGB": 80.3755,
          "AGB..DW.": 0,
          "AGB..GS.": 10.0933,
          "AGB.all..M111.": 10.0933,
          "Administration.Unit": "NA",
          "Count_of_Re_measurement_year": 1,
          "Elevation": 1438.3333,
          "GPS_Field_E": 107.5072,
          "GPS_Field_N": 48.8915,
          "Group.1": 3248,
          "Inventory_status": 1,
          "Plot_ID": 2,
          "Reference.area.R20m": 0.1256,
          "Unit_ID": 3248,
          "Village": "NA",
          "coverted.to.GS.ha": 80.3755
         },
         "type": "Feature"
        },
        {
         "geometry": {
          "coordinates": [
           [
            10355674.6625,
            5516548.4353
           ],
           [
            10355698.784,
            5516462.2967
           ],
           [
            10355738.3434,
            5516548.4353
           ]
          ],
          "type": "MultiPoint"
         },
         "properties": {
          "AGB": 87.0087,
          "AGB..DW.": 0,
          "AGB..GS.": 10.93,
          "AGB.all..M111.": 12.4,
          "Administration.Unit": "NA",
          "Count_of_Re_measurement_year": 1,
          "Elevation": 1207,
          "GPS_Field_E": 107.3283,
          "GPS_Field_N": 48.8339,
          "Group.1": 3325,
          "Inventory_status": 1,
          "Plot_ID": 2,
          "Reference.area.R20m": 0.1256,
          "Unit_ID": 3325,
          "Village": "NA",
          "coverted.to.GS.ha": 87.0087
         },
         "type": "Feature"
        },
        {
         "geometry": {
          "coordinates": [
           [
            10339983.1952,
            5513473.1984
           ],
           [
            10340051.7004,
            5513398.9376
           ],
           [
            10340134.8716,
            5513473.1984
           ]
          ],
          "type": "MultiPoint"
         },
         "properties": {
          "AGB": 11.5263,
          "AGB..DW.": 2.22,
          "AGB..GS.": 1.4467,
          "AGB.all..M111.": 6.56,
          "Administration.Unit": "NA",
          "Count_of_Re_measurement_year": 1,
          "Elevation": 1493.3333,
          "GPS_Field_E": 107.1661,
          "GPS_Field_N": 48.7976,
          "Group.1": 3362,
          "Inventory_status": 1,
          "Plot_ID": 2,
          "Reference.area.R20m": 0.1256,
          "Unit_ID": 3362,
          "Village": "NA",
          "coverted.to.GS.ha": 11.5263
         },
         "type": "Feature"
        },
        {
         "geometry": {
          "coordinates": [
           [
            10154790.1305,
            5513632.4697
           ],
           [
            10154793.797,
            5513567.187
           ],
           [
            10154854.1974,
            5513633.4011
           ]
          ],
          "type": "MultiPoint"
         },
         "properties": {
          "AGB": 75.6468,
          "AGB..DW.": 0.1833,
          "AGB..GS.": 9.5,
          "AGB.all..M111.": "NA",
          "Administration.Unit": "NA",
          "Count_of_Re_measurement_year": 1,
          "Elevation": 1335,
          "GPS_Field_E": 105.2462,
          "GPS_Field_N": 48.7995,
          "Group.1": 3382,
          "Inventory_status": 1,
          "Plot_ID": 2,
          "Reference.area.R20m": 0.1256,
          "Unit_ID": 3382,
          "Village": "NA",
          "coverted.to.GS.ha": 75.6468
         },
         "type": "Feature"
        },
        {
         "geometry": {
          "coordinates": [
           [
            10345100.8275,
            5510341.7823
           ],
           [
            10345164.1225,
            5510265.5184
           ],
           [
            10345231.8559,
            5510342.7144
           ]
          ],
          "type": "MultiPoint"
         },
         "properties": {
          "AGB": 47.389,
          "AGB..DW.": 3.3033,
          "AGB..GS.": 5.9533,
          "AGB.all..M111.": 13.39,
          "Administration.Unit": "NA",
          "Count_of_Re_measurement_year": 1,
          "Elevation": 1478.6667,
          "GPS_Field_E": 107.219,
          "GPS_Field_N": 48.7606,
          "Group.1": 3417,
          "Inventory_status": 1,
          "Plot_ID": 2,
          "Reference.area.R20m": 0.1256,
          "Unit_ID": 3417,
          "Village": "NA",
          "coverted.to.GS.ha": 47.389
         },
         "type": "Feature"
        },
        {
         "geometry": {
          "coordinates": [
           [
            10344906.5041,
            5507287.6279
           ],
           [
            10344972.6937,
            5507211.3099
           ],
           [
            10345039.7517,
            5507287.6279
           ]
          ],
          "type": "MultiPoint"
         },
         "properties": {
          "AGB": 128.5778,
          "AGB..DW.": 2.98,
          "AGB..GS.": 16.15,
          "AGB.all..M111.": 21.4933,
          "Administration.Unit": "NA",
          "Count_of_Re_measurement_year": 1,
          "Elevation": 1704,
          "GPS_Field_E": 107.217,
          "GPS_Field_N": 48.7246,
          "Group.1": 3447,
          "Inventory_status": 1,
          "Plot_ID": 2,
          "Reference.area.R20m": 0.1256,
          "Unit_ID": 3447,
          "Village": "NA",
          "coverted.to.GS.ha": 128.5778
         },
         "type": "Feature"
        },
        {
         "geometry": {
          "coordinates": [
           [
            9076564.4395,
            5563542.9346
           ],
           [
            9076704.3446,
            5563541.3447
           ],
           [
            9076857.4683,
            5563532.9768
           ]
          ],
          "type": "MultiPoint"
         },
         "properties": {
          "AGB": 176.8018,
          "AGB..DW.": 0.8367,
          "AGB..GS.": 22.2067,
          "AGB.all..M111.": "NA",
          "Administration.Unit": "NA",
          "Count_of_Re_measurement_year": 0,
          "Elevation": 2035.6667,
          "GPS_Field_E": 94.0725,
          "GPS_Field_N": 49.3926,
          "Group.1": 3541,
          "Inventory_status": 1,
          "Plot_ID": 2,
          "Reference.area.R20m": 0.1256,
          "Unit_ID": 3541,
          "Village": "NA",
          "coverted.to.GS.ha": 176.8018
         },
         "type": "Feature"
        },
        {
         "geometry": {
          "coordinates": [
           [
            10308576.1391,
            5516985.194
           ],
           [
            10308640.206,
            5516908.9633
           ],
           [
            10308707.9393,
            5516985.194
           ]
          ],
          "type": "MultiPoint"
         },
         "properties": {
          "AGB": 93.8015,
          "AGB..DW.": 0.5167,
          "AGB..GS.": 11.7833,
          "AGB.all..M111.": "NA",
          "Administration.Unit": "NA",
          "Count_of_Re_measurement_year": 1,
          "Elevation": 1343,
          "GPS_Field_E": 106.8405,
          "GPS_Field_N": 48.8391,
          "Group.1": 3576,
          "Inventory_status": 1,
          "Plot_ID": 2,
          "Reference.area.R20m": 0.1256,
          "Unit_ID": 3576,
          "Village": "NA",
          "coverted.to.GS.ha": 93.8015
         },
         "type": "Feature"
        },
        {
         "geometry": {
          "coordinates": [
           [
            8871520.7699,
            5631887.7033
           ],
           [
            8871564.2852,
            5631850.6761
           ],
           [
            8871622.37,
            5631914.6918
           ]
          ],
          "type": "MultiPoint"
         },
         "properties": {
          "AGB": 0,
          "AGB..DW.": 0,
          "AGB..GS.": 0,
          "AGB.all..M111.": "NA",
          "Administration.Unit": "NA",
          "Count_of_Re_measurement_year": 0,
          "Elevation": 840,
          "GPS_Field_E": 91.9464,
          "GPS_Field_N": 50.2163,
          "Group.1": 3612,
          "Inventory_status": 1,
          "Plot_ID": 2,
          "Reference.area.R20m": 0.1256,
          "Unit_ID": 3612,
          "Village": "NA",
          "coverted.to.GS.ha": 0
         },
         "type": "Feature"
        },
        {
         "geometry": {
          "coordinates": [
           [
            8862201.3531,
            5598255.1742
           ],
           [
            8862272.7529,
            5598257.0826
           ],
           [
            8862362.5816,
            5598330.8462
           ]
          ],
          "type": "MultiPoint"
         },
         "properties": {
          "AGB": 38.7099,
          "AGB..DW.": 0.1167,
          "AGB..GS.": 4.8633,
          "AGB.all..M111.": "NA",
          "Administration.Unit": "NA",
          "Count_of_Re_measurement_year": 0,
          "Elevation": 1844.3333,
          "GPS_Field_E": 91.8501,
          "GPS_Field_N": 49.8096,
          "Group.1": 3618,
          "Inventory_status": 1,
          "Plot_ID": 2,
          "Reference.area.R20m": 0.1256,
          "Unit_ID": 3618,
          "Village": "NA",
          "coverted.to.GS.ha": 38.7099
         },
         "type": "Feature"
        },
        {
         "geometry": {
          "coordinates": [
           [
            9165401.5769,
            5577241.0819
           ],
           [
            9165470.7575,
            5577317.0602
           ],
           [
            9165538.4909,
            5577314.5582
           ]
          ],
          "type": "MultiPoint"
         },
         "properties": {
          "AGB": 43.9619,
          "AGB..DW.": 2.6367,
          "AGB..GS.": 5.52,
          "AGB.all..M111.": "NA",
          "Administration.Unit": "NA",
          "Count_of_Re_measurement_year": 0,
          "Elevation": 1677,
          "GPS_Field_E": 94.9925,
          "GPS_Field_N": 49.5573,
          "Group.1": 3630,
          "Inventory_status": 1,
          "Plot_ID": 2,
          "Reference.area.R20m": 0.1256,
          "Unit_ID": 3630,
          "Village": "NA",
          "coverted.to.GS.ha": 43.9619
         },
         "type": "Feature"
        },
        {
         "geometry": {
          "coordinates": [
           [
            9205327.8891,
            5575538.584
           ],
           [
            9205331.6521,
            5575463.4907
           ],
           [
            9205391.956,
            5575537.6662
           ]
          ],
          "type": "MultiPoint"
         },
         "properties": {
          "AGB": 92.9389,
          "AGB..DW.": 5.74,
          "AGB..GS.": 11.6733,
          "AGB.all..M111.": "NA",
          "Administration.Unit": "NA",
          "Count_of_Re_measurement_year": 0,
          "Elevation": 1954,
          "GPS_Field_E": 95.4058,
          "GPS_Field_N": 49.5359,
          "Group.1": 3692,
          "Inventory_status": 1,
          "Plot_ID": 2,
          "Reference.area.R20m": 0.1256,
          "Unit_ID": 3692,
          "Village": "NA",
          "coverted.to.GS.ha": 92.9389
         },
         "type": "Feature"
        },
        {
         "geometry": {
          "coordinates": [
           [
            8867437.4705,
            5631891.8174
           ],
           [
            8867508.195,
            5631817.6804
           ],
           [
            8867572.1654,
            5631890.83
           ]
          ],
          "type": "MultiPoint"
         },
         "properties": {
          "AGB": 0,
          "AGB..DW.": 0,
          "AGB..GS.": 0,
          "AGB.all..M111.": "NA",
          "Administration.Unit": "NA",
          "Count_of_Re_measurement_year": 0,
          "Elevation": 866,
          "GPS_Field_E": 91.9043,
          "GPS_Field_N": 50.216,
          "Group.1": 3694,
          "Inventory_status": 1,
          "Plot_ID": 2,
          "Reference.area.R20m": 0.1256,
          "Unit_ID": 3694,
          "Village": "NA",
          "coverted.to.GS.ha": 0
         },
         "type": "Feature"
        },
        {
         "geometry": {
          "coordinates": [
           [
            9118710.2256,
            5568851.4356
           ],
           [
            9118779.4063,
            5568774.6329
           ],
           [
            9118850.1307,
            5568851.4356
           ]
          ],
          "type": "MultiPoint"
         },
         "properties": {
          "AGB": 254.0368,
          "AGB..DW.": 3.1333,
          "AGB..GS.": 31.9067,
          "AGB.all..M111.": 35.31,
          "Administration.Unit": "NA",
          "Count_of_Re_measurement_year": 0,
          "Elevation": 2055.3333,
          "GPS_Field_E": 94.5086,
          "GPS_Field_N": 49.4559,
          "Group.1": 3697,
          "Inventory_status": 1,
          "Plot_ID": 2,
          "Reference.area.R20m": 0.1256,
          "Unit_ID": 3697,
          "Village": "NA",
          "coverted.to.GS.ha": 254.0368
         },
         "type": "Feature"
        },
        {
         "geometry": {
          "coordinates": [
           [
            8851765.9759,
            5611724.4684
           ],
           [
            8851834.4812,
            5611727.0321
           ],
           [
            8851895.557,
            5611650.0391
           ]
          ],
          "type": "MultiPoint"
         },
         "properties": {
          "AGB": 258.1604,
          "AGB..DW.": 0.9333,
          "AGB..GS.": 32.4233,
          "AGB.all..M111.": 33.4467,
          "Administration.Unit": "NA",
          "Count_of_Re_measurement_year": 0,
          "Elevation": 1805,
          "GPS_Field_E": 91.7419,
          "GPS_Field_N": 49.9716,
          "Group.1": 3699,
          "Inventory_status": 1,
          "Plot_ID": 2,
          "Reference.area.R20m": 0.1256,
          "Unit_ID": 3699,
          "Village": "NA",
          "coverted.to.GS.ha": 258.1604
         },
         "type": "Feature"
        },
        {
         "geometry": {
          "coordinates": [
           [
            8871525.2083,
            5630820.3584
           ],
           [
            8871594.3889,
            5630742.1684
           ],
           [
            8871662.8942,
            5630818.4654
           ]
          ],
          "type": "MultiPoint"
         },
         "properties": {
          "AGB": 12.9455,
          "AGB..DW.": 0,
          "AGB..GS.": 1.6267,
          "AGB.all..M111.": "NA",
          "Administration.Unit": "NA",
          "Count_of_Re_measurement_year": 0,
          "Elevation": 843,
          "GPS_Field_E": 91.9467,
          "GPS_Field_N": 50.203,
          "Group.1": 3722,
          "Inventory_status": 1,
          "Plot_ID": 2,
          "Reference.area.R20m": 0.1256,
          "Unit_ID": 3722,
          "Village": "NA",
          "coverted.to.GS.ha": 12.9455
         },
         "type": "Feature"
        },
        {
         "geometry": {
          "coordinates": [
           [
            9197630.2137,
            5582418.5734
           ],
           [
            9197696.4033,
            5582416.9908
           ],
           [
            9197702.2889,
            5582348.0204
           ]
          ],
          "type": "MultiPoint"
         },
         "properties": {
          "AGB": 111.3983,
          "AGB..DW.": 3.57,
          "AGB..GS.": 13.9933,
          "AGB.all..M111.": "NA",
          "Administration.Unit": "NA",
          "Count_of_Re_measurement_year": 0,
          "Elevation": 1594.3333,
          "GPS_Field_E": 95.3263,
          "GPS_Field_N": 49.6185,
          "Group.1": 3723,
          "Inventory_status": 1,
          "Plot_ID": 2,
          "Reference.area.R20m": 0.1256,
          "Unit_ID": 3723,
          "Village": "NA",
          "coverted.to.GS.ha": 111.3983
         },
         "type": "Feature"
        },
        {
         "geometry": {
          "coordinates": [
           [
            8861214.2019,
            5639824.1051
           ],
           [
            8861248.0686,
            5648027.1455
           ],
           [
            8861297.3731,
            5636203.4466
           ]
          ],
          "type": "MultiPoint"
         },
         "properties": {
          "AGB": 0,
          "AGB..DW.": 0,
          "AGB..GS.": 0,
          "AGB.all..M111.": "NA",
          "Administration.Unit": "NA",
          "Count_of_Re_measurement_year": 0,
          "Elevation": 865,
          "GPS_Field_E": 91.8395,
          "GPS_Field_N": 50.3315,
          "Group.1": 3783,
          "Inventory_status": 1,
          "Plot_ID": 2,
          "Reference.area.R20m": 0.1256,
          "Unit_ID": 3783,
          "Village": "NA",
          "coverted.to.GS.ha": 0
         },
         "type": "Feature"
        },
        {
         "geometry": {
          "coordinates": [
           [
            9172842.4058,
            5567060.0322
           ],
           [
            9172910.1392,
            5566988.2964
           ],
           [
            9172977.8726,
            5567064.547
           ]
          ],
          "type": "MultiPoint"
         },
         "properties": {
          "AGB": 158.2146,
          "AGB..DW.": 4.6567,
          "AGB..GS.": 19.87,
          "AGB.all..M111.": 24.99,
          "Administration.Unit": "NA",
          "Count_of_Re_measurement_year": 0,
          "Elevation": 2093,
          "GPS_Field_E": 95.0696,
          "GPS_Field_N": 49.4345,
          "Group.1": 3801,
          "Inventory_status": 1,
          "Plot_ID": 2,
          "Reference.area.R20m": 0.1256,
          "Unit_ID": 3801,
          "Village": "NA",
          "coverted.to.GS.ha": 158.2146
         },
         "type": "Feature"
        },
        {
         "geometry": {
          "coordinates": [
           [
            8862467.1728,
            5637599.655
           ],
           [
            8862820.5055,
            5637600.641
           ],
           [
            8863293.0953,
            5637328.5875
           ]
          ],
          "type": "MultiPoint"
         },
         "properties": {
          "AGB": 0,
          "AGB..DW.": 0,
          "AGB..GS.": 0,
          "AGB.all..M111.": "NA",
          "Administration.Unit": "NA",
          "Count_of_Re_measurement_year": 0,
          "Elevation": 866.3333,
          "GPS_Field_E": 91.8562,
          "GPS_Field_N": 50.2847,
          "Group.1": 3802,
          "Inventory_status": 1,
          "Plot_ID": 2,
          "Reference.area.R20m": 0.1256,
          "Unit_ID": 3802,
          "Village": "NA",
          "coverted.to.GS.ha": 0
         },
         "type": "Feature"
        },
        {
         "geometry": {
          "coordinates": [
           [
            8849723.1684,
            5613932.8201
           ],
           [
            8849780.6742,
            5613862.4818
           ],
           [
            8849913.8253,
            5613932.8201
           ]
          ],
          "type": "MultiPoint"
         },
         "properties": {
          "AGB": 4.6314,
          "AGB..DW.": 0,
          "AGB..GS.": 0.5833,
          "AGB.all..M111.": "NA",
          "Administration.Unit": "NA",
          "Count_of_Re_measurement_year": 0,
          "Elevation": 1618.6667,
          "GPS_Field_E": 91.7209,
          "GPS_Field_N": 49.9983,
          "Group.1": 3820,
          "Inventory_status": 1,
          "Plot_ID": 2,
          "Reference.area.R20m": 0.1256,
          "Unit_ID": 3820,
          "Village": "NA",
          "coverted.to.GS.ha": 4.6314
         },
         "type": "Feature"
        },
        {
         "geometry": {
          "coordinates": [
           [
            8814318.2033,
            5641195.3112
           ],
           [
            8814381.4983,
            5641265.7429
           ],
           [
            8814461.003,
            5641188.744
           ]
          ],
          "type": "MultiPoint"
         },
         "properties": {
          "AGB": 30.043,
          "AGB..DW.": 0.0867,
          "AGB..GS.": 3.7733,
          "AGB.all..M111.": "NA",
          "Administration.Unit": "NA",
          "Count_of_Re_measurement_year": 0,
          "Elevation": 1812.3333,
          "GPS_Field_E": 91.3538,
          "GPS_Field_N": 50.3298,
          "Group.1": 3937,
          "Inventory_status": 1,
          "Plot_ID": 2,
          "Reference.area.R20m": 0.1256,
          "Unit_ID": 3937,
          "Village": "NA",
          "coverted.to.GS.ha": 30.043
         },
         "type": "Feature"
        },
        {
         "geometry": {
          "coordinates": [
           [
            8806207.4701,
            5641146.7142
           ],
           [
            8806248.7662,
            5641162.3934
           ],
           [
            8806264.9759,
            5641172.0799
           ]
          ],
          "type": "MultiPoint"
         },
         "properties": {
          "AGB": 29.8121,
          "AGB..DW.": 0,
          "AGB..GS.": 3.7433,
          "AGB.all..M111.": "NA",
          "Administration.Unit": "NA",
          "Count_of_Re_measurement_year": 0,
          "Elevation": 1919.3333,
          "GPS_Field_E": 91.2694,
          "GPS_Field_N": 50.3291,
          "Group.1": 4012,
          "Inventory_status": 1,
          "Plot_ID": 2,
          "Reference.area.R20m": 0.1256,
          "Unit_ID": 4012,
          "Village": "NA",
          "coverted.to.GS.ha": 29.8121
         },
         "type": "Feature"
        },
        {
         "geometry": {
          "coordinates": [
           [
            8816367.5719,
            5642396.0078
           ],
           [
            8816374.2294,
            5642410.6972
           ],
           [
            8816458.8479,
            5642447.6256
           ]
          ],
          "type": "MultiPoint"
         },
         "properties": {
          "AGB": 67.1882,
          "AGB..DW.": 0,
          "AGB..GS.": 8.44,
          "AGB.all..M111.": "NA",
          "Administration.Unit": "NA",
          "Count_of_Re_measurement_year": 0,
          "Elevation": 1834.3333,
          "GPS_Field_E": 91.3747,
          "GPS_Field_N": 50.3445,
          "Group.1": 4106,
          "Inventory_status": 1,
          "Plot_ID": 2,
          "Reference.area.R20m": 0.1256,
          "Unit_ID": 4106,
          "Village": "NA",
          "coverted.to.GS.ha": 67.1882
         },
         "type": "Feature"
        }
       ],
       "type": "FeatureCollection"
      },
      "text/html": [
       "<table class=\"dataframe\">\n",
       "<caption>A sf: 220 × 17</caption>\n",
       "<thead>\n",
       "\t<tr><th></th><th scope=col>Group.1</th><th scope=col>Unit_ID</th><th scope=col>Plot_ID</th><th scope=col>Administration.Unit</th><th scope=col>Village</th><th scope=col>GPS_Field_N</th><th scope=col>GPS_Field_E</th><th scope=col>Elevation</th><th scope=col>Count_of_Re_measurement_year</th><th scope=col>AGB.all..M111.</th><th scope=col>AGB..GS.</th><th scope=col>AGB..DW.</th><th scope=col>Inventory_status</th><th scope=col>coverted.to.GS.ha</th><th scope=col>Reference.area.R20m</th><th scope=col>AGB</th><th scope=col>geometry</th></tr>\n",
       "\t<tr><th></th><th scope=col>&lt;int&gt;</th><th scope=col>&lt;dbl&gt;</th><th scope=col>&lt;dbl&gt;</th><th scope=col>&lt;dbl&gt;</th><th scope=col>&lt;dbl&gt;</th><th scope=col>&lt;dbl&gt;</th><th scope=col>&lt;dbl&gt;</th><th scope=col>&lt;dbl&gt;</th><th scope=col>&lt;dbl&gt;</th><th scope=col>&lt;dbl&gt;</th><th scope=col>&lt;dbl&gt;</th><th scope=col>&lt;dbl&gt;</th><th scope=col>&lt;dbl&gt;</th><th scope=col>&lt;dbl&gt;</th><th scope=col>&lt;dbl&gt;</th><th scope=col>&lt;dbl&gt;</th><th scope=col>&lt;MULTIPOINT [m]&gt;</th></tr>\n",
       "</thead>\n",
       "<tbody>\n",
       "\t<tr><th scope=row>1</th><td> 368</td><td> 368</td><td>2</td><td>NA</td><td>NA</td><td>50.61055</td><td> 92.34011</td><td> 873.6667</td><td>0</td><td>11.660000</td><td>11.4633333</td><td>0.1766667</td><td>1</td><td> 91.269876</td><td>0.1256</td><td> 91.269876</td><td>MULTIPOINT ((8909490 566422...</td></tr>\n",
       "\t<tr><th scope=row>2</th><td> 376</td><td> 376</td><td>2</td><td>NA</td><td>NA</td><td>50.61059</td><td> 92.36206</td><td> 872.3333</td><td>0</td><td>       NA</td><td>10.3733333</td><td>0.0000000</td><td>1</td><td> 82.570470</td><td>0.1256</td><td> 82.570470</td><td>MULTIPOINT ((8911607 566422...</td></tr>\n",
       "\t<tr><th scope=row>3</th><td> 407</td><td> 407</td><td>2</td><td>NA</td><td>NA</td><td>50.43660</td><td> 91.22311</td><td>1926.0000</td><td>0</td><td>11.810000</td><td>11.8100000</td><td>0.0000000</td><td>1</td><td> 94.012333</td><td>0.1256</td><td> 94.012333</td><td>MULTIPOINT ((8801720 565000...</td></tr>\n",
       "\t<tr><th scope=row>4</th><td> 408</td><td> 408</td><td>2</td><td>NA</td><td>NA</td><td>50.58451</td><td> 92.53114</td><td> 820.0000</td><td>0</td><td>16.666667</td><td>15.7100000</td><td>0.8566667</td><td>1</td><td>125.091471</td><td>0.1256</td><td>125.091471</td><td>MULTIPOINT ((8927936 566209...</td></tr>\n",
       "\t<tr><th scope=row>5</th><td> 438</td><td> 438</td><td>2</td><td>NA</td><td>NA</td><td>50.55759</td><td> 92.59494</td><td> 777.3333</td><td>0</td><td>32.673333</td><td>31.8533333</td><td>0.5566667</td><td>1</td><td>253.590072</td><td>0.1256</td><td>253.590072</td><td>MULTIPOINT ((8934069 565989...</td></tr>\n",
       "\t<tr><th scope=row>6</th><td> 521</td><td> 521</td><td>2</td><td>NA</td><td>NA</td><td>50.31765</td><td> 91.37499</td><td>1506.0000</td><td>0</td><td>       NA</td><td> 6.5166667</td><td>0.5333333</td><td>1</td><td> 51.874753</td><td>0.1256</td><td> 51.874753</td><td>MULTIPOINT ((8816370 564024...</td></tr>\n",
       "\t<tr><th scope=row>7</th><td> 522</td><td> 522</td><td>2</td><td>NA</td><td>NA</td><td>50.53157</td><td> 93.29475</td><td> 895.3333</td><td>0</td><td>       NA</td><td> 0.5333333</td><td>0.0000000</td><td>1</td><td>  4.240520</td><td>0.1256</td><td>  4.240520</td><td>MULTIPOINT ((9001591 565769...</td></tr>\n",
       "\t<tr><th scope=row>8</th><td> 538</td><td> 538</td><td>2</td><td>NA</td><td>NA</td><td>50.27547</td><td> 91.22986</td><td>2207.6667</td><td>0</td><td>       NA</td><td> 4.3966667</td><td>0.0000000</td><td>1</td><td> 34.996181</td><td>0.1256</td><td> 34.996181</td><td>MULTIPOINT ((8802346 563671...</td></tr>\n",
       "\t<tr><th scope=row>9</th><td> 573</td><td> 573</td><td>2</td><td>NA</td><td>NA</td><td>50.55359</td><td> 94.05647</td><td> 939.6667</td><td>0</td><td>       NA</td><td> 0.2766667</td><td>0.0000000</td><td>1</td><td>  2.203575</td><td>0.1256</td><td>  2.203575</td><td>MULTIPOINT ((9075113 565949...</td></tr>\n",
       "\t<tr><th scope=row>10</th><td> 669</td><td> 669</td><td>2</td><td>NA</td><td>NA</td><td>50.14456</td><td> 91.52857</td><td>1956.3333</td><td>0</td><td>       NA</td><td> 7.7166667</td><td>0.0000000</td><td>1</td><td> 61.439444</td><td>0.1256</td><td> 61.439444</td><td>MULTIPOINT ((8831194 562593...</td></tr>\n",
       "\t<tr><th scope=row>11</th><td> 727</td><td> 727</td><td>2</td><td>NA</td><td>NA</td><td>50.09064</td><td> 91.57268</td><td>1813.3333</td><td>0</td><td>       NA</td><td> 2.7233333</td><td>1.0100000</td><td>1</td><td> 21.676858</td><td>0.1256</td><td> 21.676858</td><td>MULTIPOINT ((8835439 562149...</td></tr>\n",
       "\t<tr><th scope=row>12</th><td> 778</td><td> 778</td><td>2</td><td>NA</td><td>NA</td><td>50.00967</td><td> 91.53200</td><td>2181.3333</td><td>0</td><td>       NA</td><td>17.9233333</td><td>0.0000000</td><td>1</td><td>142.703109</td><td>0.1256</td><td>142.703109</td><td>MULTIPOINT ((8831517 561487...</td></tr>\n",
       "\t<tr><th scope=row>13</th><td> 849</td><td> 849</td><td>2</td><td>NA</td><td>NA</td><td>49.94357</td><td> 91.65989</td><td>2219.0000</td><td>0</td><td>       NA</td><td> 9.3933333</td><td>0.0000000</td><td>1</td><td> 74.774358</td><td>0.1256</td><td> 74.774358</td><td>MULTIPOINT ((8843853 560940...</td></tr>\n",
       "\t<tr><th scope=row>14</th><td> 885</td><td> 885</td><td>2</td><td>NA</td><td>NA</td><td>49.87060</td><td> 91.26522</td><td>2258.6667</td><td>0</td><td>18.920000</td><td>18.6066667</td><td>0.0900000</td><td>1</td><td>148.152041</td><td>0.1256</td><td>148.152041</td><td>MULTIPOINT ((8805780 560336...</td></tr>\n",
       "\t<tr><th scope=row>15</th><td> 895</td><td> 895</td><td>2</td><td>NA</td><td>NA</td><td>49.91761</td><td> 91.78611</td><td>1685.3333</td><td>0</td><td>       NA</td><td>10.4433333</td><td>0.0000000</td><td>1</td><td> 83.150023</td><td>0.1256</td><td> 83.150023</td><td>MULTIPOINT ((8856042 560726...</td></tr>\n",
       "\t<tr><th scope=row>16</th><td> 922</td><td> 922</td><td>2</td><td>NA</td><td>NA</td><td>49.81345</td><td> 91.03767</td><td>2342.0000</td><td>0</td><td> 7.563333</td><td> 7.3000000</td><td>0.2366667</td><td>1</td><td> 58.138039</td><td>0.1256</td><td> 58.138039</td><td>MULTIPOINT ((8783856 559862...</td></tr>\n",
       "\t<tr><th scope=row>17</th><td> 925</td><td> 925</td><td>2</td><td>NA</td><td>NA</td><td>49.89161</td><td> 91.80708</td><td>1777.0000</td><td>0</td><td>       NA</td><td> 5.6500000</td><td>0.2366667</td><td>1</td><td> 44.974259</td><td>0.1256</td><td> 44.974259</td><td>MULTIPOINT ((8858059 560510...</td></tr>\n",
       "\t<tr><th scope=row>18</th><td> 958</td><td> 958</td><td>2</td><td>NA</td><td>NA</td><td>49.83370</td><td> 91.47506</td><td>2204.0000</td><td>0</td><td>       NA</td><td>17.0666667</td><td>0.1900000</td><td>1</td><td>135.866744</td><td>0.1256</td><td>135.866744</td><td>MULTIPOINT ((8826029 560031...</td></tr>\n",
       "\t<tr><th scope=row>19</th><td> 959</td><td> 959</td><td>2</td><td>NA</td><td>NA</td><td>49.78858</td><td> 91.14303</td><td>2356.6667</td><td>0</td><td>14.016667</td><td>13.5300000</td><td>0.4633333</td><td>1</td><td>107.727808</td><td>0.1256</td><td>107.727808</td><td>MULTIPOINT ((8793986 559656...</td></tr>\n",
       "\t<tr><th scope=row>20</th><td> 962</td><td> 962</td><td>2</td><td>NA</td><td>NA</td><td>49.85058</td><td> 91.82917</td><td>1757.3333</td><td>0</td><td>       NA</td><td> 2.6733333</td><td>0.0000000</td><td>1</td><td> 21.284411</td><td>0.1256</td><td> 21.284411</td><td>MULTIPOINT ((8860177 560171...</td></tr>\n",
       "\t<tr><th scope=row>21</th><td> 981</td><td> 981</td><td>2</td><td>NA</td><td>NA</td><td>49.83762</td><td> 91.80905</td><td>2036.3333</td><td>0</td><td>       NA</td><td> 3.6633333</td><td>0.0000000</td><td>1</td><td> 29.162013</td><td>0.1256</td><td> 29.162013</td><td>MULTIPOINT ((8858242 560064...</td></tr>\n",
       "\t<tr><th scope=row>22</th><td> 999</td><td> 999</td><td>2</td><td>NA</td><td>NA</td><td>49.76758</td><td> 91.58099</td><td>2315.6667</td><td>0</td><td>       NA</td><td>19.9233333</td><td>0.0000000</td><td>1</td><td>158.614639</td><td>0.1256</td><td>158.614639</td><td>MULTIPOINT ((8836240 559481...</td></tr>\n",
       "\t<tr><th scope=row>23</th><td>1059</td><td>1059</td><td>2</td><td>NA</td><td>NA</td><td>49.72895</td><td> 91.85303</td><td>1338.3333</td><td>0</td><td>       NA</td><td> 7.5033333</td><td>0.0000000</td><td>1</td><td> 59.732511</td><td>0.1256</td><td> 59.732511</td><td>MULTIPOINT ((8862535 559158...</td></tr>\n",
       "\t<tr><th scope=row>24</th><td>1060</td><td>1060</td><td>2</td><td>NA</td><td>NA</td><td>49.70043</td><td> 91.68691</td><td>2225.3333</td><td>0</td><td>       NA</td><td>20.0333333</td><td>0.0000000</td><td>1</td><td>159.498496</td><td>0.1256</td><td>159.498496</td><td>MULTIPOINT ((8846492 558918...</td></tr>\n",
       "\t<tr><th scope=row>25</th><td>1099</td><td>1099</td><td>2</td><td>NA</td><td>NA</td><td>49.76161</td><td> 92.62364</td><td>1638.6667</td><td>0</td><td>14.873333</td><td>11.5566667</td><td>1.5533333</td><td>1</td><td> 92.036426</td><td>0.1256</td><td> 92.036426</td><td>MULTIPOINT ((8936850 559424...</td></tr>\n",
       "\t<tr><th scope=row>26</th><td>1120</td><td>1120</td><td>2</td><td>NA</td><td>NA</td><td>49.76257</td><td> 92.78898</td><td>1622.3333</td><td>0</td><td>       NA</td><td>14.1900000</td><td>1.3566667</td><td>1</td><td>112.953975</td><td>0.1256</td><td>112.953975</td><td>MULTIPOINT ((8952802 559440...</td></tr>\n",
       "\t<tr><th scope=row>27</th><td>1123</td><td>1123</td><td>2</td><td>NA</td><td>NA</td><td>50.39350</td><td>105.38166</td><td>1042.0000</td><td>1</td><td>       NA</td><td> 8.9866667</td><td>0.0000000</td><td>1</td><td> 71.544450</td><td>0.1256</td><td> 71.544450</td><td>MULTIPOINT ((10167836 56464...</td></tr>\n",
       "\t<tr><th scope=row>28</th><td>1170</td><td>1170</td><td>2</td><td>NA</td><td>NA</td><td>50.36662</td><td>105.69003</td><td>1004.3333</td><td>1</td><td>       NA</td><td>15.7200000</td><td>0.4200000</td><td>1</td><td>125.151050</td><td>0.1256</td><td>125.151050</td><td>MULTIPOINT ((10197582 56442...</td></tr>\n",
       "\t<tr><th scope=row>29</th><td>1177</td><td>1177</td><td>2</td><td>NA</td><td>NA</td><td>49.76157</td><td> 93.41402</td><td>1600.3333</td><td>0</td><td>       NA</td><td>13.8400000</td><td>1.5000000</td><td>1</td><td>110.168071</td><td>0.1256</td><td>110.168071</td><td>MULTIPOINT ((9013107 559432...</td></tr>\n",
       "\t<tr><th scope=row>30</th><td>1209</td><td>1209</td><td>2</td><td>NA</td><td>NA</td><td>49.74863</td><td> 93.33080</td><td>1616.3333</td><td>0</td><td>       NA</td><td> 7.3966667</td><td>1.3600000</td><td>1</td><td> 58.888311</td><td>0.1256</td><td> 58.888311</td><td>MULTIPOINT ((9005076 559324...</td></tr>\n",
       "\t<tr><th scope=row>⋮</th><td>⋮</td><td>⋮</td><td>⋮</td><td>⋮</td><td>⋮</td><td>⋮</td><td>⋮</td><td>⋮</td><td>⋮</td><td>⋮</td><td>⋮</td><td>⋮</td><td>⋮</td><td>⋮</td><td>⋮</td><td>⋮</td><td>⋮</td></tr>\n",
       "\t<tr><th scope=row>191</th><td>3082</td><td>3082</td><td>2</td><td>NA</td><td>NA</td><td>49.02142</td><td>107.17596</td><td>1132.6667</td><td>1</td><td>      NA</td><td> 2.9100000</td><td>5.48666667</td><td>1</td><td> 23.164492</td><td>0.1256</td><td> 23.164492</td><td>MULTIPOINT ((10340942 55323...</td></tr>\n",
       "\t<tr><th scope=row>192</th><td>3114</td><td>3114</td><td>2</td><td>NA</td><td>NA</td><td>49.04101</td><td>107.22987</td><td>1029.6667</td><td>1</td><td>      NA</td><td> 1.1966667</td><td>1.49000000</td><td>1</td><td>  9.537083</td><td>0.1256</td><td>  9.537083</td><td>MULTIPOINT ((10346141 55344...</td></tr>\n",
       "\t<tr><th scope=row>193</th><td>3128</td><td>3128</td><td>2</td><td>NA</td><td>NA</td><td>50.21084</td><td> 91.44199</td><td>2119.3333</td><td>0</td><td>15.94000</td><td>12.9200000</td><td>2.82000000</td><td>1</td><td>102.861083</td><td>0.1256</td><td>102.861083</td><td>MULTIPOINT ((8822834 563146...</td></tr>\n",
       "\t<tr><th scope=row>194</th><td>3211</td><td>3211</td><td>2</td><td>NA</td><td>NA</td><td>48.96904</td><td>107.27273</td><td>1044.6667</td><td>1</td><td>      NA</td><td> 1.3533333</td><td>0.23333333</td><td>1</td><td> 10.784159</td><td>0.1256</td><td> 10.784159</td><td>MULTIPOINT ((10350132 55284...</td></tr>\n",
       "\t<tr><th scope=row>195</th><td>3214</td><td>3214</td><td>2</td><td>NA</td><td>NA</td><td>48.89766</td><td>107.53956</td><td>1607.0000</td><td>1</td><td>14.45667</td><td>14.4566667</td><td>0.00000000</td><td>1</td><td>115.092489</td><td>0.1256</td><td>115.092489</td><td>MULTIPOINT ((10376026 55219...</td></tr>\n",
       "\t<tr><th scope=row>196</th><td>3247</td><td>3247</td><td>2</td><td>NA</td><td>NA</td><td>49.03916</td><td>107.27938</td><td> 992.0000</td><td>1</td><td>      NA</td><td> 2.0866667</td><td>0.88333333</td><td>1</td><td> 16.614446</td><td>0.1256</td><td> 16.614446</td><td>MULTIPOINT ((10350910 55361...</td></tr>\n",
       "\t<tr><th scope=row>197</th><td>3248</td><td>3248</td><td>2</td><td>NA</td><td>NA</td><td>48.89155</td><td>107.50717</td><td>1438.3333</td><td>1</td><td>10.09333</td><td>10.0933333</td><td>0.00000000</td><td>1</td><td> 80.375501</td><td>0.1256</td><td> 80.375501</td><td>MULTIPOINT ((10372034 55214...</td></tr>\n",
       "\t<tr><th scope=row>198</th><td>3325</td><td>3325</td><td>2</td><td>NA</td><td>NA</td><td>48.83387</td><td>107.32825</td><td>1207.0000</td><td>1</td><td>12.40000</td><td>10.9300000</td><td>0.00000000</td><td>1</td><td> 87.008691</td><td>0.1256</td><td> 87.008691</td><td>MULTIPOINT ((10355675 55165...</td></tr>\n",
       "\t<tr><th scope=row>199</th><td>3362</td><td>3362</td><td>2</td><td>NA</td><td>NA</td><td>48.79759</td><td>107.16608</td><td>1493.3333</td><td>1</td><td> 6.56000</td><td> 1.4466667</td><td>2.22000000</td><td>1</td><td> 11.526327</td><td>0.1256</td><td> 11.526327</td><td>MULTIPOINT ((10339983 55134...</td></tr>\n",
       "\t<tr><th scope=row>200</th><td>3382</td><td>3382</td><td>2</td><td>NA</td><td>NA</td><td>48.79951</td><td>105.24618</td><td>1335.0000</td><td>1</td><td>      NA</td><td> 9.5000000</td><td>0.18333333</td><td>1</td><td> 75.646760</td><td>0.1256</td><td> 75.646760</td><td>MULTIPOINT ((10154790 55136...</td></tr>\n",
       "\t<tr><th scope=row>201</th><td>3417</td><td>3417</td><td>2</td><td>NA</td><td>NA</td><td>48.76061</td><td>107.21903</td><td>1478.6667</td><td>1</td><td>13.39000</td><td> 5.9533333</td><td>3.30333333</td><td>1</td><td> 47.389025</td><td>0.1256</td><td> 47.389025</td><td>MULTIPOINT ((10345101 55103...</td></tr>\n",
       "\t<tr><th scope=row>202</th><td>3447</td><td>3447</td><td>2</td><td>NA</td><td>NA</td><td>48.72458</td><td>107.21704</td><td>1704.0000</td><td>1</td><td>21.49333</td><td>16.1500000</td><td>2.98000000</td><td>1</td><td>128.577798</td><td>0.1256</td><td>128.577798</td><td>MULTIPOINT ((10344907 55072...</td></tr>\n",
       "\t<tr><th scope=row>203</th><td>3541</td><td>3541</td><td>2</td><td>NA</td><td>NA</td><td>49.39264</td><td> 94.07253</td><td>2035.6667</td><td>0</td><td>      NA</td><td>22.2066667</td><td>0.83666667</td><td>1</td><td>176.801798</td><td>0.1256</td><td>176.801798</td><td>MULTIPOINT ((9076564 556354...</td></tr>\n",
       "\t<tr><th scope=row>204</th><td>3576</td><td>3576</td><td>2</td><td>NA</td><td>NA</td><td>48.83907</td><td>106.84049</td><td>1343.0000</td><td>1</td><td>      NA</td><td>11.7833333</td><td>0.51666667</td><td>1</td><td> 93.801497</td><td>0.1256</td><td> 93.801497</td><td>MULTIPOINT ((10308576 55169...</td></tr>\n",
       "\t<tr><th scope=row>205</th><td>3612</td><td>3612</td><td>2</td><td>NA</td><td>NA</td><td>50.21626</td><td> 91.94643</td><td> 840.0000</td><td>0</td><td>      NA</td><td> 0.0000000</td><td>0.00000000</td><td>1</td><td>  0.000000</td><td>0.1256</td><td>  0.000000</td><td>MULTIPOINT ((8871521 563188...</td></tr>\n",
       "\t<tr><th scope=row>206</th><td>3618</td><td>3618</td><td>2</td><td>NA</td><td>NA</td><td>49.80958</td><td> 91.85015</td><td>1844.3333</td><td>0</td><td>      NA</td><td> 4.8633333</td><td>0.11666667</td><td>1</td><td> 38.709907</td><td>0.1256</td><td> 38.709907</td><td>MULTIPOINT ((8862201 559825...</td></tr>\n",
       "\t<tr><th scope=row>207</th><td>3630</td><td>3630</td><td>2</td><td>NA</td><td>NA</td><td>49.55726</td><td> 94.99247</td><td>1677.0000</td><td>0</td><td>      NA</td><td> 5.5200000</td><td>2.63666667</td><td>1</td><td> 43.961930</td><td>0.1256</td><td> 43.961930</td><td>MULTIPOINT ((9165402 557724...</td></tr>\n",
       "\t<tr><th scope=row>208</th><td>3692</td><td>3692</td><td>2</td><td>NA</td><td>NA</td><td>49.53595</td><td> 95.40580</td><td>1954.0000</td><td>0</td><td>      NA</td><td>11.6733333</td><td>5.74000000</td><td>1</td><td> 92.938876</td><td>0.1256</td><td> 92.938876</td><td>MULTIPOINT ((9205328 557553...</td></tr>\n",
       "\t<tr><th scope=row>209</th><td>3694</td><td>3694</td><td>2</td><td>NA</td><td>NA</td><td>50.21605</td><td> 91.90432</td><td> 866.0000</td><td>0</td><td>      NA</td><td> 0.0000000</td><td>0.00000000</td><td>1</td><td>  0.000000</td><td>0.1256</td><td>  0.000000</td><td>MULTIPOINT ((8867437 563189...</td></tr>\n",
       "\t<tr><th scope=row>210</th><td>3697</td><td>3697</td><td>2</td><td>NA</td><td>NA</td><td>49.45586</td><td> 94.50857</td><td>2055.3333</td><td>0</td><td>35.31000</td><td>31.9066667</td><td>3.13333333</td><td>1</td><td>254.036782</td><td>0.1256</td><td>254.036782</td><td>MULTIPOINT ((9118710 556885...</td></tr>\n",
       "\t<tr><th scope=row>211</th><td>3699</td><td>3699</td><td>2</td><td>NA</td><td>NA</td><td>49.97158</td><td> 91.74187</td><td>1805.0000</td><td>0</td><td>33.44667</td><td>32.4233333</td><td>0.93333333</td><td>1</td><td>258.160402</td><td>0.1256</td><td>258.160402</td><td>MULTIPOINT ((8851766 561172...</td></tr>\n",
       "\t<tr><th scope=row>212</th><td>3722</td><td>3722</td><td>2</td><td>NA</td><td>NA</td><td>50.20301</td><td> 91.94669</td><td> 843.0000</td><td>0</td><td>      NA</td><td> 1.6266667</td><td>0.00000000</td><td>1</td><td> 12.945464</td><td>0.1256</td><td> 12.945464</td><td>MULTIPOINT ((8871525 563082...</td></tr>\n",
       "\t<tr><th scope=row>213</th><td>3723</td><td>3723</td><td>2</td><td>NA</td><td>NA</td><td>49.61849</td><td> 95.32626</td><td>1594.3333</td><td>0</td><td>      NA</td><td>13.9933333</td><td>3.57000000</td><td>1</td><td>111.398287</td><td>0.1256</td><td>111.398287</td><td>MULTIPOINT ((9197630 558241...</td></tr>\n",
       "\t<tr><th scope=row>214</th><td>3783</td><td>3783</td><td>2</td><td>NA</td><td>NA</td><td>50.33149</td><td> 91.83952</td><td> 865.0000</td><td>0</td><td>      NA</td><td> 0.0000000</td><td>0.00000000</td><td>1</td><td>  0.000000</td><td>0.1256</td><td>  0.000000</td><td>MULTIPOINT ((8861214 563982...</td></tr>\n",
       "\t<tr><th scope=row>215</th><td>3801</td><td>3801</td><td>2</td><td>NA</td><td>NA</td><td>49.43447</td><td> 95.06958</td><td>2093.0000</td><td>0</td><td>24.99000</td><td>19.8700000</td><td>4.65666667</td><td>1</td><td>158.214569</td><td>0.1256</td><td>158.214569</td><td>MULTIPOINT ((9172842 556706...</td></tr>\n",
       "\t<tr><th scope=row>216</th><td>3802</td><td>3802</td><td>2</td><td>NA</td><td>NA</td><td>50.28467</td><td> 91.85617</td><td> 866.3333</td><td>0</td><td>      NA</td><td> 0.0000000</td><td>0.00000000</td><td>1</td><td>  0.000000</td><td>0.1256</td><td>  0.000000</td><td>MULTIPOINT ((8862467 563760...</td></tr>\n",
       "\t<tr><th scope=row>217</th><td>3820</td><td>3820</td><td>2</td><td>NA</td><td>NA</td><td>49.99830</td><td> 91.72087</td><td>1618.6667</td><td>0</td><td>      NA</td><td> 0.5833333</td><td>0.00000000</td><td>1</td><td>  4.631380</td><td>0.1256</td><td>  4.631380</td><td>MULTIPOINT ((8849723 561393...</td></tr>\n",
       "\t<tr><th scope=row>218</th><td>3937</td><td>3937</td><td>2</td><td>NA</td><td>NA</td><td>50.32981</td><td> 91.35379</td><td>1812.3333</td><td>0</td><td>      NA</td><td> 3.7733333</td><td>0.08666667</td><td>1</td><td> 30.043043</td><td>0.1256</td><td> 30.043043</td><td>MULTIPOINT ((8814318 564119...</td></tr>\n",
       "\t<tr><th scope=row>219</th><td>4012</td><td>4012</td><td>2</td><td>NA</td><td>NA</td><td>50.32913</td><td> 91.26935</td><td>1919.3333</td><td>0</td><td>      NA</td><td> 3.7433333</td><td>0.00000000</td><td>1</td><td> 29.812055</td><td>0.1256</td><td> 29.812055</td><td>MULTIPOINT ((8806207 564114...</td></tr>\n",
       "\t<tr><th scope=row>220</th><td>4106</td><td>4106</td><td>2</td><td>NA</td><td>NA</td><td>50.34445</td><td> 91.37465</td><td>1834.3333</td><td>0</td><td>      NA</td><td> 8.4400000</td><td>0.00000000</td><td>1</td><td> 67.188248</td><td>0.1256</td><td> 67.188248</td><td>MULTIPOINT ((8816368 564239...</td></tr>\n",
       "</tbody>\n",
       "</table>\n"
      ],
      "text/latex": [
       "A sf: 220 × 17\n",
       "\\begin{tabular}{r|lllllllllllllllll}\n",
       "  & Group.1 & Unit\\_ID & Plot\\_ID & Administration.Unit & Village & GPS\\_Field\\_N & GPS\\_Field\\_E & Elevation & Count\\_of\\_Re\\_measurement\\_year & AGB.all..M111. & AGB..GS. & AGB..DW. & Inventory\\_status & coverted.to.GS.ha & Reference.area.R20m & AGB & geometry\\\\\n",
       "  & <int> & <dbl> & <dbl> & <dbl> & <dbl> & <dbl> & <dbl> & <dbl> & <dbl> & <dbl> & <dbl> & <dbl> & <dbl> & <dbl> & <dbl> & <dbl> & <MULTIPOINT {[}m{]}>\\\\\n",
       "\\hline\n",
       "\t1 &  368 &  368 & 2 & NA & NA & 50.61055 &  92.34011 &  873.6667 & 0 & 11.660000 & 11.4633333 & 0.1766667 & 1 &  91.269876 & 0.1256 &  91.269876 & MULTIPOINT ((8909490 566422...\\\\\n",
       "\t2 &  376 &  376 & 2 & NA & NA & 50.61059 &  92.36206 &  872.3333 & 0 &        NA & 10.3733333 & 0.0000000 & 1 &  82.570470 & 0.1256 &  82.570470 & MULTIPOINT ((8911607 566422...\\\\\n",
       "\t3 &  407 &  407 & 2 & NA & NA & 50.43660 &  91.22311 & 1926.0000 & 0 & 11.810000 & 11.8100000 & 0.0000000 & 1 &  94.012333 & 0.1256 &  94.012333 & MULTIPOINT ((8801720 565000...\\\\\n",
       "\t4 &  408 &  408 & 2 & NA & NA & 50.58451 &  92.53114 &  820.0000 & 0 & 16.666667 & 15.7100000 & 0.8566667 & 1 & 125.091471 & 0.1256 & 125.091471 & MULTIPOINT ((8927936 566209...\\\\\n",
       "\t5 &  438 &  438 & 2 & NA & NA & 50.55759 &  92.59494 &  777.3333 & 0 & 32.673333 & 31.8533333 & 0.5566667 & 1 & 253.590072 & 0.1256 & 253.590072 & MULTIPOINT ((8934069 565989...\\\\\n",
       "\t6 &  521 &  521 & 2 & NA & NA & 50.31765 &  91.37499 & 1506.0000 & 0 &        NA &  6.5166667 & 0.5333333 & 1 &  51.874753 & 0.1256 &  51.874753 & MULTIPOINT ((8816370 564024...\\\\\n",
       "\t7 &  522 &  522 & 2 & NA & NA & 50.53157 &  93.29475 &  895.3333 & 0 &        NA &  0.5333333 & 0.0000000 & 1 &   4.240520 & 0.1256 &   4.240520 & MULTIPOINT ((9001591 565769...\\\\\n",
       "\t8 &  538 &  538 & 2 & NA & NA & 50.27547 &  91.22986 & 2207.6667 & 0 &        NA &  4.3966667 & 0.0000000 & 1 &  34.996181 & 0.1256 &  34.996181 & MULTIPOINT ((8802346 563671...\\\\\n",
       "\t9 &  573 &  573 & 2 & NA & NA & 50.55359 &  94.05647 &  939.6667 & 0 &        NA &  0.2766667 & 0.0000000 & 1 &   2.203575 & 0.1256 &   2.203575 & MULTIPOINT ((9075113 565949...\\\\\n",
       "\t10 &  669 &  669 & 2 & NA & NA & 50.14456 &  91.52857 & 1956.3333 & 0 &        NA &  7.7166667 & 0.0000000 & 1 &  61.439444 & 0.1256 &  61.439444 & MULTIPOINT ((8831194 562593...\\\\\n",
       "\t11 &  727 &  727 & 2 & NA & NA & 50.09064 &  91.57268 & 1813.3333 & 0 &        NA &  2.7233333 & 1.0100000 & 1 &  21.676858 & 0.1256 &  21.676858 & MULTIPOINT ((8835439 562149...\\\\\n",
       "\t12 &  778 &  778 & 2 & NA & NA & 50.00967 &  91.53200 & 2181.3333 & 0 &        NA & 17.9233333 & 0.0000000 & 1 & 142.703109 & 0.1256 & 142.703109 & MULTIPOINT ((8831517 561487...\\\\\n",
       "\t13 &  849 &  849 & 2 & NA & NA & 49.94357 &  91.65989 & 2219.0000 & 0 &        NA &  9.3933333 & 0.0000000 & 1 &  74.774358 & 0.1256 &  74.774358 & MULTIPOINT ((8843853 560940...\\\\\n",
       "\t14 &  885 &  885 & 2 & NA & NA & 49.87060 &  91.26522 & 2258.6667 & 0 & 18.920000 & 18.6066667 & 0.0900000 & 1 & 148.152041 & 0.1256 & 148.152041 & MULTIPOINT ((8805780 560336...\\\\\n",
       "\t15 &  895 &  895 & 2 & NA & NA & 49.91761 &  91.78611 & 1685.3333 & 0 &        NA & 10.4433333 & 0.0000000 & 1 &  83.150023 & 0.1256 &  83.150023 & MULTIPOINT ((8856042 560726...\\\\\n",
       "\t16 &  922 &  922 & 2 & NA & NA & 49.81345 &  91.03767 & 2342.0000 & 0 &  7.563333 &  7.3000000 & 0.2366667 & 1 &  58.138039 & 0.1256 &  58.138039 & MULTIPOINT ((8783856 559862...\\\\\n",
       "\t17 &  925 &  925 & 2 & NA & NA & 49.89161 &  91.80708 & 1777.0000 & 0 &        NA &  5.6500000 & 0.2366667 & 1 &  44.974259 & 0.1256 &  44.974259 & MULTIPOINT ((8858059 560510...\\\\\n",
       "\t18 &  958 &  958 & 2 & NA & NA & 49.83370 &  91.47506 & 2204.0000 & 0 &        NA & 17.0666667 & 0.1900000 & 1 & 135.866744 & 0.1256 & 135.866744 & MULTIPOINT ((8826029 560031...\\\\\n",
       "\t19 &  959 &  959 & 2 & NA & NA & 49.78858 &  91.14303 & 2356.6667 & 0 & 14.016667 & 13.5300000 & 0.4633333 & 1 & 107.727808 & 0.1256 & 107.727808 & MULTIPOINT ((8793986 559656...\\\\\n",
       "\t20 &  962 &  962 & 2 & NA & NA & 49.85058 &  91.82917 & 1757.3333 & 0 &        NA &  2.6733333 & 0.0000000 & 1 &  21.284411 & 0.1256 &  21.284411 & MULTIPOINT ((8860177 560171...\\\\\n",
       "\t21 &  981 &  981 & 2 & NA & NA & 49.83762 &  91.80905 & 2036.3333 & 0 &        NA &  3.6633333 & 0.0000000 & 1 &  29.162013 & 0.1256 &  29.162013 & MULTIPOINT ((8858242 560064...\\\\\n",
       "\t22 &  999 &  999 & 2 & NA & NA & 49.76758 &  91.58099 & 2315.6667 & 0 &        NA & 19.9233333 & 0.0000000 & 1 & 158.614639 & 0.1256 & 158.614639 & MULTIPOINT ((8836240 559481...\\\\\n",
       "\t23 & 1059 & 1059 & 2 & NA & NA & 49.72895 &  91.85303 & 1338.3333 & 0 &        NA &  7.5033333 & 0.0000000 & 1 &  59.732511 & 0.1256 &  59.732511 & MULTIPOINT ((8862535 559158...\\\\\n",
       "\t24 & 1060 & 1060 & 2 & NA & NA & 49.70043 &  91.68691 & 2225.3333 & 0 &        NA & 20.0333333 & 0.0000000 & 1 & 159.498496 & 0.1256 & 159.498496 & MULTIPOINT ((8846492 558918...\\\\\n",
       "\t25 & 1099 & 1099 & 2 & NA & NA & 49.76161 &  92.62364 & 1638.6667 & 0 & 14.873333 & 11.5566667 & 1.5533333 & 1 &  92.036426 & 0.1256 &  92.036426 & MULTIPOINT ((8936850 559424...\\\\\n",
       "\t26 & 1120 & 1120 & 2 & NA & NA & 49.76257 &  92.78898 & 1622.3333 & 0 &        NA & 14.1900000 & 1.3566667 & 1 & 112.953975 & 0.1256 & 112.953975 & MULTIPOINT ((8952802 559440...\\\\\n",
       "\t27 & 1123 & 1123 & 2 & NA & NA & 50.39350 & 105.38166 & 1042.0000 & 1 &        NA &  8.9866667 & 0.0000000 & 1 &  71.544450 & 0.1256 &  71.544450 & MULTIPOINT ((10167836 56464...\\\\\n",
       "\t28 & 1170 & 1170 & 2 & NA & NA & 50.36662 & 105.69003 & 1004.3333 & 1 &        NA & 15.7200000 & 0.4200000 & 1 & 125.151050 & 0.1256 & 125.151050 & MULTIPOINT ((10197582 56442...\\\\\n",
       "\t29 & 1177 & 1177 & 2 & NA & NA & 49.76157 &  93.41402 & 1600.3333 & 0 &        NA & 13.8400000 & 1.5000000 & 1 & 110.168071 & 0.1256 & 110.168071 & MULTIPOINT ((9013107 559432...\\\\\n",
       "\t30 & 1209 & 1209 & 2 & NA & NA & 49.74863 &  93.33080 & 1616.3333 & 0 &        NA &  7.3966667 & 1.3600000 & 1 &  58.888311 & 0.1256 &  58.888311 & MULTIPOINT ((9005076 559324...\\\\\n",
       "\t⋮ & ⋮ & ⋮ & ⋮ & ⋮ & ⋮ & ⋮ & ⋮ & ⋮ & ⋮ & ⋮ & ⋮ & ⋮ & ⋮ & ⋮ & ⋮ & ⋮ & ⋮\\\\\n",
       "\t191 & 3082 & 3082 & 2 & NA & NA & 49.02142 & 107.17596 & 1132.6667 & 1 &       NA &  2.9100000 & 5.48666667 & 1 &  23.164492 & 0.1256 &  23.164492 & MULTIPOINT ((10340942 55323...\\\\\n",
       "\t192 & 3114 & 3114 & 2 & NA & NA & 49.04101 & 107.22987 & 1029.6667 & 1 &       NA &  1.1966667 & 1.49000000 & 1 &   9.537083 & 0.1256 &   9.537083 & MULTIPOINT ((10346141 55344...\\\\\n",
       "\t193 & 3128 & 3128 & 2 & NA & NA & 50.21084 &  91.44199 & 2119.3333 & 0 & 15.94000 & 12.9200000 & 2.82000000 & 1 & 102.861083 & 0.1256 & 102.861083 & MULTIPOINT ((8822834 563146...\\\\\n",
       "\t194 & 3211 & 3211 & 2 & NA & NA & 48.96904 & 107.27273 & 1044.6667 & 1 &       NA &  1.3533333 & 0.23333333 & 1 &  10.784159 & 0.1256 &  10.784159 & MULTIPOINT ((10350132 55284...\\\\\n",
       "\t195 & 3214 & 3214 & 2 & NA & NA & 48.89766 & 107.53956 & 1607.0000 & 1 & 14.45667 & 14.4566667 & 0.00000000 & 1 & 115.092489 & 0.1256 & 115.092489 & MULTIPOINT ((10376026 55219...\\\\\n",
       "\t196 & 3247 & 3247 & 2 & NA & NA & 49.03916 & 107.27938 &  992.0000 & 1 &       NA &  2.0866667 & 0.88333333 & 1 &  16.614446 & 0.1256 &  16.614446 & MULTIPOINT ((10350910 55361...\\\\\n",
       "\t197 & 3248 & 3248 & 2 & NA & NA & 48.89155 & 107.50717 & 1438.3333 & 1 & 10.09333 & 10.0933333 & 0.00000000 & 1 &  80.375501 & 0.1256 &  80.375501 & MULTIPOINT ((10372034 55214...\\\\\n",
       "\t198 & 3325 & 3325 & 2 & NA & NA & 48.83387 & 107.32825 & 1207.0000 & 1 & 12.40000 & 10.9300000 & 0.00000000 & 1 &  87.008691 & 0.1256 &  87.008691 & MULTIPOINT ((10355675 55165...\\\\\n",
       "\t199 & 3362 & 3362 & 2 & NA & NA & 48.79759 & 107.16608 & 1493.3333 & 1 &  6.56000 &  1.4466667 & 2.22000000 & 1 &  11.526327 & 0.1256 &  11.526327 & MULTIPOINT ((10339983 55134...\\\\\n",
       "\t200 & 3382 & 3382 & 2 & NA & NA & 48.79951 & 105.24618 & 1335.0000 & 1 &       NA &  9.5000000 & 0.18333333 & 1 &  75.646760 & 0.1256 &  75.646760 & MULTIPOINT ((10154790 55136...\\\\\n",
       "\t201 & 3417 & 3417 & 2 & NA & NA & 48.76061 & 107.21903 & 1478.6667 & 1 & 13.39000 &  5.9533333 & 3.30333333 & 1 &  47.389025 & 0.1256 &  47.389025 & MULTIPOINT ((10345101 55103...\\\\\n",
       "\t202 & 3447 & 3447 & 2 & NA & NA & 48.72458 & 107.21704 & 1704.0000 & 1 & 21.49333 & 16.1500000 & 2.98000000 & 1 & 128.577798 & 0.1256 & 128.577798 & MULTIPOINT ((10344907 55072...\\\\\n",
       "\t203 & 3541 & 3541 & 2 & NA & NA & 49.39264 &  94.07253 & 2035.6667 & 0 &       NA & 22.2066667 & 0.83666667 & 1 & 176.801798 & 0.1256 & 176.801798 & MULTIPOINT ((9076564 556354...\\\\\n",
       "\t204 & 3576 & 3576 & 2 & NA & NA & 48.83907 & 106.84049 & 1343.0000 & 1 &       NA & 11.7833333 & 0.51666667 & 1 &  93.801497 & 0.1256 &  93.801497 & MULTIPOINT ((10308576 55169...\\\\\n",
       "\t205 & 3612 & 3612 & 2 & NA & NA & 50.21626 &  91.94643 &  840.0000 & 0 &       NA &  0.0000000 & 0.00000000 & 1 &   0.000000 & 0.1256 &   0.000000 & MULTIPOINT ((8871521 563188...\\\\\n",
       "\t206 & 3618 & 3618 & 2 & NA & NA & 49.80958 &  91.85015 & 1844.3333 & 0 &       NA &  4.8633333 & 0.11666667 & 1 &  38.709907 & 0.1256 &  38.709907 & MULTIPOINT ((8862201 559825...\\\\\n",
       "\t207 & 3630 & 3630 & 2 & NA & NA & 49.55726 &  94.99247 & 1677.0000 & 0 &       NA &  5.5200000 & 2.63666667 & 1 &  43.961930 & 0.1256 &  43.961930 & MULTIPOINT ((9165402 557724...\\\\\n",
       "\t208 & 3692 & 3692 & 2 & NA & NA & 49.53595 &  95.40580 & 1954.0000 & 0 &       NA & 11.6733333 & 5.74000000 & 1 &  92.938876 & 0.1256 &  92.938876 & MULTIPOINT ((9205328 557553...\\\\\n",
       "\t209 & 3694 & 3694 & 2 & NA & NA & 50.21605 &  91.90432 &  866.0000 & 0 &       NA &  0.0000000 & 0.00000000 & 1 &   0.000000 & 0.1256 &   0.000000 & MULTIPOINT ((8867437 563189...\\\\\n",
       "\t210 & 3697 & 3697 & 2 & NA & NA & 49.45586 &  94.50857 & 2055.3333 & 0 & 35.31000 & 31.9066667 & 3.13333333 & 1 & 254.036782 & 0.1256 & 254.036782 & MULTIPOINT ((9118710 556885...\\\\\n",
       "\t211 & 3699 & 3699 & 2 & NA & NA & 49.97158 &  91.74187 & 1805.0000 & 0 & 33.44667 & 32.4233333 & 0.93333333 & 1 & 258.160402 & 0.1256 & 258.160402 & MULTIPOINT ((8851766 561172...\\\\\n",
       "\t212 & 3722 & 3722 & 2 & NA & NA & 50.20301 &  91.94669 &  843.0000 & 0 &       NA &  1.6266667 & 0.00000000 & 1 &  12.945464 & 0.1256 &  12.945464 & MULTIPOINT ((8871525 563082...\\\\\n",
       "\t213 & 3723 & 3723 & 2 & NA & NA & 49.61849 &  95.32626 & 1594.3333 & 0 &       NA & 13.9933333 & 3.57000000 & 1 & 111.398287 & 0.1256 & 111.398287 & MULTIPOINT ((9197630 558241...\\\\\n",
       "\t214 & 3783 & 3783 & 2 & NA & NA & 50.33149 &  91.83952 &  865.0000 & 0 &       NA &  0.0000000 & 0.00000000 & 1 &   0.000000 & 0.1256 &   0.000000 & MULTIPOINT ((8861214 563982...\\\\\n",
       "\t215 & 3801 & 3801 & 2 & NA & NA & 49.43447 &  95.06958 & 2093.0000 & 0 & 24.99000 & 19.8700000 & 4.65666667 & 1 & 158.214569 & 0.1256 & 158.214569 & MULTIPOINT ((9172842 556706...\\\\\n",
       "\t216 & 3802 & 3802 & 2 & NA & NA & 50.28467 &  91.85617 &  866.3333 & 0 &       NA &  0.0000000 & 0.00000000 & 1 &   0.000000 & 0.1256 &   0.000000 & MULTIPOINT ((8862467 563760...\\\\\n",
       "\t217 & 3820 & 3820 & 2 & NA & NA & 49.99830 &  91.72087 & 1618.6667 & 0 &       NA &  0.5833333 & 0.00000000 & 1 &   4.631380 & 0.1256 &   4.631380 & MULTIPOINT ((8849723 561393...\\\\\n",
       "\t218 & 3937 & 3937 & 2 & NA & NA & 50.32981 &  91.35379 & 1812.3333 & 0 &       NA &  3.7733333 & 0.08666667 & 1 &  30.043043 & 0.1256 &  30.043043 & MULTIPOINT ((8814318 564119...\\\\\n",
       "\t219 & 4012 & 4012 & 2 & NA & NA & 50.32913 &  91.26935 & 1919.3333 & 0 &       NA &  3.7433333 & 0.00000000 & 1 &  29.812055 & 0.1256 &  29.812055 & MULTIPOINT ((8806207 564114...\\\\\n",
       "\t220 & 4106 & 4106 & 2 & NA & NA & 50.34445 &  91.37465 & 1834.3333 & 0 &       NA &  8.4400000 & 0.00000000 & 1 &  67.188248 & 0.1256 &  67.188248 & MULTIPOINT ((8816368 564239...\\\\\n",
       "\\end{tabular}\n"
      ],
      "text/markdown": [
       "\n",
       "A sf: 220 × 17\n",
       "\n",
       "| <!--/--> | Group.1 &lt;int&gt; | Unit_ID &lt;dbl&gt; | Plot_ID &lt;dbl&gt; | Administration.Unit &lt;dbl&gt; | Village &lt;dbl&gt; | GPS_Field_N &lt;dbl&gt; | GPS_Field_E &lt;dbl&gt; | Elevation &lt;dbl&gt; | Count_of_Re_measurement_year &lt;dbl&gt; | AGB.all..M111. &lt;dbl&gt; | AGB..GS. &lt;dbl&gt; | AGB..DW. &lt;dbl&gt; | Inventory_status &lt;dbl&gt; | coverted.to.GS.ha &lt;dbl&gt; | Reference.area.R20m &lt;dbl&gt; | AGB &lt;dbl&gt; | geometry &lt;MULTIPOINT [m]&gt; |\n",
       "|---|---|---|---|---|---|---|---|---|---|---|---|---|---|---|---|---|---|\n",
       "| 1 |  368 |  368 | 2 | NA | NA | 50.61055 |  92.34011 |  873.6667 | 0 | 11.660000 | 11.4633333 | 0.1766667 | 1 |  91.269876 | 0.1256 |  91.269876 | MULTIPOINT ((8909490 566422... |\n",
       "| 2 |  376 |  376 | 2 | NA | NA | 50.61059 |  92.36206 |  872.3333 | 0 |        NA | 10.3733333 | 0.0000000 | 1 |  82.570470 | 0.1256 |  82.570470 | MULTIPOINT ((8911607 566422... |\n",
       "| 3 |  407 |  407 | 2 | NA | NA | 50.43660 |  91.22311 | 1926.0000 | 0 | 11.810000 | 11.8100000 | 0.0000000 | 1 |  94.012333 | 0.1256 |  94.012333 | MULTIPOINT ((8801720 565000... |\n",
       "| 4 |  408 |  408 | 2 | NA | NA | 50.58451 |  92.53114 |  820.0000 | 0 | 16.666667 | 15.7100000 | 0.8566667 | 1 | 125.091471 | 0.1256 | 125.091471 | MULTIPOINT ((8927936 566209... |\n",
       "| 5 |  438 |  438 | 2 | NA | NA | 50.55759 |  92.59494 |  777.3333 | 0 | 32.673333 | 31.8533333 | 0.5566667 | 1 | 253.590072 | 0.1256 | 253.590072 | MULTIPOINT ((8934069 565989... |\n",
       "| 6 |  521 |  521 | 2 | NA | NA | 50.31765 |  91.37499 | 1506.0000 | 0 |        NA |  6.5166667 | 0.5333333 | 1 |  51.874753 | 0.1256 |  51.874753 | MULTIPOINT ((8816370 564024... |\n",
       "| 7 |  522 |  522 | 2 | NA | NA | 50.53157 |  93.29475 |  895.3333 | 0 |        NA |  0.5333333 | 0.0000000 | 1 |   4.240520 | 0.1256 |   4.240520 | MULTIPOINT ((9001591 565769... |\n",
       "| 8 |  538 |  538 | 2 | NA | NA | 50.27547 |  91.22986 | 2207.6667 | 0 |        NA |  4.3966667 | 0.0000000 | 1 |  34.996181 | 0.1256 |  34.996181 | MULTIPOINT ((8802346 563671... |\n",
       "| 9 |  573 |  573 | 2 | NA | NA | 50.55359 |  94.05647 |  939.6667 | 0 |        NA |  0.2766667 | 0.0000000 | 1 |   2.203575 | 0.1256 |   2.203575 | MULTIPOINT ((9075113 565949... |\n",
       "| 10 |  669 |  669 | 2 | NA | NA | 50.14456 |  91.52857 | 1956.3333 | 0 |        NA |  7.7166667 | 0.0000000 | 1 |  61.439444 | 0.1256 |  61.439444 | MULTIPOINT ((8831194 562593... |\n",
       "| 11 |  727 |  727 | 2 | NA | NA | 50.09064 |  91.57268 | 1813.3333 | 0 |        NA |  2.7233333 | 1.0100000 | 1 |  21.676858 | 0.1256 |  21.676858 | MULTIPOINT ((8835439 562149... |\n",
       "| 12 |  778 |  778 | 2 | NA | NA | 50.00967 |  91.53200 | 2181.3333 | 0 |        NA | 17.9233333 | 0.0000000 | 1 | 142.703109 | 0.1256 | 142.703109 | MULTIPOINT ((8831517 561487... |\n",
       "| 13 |  849 |  849 | 2 | NA | NA | 49.94357 |  91.65989 | 2219.0000 | 0 |        NA |  9.3933333 | 0.0000000 | 1 |  74.774358 | 0.1256 |  74.774358 | MULTIPOINT ((8843853 560940... |\n",
       "| 14 |  885 |  885 | 2 | NA | NA | 49.87060 |  91.26522 | 2258.6667 | 0 | 18.920000 | 18.6066667 | 0.0900000 | 1 | 148.152041 | 0.1256 | 148.152041 | MULTIPOINT ((8805780 560336... |\n",
       "| 15 |  895 |  895 | 2 | NA | NA | 49.91761 |  91.78611 | 1685.3333 | 0 |        NA | 10.4433333 | 0.0000000 | 1 |  83.150023 | 0.1256 |  83.150023 | MULTIPOINT ((8856042 560726... |\n",
       "| 16 |  922 |  922 | 2 | NA | NA | 49.81345 |  91.03767 | 2342.0000 | 0 |  7.563333 |  7.3000000 | 0.2366667 | 1 |  58.138039 | 0.1256 |  58.138039 | MULTIPOINT ((8783856 559862... |\n",
       "| 17 |  925 |  925 | 2 | NA | NA | 49.89161 |  91.80708 | 1777.0000 | 0 |        NA |  5.6500000 | 0.2366667 | 1 |  44.974259 | 0.1256 |  44.974259 | MULTIPOINT ((8858059 560510... |\n",
       "| 18 |  958 |  958 | 2 | NA | NA | 49.83370 |  91.47506 | 2204.0000 | 0 |        NA | 17.0666667 | 0.1900000 | 1 | 135.866744 | 0.1256 | 135.866744 | MULTIPOINT ((8826029 560031... |\n",
       "| 19 |  959 |  959 | 2 | NA | NA | 49.78858 |  91.14303 | 2356.6667 | 0 | 14.016667 | 13.5300000 | 0.4633333 | 1 | 107.727808 | 0.1256 | 107.727808 | MULTIPOINT ((8793986 559656... |\n",
       "| 20 |  962 |  962 | 2 | NA | NA | 49.85058 |  91.82917 | 1757.3333 | 0 |        NA |  2.6733333 | 0.0000000 | 1 |  21.284411 | 0.1256 |  21.284411 | MULTIPOINT ((8860177 560171... |\n",
       "| 21 |  981 |  981 | 2 | NA | NA | 49.83762 |  91.80905 | 2036.3333 | 0 |        NA |  3.6633333 | 0.0000000 | 1 |  29.162013 | 0.1256 |  29.162013 | MULTIPOINT ((8858242 560064... |\n",
       "| 22 |  999 |  999 | 2 | NA | NA | 49.76758 |  91.58099 | 2315.6667 | 0 |        NA | 19.9233333 | 0.0000000 | 1 | 158.614639 | 0.1256 | 158.614639 | MULTIPOINT ((8836240 559481... |\n",
       "| 23 | 1059 | 1059 | 2 | NA | NA | 49.72895 |  91.85303 | 1338.3333 | 0 |        NA |  7.5033333 | 0.0000000 | 1 |  59.732511 | 0.1256 |  59.732511 | MULTIPOINT ((8862535 559158... |\n",
       "| 24 | 1060 | 1060 | 2 | NA | NA | 49.70043 |  91.68691 | 2225.3333 | 0 |        NA | 20.0333333 | 0.0000000 | 1 | 159.498496 | 0.1256 | 159.498496 | MULTIPOINT ((8846492 558918... |\n",
       "| 25 | 1099 | 1099 | 2 | NA | NA | 49.76161 |  92.62364 | 1638.6667 | 0 | 14.873333 | 11.5566667 | 1.5533333 | 1 |  92.036426 | 0.1256 |  92.036426 | MULTIPOINT ((8936850 559424... |\n",
       "| 26 | 1120 | 1120 | 2 | NA | NA | 49.76257 |  92.78898 | 1622.3333 | 0 |        NA | 14.1900000 | 1.3566667 | 1 | 112.953975 | 0.1256 | 112.953975 | MULTIPOINT ((8952802 559440... |\n",
       "| 27 | 1123 | 1123 | 2 | NA | NA | 50.39350 | 105.38166 | 1042.0000 | 1 |        NA |  8.9866667 | 0.0000000 | 1 |  71.544450 | 0.1256 |  71.544450 | MULTIPOINT ((10167836 56464... |\n",
       "| 28 | 1170 | 1170 | 2 | NA | NA | 50.36662 | 105.69003 | 1004.3333 | 1 |        NA | 15.7200000 | 0.4200000 | 1 | 125.151050 | 0.1256 | 125.151050 | MULTIPOINT ((10197582 56442... |\n",
       "| 29 | 1177 | 1177 | 2 | NA | NA | 49.76157 |  93.41402 | 1600.3333 | 0 |        NA | 13.8400000 | 1.5000000 | 1 | 110.168071 | 0.1256 | 110.168071 | MULTIPOINT ((9013107 559432... |\n",
       "| 30 | 1209 | 1209 | 2 | NA | NA | 49.74863 |  93.33080 | 1616.3333 | 0 |        NA |  7.3966667 | 1.3600000 | 1 |  58.888311 | 0.1256 |  58.888311 | MULTIPOINT ((9005076 559324... |\n",
       "| ⋮ | ⋮ | ⋮ | ⋮ | ⋮ | ⋮ | ⋮ | ⋮ | ⋮ | ⋮ | ⋮ | ⋮ | ⋮ | ⋮ | ⋮ | ⋮ | ⋮ | ⋮ |\n",
       "| 191 | 3082 | 3082 | 2 | NA | NA | 49.02142 | 107.17596 | 1132.6667 | 1 |       NA |  2.9100000 | 5.48666667 | 1 |  23.164492 | 0.1256 |  23.164492 | MULTIPOINT ((10340942 55323... |\n",
       "| 192 | 3114 | 3114 | 2 | NA | NA | 49.04101 | 107.22987 | 1029.6667 | 1 |       NA |  1.1966667 | 1.49000000 | 1 |   9.537083 | 0.1256 |   9.537083 | MULTIPOINT ((10346141 55344... |\n",
       "| 193 | 3128 | 3128 | 2 | NA | NA | 50.21084 |  91.44199 | 2119.3333 | 0 | 15.94000 | 12.9200000 | 2.82000000 | 1 | 102.861083 | 0.1256 | 102.861083 | MULTIPOINT ((8822834 563146... |\n",
       "| 194 | 3211 | 3211 | 2 | NA | NA | 48.96904 | 107.27273 | 1044.6667 | 1 |       NA |  1.3533333 | 0.23333333 | 1 |  10.784159 | 0.1256 |  10.784159 | MULTIPOINT ((10350132 55284... |\n",
       "| 195 | 3214 | 3214 | 2 | NA | NA | 48.89766 | 107.53956 | 1607.0000 | 1 | 14.45667 | 14.4566667 | 0.00000000 | 1 | 115.092489 | 0.1256 | 115.092489 | MULTIPOINT ((10376026 55219... |\n",
       "| 196 | 3247 | 3247 | 2 | NA | NA | 49.03916 | 107.27938 |  992.0000 | 1 |       NA |  2.0866667 | 0.88333333 | 1 |  16.614446 | 0.1256 |  16.614446 | MULTIPOINT ((10350910 55361... |\n",
       "| 197 | 3248 | 3248 | 2 | NA | NA | 48.89155 | 107.50717 | 1438.3333 | 1 | 10.09333 | 10.0933333 | 0.00000000 | 1 |  80.375501 | 0.1256 |  80.375501 | MULTIPOINT ((10372034 55214... |\n",
       "| 198 | 3325 | 3325 | 2 | NA | NA | 48.83387 | 107.32825 | 1207.0000 | 1 | 12.40000 | 10.9300000 | 0.00000000 | 1 |  87.008691 | 0.1256 |  87.008691 | MULTIPOINT ((10355675 55165... |\n",
       "| 199 | 3362 | 3362 | 2 | NA | NA | 48.79759 | 107.16608 | 1493.3333 | 1 |  6.56000 |  1.4466667 | 2.22000000 | 1 |  11.526327 | 0.1256 |  11.526327 | MULTIPOINT ((10339983 55134... |\n",
       "| 200 | 3382 | 3382 | 2 | NA | NA | 48.79951 | 105.24618 | 1335.0000 | 1 |       NA |  9.5000000 | 0.18333333 | 1 |  75.646760 | 0.1256 |  75.646760 | MULTIPOINT ((10154790 55136... |\n",
       "| 201 | 3417 | 3417 | 2 | NA | NA | 48.76061 | 107.21903 | 1478.6667 | 1 | 13.39000 |  5.9533333 | 3.30333333 | 1 |  47.389025 | 0.1256 |  47.389025 | MULTIPOINT ((10345101 55103... |\n",
       "| 202 | 3447 | 3447 | 2 | NA | NA | 48.72458 | 107.21704 | 1704.0000 | 1 | 21.49333 | 16.1500000 | 2.98000000 | 1 | 128.577798 | 0.1256 | 128.577798 | MULTIPOINT ((10344907 55072... |\n",
       "| 203 | 3541 | 3541 | 2 | NA | NA | 49.39264 |  94.07253 | 2035.6667 | 0 |       NA | 22.2066667 | 0.83666667 | 1 | 176.801798 | 0.1256 | 176.801798 | MULTIPOINT ((9076564 556354... |\n",
       "| 204 | 3576 | 3576 | 2 | NA | NA | 48.83907 | 106.84049 | 1343.0000 | 1 |       NA | 11.7833333 | 0.51666667 | 1 |  93.801497 | 0.1256 |  93.801497 | MULTIPOINT ((10308576 55169... |\n",
       "| 205 | 3612 | 3612 | 2 | NA | NA | 50.21626 |  91.94643 |  840.0000 | 0 |       NA |  0.0000000 | 0.00000000 | 1 |   0.000000 | 0.1256 |   0.000000 | MULTIPOINT ((8871521 563188... |\n",
       "| 206 | 3618 | 3618 | 2 | NA | NA | 49.80958 |  91.85015 | 1844.3333 | 0 |       NA |  4.8633333 | 0.11666667 | 1 |  38.709907 | 0.1256 |  38.709907 | MULTIPOINT ((8862201 559825... |\n",
       "| 207 | 3630 | 3630 | 2 | NA | NA | 49.55726 |  94.99247 | 1677.0000 | 0 |       NA |  5.5200000 | 2.63666667 | 1 |  43.961930 | 0.1256 |  43.961930 | MULTIPOINT ((9165402 557724... |\n",
       "| 208 | 3692 | 3692 | 2 | NA | NA | 49.53595 |  95.40580 | 1954.0000 | 0 |       NA | 11.6733333 | 5.74000000 | 1 |  92.938876 | 0.1256 |  92.938876 | MULTIPOINT ((9205328 557553... |\n",
       "| 209 | 3694 | 3694 | 2 | NA | NA | 50.21605 |  91.90432 |  866.0000 | 0 |       NA |  0.0000000 | 0.00000000 | 1 |   0.000000 | 0.1256 |   0.000000 | MULTIPOINT ((8867437 563189... |\n",
       "| 210 | 3697 | 3697 | 2 | NA | NA | 49.45586 |  94.50857 | 2055.3333 | 0 | 35.31000 | 31.9066667 | 3.13333333 | 1 | 254.036782 | 0.1256 | 254.036782 | MULTIPOINT ((9118710 556885... |\n",
       "| 211 | 3699 | 3699 | 2 | NA | NA | 49.97158 |  91.74187 | 1805.0000 | 0 | 33.44667 | 32.4233333 | 0.93333333 | 1 | 258.160402 | 0.1256 | 258.160402 | MULTIPOINT ((8851766 561172... |\n",
       "| 212 | 3722 | 3722 | 2 | NA | NA | 50.20301 |  91.94669 |  843.0000 | 0 |       NA |  1.6266667 | 0.00000000 | 1 |  12.945464 | 0.1256 |  12.945464 | MULTIPOINT ((8871525 563082... |\n",
       "| 213 | 3723 | 3723 | 2 | NA | NA | 49.61849 |  95.32626 | 1594.3333 | 0 |       NA | 13.9933333 | 3.57000000 | 1 | 111.398287 | 0.1256 | 111.398287 | MULTIPOINT ((9197630 558241... |\n",
       "| 214 | 3783 | 3783 | 2 | NA | NA | 50.33149 |  91.83952 |  865.0000 | 0 |       NA |  0.0000000 | 0.00000000 | 1 |   0.000000 | 0.1256 |   0.000000 | MULTIPOINT ((8861214 563982... |\n",
       "| 215 | 3801 | 3801 | 2 | NA | NA | 49.43447 |  95.06958 | 2093.0000 | 0 | 24.99000 | 19.8700000 | 4.65666667 | 1 | 158.214569 | 0.1256 | 158.214569 | MULTIPOINT ((9172842 556706... |\n",
       "| 216 | 3802 | 3802 | 2 | NA | NA | 50.28467 |  91.85617 |  866.3333 | 0 |       NA |  0.0000000 | 0.00000000 | 1 |   0.000000 | 0.1256 |   0.000000 | MULTIPOINT ((8862467 563760... |\n",
       "| 217 | 3820 | 3820 | 2 | NA | NA | 49.99830 |  91.72087 | 1618.6667 | 0 |       NA |  0.5833333 | 0.00000000 | 1 |   4.631380 | 0.1256 |   4.631380 | MULTIPOINT ((8849723 561393... |\n",
       "| 218 | 3937 | 3937 | 2 | NA | NA | 50.32981 |  91.35379 | 1812.3333 | 0 |       NA |  3.7733333 | 0.08666667 | 1 |  30.043043 | 0.1256 |  30.043043 | MULTIPOINT ((8814318 564119... |\n",
       "| 219 | 4012 | 4012 | 2 | NA | NA | 50.32913 |  91.26935 | 1919.3333 | 0 |       NA |  3.7433333 | 0.00000000 | 1 |  29.812055 | 0.1256 |  29.812055 | MULTIPOINT ((8806207 564114... |\n",
       "| 220 | 4106 | 4106 | 2 | NA | NA | 50.34445 |  91.37465 | 1834.3333 | 0 |       NA |  8.4400000 | 0.00000000 | 1 |  67.188248 | 0.1256 |  67.188248 | MULTIPOINT ((8816368 564239... |\n",
       "\n"
      ],
      "text/plain": [
       "    Group.1 Unit_ID Plot_ID Administration.Unit Village GPS_Field_N GPS_Field_E\n",
       "1    368     368    2       NA                  NA      50.61055     92.34011  \n",
       "2    376     376    2       NA                  NA      50.61059     92.36206  \n",
       "3    407     407    2       NA                  NA      50.43660     91.22311  \n",
       "4    408     408    2       NA                  NA      50.58451     92.53114  \n",
       "5    438     438    2       NA                  NA      50.55759     92.59494  \n",
       "6    521     521    2       NA                  NA      50.31765     91.37499  \n",
       "7    522     522    2       NA                  NA      50.53157     93.29475  \n",
       "8    538     538    2       NA                  NA      50.27547     91.22986  \n",
       "9    573     573    2       NA                  NA      50.55359     94.05647  \n",
       "10   669     669    2       NA                  NA      50.14456     91.52857  \n",
       "11   727     727    2       NA                  NA      50.09064     91.57268  \n",
       "12   778     778    2       NA                  NA      50.00967     91.53200  \n",
       "13   849     849    2       NA                  NA      49.94357     91.65989  \n",
       "14   885     885    2       NA                  NA      49.87060     91.26522  \n",
       "15   895     895    2       NA                  NA      49.91761     91.78611  \n",
       "16   922     922    2       NA                  NA      49.81345     91.03767  \n",
       "17   925     925    2       NA                  NA      49.89161     91.80708  \n",
       "18   958     958    2       NA                  NA      49.83370     91.47506  \n",
       "19   959     959    2       NA                  NA      49.78858     91.14303  \n",
       "20   962     962    2       NA                  NA      49.85058     91.82917  \n",
       "21   981     981    2       NA                  NA      49.83762     91.80905  \n",
       "22   999     999    2       NA                  NA      49.76758     91.58099  \n",
       "23  1059    1059    2       NA                  NA      49.72895     91.85303  \n",
       "24  1060    1060    2       NA                  NA      49.70043     91.68691  \n",
       "25  1099    1099    2       NA                  NA      49.76161     92.62364  \n",
       "26  1120    1120    2       NA                  NA      49.76257     92.78898  \n",
       "27  1123    1123    2       NA                  NA      50.39350    105.38166  \n",
       "28  1170    1170    2       NA                  NA      50.36662    105.69003  \n",
       "29  1177    1177    2       NA                  NA      49.76157     93.41402  \n",
       "30  1209    1209    2       NA                  NA      49.74863     93.33080  \n",
       "⋮   ⋮       ⋮       ⋮       ⋮                   ⋮       ⋮           ⋮          \n",
       "191 3082    3082    2       NA                  NA      49.02142    107.17596  \n",
       "192 3114    3114    2       NA                  NA      49.04101    107.22987  \n",
       "193 3128    3128    2       NA                  NA      50.21084     91.44199  \n",
       "194 3211    3211    2       NA                  NA      48.96904    107.27273  \n",
       "195 3214    3214    2       NA                  NA      48.89766    107.53956  \n",
       "196 3247    3247    2       NA                  NA      49.03916    107.27938  \n",
       "197 3248    3248    2       NA                  NA      48.89155    107.50717  \n",
       "198 3325    3325    2       NA                  NA      48.83387    107.32825  \n",
       "199 3362    3362    2       NA                  NA      48.79759    107.16608  \n",
       "200 3382    3382    2       NA                  NA      48.79951    105.24618  \n",
       "201 3417    3417    2       NA                  NA      48.76061    107.21903  \n",
       "202 3447    3447    2       NA                  NA      48.72458    107.21704  \n",
       "203 3541    3541    2       NA                  NA      49.39264     94.07253  \n",
       "204 3576    3576    2       NA                  NA      48.83907    106.84049  \n",
       "205 3612    3612    2       NA                  NA      50.21626     91.94643  \n",
       "206 3618    3618    2       NA                  NA      49.80958     91.85015  \n",
       "207 3630    3630    2       NA                  NA      49.55726     94.99247  \n",
       "208 3692    3692    2       NA                  NA      49.53595     95.40580  \n",
       "209 3694    3694    2       NA                  NA      50.21605     91.90432  \n",
       "210 3697    3697    2       NA                  NA      49.45586     94.50857  \n",
       "211 3699    3699    2       NA                  NA      49.97158     91.74187  \n",
       "212 3722    3722    2       NA                  NA      50.20301     91.94669  \n",
       "213 3723    3723    2       NA                  NA      49.61849     95.32626  \n",
       "214 3783    3783    2       NA                  NA      50.33149     91.83952  \n",
       "215 3801    3801    2       NA                  NA      49.43447     95.06958  \n",
       "216 3802    3802    2       NA                  NA      50.28467     91.85617  \n",
       "217 3820    3820    2       NA                  NA      49.99830     91.72087  \n",
       "218 3937    3937    2       NA                  NA      50.32981     91.35379  \n",
       "219 4012    4012    2       NA                  NA      50.32913     91.26935  \n",
       "220 4106    4106    2       NA                  NA      50.34445     91.37465  \n",
       "    Elevation Count_of_Re_measurement_year AGB.all..M111. AGB..GS.   AGB..DW.  \n",
       "1    873.6667 0                            11.660000      11.4633333 0.1766667 \n",
       "2    872.3333 0                                   NA      10.3733333 0.0000000 \n",
       "3   1926.0000 0                            11.810000      11.8100000 0.0000000 \n",
       "4    820.0000 0                            16.666667      15.7100000 0.8566667 \n",
       "5    777.3333 0                            32.673333      31.8533333 0.5566667 \n",
       "6   1506.0000 0                                   NA       6.5166667 0.5333333 \n",
       "7    895.3333 0                                   NA       0.5333333 0.0000000 \n",
       "8   2207.6667 0                                   NA       4.3966667 0.0000000 \n",
       "9    939.6667 0                                   NA       0.2766667 0.0000000 \n",
       "10  1956.3333 0                                   NA       7.7166667 0.0000000 \n",
       "11  1813.3333 0                                   NA       2.7233333 1.0100000 \n",
       "12  2181.3333 0                                   NA      17.9233333 0.0000000 \n",
       "13  2219.0000 0                                   NA       9.3933333 0.0000000 \n",
       "14  2258.6667 0                            18.920000      18.6066667 0.0900000 \n",
       "15  1685.3333 0                                   NA      10.4433333 0.0000000 \n",
       "16  2342.0000 0                             7.563333       7.3000000 0.2366667 \n",
       "17  1777.0000 0                                   NA       5.6500000 0.2366667 \n",
       "18  2204.0000 0                                   NA      17.0666667 0.1900000 \n",
       "19  2356.6667 0                            14.016667      13.5300000 0.4633333 \n",
       "20  1757.3333 0                                   NA       2.6733333 0.0000000 \n",
       "21  2036.3333 0                                   NA       3.6633333 0.0000000 \n",
       "22  2315.6667 0                                   NA      19.9233333 0.0000000 \n",
       "23  1338.3333 0                                   NA       7.5033333 0.0000000 \n",
       "24  2225.3333 0                                   NA      20.0333333 0.0000000 \n",
       "25  1638.6667 0                            14.873333      11.5566667 1.5533333 \n",
       "26  1622.3333 0                                   NA      14.1900000 1.3566667 \n",
       "27  1042.0000 1                                   NA       8.9866667 0.0000000 \n",
       "28  1004.3333 1                                   NA      15.7200000 0.4200000 \n",
       "29  1600.3333 0                                   NA      13.8400000 1.5000000 \n",
       "30  1616.3333 0                                   NA       7.3966667 1.3600000 \n",
       "⋮   ⋮         ⋮                            ⋮              ⋮          ⋮         \n",
       "191 1132.6667 1                                  NA        2.9100000 5.48666667\n",
       "192 1029.6667 1                                  NA        1.1966667 1.49000000\n",
       "193 2119.3333 0                            15.94000       12.9200000 2.82000000\n",
       "194 1044.6667 1                                  NA        1.3533333 0.23333333\n",
       "195 1607.0000 1                            14.45667       14.4566667 0.00000000\n",
       "196  992.0000 1                                  NA        2.0866667 0.88333333\n",
       "197 1438.3333 1                            10.09333       10.0933333 0.00000000\n",
       "198 1207.0000 1                            12.40000       10.9300000 0.00000000\n",
       "199 1493.3333 1                             6.56000        1.4466667 2.22000000\n",
       "200 1335.0000 1                                  NA        9.5000000 0.18333333\n",
       "201 1478.6667 1                            13.39000        5.9533333 3.30333333\n",
       "202 1704.0000 1                            21.49333       16.1500000 2.98000000\n",
       "203 2035.6667 0                                  NA       22.2066667 0.83666667\n",
       "204 1343.0000 1                                  NA       11.7833333 0.51666667\n",
       "205  840.0000 0                                  NA        0.0000000 0.00000000\n",
       "206 1844.3333 0                                  NA        4.8633333 0.11666667\n",
       "207 1677.0000 0                                  NA        5.5200000 2.63666667\n",
       "208 1954.0000 0                                  NA       11.6733333 5.74000000\n",
       "209  866.0000 0                                  NA        0.0000000 0.00000000\n",
       "210 2055.3333 0                            35.31000       31.9066667 3.13333333\n",
       "211 1805.0000 0                            33.44667       32.4233333 0.93333333\n",
       "212  843.0000 0                                  NA        1.6266667 0.00000000\n",
       "213 1594.3333 0                                  NA       13.9933333 3.57000000\n",
       "214  865.0000 0                                  NA        0.0000000 0.00000000\n",
       "215 2093.0000 0                            24.99000       19.8700000 4.65666667\n",
       "216  866.3333 0                                  NA        0.0000000 0.00000000\n",
       "217 1618.6667 0                                  NA        0.5833333 0.00000000\n",
       "218 1812.3333 0                                  NA        3.7733333 0.08666667\n",
       "219 1919.3333 0                                  NA        3.7433333 0.00000000\n",
       "220 1834.3333 0                                  NA        8.4400000 0.00000000\n",
       "    Inventory_status coverted.to.GS.ha Reference.area.R20m AGB       \n",
       "1   1                 91.269876        0.1256               91.269876\n",
       "2   1                 82.570470        0.1256               82.570470\n",
       "3   1                 94.012333        0.1256               94.012333\n",
       "4   1                125.091471        0.1256              125.091471\n",
       "5   1                253.590072        0.1256              253.590072\n",
       "6   1                 51.874753        0.1256               51.874753\n",
       "7   1                  4.240520        0.1256                4.240520\n",
       "8   1                 34.996181        0.1256               34.996181\n",
       "9   1                  2.203575        0.1256                2.203575\n",
       "10  1                 61.439444        0.1256               61.439444\n",
       "11  1                 21.676858        0.1256               21.676858\n",
       "12  1                142.703109        0.1256              142.703109\n",
       "13  1                 74.774358        0.1256               74.774358\n",
       "14  1                148.152041        0.1256              148.152041\n",
       "15  1                 83.150023        0.1256               83.150023\n",
       "16  1                 58.138039        0.1256               58.138039\n",
       "17  1                 44.974259        0.1256               44.974259\n",
       "18  1                135.866744        0.1256              135.866744\n",
       "19  1                107.727808        0.1256              107.727808\n",
       "20  1                 21.284411        0.1256               21.284411\n",
       "21  1                 29.162013        0.1256               29.162013\n",
       "22  1                158.614639        0.1256              158.614639\n",
       "23  1                 59.732511        0.1256               59.732511\n",
       "24  1                159.498496        0.1256              159.498496\n",
       "25  1                 92.036426        0.1256               92.036426\n",
       "26  1                112.953975        0.1256              112.953975\n",
       "27  1                 71.544450        0.1256               71.544450\n",
       "28  1                125.151050        0.1256              125.151050\n",
       "29  1                110.168071        0.1256              110.168071\n",
       "30  1                 58.888311        0.1256               58.888311\n",
       "⋮   ⋮                ⋮                 ⋮                   ⋮         \n",
       "191 1                 23.164492        0.1256               23.164492\n",
       "192 1                  9.537083        0.1256                9.537083\n",
       "193 1                102.861083        0.1256              102.861083\n",
       "194 1                 10.784159        0.1256               10.784159\n",
       "195 1                115.092489        0.1256              115.092489\n",
       "196 1                 16.614446        0.1256               16.614446\n",
       "197 1                 80.375501        0.1256               80.375501\n",
       "198 1                 87.008691        0.1256               87.008691\n",
       "199 1                 11.526327        0.1256               11.526327\n",
       "200 1                 75.646760        0.1256               75.646760\n",
       "201 1                 47.389025        0.1256               47.389025\n",
       "202 1                128.577798        0.1256              128.577798\n",
       "203 1                176.801798        0.1256              176.801798\n",
       "204 1                 93.801497        0.1256               93.801497\n",
       "205 1                  0.000000        0.1256                0.000000\n",
       "206 1                 38.709907        0.1256               38.709907\n",
       "207 1                 43.961930        0.1256               43.961930\n",
       "208 1                 92.938876        0.1256               92.938876\n",
       "209 1                  0.000000        0.1256                0.000000\n",
       "210 1                254.036782        0.1256              254.036782\n",
       "211 1                258.160402        0.1256              258.160402\n",
       "212 1                 12.945464        0.1256               12.945464\n",
       "213 1                111.398287        0.1256              111.398287\n",
       "214 1                  0.000000        0.1256                0.000000\n",
       "215 1                158.214569        0.1256              158.214569\n",
       "216 1                  0.000000        0.1256                0.000000\n",
       "217 1                  4.631380        0.1256                4.631380\n",
       "218 1                 30.043043        0.1256               30.043043\n",
       "219 1                 29.812055        0.1256               29.812055\n",
       "220 1                 67.188248        0.1256               67.188248\n",
       "    geometry                      \n",
       "1   MULTIPOINT ((8909490 566422...\n",
       "2   MULTIPOINT ((8911607 566422...\n",
       "3   MULTIPOINT ((8801720 565000...\n",
       "4   MULTIPOINT ((8927936 566209...\n",
       "5   MULTIPOINT ((8934069 565989...\n",
       "6   MULTIPOINT ((8816370 564024...\n",
       "7   MULTIPOINT ((9001591 565769...\n",
       "8   MULTIPOINT ((8802346 563671...\n",
       "9   MULTIPOINT ((9075113 565949...\n",
       "10  MULTIPOINT ((8831194 562593...\n",
       "11  MULTIPOINT ((8835439 562149...\n",
       "12  MULTIPOINT ((8831517 561487...\n",
       "13  MULTIPOINT ((8843853 560940...\n",
       "14  MULTIPOINT ((8805780 560336...\n",
       "15  MULTIPOINT ((8856042 560726...\n",
       "16  MULTIPOINT ((8783856 559862...\n",
       "17  MULTIPOINT ((8858059 560510...\n",
       "18  MULTIPOINT ((8826029 560031...\n",
       "19  MULTIPOINT ((8793986 559656...\n",
       "20  MULTIPOINT ((8860177 560171...\n",
       "21  MULTIPOINT ((8858242 560064...\n",
       "22  MULTIPOINT ((8836240 559481...\n",
       "23  MULTIPOINT ((8862535 559158...\n",
       "24  MULTIPOINT ((8846492 558918...\n",
       "25  MULTIPOINT ((8936850 559424...\n",
       "26  MULTIPOINT ((8952802 559440...\n",
       "27  MULTIPOINT ((10167836 56464...\n",
       "28  MULTIPOINT ((10197582 56442...\n",
       "29  MULTIPOINT ((9013107 559432...\n",
       "30  MULTIPOINT ((9005076 559324...\n",
       "⋮   ⋮                             \n",
       "191 MULTIPOINT ((10340942 55323...\n",
       "192 MULTIPOINT ((10346141 55344...\n",
       "193 MULTIPOINT ((8822834 563146...\n",
       "194 MULTIPOINT ((10350132 55284...\n",
       "195 MULTIPOINT ((10376026 55219...\n",
       "196 MULTIPOINT ((10350910 55361...\n",
       "197 MULTIPOINT ((10372034 55214...\n",
       "198 MULTIPOINT ((10355675 55165...\n",
       "199 MULTIPOINT ((10339983 55134...\n",
       "200 MULTIPOINT ((10154790 55136...\n",
       "201 MULTIPOINT ((10345101 55103...\n",
       "202 MULTIPOINT ((10344907 55072...\n",
       "203 MULTIPOINT ((9076564 556354...\n",
       "204 MULTIPOINT ((10308576 55169...\n",
       "205 MULTIPOINT ((8871521 563188...\n",
       "206 MULTIPOINT ((8862201 559825...\n",
       "207 MULTIPOINT ((9165402 557724...\n",
       "208 MULTIPOINT ((9205328 557553...\n",
       "209 MULTIPOINT ((8867437 563189...\n",
       "210 MULTIPOINT ((9118710 556885...\n",
       "211 MULTIPOINT ((8851766 561172...\n",
       "212 MULTIPOINT ((8871525 563082...\n",
       "213 MULTIPOINT ((9197630 558241...\n",
       "214 MULTIPOINT ((8861214 563982...\n",
       "215 MULTIPOINT ((9172842 556706...\n",
       "216 MULTIPOINT ((8862467 563760...\n",
       "217 MULTIPOINT ((8849723 561393...\n",
       "218 MULTIPOINT ((8814318 564119...\n",
       "219 MULTIPOINT ((8806207 564114...\n",
       "220 MULTIPOINT ((8816368 564239..."
      ]
     },
     "metadata": {},
     "output_type": "display_data"
    }
   ],
   "source": [
    "Mongolia_PSU"
   ]
  },
  {
   "cell_type": "code",
   "execution_count": 102,
   "id": "ef9f85a3-b84c-4372-b6f6-11276f7b7248",
   "metadata": {
    "tags": []
   },
   "outputs": [],
   "source": [
    "# cci.rast <- rast(\"/projects/my-public-bucket/Data/NASA_CMS_2023/MONGOLIA/MNG/MNG_Product_AOI/CCI_AOImasked.tif\") %>% project(\"epsg:6933\")\n",
    "# gedi.rast <- rast(\"/projects/my-public-bucket/Data/Biomass_maps/GEDI_L4B_v21/GEDI04_B_MW019MW223_02_002_02_R01000M_MU.tif\")\n",
    "# GEDI.plot <- GEDI %>% st_as_sf(crs = 4326, coords = c(\"x\" = \"lon_lowestmode\", \"y\" = \"lat_lowestmode\"), remove = F) %>% st_transform(crs = 6933)\n",
    "# cci.plot = exactextractr::exact_extract(cci.rast, st_buffer(Mongolia_PSU,100), 'mean')\n",
    "# gedi.plot = exactextractr::exact_extract(gedi.rast, st_buffer(Mongolia_PSU,100), 'mean')\n",
    "\n",
    "# DATA = as.data.frame(cbind(GEDI.plot$AGBD,cci.plot,nceo.plot,st_coordinates(GEDI.plot)[,1],st_coordinates(GEDI.plot)[,2]))\n",
    "# colnames(DATA) = c(\"gedi.agbd\",\"cci.agbd\",\"nceo.agbd\",\"X\",\"Y\")\n",
    "# write.csv(DATA,\"/projects/my-public-bucket/Data/NASA_CMS_2023/Mongolia/CCI_GEDIL4A.csv\",row.names=FALSE) #Save the data\n",
    "\n",
    "# rm(cci.rast,nceo.rast,GEDI,GEDI.plot,cci.plot,nceo.plot)\n",
    "# plot(Mongolia_PSU$AGB,gedi.plot)\n",
    "# plot(Mongolia_PSU$AGB,cci.plot)"
   ]
  },
  {
   "cell_type": "code",
   "execution_count": 13,
   "id": "6b5a063c-09fe-4130-aaee-672e2cf11dcf",
   "metadata": {},
   "outputs": [
    {
     "name": "stdout",
     "output_type": "stream",
     "text": [
      "  |======================================================================| 100%\n",
      "  |======================================================================| 100%\n",
      "  |======================================================================| 100%\n",
      "  |======================================================================| 100%\n",
      "  |======================================================================| 100%\n",
      "  |======================================================================| 100%\n",
      "  |======================================================================| 100%\n",
      "  |======================================================================| 100%\n",
      "  |======================================================================| 100%\n",
      "  |======================================================================| 100%\n",
      "  |======================================================================| 100%\n",
      "  |======================================================================| 100%\n",
      "  |======================================================================| 100%\n",
      "  |======================================================================| 100%\n",
      "  |======================================================================| 100%\n",
      "  |======================================================================| 100%\n",
      "  |======================================================================| 100%\n",
      "  |======================================================================| 100%\n",
      "  |======================================================================| 100%\n",
      "  |======================================================================| 100%\n",
      "  |======================================================================| 100%\n",
      "  |======================================================================| 100%\n",
      "  |======================================================================| 100%\n",
      "  |======================================================================| 100%\n",
      "  |======================================================================| 100%\n",
      "  |======================================================================| 100%\n",
      "  |======================================================================| 100%\n",
      "  |======================================================================| 100%\n",
      "  |======================================================================| 100%\n",
      "  |======================================================================| 100%\n",
      "  |======================================================================| 100%\n",
      "  |======================================================================| 100%\n",
      "  |======================================================================| 100%\n",
      "  |======================================================================| 100%\n",
      "  |======================================================================| 100%\n",
      "  |======================================================================| 100%\n"
     ]
    }
   ],
   "source": [
    "### READ BOREAL TILES AND EXTRACT AGB VALUES\n",
    "\n",
    "FOLDER <- \"/projects/my-public-bucket/Data/NASA_CMS_2023/MONGOLIA/MNG/BOREAL_files/\"\n",
    "BOREAL_FILES <- list.files(path = FOLDER, pattern = (\"*.tif\"), full.names = TRUE)\n",
    "BOREAL_FILES_DF <- as.data.frame(str_c(Mongolia$Unit_ID,'_',Mongolia$Plot_ID))\n",
    "for (each_boreal in BOREAL_FILES){\n",
    "    file.rast <- rast(each_boreal) %>% project(\"epsg:6933\")\n",
    "    file.plot = exactextractr::exact_extract(file.rast, st_buffer(Mongolia,20), 'mean')\n",
    "    BOREAL_FILES_DF <- cbind(BOREAL_FILES_DF,file.plot)\n",
    "}\n",
    "BOREAL_FILES_DF <- BOREAL_FILES_DF[,!grepl(\"standard_deviation\", colnames(BOREAL_FILES_DF))]\n",
    "BOREAL_AGBD_SSU <- cbind(as.data.frame(str_c(Mongolia$Unit_ID,'_',Mongolia$Plot_ID)),as.data.frame(rowMeans(BOREAL_FILES_DF[,2:ncol(BOREAL_FILES_DF)],na.rm=TRUE)))\n",
    "colnames(BOREAL_AGBD_SSU) = c(\"SSU_ID\",\"Boreal_AGB\")\n",
    "write.csv(BOREAL_AGBD_SSU,\"/projects/my-public-bucket/Data/NASA_CMS_2023/MONGOLIA/MNG/BOREAL_files/Boreal_AGB_SSU.csv\")\n",
    "\n",
    "FOLDER <- \"/projects/my-public-bucket/Data/NASA_CMS_2023/MONGOLIA/MNG/BOREAL_files/\"\n",
    "BOREAL_FILES <- list.files(path = FOLDER, pattern = (\"*.tif\"), full.names = TRUE)\n",
    "BOREAL_FILES_DF <- as.data.frame(Mongolia_PSU$Unit_ID)\n",
    "for (each_boreal in BOREAL_FILES){\n",
    "    file.rast <- rast(each_boreal) %>% project(\"epsg:6933\")\n",
    "    file.plot = exactextractr::exact_extract(file.rast, st_buffer(Mongolia_PSU,100), 'mean')\n",
    "    BOREAL_FILES_DF <- cbind(BOREAL_FILES_DF,file.plot)\n",
    "}\n",
    "BOREAL_FILES_DF <- BOREAL_FILES_DF[,!grepl(\"standard_deviation\", colnames(BOREAL_FILES_DF))]\n",
    "BOREAL_AGBD_PSU <- cbind(as.data.frame(Mongolia_PSU$Unit_ID),as.data.frame(rowMeans(BOREAL_FILES_DF[,2:ncol(BOREAL_FILES_DF)],na.rm=TRUE)))\n",
    "colnames(BOREAL_AGBD_PSU) = c(\"PSU_ID\",\"Boreal_AGB\")\n",
    "write.csv(BOREAL_AGBD_PSU,\"/projects/my-public-bucket/Data/NASA_CMS_2023/MONGOLIA/MNG/BOREAL_files/Boreal_AGB_PSU.csv\")"
   ]
  },
  {
   "cell_type": "code",
   "execution_count": 9,
   "id": "e38cb6c7-c50a-4052-aa9b-30d6728da040",
   "metadata": {},
   "outputs": [
    {
     "name": "stdout",
     "output_type": "stream",
     "text": [
      "  |======================================================================| 100%\n",
      "  |======================================================================| 100%\n",
      "  |======================================================================| 100%\n",
      "  |======================================================================| 100%\n",
      "  |======================================================================| 100%\n",
      "  |======================================================================| 100%\n",
      "  |======================================================================| 100%\n",
      "  |======================================================================| 100%\n",
      "  |======================================================================| 100%\n",
      "  |======================================================================| 100%\n",
      "  |======================================================================| 100%\n",
      "  |======================================================================| 100%\n",
      "  |======================================================================| 100%\n",
      "  |======================================================================| 100%\n",
      "  |======================================================================| 100%\n",
      "  |======================================================================| 100%\n",
      "  |======================================================================| 100%\n",
      "  |======================================================================| 100%\n"
     ]
    }
   ],
   "source": [
    "### READ BOREAL TILES AND EXTRACT HEIGHT VALUES\n",
    "\n",
    "FOLDER <- \"/projects/my-public-bucket/Data/NASA_CMS_2023/MONGOLIA/MNG/BOREAL_heights/\"\n",
    "BOREAL_FILES <- list.files(path = FOLDER, pattern = (\"*.tif\"), full.names = TRUE)\n",
    "BOREAL_FILES_DF <- as.data.frame(str_c(Mongolia$Unit_ID,'_',Mongolia$Plot_ID))\n",
    "for (each_boreal in BOREAL_FILES){\n",
    "    file.rast <- rast(each_boreal) %>% project(\"epsg:6933\")\n",
    "    file.plot = exactextractr::exact_extract(file.rast, st_buffer(Mongolia,20), 'mean')\n",
    "    BOREAL_FILES_DF <- cbind(BOREAL_FILES_DF,file.plot)\n",
    "}\n",
    "BOREAL_FILES_DF <- BOREAL_FILES_DF[,!grepl(\"sd\", colnames(BOREAL_FILES_DF))]\n",
    "BOREAL_HEIGHTS_SSU <- cbind(as.data.frame(str_c(Mongolia$Unit_ID,'_',Mongolia$Plot_ID)),as.data.frame(rowMeans(BOREAL_FILES_DF[,2:ncol(BOREAL_FILES_DF)],na.rm=TRUE)))\n",
    "colnames(BOREAL_HEIGHTS_SSU) = c(\"SSU_ID\",\"Boreal_Height\")\n",
    "write.csv(BOREAL_HEIGHTS_SSU,\"/projects/my-public-bucket/Data/NASA_CMS_2023/MONGOLIA/MNG/BOREAL_heights/Boreal_Height_SSU.csv\")\n",
    "\n",
    "FOLDER <- \"/projects/my-public-bucket/Data/NASA_CMS_2023/MONGOLIA/MNG/BOREAL_heights/\"\n",
    "BOREAL_FILES <- list.files(path = FOLDER, pattern = (\"*.tif\"), full.names = TRUE)\n",
    "BOREAL_FILES_DF <- as.data.frame(Mongolia_PSU$Unit_ID)\n",
    "for (each_boreal in BOREAL_FILES){\n",
    "    file.rast <- rast(each_boreal) %>% project(\"epsg:6933\")\n",
    "    file.plot = exactextractr::exact_extract(file.rast, st_buffer(Mongolia_PSU,100), 'mean')\n",
    "    BOREAL_FILES_DF <- cbind(BOREAL_FILES_DF,file.plot)\n",
    "}\n",
    "BOREAL_FILES_DF <- BOREAL_FILES_DF[,!grepl(\"mean.sd\", colnames(BOREAL_FILES_DF))]\n",
    "BOREAL_HEIGHTS_PSU <- cbind(as.data.frame(Mongolia_PSU$Unit_ID),as.data.frame(rowMeans(BOREAL_FILES_DF[,2:ncol(BOREAL_FILES_DF)],na.rm=TRUE)))\n",
    "colnames(BOREAL_HEIGHTS_PSU) = c(\"PSU_ID\",\"Boreal_Height\")\n",
    "write.csv(BOREAL_HEIGHTS_PSU,\"/projects/my-public-bucket/Data/NASA_CMS_2023/MONGOLIA/MNG/BOREAL_heights/Boreal_Height_PSU.csv\")"
   ]
  },
  {
   "cell_type": "code",
   "execution_count": 4,
   "id": "88df93ab-108b-4dac-b1e4-4ab902025ab1",
   "metadata": {},
   "outputs": [
    {
     "name": "stdout",
     "output_type": "stream",
     "text": [
      "  |======================================================================| 100%\n",
      "  |======================================================================| 100%\n",
      "  |======================================================================| 100%\n",
      "  |======================================================================| 100%\n",
      "  |======================================================================| 100%\n",
      "  |======================================================================| 100%\n",
      "  |======================================================================| 100%\n",
      "  |======================================================================| 100%\n",
      "  |======================================================================| 100%\n",
      "  |======================================================================| 100%\n",
      "  |======================================================================| 100%\n",
      "  |======================================================================| 100%\n",
      "  |======================================================================| 100%\n",
      "  |======================================================================| 100%\n",
      "  |======================================================================| 100%\n",
      "  |======================================================================| 100%\n",
      "  |======================================================================| 100%\n",
      "  |======================================================================| 100%\n",
      "  |======================================================================| 100%\n",
      "  |======================================================================| 100%\n",
      "  |======================================================================| 100%\n",
      "  |======================================================================| 100%\n",
      "  |======================================================================| 100%\n",
      "  |======================================================================| 100%\n",
      "  |======================================================================| 100%\n",
      "  |======================================================================| 100%\n",
      "  |======================================================================| 100%\n",
      "  |======================================================================| 100%\n",
      "  |======================================================================| 100%\n",
      "  |======================================================================| 100%\n",
      "  |======================================================================| 100%\n",
      "  |======================================================================| 100%\n",
      "  |======================================================================| 100%\n",
      "  |======================================================================| 100%\n",
      "  |======================================================================| 100%\n",
      "  |======================================================================| 100%\n",
      "  |======================================================================| 100%\n",
      "  |======================================================================| 100%\n",
      "  |======================================================================| 100%\n",
      "  |======================================================================| 100%\n",
      "  |======================================================================| 100%\n",
      "  |======================================================================| 100%\n",
      "  |======================================================================| 100%\n",
      "  |======================================================================| 100%\n",
      "  |======================================================================| 100%\n",
      "  |======================================================================| 100%\n",
      "  |======================================================================| 100%\n",
      "  |======================================================================| 100%\n",
      "  |======================================================================| 100%\n",
      "  |======================================================================| 100%\n",
      "  |======================================================================| 100%\n",
      "  |======================================================================| 100%\n",
      "  |======================================================================| 100%\n",
      "  |======================================================================| 100%\n",
      "  |======================================================================| 100%\n",
      "  |======================================================================| 100%\n",
      "  |======================================================================| 100%\n",
      "  |======================================================================| 100%\n",
      "  |======================================================================| 100%\n",
      "  |======================================================================| 100%\n",
      "  |======================================================================| 100%\n",
      "  |======================================================================| 100%\n"
     ]
    }
   ],
   "source": [
    "### READ GEDI TILES AND EXTRACT HEIGHT VALUES\n",
    "\n",
    "FOLDER <- \"/projects/my-public-bucket/Data/NASA_CMS_2023/MONGOLIA/GRID/\"\n",
    "GEDI_FILES <- list.files(path = FOLDER, pattern = (\"*.tif\"), full.names = TRUE)\n",
    "GEDI_FILES_DF <- as.data.frame(str_c(Mongolia$Unit_ID,'_',Mongolia$Plot_ID))\n",
    "for (each_GEDI in GEDI_FILES){\n",
    "    file.rast <- rast(each_GEDI) %>% project(\"epsg:6933\")\n",
    "    file.plot = exactextractr::exact_extract(file.rast, st_buffer(Mongolia,20), 'mean')\n",
    "    GEDI_FILES_DF <- cbind(GEDI_FILES_DF,file.plot)\n",
    "}\n",
    "GEDI_FILES_DF <- GEDI_FILES_DF[,!grepl(\"sd\", colnames(GEDI_FILES_DF))]\n",
    "GEDI_HEIGHTS_SSU <- cbind(as.data.frame(str_c(Mongolia$Unit_ID,'_',Mongolia$Plot_ID)),as.data.frame(rowMeans(GEDI_FILES_DF[,2:ncol(GEDI_FILES_DF)],na.rm=TRUE)))\n",
    "colnames(GEDI_HEIGHTS_SSU) = c(\"SSU_ID\",\"GEDI_Height\")\n",
    "write.csv(GEDI_HEIGHTS_SSU,\"/projects/my-public-bucket/Data/NASA_CMS_2023/MONGOLIA/GRID/GEDI_Height_SSU.csv\")\n",
    "\n",
    "FOLDER <- \"/projects/my-public-bucket/Data/NASA_CMS_2023/MONGOLIA/GRID/\"\n",
    "GEDI_FILES <- list.files(path = FOLDER, pattern = (\"*.tif\"), full.names = TRUE)\n",
    "GEDI_FILES_DF <- as.data.frame(Mongolia_PSU$Unit_ID)\n",
    "for (each_GEDI in GEDI_FILES){\n",
    "    file.rast <- rast(each_GEDI) %>% project(\"epsg:6933\")\n",
    "    file.plot = exactextractr::exact_extract(file.rast, st_buffer(Mongolia_PSU,100), 'mean')\n",
    "    GEDI_FILES_DF <- cbind(GEDI_FILES_DF,file.plot)\n",
    "}\n",
    "GEDI_FILES_DF <- GEDI_FILES_DF[,!grepl(\"mean.sd\", colnames(GEDI_FILES_DF))]\n",
    "GEDI_HEIGHTS_PSU <- cbind(as.data.frame(Mongolia_PSU$Unit_ID),as.data.frame(rowMeans(GEDI_FILES_DF[,2:ncol(GEDI_FILES_DF)],na.rm=TRUE)))\n",
    "colnames(GEDI_HEIGHTS_PSU) = c(\"PSU_ID\",\"GEDI_Height\")\n",
    "write.csv(GEDI_HEIGHTS_PSU,\"/projects/my-public-bucket/Data/NASA_CMS_2023/MONGOLIA/GRID/GEDI_Height_PSU.csv\")"
   ]
  },
  {
   "cell_type": "code",
   "execution_count": 5,
   "id": "b0293460-1071-4fe0-866c-6759db223596",
   "metadata": {},
   "outputs": [
    {
     "data": {
      "image/png": "[encoded data removed]",
      "text/plain": [
       "plot without title"
      ]
     },
     "metadata": {
      "image/png": {
       "height": 300,
       "width": 300
      }
     },
     "output_type": "display_data"
    },
    {
     "data": {
      "image/png": "[encoded data removed]",
      "text/plain": [
       "plot without title"
      ]
     },
     "metadata": {
      "image/png": {
       "height": 300,
       "width": 300
      }
     },
     "output_type": "display_data"
    },
    {
     "data": {
      "image/png": "[encoded data removed]",
      "text/plain": [
       "plot without title"
      ]
     },
     "metadata": {
      "image/png": {
       "height": 300,
       "width": 300
      }
     },
     "output_type": "display_data"
    },
    {
     "data": {
      "image/png": "[encoded data removed]",
      "text/plain": [
       "plot without title"
      ]
     },
     "metadata": {
      "image/png": {
       "height": 300,
       "width": 300
      }
     },
     "output_type": "display_data"
    }
   ],
   "source": [
    "options(repr.plot.width=5, repr.plot.height=5)\n",
    "\n",
    "BOREAL_HEIGHTS_SSU = read.csv(\"/projects/my-public-bucket/Data/NASA_CMS_2023/MONGOLIA/MNG/BOREAL_heights/Boreal_Height_SSU.csv\")\n",
    "BOREAL_HEIGHTS_PSU = read.csv(\"/projects/my-public-bucket/Data/NASA_CMS_2023/MONGOLIA/MNG/BOREAL_heights/Boreal_Height_PSU.csv\")\n",
    "\n",
    "BOREAL_AGBD_PSU = read.csv(\"/projects/my-public-bucket/Data/NASA_CMS_2023/MONGOLIA/MNG/BOREAL_files/Boreal_AGB_PSU.csv\")\n",
    "BOREAL_AGBD_SSU = read.csv(\"/projects/my-public-bucket/Data/NASA_CMS_2023/MONGOLIA/MNG/BOREAL_files/Boreal_AGB_PSU.csv\")\n",
    "\n",
    "GGPLOT_DATA <- as.data.frame(cbind(BOREAL_HEIGHTS_PSU$Boreal_Height,GEDI_HEIGHTS_PSU$GEDI_Height)) \n",
    "colnames(GGPLOT_DATA) = c(\"AGB\",\"GEDI_Height\")\n",
    "ggplot(data=GGPLOT_DATA,aes(x=AGB, y=GEDI_Height)) +  geom_point() + \n",
    "  xlab(\"Boreal Map height [m]\") + ylab(\"GEDI Map height [m]\") +\n",
    "  theme_bw() + theme(text = element_text(size = 16),plot.title = element_text(color=\"red\", size=12, face=\"bold.italic\"),panel.grid.major = element_blank(), panel.grid.minor = element_blank(),panel.background = element_blank(), axis.line = element_line(colour = \"black\"))\n",
    "\n",
    "GGPLOT_DATA <- as.data.frame(cbind(Mongolia_PSU$AGB,GEDI_HEIGHTS_PSU$GEDI_Height)) \n",
    "colnames(GGPLOT_DATA) = c(\"AGB\",\"GEDI_Height\")\n",
    "ggplot(data=GGPLOT_DATA,aes(x=AGB, y=GEDI_Height)) +  geom_point() + \n",
    "  xlab(\"NFI AGBD [Mg/ha]\") + ylab(\"GEDI Map height [m]\") +\n",
    "  theme_bw() + theme(text = element_text(size = 16),plot.title = element_text(color=\"red\", size=12, face=\"bold.italic\"),panel.grid.major = element_blank(), panel.grid.minor = element_blank(),panel.background = element_blank(), axis.line = element_line(colour = \"black\"))\n",
    "\n",
    "# GGPLOT_DATA <- as.data.frame(cbind(Mongolia$AGB,GEDI_HEIGHTS_SSU$GEDI_Height)) \n",
    "# colnames(GGPLOT_DATA) = c(\"AGB\",\"GEDI_Height\")\n",
    "# ggplot(data=GGPLOT_DATA,aes(x=AGB, y=GEDI_Height)) +  geom_point() + \n",
    "#   xlab(\"NFI AGBD [Mg/ha]\") + ylab(\"HL GEDI Map height [m]\") +\n",
    "#   theme_bw() + theme(text = element_text(size = 16),plot.title = element_text(color=\"red\", size=12, face=\"bold.italic\"),panel.grid.major = element_blank(), panel.grid.minor = element_blank(),panel.background = element_blank(), axis.line = element_line(colour = \"black\"))\n",
    "\n",
    "GGPLOT_DATA <- as.data.frame(cbind(Mongolia_PSU$AGB,BOREAL_AGBD_PSU$Boreal_AGB)) \n",
    "colnames(GGPLOT_DATA) = c(\"AGB\",\"Boreal_AGB\")\n",
    "ggplot(data=GGPLOT_DATA,aes(x=AGB, y=Boreal_AGB)) +  geom_point() + \n",
    "  xlab(\"NFI AGBD [Mg/ha]\") + ylab(\"HL Boreal Map biomass [Mg/ha]\") +\n",
    "  theme_bw() + theme(text = element_text(size = 18),plot.title = element_text(color=\"red\", size=12, face=\"bold.italic\"),panel.grid.major = element_blank(), panel.grid.minor = element_blank(),panel.background = element_blank(), axis.line = element_line(colour = \"black\"))\n",
    "\n",
    "GGPLOT_DATA <- as.data.frame(cbind(Mongolia_PSU$AGB,BOREAL_HEIGHTS_PSU$Boreal_Height)) \n",
    "colnames(GGPLOT_DATA) = c(\"AGB\",\"Boreal_Height\")\n",
    "ggplot(data=GGPLOT_DATA,aes(x=AGB, y=Boreal_Height)) +  geom_point() + \n",
    "  xlab(\"NFI AGBD [Mg/ha]\") + ylab(\"HL Boreal Map height [m]\") +\n",
    "  theme_bw() + theme(text = element_text(size = 16),plot.title = element_text(color=\"red\", size=12, face=\"bold.italic\"),panel.grid.major = element_blank(), panel.grid.minor = element_blank(),panel.background = element_blank(), axis.line = element_line(colour = \"black\"))\n",
    "\n",
    "# GGPLOT_DATA <- as.data.frame(cbind(Mongolia$AGB,BOREAL_AGBD_SSU$Boreal_AGB)) \n",
    "# colnames(GGPLOT_DATA) = c(\"AGB\",\"Boreal_Height\")\n",
    "# ggplot(data=GGPLOT_DATA,aes(x=AGB, y=Boreal_Height)) +  geom_point() + \n",
    "#   xlab(\"NFI AGBD [Mg/ha]\") + ylab(\"HL Boreal Map biomass [Mg/ha]\") +\n",
    "#   theme_bw() + theme(text = element_text(size = 18),plot.title = element_text(color=\"red\", size=12, face=\"bold.italic\"),panel.grid.major = element_blank(), panel.grid.minor = element_blank(),panel.background = element_blank(), axis.line = element_line(colour = \"black\"))\n",
    "\n",
    "# GGPLOT_DATA <- as.data.frame(cbind(Mongolia$AGB,BOREAL_HEIGHTS_SSU$Boreal_Height)) \n",
    "# colnames(GGPLOT_DATA) = c(\"AGB\",\"Boreal_Height\")\n",
    "# ggplot(data=GGPLOT_DATA,aes(x=AGB, y=Boreal_Height)) +  geom_point() + \n",
    "#   xlab(\"NFI AGBD [Mg/ha]\") + ylab(\"HL Boreal Map height [m]\") +\n",
    "#   theme_bw() + theme(text = element_text(size = 16),plot.title = element_text(color=\"red\", size=12, face=\"bold.italic\"),panel.grid.major = element_blank(), panel.grid.minor = element_blank(),panel.background = element_blank(), axis.line = element_line(colour = \"black\"))\n"
   ]
  },
  {
   "cell_type": "code",
   "execution_count": 6,
   "id": "36fade9e-c1d7-4574-8f51-adcce7443567",
   "metadata": {},
   "outputs": [
    {
     "data": {
      "text/plain": [
       "\n",
       "Call:\n",
       "lm(formula = Mongolia_PSU$AGB ~ BOREAL_HEIGHTS_PSU$Boreal_Height * \n",
       "    GEDI_HEIGHTS_PSU$GEDI_Height)\n",
       "\n",
       "Residuals:\n",
       "    Min      1Q  Median      3Q     Max \n",
       "-102.31  -45.34  -11.54   28.32  266.04 \n",
       "\n",
       "Coefficients:\n",
       "                                                              Estimate\n",
       "(Intercept)                                                   -28.7076\n",
       "BOREAL_HEIGHTS_PSU$Boreal_Height                                5.4640\n",
       "GEDI_HEIGHTS_PSU$GEDI_Height                                   10.9379\n",
       "BOREAL_HEIGHTS_PSU$Boreal_Height:GEDI_HEIGHTS_PSU$GEDI_Height  -0.4245\n",
       "                                                              Std. Error\n",
       "(Intercept)                                                      24.9867\n",
       "BOREAL_HEIGHTS_PSU$Boreal_Height                                  2.1801\n",
       "GEDI_HEIGHTS_PSU$GEDI_Height                                      2.5683\n",
       "BOREAL_HEIGHTS_PSU$Boreal_Height:GEDI_HEIGHTS_PSU$GEDI_Height     0.1321\n",
       "                                                              t value Pr(>|t|)\n",
       "(Intercept)                                                    -1.149  0.25186\n",
       "BOREAL_HEIGHTS_PSU$Boreal_Height                                2.506  0.01294\n",
       "GEDI_HEIGHTS_PSU$GEDI_Height                                    4.259 3.07e-05\n",
       "BOREAL_HEIGHTS_PSU$Boreal_Height:GEDI_HEIGHTS_PSU$GEDI_Height  -3.212  0.00152\n",
       "                                                                 \n",
       "(Intercept)                                                      \n",
       "BOREAL_HEIGHTS_PSU$Boreal_Height                              *  \n",
       "GEDI_HEIGHTS_PSU$GEDI_Height                                  ***\n",
       "BOREAL_HEIGHTS_PSU$Boreal_Height:GEDI_HEIGHTS_PSU$GEDI_Height ** \n",
       "---\n",
       "Signif. codes:  0 ‘***’ 0.001 ‘**’ 0.01 ‘*’ 0.05 ‘.’ 0.1 ‘ ’ 1\n",
       "\n",
       "Residual standard error: 65.99 on 216 degrees of freedom\n",
       "Multiple R-squared:  0.1613,\tAdjusted R-squared:  0.1496 \n",
       "F-statistic: 13.85 on 3 and 216 DF,  p-value: 2.721e-08\n"
      ]
     },
     "metadata": {},
     "output_type": "display_data"
    }
   ],
   "source": [
    "summary(lm(Mongolia_PSU$AGB ~ BOREAL_HEIGHTS_PSU$Boreal_Height * GEDI_HEIGHTS_PSU$GEDI_Height))"
   ]
  },
  {
   "cell_type": "code",
   "execution_count": null,
   "id": "3c7c71f9-e0e1-4ebe-b3e1-08a13b42cd2d",
   "metadata": {},
   "outputs": [],
   "source": []
  },
  {
   "cell_type": "code",
   "execution_count": null,
   "id": "2ee87cbd-8072-4017-808d-a2a3fc043335",
   "metadata": {},
   "outputs": [],
   "source": [
    "######################## MAKING A SPATIAL MODEL FOR ALPHA, BETA AND ETA  ##################\n",
    "\n",
    "# Priors for the varying intercept alpha_tilde\n",
    "spde.alpha = inla.spde2.pcmatern(mesh, \n",
    "                                 prior.range = c(30*10^3, 0.01), # This says the probability that the range is LESS than 30 km is 0.01\n",
    "                                 prior.sigma = c(60, 0.01)) # This says the probability that the SD is GREATER than 60 Mg/ha is 0.01\n",
    "\n",
    "# Priors for the varying coefficient beta_tilde\n",
    "spde.beta = inla.spde2.pcmatern(mesh, \n",
    "                                prior.range = c(30*10^3, 0.01), # Same interpretations as above here\n",
    "                                prior.sigma = c(1, 0.5)) # This says the probability that the SD is GREATER than 1 is 0.5\n",
    "\n",
    "# Priors for the varying coefficient eta_tilde\n",
    "spde.eta = inla.spde2.pcmatern(mesh, \n",
    "                                prior.range = c(30*10^3, 0.01), # Same interpretations as above here\n",
    "                                prior.sigma = c(1, 0.5)) # This says the probability that the SD is GREATER than 1 is 0.5\n",
    "\n",
    "# If you are keen on understanding the range and SD parameters and intuitively see how the work, here is a nice simulation: "
   ]
  }
 ],
 "metadata": {
  "kernelspec": {
   "display_name": "R",
   "language": "R",
   "name": "ir"
  },
  "language_info": {
   "codemirror_mode": "r",
   "file_extension": ".r",
   "mimetype": "text/x-r-source",
   "name": "R",
   "pygments_lexer": "r",
   "version": "4.2.3"
  }
 },
 "nbformat": 4,
 "nbformat_minor": 5
}
