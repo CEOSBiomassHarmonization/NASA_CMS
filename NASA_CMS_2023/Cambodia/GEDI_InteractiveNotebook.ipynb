{
 "cells": [
  {
   "cell_type": "markdown",
   "id": "9d39c2a0-c4a5-44ca-84af-7a759e597970",
   "metadata": {},
   "source": [
    "### INTRODUCTION: \n",
    "\n",
    "##### The visualization for this notebook uses Lonboard, which is a new Python library for fast, interactive geospatial vector data visualization for big raster or vector files in Jupyter. By utilizing new technologies like GeoArrow and GeoParquet in conjunction with GPU-based map rendering, lonboard aims to enable visualizing large geospatial datasets interactively through a simple interface. \n",
    "\n",
    "CODE PREPARED BY:\n",
    "\n",
    "-- Rajat Shinde, JPL NASA\n",
    "-- Alex Mandel, Development Seed\n",
    "\n",
    "CODE ADAPTED BY:\n",
    "\n",
    "-- Paromita Basak, University of Maryland\n",
    "\n",
    "#### TO MOVE TO PUBLIC INTERFACE, DO THE FOLLOWING: \n",
    "\n",
    "1. Creating executed notebook\n",
    "\n",
    "python -m nbconvert /projects/ADE_biomass_harmonization/NASA_CMS/NASA_CMS_2023/Cambodia/GEDI_InteractiveNotebook.ipynb --to ipynb --stdout --execute > /projects/ADE_biomass_harmonization/NASA_CMS/NASA_CMS_2023/Cambodia/GEDI_InteractiveNotebook_executed.ipynb\n",
    "\n",
    "2. Create shared notebook\n",
    "\n",
    "pip install nbss-upload\n",
    "\n",
    "nbss-upload /projects/ADE_biomass_harmonization/NASA_CMS/NASA_CMS_2023/Cambodia/GEDI_InteractiveNotebook_executed.ipynb"
   ]
  },
  {
   "cell_type": "code",
   "execution_count": 1,
   "id": "a0abfb8c-5c79-4429-8d05-8cc4b09e67fd",
   "metadata": {
    "collapsed": true,
    "jupyter": {
     "outputs_hidden": true
    },
    "tags": []
   },
   "outputs": [
    {
     "name": "stdout",
     "output_type": "stream",
     "text": [
      "Requirement already satisfied: lonboard in /opt/conda/envs/pangeo/lib/python3.10/site-packages (0.9.2)\n",
      "Requirement already satisfied: pyogrio in /opt/conda/envs/pangeo/lib/python3.10/site-packages (0.6.0)\n",
      "Requirement already satisfied: anywidget<0.10.0,>=0.9.0 in /opt/conda/envs/pangeo/lib/python3.10/site-packages (from lonboard) (0.9.12)\n",
      "Requirement already satisfied: geopandas>=0.13 in /opt/conda/envs/pangeo/lib/python3.10/site-packages (from lonboard) (0.14.4)\n",
      "Requirement already satisfied: matplotlib<4.0,>=3.7 in /opt/conda/envs/pangeo/lib/python3.10/site-packages (from lonboard) (3.7.3)\n",
      "Requirement already satisfied: palettable<4.0.0,>=3.3.3 in /opt/conda/envs/pangeo/lib/python3.10/site-packages (from lonboard) (3.3.3)\n",
      "Requirement already satisfied: pandas<3,>=2 in /opt/conda/envs/pangeo/lib/python3.10/site-packages (from lonboard) (2.1.4)\n",
      "Requirement already satisfied: pyarrow>=14.0.1 in /opt/conda/envs/pangeo/lib/python3.10/site-packages (from lonboard) (14.0.1)\n",
      "Requirement already satisfied: shapely<3,>=2 in /opt/conda/envs/pangeo/lib/python3.10/site-packages (from lonboard) (2.0.1)\n",
      "Requirement already satisfied: typing-extensions<5.0.0,>=4.6.0 in /opt/conda/envs/pangeo/lib/python3.10/site-packages (from lonboard) (4.11.0)\n",
      "Requirement already satisfied: certifi in /opt/conda/envs/pangeo/lib/python3.10/site-packages (from pyogrio) (2024.2.2)\n",
      "Requirement already satisfied: numpy in /opt/conda/envs/pangeo/lib/python3.10/site-packages (from pyogrio) (1.26.3)\n",
      "Requirement already satisfied: ipywidgets>=7.6.0 in /opt/conda/envs/pangeo/lib/python3.10/site-packages (from anywidget<0.10.0,>=0.9.0->lonboard) (8.0.6)\n",
      "Requirement already satisfied: psygnal>=0.8.1 in /opt/conda/envs/pangeo/lib/python3.10/site-packages (from anywidget<0.10.0,>=0.9.0->lonboard) (0.11.1)\n",
      "Requirement already satisfied: fiona>=1.8.21 in /opt/conda/envs/pangeo/lib/python3.10/site-packages (from geopandas>=0.13->lonboard) (1.9.4)\n",
      "Requirement already satisfied: packaging in /opt/conda/envs/pangeo/lib/python3.10/site-packages (from geopandas>=0.13->lonboard) (24.0)\n",
      "Requirement already satisfied: pyproj>=3.3.0 in /opt/conda/envs/pangeo/lib/python3.10/site-packages (from geopandas>=0.13->lonboard) (3.5.0)\n",
      "Requirement already satisfied: contourpy>=1.0.1 in /opt/conda/envs/pangeo/lib/python3.10/site-packages (from matplotlib<4.0,>=3.7->lonboard) (1.2.1)\n",
      "Requirement already satisfied: cycler>=0.10 in /opt/conda/envs/pangeo/lib/python3.10/site-packages (from matplotlib<4.0,>=3.7->lonboard) (0.12.1)\n",
      "Requirement already satisfied: fonttools>=4.22.0 in /opt/conda/envs/pangeo/lib/python3.10/site-packages (from matplotlib<4.0,>=3.7->lonboard) (4.51.0)\n",
      "Requirement already satisfied: kiwisolver>=1.0.1 in /opt/conda/envs/pangeo/lib/python3.10/site-packages (from matplotlib<4.0,>=3.7->lonboard) (1.4.5)\n",
      "Requirement already satisfied: pillow>=6.2.0 in /opt/conda/envs/pangeo/lib/python3.10/site-packages (from matplotlib<4.0,>=3.7->lonboard) (10.0.0)\n",
      "Requirement already satisfied: pyparsing>=2.3.1 in /opt/conda/envs/pangeo/lib/python3.10/site-packages (from matplotlib<4.0,>=3.7->lonboard) (3.1.2)\n",
      "Requirement already satisfied: python-dateutil>=2.7 in /opt/conda/envs/pangeo/lib/python3.10/site-packages (from matplotlib<4.0,>=3.7->lonboard) (2.9.0)\n",
      "Requirement already satisfied: pytz>=2020.1 in /opt/conda/envs/pangeo/lib/python3.10/site-packages (from pandas<3,>=2->lonboard) (2024.1)\n",
      "Requirement already satisfied: tzdata>=2022.1 in /opt/conda/envs/pangeo/lib/python3.10/site-packages (from pandas<3,>=2->lonboard) (2024.1)\n",
      "Requirement already satisfied: attrs>=19.2.0 in /opt/conda/envs/pangeo/lib/python3.10/site-packages (from fiona>=1.8.21->geopandas>=0.13->lonboard) (23.2.0)\n",
      "Requirement already satisfied: click~=8.0 in /opt/conda/envs/pangeo/lib/python3.10/site-packages (from fiona>=1.8.21->geopandas>=0.13->lonboard) (8.1.7)\n",
      "Requirement already satisfied: click-plugins>=1.0 in /opt/conda/envs/pangeo/lib/python3.10/site-packages (from fiona>=1.8.21->geopandas>=0.13->lonboard) (1.1.1)\n",
      "Requirement already satisfied: cligj>=0.5 in /opt/conda/envs/pangeo/lib/python3.10/site-packages (from fiona>=1.8.21->geopandas>=0.13->lonboard) (0.7.2)\n",
      "Requirement already satisfied: six in /opt/conda/envs/pangeo/lib/python3.10/site-packages (from fiona>=1.8.21->geopandas>=0.13->lonboard) (1.16.0)\n",
      "Requirement already satisfied: ipykernel>=4.5.1 in /opt/conda/envs/pangeo/lib/python3.10/site-packages (from ipywidgets>=7.6.0->anywidget<0.10.0,>=0.9.0->lonboard) (6.29.3)\n",
      "Requirement already satisfied: ipython>=6.1.0 in /opt/conda/envs/pangeo/lib/python3.10/site-packages (from ipywidgets>=7.6.0->anywidget<0.10.0,>=0.9.0->lonboard) (8.11.0)\n",
      "Requirement already satisfied: traitlets>=4.3.1 in /opt/conda/envs/pangeo/lib/python3.10/site-packages (from ipywidgets>=7.6.0->anywidget<0.10.0,>=0.9.0->lonboard) (5.14.3)\n",
      "Requirement already satisfied: widgetsnbextension~=4.0.7 in /opt/conda/envs/pangeo/lib/python3.10/site-packages (from ipywidgets>=7.6.0->anywidget<0.10.0,>=0.9.0->lonboard) (4.0.10)\n",
      "Requirement already satisfied: jupyterlab-widgets~=3.0.7 in /opt/conda/envs/pangeo/lib/python3.10/site-packages (from ipywidgets>=7.6.0->anywidget<0.10.0,>=0.9.0->lonboard) (3.0.7)\n",
      "Requirement already satisfied: comm>=0.1.1 in /opt/conda/envs/pangeo/lib/python3.10/site-packages (from ipykernel>=4.5.1->ipywidgets>=7.6.0->anywidget<0.10.0,>=0.9.0->lonboard) (0.2.2)\n",
      "Requirement already satisfied: debugpy>=1.6.5 in /opt/conda/envs/pangeo/lib/python3.10/site-packages (from ipykernel>=4.5.1->ipywidgets>=7.6.0->anywidget<0.10.0,>=0.9.0->lonboard) (1.8.1)\n",
      "Requirement already satisfied: jupyter-client>=6.1.12 in /opt/conda/envs/pangeo/lib/python3.10/site-packages (from ipykernel>=4.5.1->ipywidgets>=7.6.0->anywidget<0.10.0,>=0.9.0->lonboard) (7.4.9)\n",
      "Requirement already satisfied: jupyter-core!=5.0.*,>=4.12 in /opt/conda/envs/pangeo/lib/python3.10/site-packages (from ipykernel>=4.5.1->ipywidgets>=7.6.0->anywidget<0.10.0,>=0.9.0->lonboard) (5.7.2)\n",
      "Requirement already satisfied: matplotlib-inline>=0.1 in /opt/conda/envs/pangeo/lib/python3.10/site-packages (from ipykernel>=4.5.1->ipywidgets>=7.6.0->anywidget<0.10.0,>=0.9.0->lonboard) (0.1.7)\n",
      "Requirement already satisfied: nest-asyncio in /opt/conda/envs/pangeo/lib/python3.10/site-packages (from ipykernel>=4.5.1->ipywidgets>=7.6.0->anywidget<0.10.0,>=0.9.0->lonboard) (1.6.0)\n",
      "Requirement already satisfied: psutil in /opt/conda/envs/pangeo/lib/python3.10/site-packages (from ipykernel>=4.5.1->ipywidgets>=7.6.0->anywidget<0.10.0,>=0.9.0->lonboard) (5.9.8)\n",
      "Requirement already satisfied: pyzmq>=24 in /opt/conda/envs/pangeo/lib/python3.10/site-packages (from ipykernel>=4.5.1->ipywidgets>=7.6.0->anywidget<0.10.0,>=0.9.0->lonboard) (24.0.1)\n",
      "Requirement already satisfied: tornado>=6.1 in /opt/conda/envs/pangeo/lib/python3.10/site-packages (from ipykernel>=4.5.1->ipywidgets>=7.6.0->anywidget<0.10.0,>=0.9.0->lonboard) (6.4)\n",
      "Requirement already satisfied: backcall in /opt/conda/envs/pangeo/lib/python3.10/site-packages (from ipython>=6.1.0->ipywidgets>=7.6.0->anywidget<0.10.0,>=0.9.0->lonboard) (0.2.0)\n",
      "Requirement already satisfied: decorator in /opt/conda/envs/pangeo/lib/python3.10/site-packages (from ipython>=6.1.0->ipywidgets>=7.6.0->anywidget<0.10.0,>=0.9.0->lonboard) (5.1.1)\n",
      "Requirement already satisfied: jedi>=0.16 in /opt/conda/envs/pangeo/lib/python3.10/site-packages (from ipython>=6.1.0->ipywidgets>=7.6.0->anywidget<0.10.0,>=0.9.0->lonboard) (0.19.1)\n",
      "Requirement already satisfied: pickleshare in /opt/conda/envs/pangeo/lib/python3.10/site-packages (from ipython>=6.1.0->ipywidgets>=7.6.0->anywidget<0.10.0,>=0.9.0->lonboard) (0.7.5)\n",
      "Requirement already satisfied: prompt-toolkit!=3.0.37,<3.1.0,>=3.0.30 in /opt/conda/envs/pangeo/lib/python3.10/site-packages (from ipython>=6.1.0->ipywidgets>=7.6.0->anywidget<0.10.0,>=0.9.0->lonboard) (3.0.38)\n",
      "Requirement already satisfied: pygments>=2.4.0 in /opt/conda/envs/pangeo/lib/python3.10/site-packages (from ipython>=6.1.0->ipywidgets>=7.6.0->anywidget<0.10.0,>=0.9.0->lonboard) (2.17.2)\n",
      "Requirement already satisfied: stack-data in /opt/conda/envs/pangeo/lib/python3.10/site-packages (from ipython>=6.1.0->ipywidgets>=7.6.0->anywidget<0.10.0,>=0.9.0->lonboard) (0.6.2)\n",
      "Requirement already satisfied: pexpect>4.3 in /opt/conda/envs/pangeo/lib/python3.10/site-packages (from ipython>=6.1.0->ipywidgets>=7.6.0->anywidget<0.10.0,>=0.9.0->lonboard) (4.9.0)\n",
      "Requirement already satisfied: parso<0.9.0,>=0.8.3 in /opt/conda/envs/pangeo/lib/python3.10/site-packages (from jedi>=0.16->ipython>=6.1.0->ipywidgets>=7.6.0->anywidget<0.10.0,>=0.9.0->lonboard) (0.8.4)\n",
      "Requirement already satisfied: entrypoints in /opt/conda/envs/pangeo/lib/python3.10/site-packages (from jupyter-client>=6.1.12->ipykernel>=4.5.1->ipywidgets>=7.6.0->anywidget<0.10.0,>=0.9.0->lonboard) (0.4)\n",
      "Requirement already satisfied: platformdirs>=2.5 in /opt/conda/envs/pangeo/lib/python3.10/site-packages (from jupyter-core!=5.0.*,>=4.12->ipykernel>=4.5.1->ipywidgets>=7.6.0->anywidget<0.10.0,>=0.9.0->lonboard) (4.2.1)\n",
      "Requirement already satisfied: ptyprocess>=0.5 in /opt/conda/envs/pangeo/lib/python3.10/site-packages (from pexpect>4.3->ipython>=6.1.0->ipywidgets>=7.6.0->anywidget<0.10.0,>=0.9.0->lonboard) (0.7.0)\n",
      "Requirement already satisfied: wcwidth in /opt/conda/envs/pangeo/lib/python3.10/site-packages (from prompt-toolkit!=3.0.37,<3.1.0,>=3.0.30->ipython>=6.1.0->ipywidgets>=7.6.0->anywidget<0.10.0,>=0.9.0->lonboard) (0.2.13)\n",
      "Requirement already satisfied: executing>=1.2.0 in /opt/conda/envs/pangeo/lib/python3.10/site-packages (from stack-data->ipython>=6.1.0->ipywidgets>=7.6.0->anywidget<0.10.0,>=0.9.0->lonboard) (2.0.1)\n",
      "Requirement already satisfied: asttokens>=2.1.0 in /opt/conda/envs/pangeo/lib/python3.10/site-packages (from stack-data->ipython>=6.1.0->ipywidgets>=7.6.0->anywidget<0.10.0,>=0.9.0->lonboard) (2.4.1)\n",
      "Requirement already satisfied: pure-eval in /opt/conda/envs/pangeo/lib/python3.10/site-packages (from stack-data->ipython>=6.1.0->ipywidgets>=7.6.0->anywidget<0.10.0,>=0.9.0->lonboard) (0.2.2)\n",
      "\u001b[33mWARNING: Running pip as the 'root' user can result in broken permissions and conflicting behaviour with the system package manager. It is recommended to use a virtual environment instead: https://pip.pypa.io/warnings/venv\u001b[0m\u001b[33m\n",
      "\u001b[0mRequirement already satisfied: localtileserver in /opt/conda/envs/pangeo/lib/python3.10/site-packages (0.10.3)\n",
      "Requirement already satisfied: ipyleaflet in /opt/conda/envs/pangeo/lib/python3.10/site-packages (0.18.1)\n",
      "Requirement already satisfied: click in /opt/conda/envs/pangeo/lib/python3.10/site-packages (from localtileserver) (8.1.7)\n",
      "Requirement already satisfied: flask<4,>=2.0.0 in /opt/conda/envs/pangeo/lib/python3.10/site-packages (from localtileserver) (3.0.3)\n",
      "Requirement already satisfied: Flask-Caching in /opt/conda/envs/pangeo/lib/python3.10/site-packages (from localtileserver) (2.3.0)\n",
      "Requirement already satisfied: flask-cors in /opt/conda/envs/pangeo/lib/python3.10/site-packages (from localtileserver) (4.0.1)\n",
      "Requirement already satisfied: flask-restx>=0.5.0 in /opt/conda/envs/pangeo/lib/python3.10/site-packages (from localtileserver) (1.3.0)\n",
      "Requirement already satisfied: rio-tiler in /opt/conda/envs/pangeo/lib/python3.10/site-packages (from localtileserver) (6.2.8)\n",
      "Requirement already satisfied: rio-cogeo in /opt/conda/envs/pangeo/lib/python3.10/site-packages (from localtileserver) (5.1.1)\n",
      "Requirement already satisfied: requests in /opt/conda/envs/pangeo/lib/python3.10/site-packages (from localtileserver) (2.31.0)\n",
      "Requirement already satisfied: server-thread in /opt/conda/envs/pangeo/lib/python3.10/site-packages (from localtileserver) (0.2.0)\n",
      "Requirement already satisfied: scooby in /opt/conda/envs/pangeo/lib/python3.10/site-packages (from localtileserver) (0.10.0)\n",
      "Requirement already satisfied: werkzeug in /opt/conda/envs/pangeo/lib/python3.10/site-packages (from localtileserver) (3.0.3)\n",
      "Requirement already satisfied: ipywidgets<9,>=7.6.0 in /opt/conda/envs/pangeo/lib/python3.10/site-packages (from ipyleaflet) (8.0.6)\n",
      "Requirement already satisfied: traittypes<3,>=0.2.1 in /opt/conda/envs/pangeo/lib/python3.10/site-packages (from ipyleaflet) (0.2.1)\n",
      "Requirement already satisfied: xyzservices>=2021.8.1 in /opt/conda/envs/pangeo/lib/python3.10/site-packages (from ipyleaflet) (2024.4.0)\n",
      "Requirement already satisfied: branca>=0.5.0 in /opt/conda/envs/pangeo/lib/python3.10/site-packages (from ipyleaflet) (0.7.1)\n",
      "Requirement already satisfied: jinja2>=3 in /opt/conda/envs/pangeo/lib/python3.10/site-packages (from branca>=0.5.0->ipyleaflet) (3.1.3)\n",
      "Requirement already satisfied: itsdangerous>=2.1.2 in /opt/conda/envs/pangeo/lib/python3.10/site-packages (from flask<4,>=2.0.0->localtileserver) (2.2.0)\n",
      "Requirement already satisfied: blinker>=1.6.2 in /opt/conda/envs/pangeo/lib/python3.10/site-packages (from flask<4,>=2.0.0->localtileserver) (1.7.0)\n",
      "Requirement already satisfied: aniso8601>=0.82 in /opt/conda/envs/pangeo/lib/python3.10/site-packages (from flask-restx>=0.5.0->localtileserver) (9.0.1)\n",
      "Requirement already satisfied: jsonschema in /opt/conda/envs/pangeo/lib/python3.10/site-packages (from flask-restx>=0.5.0->localtileserver) (4.21.1)\n",
      "Requirement already satisfied: pytz in /opt/conda/envs/pangeo/lib/python3.10/site-packages (from flask-restx>=0.5.0->localtileserver) (2024.1)\n",
      "Requirement already satisfied: importlib-resources in /opt/conda/envs/pangeo/lib/python3.10/site-packages (from flask-restx>=0.5.0->localtileserver) (6.4.0)\n",
      "Requirement already satisfied: ipykernel>=4.5.1 in /opt/conda/envs/pangeo/lib/python3.10/site-packages (from ipywidgets<9,>=7.6.0->ipyleaflet) (6.29.3)\n",
      "Requirement already satisfied: ipython>=6.1.0 in /opt/conda/envs/pangeo/lib/python3.10/site-packages (from ipywidgets<9,>=7.6.0->ipyleaflet) (8.11.0)\n",
      "Requirement already satisfied: traitlets>=4.3.1 in /opt/conda/envs/pangeo/lib/python3.10/site-packages (from ipywidgets<9,>=7.6.0->ipyleaflet) (5.14.3)\n",
      "Requirement already satisfied: widgetsnbextension~=4.0.7 in /opt/conda/envs/pangeo/lib/python3.10/site-packages (from ipywidgets<9,>=7.6.0->ipyleaflet) (4.0.10)\n",
      "Requirement already satisfied: jupyterlab-widgets~=3.0.7 in /opt/conda/envs/pangeo/lib/python3.10/site-packages (from ipywidgets<9,>=7.6.0->ipyleaflet) (3.0.7)\n",
      "Requirement already satisfied: MarkupSafe>=2.1.1 in /opt/conda/envs/pangeo/lib/python3.10/site-packages (from werkzeug->localtileserver) (2.1.5)\n",
      "Requirement already satisfied: cachelib<0.10.0,>=0.9.0 in /opt/conda/envs/pangeo/lib/python3.10/site-packages (from Flask-Caching->localtileserver) (0.9.0)\n",
      "Requirement already satisfied: charset-normalizer<4,>=2 in /opt/conda/envs/pangeo/lib/python3.10/site-packages (from requests->localtileserver) (3.3.2)\n",
      "Requirement already satisfied: idna<4,>=2.5 in /opt/conda/envs/pangeo/lib/python3.10/site-packages (from requests->localtileserver) (3.7)\n",
      "Requirement already satisfied: urllib3<3,>=1.21.1 in /opt/conda/envs/pangeo/lib/python3.10/site-packages (from requests->localtileserver) (1.26.18)\n",
      "Requirement already satisfied: certifi>=2017.4.17 in /opt/conda/envs/pangeo/lib/python3.10/site-packages (from requests->localtileserver) (2024.2.2)\n",
      "Requirement already satisfied: rasterio>=1.3.3 in /opt/conda/envs/pangeo/lib/python3.10/site-packages (from rio-cogeo->localtileserver) (1.3.7)\n",
      "Requirement already satisfied: numpy~=1.15 in /opt/conda/envs/pangeo/lib/python3.10/site-packages (from rio-cogeo->localtileserver) (1.26.3)\n",
      "Requirement already satisfied: morecantile<6.0,>=5.0 in /opt/conda/envs/pangeo/lib/python3.10/site-packages (from rio-cogeo->localtileserver) (5.1.0)\n",
      "Requirement already satisfied: pydantic~=2.0 in /opt/conda/envs/pangeo/lib/python3.10/site-packages (from rio-cogeo->localtileserver) (2.5.2)\n",
      "Requirement already satisfied: attrs in /opt/conda/envs/pangeo/lib/python3.10/site-packages (from rio-tiler->localtileserver) (23.2.0)\n",
      "Requirement already satisfied: cachetools in /opt/conda/envs/pangeo/lib/python3.10/site-packages (from rio-tiler->localtileserver) (5.3.3)\n",
      "Requirement already satisfied: color-operations in /opt/conda/envs/pangeo/lib/python3.10/site-packages (from rio-tiler->localtileserver) (0.1.3)\n",
      "Requirement already satisfied: httpx in /opt/conda/envs/pangeo/lib/python3.10/site-packages (from rio-tiler->localtileserver) (0.26.0)\n",
      "Requirement already satisfied: numexpr in /opt/conda/envs/pangeo/lib/python3.10/site-packages (from rio-tiler->localtileserver) (2.10.0)\n",
      "Requirement already satisfied: pystac>=0.5.4 in /opt/conda/envs/pangeo/lib/python3.10/site-packages (from rio-tiler->localtileserver) (1.9.0)\n",
      "Requirement already satisfied: uvicorn in /opt/conda/envs/pangeo/lib/python3.10/site-packages (from server-thread->localtileserver) (0.29.0)\n",
      "Requirement already satisfied: comm>=0.1.1 in /opt/conda/envs/pangeo/lib/python3.10/site-packages (from ipykernel>=4.5.1->ipywidgets<9,>=7.6.0->ipyleaflet) (0.2.2)\n",
      "Requirement already satisfied: debugpy>=1.6.5 in /opt/conda/envs/pangeo/lib/python3.10/site-packages (from ipykernel>=4.5.1->ipywidgets<9,>=7.6.0->ipyleaflet) (1.8.1)\n",
      "Requirement already satisfied: jupyter-client>=6.1.12 in /opt/conda/envs/pangeo/lib/python3.10/site-packages (from ipykernel>=4.5.1->ipywidgets<9,>=7.6.0->ipyleaflet) (7.4.9)\n",
      "Requirement already satisfied: jupyter-core!=5.0.*,>=4.12 in /opt/conda/envs/pangeo/lib/python3.10/site-packages (from ipykernel>=4.5.1->ipywidgets<9,>=7.6.0->ipyleaflet) (5.7.2)\n",
      "Requirement already satisfied: matplotlib-inline>=0.1 in /opt/conda/envs/pangeo/lib/python3.10/site-packages (from ipykernel>=4.5.1->ipywidgets<9,>=7.6.0->ipyleaflet) (0.1.7)\n",
      "Requirement already satisfied: nest-asyncio in /opt/conda/envs/pangeo/lib/python3.10/site-packages (from ipykernel>=4.5.1->ipywidgets<9,>=7.6.0->ipyleaflet) (1.6.0)\n",
      "Requirement already satisfied: packaging in /opt/conda/envs/pangeo/lib/python3.10/site-packages (from ipykernel>=4.5.1->ipywidgets<9,>=7.6.0->ipyleaflet) (24.0)\n",
      "Requirement already satisfied: psutil in /opt/conda/envs/pangeo/lib/python3.10/site-packages (from ipykernel>=4.5.1->ipywidgets<9,>=7.6.0->ipyleaflet) (5.9.8)\n",
      "Requirement already satisfied: pyzmq>=24 in /opt/conda/envs/pangeo/lib/python3.10/site-packages (from ipykernel>=4.5.1->ipywidgets<9,>=7.6.0->ipyleaflet) (24.0.1)\n",
      "Requirement already satisfied: tornado>=6.1 in /opt/conda/envs/pangeo/lib/python3.10/site-packages (from ipykernel>=4.5.1->ipywidgets<9,>=7.6.0->ipyleaflet) (6.4)\n",
      "Requirement already satisfied: backcall in /opt/conda/envs/pangeo/lib/python3.10/site-packages (from ipython>=6.1.0->ipywidgets<9,>=7.6.0->ipyleaflet) (0.2.0)\n",
      "Requirement already satisfied: decorator in /opt/conda/envs/pangeo/lib/python3.10/site-packages (from ipython>=6.1.0->ipywidgets<9,>=7.6.0->ipyleaflet) (5.1.1)\n",
      "Requirement already satisfied: jedi>=0.16 in /opt/conda/envs/pangeo/lib/python3.10/site-packages (from ipython>=6.1.0->ipywidgets<9,>=7.6.0->ipyleaflet) (0.19.1)\n",
      "Requirement already satisfied: pickleshare in /opt/conda/envs/pangeo/lib/python3.10/site-packages (from ipython>=6.1.0->ipywidgets<9,>=7.6.0->ipyleaflet) (0.7.5)\n",
      "Requirement already satisfied: prompt-toolkit!=3.0.37,<3.1.0,>=3.0.30 in /opt/conda/envs/pangeo/lib/python3.10/site-packages (from ipython>=6.1.0->ipywidgets<9,>=7.6.0->ipyleaflet) (3.0.38)\n",
      "Requirement already satisfied: pygments>=2.4.0 in /opt/conda/envs/pangeo/lib/python3.10/site-packages (from ipython>=6.1.0->ipywidgets<9,>=7.6.0->ipyleaflet) (2.17.2)\n",
      "Requirement already satisfied: stack-data in /opt/conda/envs/pangeo/lib/python3.10/site-packages (from ipython>=6.1.0->ipywidgets<9,>=7.6.0->ipyleaflet) (0.6.2)\n",
      "Requirement already satisfied: pexpect>4.3 in /opt/conda/envs/pangeo/lib/python3.10/site-packages (from ipython>=6.1.0->ipywidgets<9,>=7.6.0->ipyleaflet) (4.9.0)\n",
      "Requirement already satisfied: pyproj~=3.1 in /opt/conda/envs/pangeo/lib/python3.10/site-packages (from morecantile<6.0,>=5.0->rio-cogeo->localtileserver) (3.5.0)\n",
      "Requirement already satisfied: annotated-types>=0.4.0 in /opt/conda/envs/pangeo/lib/python3.10/site-packages (from pydantic~=2.0->rio-cogeo->localtileserver) (0.6.0)\n",
      "Requirement already satisfied: pydantic-core==2.14.5 in /opt/conda/envs/pangeo/lib/python3.10/site-packages (from pydantic~=2.0->rio-cogeo->localtileserver) (2.14.5)\n",
      "Requirement already satisfied: typing-extensions>=4.6.1 in /opt/conda/envs/pangeo/lib/python3.10/site-packages (from pydantic~=2.0->rio-cogeo->localtileserver) (4.11.0)\n",
      "Requirement already satisfied: python-dateutil>=2.7.0 in /opt/conda/envs/pangeo/lib/python3.10/site-packages (from pystac>=0.5.4->rio-tiler->localtileserver) (2.9.0)\n",
      "Requirement already satisfied: affine in /opt/conda/envs/pangeo/lib/python3.10/site-packages (from rasterio>=1.3.3->rio-cogeo->localtileserver) (2.4.0)\n",
      "Requirement already satisfied: cligj>=0.5 in /opt/conda/envs/pangeo/lib/python3.10/site-packages (from rasterio>=1.3.3->rio-cogeo->localtileserver) (0.7.2)\n",
      "Requirement already satisfied: snuggs>=1.4.1 in /opt/conda/envs/pangeo/lib/python3.10/site-packages (from rasterio>=1.3.3->rio-cogeo->localtileserver) (1.4.7)\n",
      "Requirement already satisfied: click-plugins in /opt/conda/envs/pangeo/lib/python3.10/site-packages (from rasterio>=1.3.3->rio-cogeo->localtileserver) (1.1.1)\n",
      "Requirement already satisfied: setuptools in /opt/conda/envs/pangeo/lib/python3.10/site-packages (from rasterio>=1.3.3->rio-cogeo->localtileserver) (69.5.1)\n",
      "Requirement already satisfied: anyio in /opt/conda/envs/pangeo/lib/python3.10/site-packages (from httpx->rio-tiler->localtileserver) (4.3.0)\n",
      "Requirement already satisfied: httpcore==1.* in /opt/conda/envs/pangeo/lib/python3.10/site-packages (from httpx->rio-tiler->localtileserver) (1.0.5)\n",
      "Requirement already satisfied: sniffio in /opt/conda/envs/pangeo/lib/python3.10/site-packages (from httpx->rio-tiler->localtileserver) (1.3.1)\n",
      "Requirement already satisfied: h11<0.15,>=0.13 in /opt/conda/envs/pangeo/lib/python3.10/site-packages (from httpcore==1.*->httpx->rio-tiler->localtileserver) (0.14.0)\n",
      "Requirement already satisfied: jsonschema-specifications>=2023.03.6 in /opt/conda/envs/pangeo/lib/python3.10/site-packages (from jsonschema->flask-restx>=0.5.0->localtileserver) (2023.12.1)\n",
      "Requirement already satisfied: referencing>=0.28.4 in /opt/conda/envs/pangeo/lib/python3.10/site-packages (from jsonschema->flask-restx>=0.5.0->localtileserver) (0.34.0)\n",
      "Requirement already satisfied: rpds-py>=0.7.1 in /opt/conda/envs/pangeo/lib/python3.10/site-packages (from jsonschema->flask-restx>=0.5.0->localtileserver) (0.18.0)\n",
      "Requirement already satisfied: parso<0.9.0,>=0.8.3 in /opt/conda/envs/pangeo/lib/python3.10/site-packages (from jedi>=0.16->ipython>=6.1.0->ipywidgets<9,>=7.6.0->ipyleaflet) (0.8.4)\n",
      "Requirement already satisfied: entrypoints in /opt/conda/envs/pangeo/lib/python3.10/site-packages (from jupyter-client>=6.1.12->ipykernel>=4.5.1->ipywidgets<9,>=7.6.0->ipyleaflet) (0.4)\n",
      "Requirement already satisfied: platformdirs>=2.5 in /opt/conda/envs/pangeo/lib/python3.10/site-packages (from jupyter-core!=5.0.*,>=4.12->ipykernel>=4.5.1->ipywidgets<9,>=7.6.0->ipyleaflet) (4.2.1)\n",
      "Requirement already satisfied: ptyprocess>=0.5 in /opt/conda/envs/pangeo/lib/python3.10/site-packages (from pexpect>4.3->ipython>=6.1.0->ipywidgets<9,>=7.6.0->ipyleaflet) (0.7.0)\n",
      "Requirement already satisfied: wcwidth in /opt/conda/envs/pangeo/lib/python3.10/site-packages (from prompt-toolkit!=3.0.37,<3.1.0,>=3.0.30->ipython>=6.1.0->ipywidgets<9,>=7.6.0->ipyleaflet) (0.2.13)\n",
      "Requirement already satisfied: six>=1.5 in /opt/conda/envs/pangeo/lib/python3.10/site-packages (from python-dateutil>=2.7.0->pystac>=0.5.4->rio-tiler->localtileserver) (1.16.0)\n",
      "Requirement already satisfied: pyparsing>=2.1.6 in /opt/conda/envs/pangeo/lib/python3.10/site-packages (from snuggs>=1.4.1->rasterio>=1.3.3->rio-cogeo->localtileserver) (3.1.2)\n",
      "Requirement already satisfied: exceptiongroup>=1.0.2 in /opt/conda/envs/pangeo/lib/python3.10/site-packages (from anyio->httpx->rio-tiler->localtileserver) (1.2.0)\n",
      "Requirement already satisfied: executing>=1.2.0 in /opt/conda/envs/pangeo/lib/python3.10/site-packages (from stack-data->ipython>=6.1.0->ipywidgets<9,>=7.6.0->ipyleaflet) (2.0.1)\n",
      "Requirement already satisfied: asttokens>=2.1.0 in /opt/conda/envs/pangeo/lib/python3.10/site-packages (from stack-data->ipython>=6.1.0->ipywidgets<9,>=7.6.0->ipyleaflet) (2.4.1)\n",
      "Requirement already satisfied: pure-eval in /opt/conda/envs/pangeo/lib/python3.10/site-packages (from stack-data->ipython>=6.1.0->ipywidgets<9,>=7.6.0->ipyleaflet) (0.2.2)\n",
      "\u001b[33mWARNING: Running pip as the 'root' user can result in broken permissions and conflicting behaviour with the system package manager. It is recommended to use a virtual environment instead: https://pip.pypa.io/warnings/venv\u001b[0m\u001b[33m\n",
      "\u001b[0m"
     ]
    }
   ],
   "source": [
    "!pip install lonboard pyogrio\n",
    "!pip install localtileserver ipyleaflet"
   ]
  },
  {
   "cell_type": "code",
   "execution_count": 2,
   "id": "b48a42c4-d929-4f2a-92a5-47ee0b036727",
   "metadata": {
    "tags": []
   },
   "outputs": [],
   "source": [
    "import geopandas as gpd\n",
    "from lonboard import viz\n",
    "import matplotlib as mpl\n",
    "import pandas as pd\n",
    "import matplotlib.pyplot as plt\n",
    "import numpy as np\n",
    "from lonboard import Map, BitmapLayer, BitmapTileLayer, PointCloudLayer, PolygonLayer, ScatterplotLayer\n",
    "from lonboard.colormap import apply_continuous_cmap\n",
    "import json\n",
    "from palettable.colorbrewer.sequential import YlGnBu_7, Greens_3\n",
    "from palettable.colorbrewer.diverging import Spectral_9\n",
    "from matplotlib.colors import Normalize\n",
    "import httpx"
   ]
  },
  {
   "cell_type": "markdown",
   "id": "f95b1af0-9d64-4d72-bd0b-35f8fdd5a239",
   "metadata": {},
   "source": [
    "**Adding NFI Data**"
   ]
  },
  {
   "cell_type": "markdown",
   "id": "93bf8736-2b97-406c-ad94-80c5c464ed70",
   "metadata": {},
   "source": [
    "In this first section we visualize Cambodia's National Forest Inventory(NFI) data over Mondulkiri Srepok National Park."
   ]
  },
  {
   "cell_type": "code",
   "execution_count": 3,
   "id": "b33c3302-7464-4973-a4af-40c629f74a6e",
   "metadata": {
    "tags": []
   },
   "outputs": [],
   "source": [
    "##Define NFI file path\n",
    "path = \"/projects/shared-buckets/nehajo88/Data/NASA_CMS_2023/CAMBODIA/KHM_AGBD.gpkg\""
   ]
  },
  {
   "cell_type": "code",
   "execution_count": 4,
   "id": "422d0e3f-1b2d-438d-91b4-a21fdfe552ba",
   "metadata": {
    "tags": []
   },
   "outputs": [],
   "source": [
    "#Read file using geopandas and pyogrio\n",
    "NFI_gdf = gpd.read_file(path, engine=\"pyogrio\")"
   ]
  },
  {
   "cell_type": "code",
   "execution_count": null,
   "id": "44f249dd-40a5-46e9-b103-65a78e20dd02",
   "metadata": {
    "tags": []
   },
   "outputs": [],
   "source": [
    "#Create a scatter plot layer from a GeoPandas DataFrame (NFI_gdf) and adds it to a map\n",
    "NFI_layer = ScatterplotLayer.from_geopandas(NFI_gdf)\n",
    "m = Map(layers=[NFI_layer])"
   ]
  },
  {
   "cell_type": "code",
   "execution_count": null,
   "id": "97d2e841-978e-400a-b3ef-4de1a79615b4",
   "metadata": {
    "tags": []
   },
   "outputs": [],
   "source": [
    "##Sets the fill color of the GEDI_original_layer scatter plot to a specific RGB color value [200, 100, 100].\n",
    "NFI_layer.get_fill_color = [200, 100, 100]"
   ]
  },
  {
   "cell_type": "code",
   "execution_count": null,
   "id": "89f92bf8-d913-455c-a92f-40df23f695df",
   "metadata": {
    "tags": []
   },
   "outputs": [],
   "source": [
    "#Prints the file head for seeing column names which will be needed in next step\n",
    "NFI_gdf.head()"
   ]
  },
  {
   "cell_type": "markdown",
   "id": "11c32d32-bfef-4872-bf2a-e7d8af044425",
   "metadata": {},
   "source": [
    "Now, we would like to plot data based on a statistic. Let's plot based on the value of the 'AGBD.PLOT' column. We will use a linear colormap excluding the lowest and highest 10 percentiles of the data.\n",
    "\n",
    "First, we'll find what the values of the 10th and 90th percentile are:"
   ]
  },
  {
   "cell_type": "code",
   "execution_count": null,
   "id": "f3c5a888-92c5-4980-891b-01943cd4d330",
   "metadata": {
    "tags": []
   },
   "outputs": [],
   "source": [
    "#Calculate the 10th percentile (q10) and the 90th percentile (q90) of the 'agbd' column in the gedi_gdf GeoPandas DataFrame.\n",
    "q10 = NFI_gdf['AGBD.PLOT'].quantile(.1)\n",
    "q90 = NFI_gdf['AGBD.PLOT'].quantile(.9)"
   ]
  },
  {
   "cell_type": "markdown",
   "id": "6210a1f0-77c1-47d0-b0f4-407645bb5fa7",
   "metadata": {},
   "source": [
    "Then we can construct a \"normalizer\" based on Normalize that will do linear rescaling between the two values we supply:"
   ]
  },
  {
   "cell_type": "code",
   "execution_count": null,
   "id": "1ec70fc1-3674-463c-a829-58201a0d0b90",
   "metadata": {
    "tags": []
   },
   "outputs": [],
   "source": [
    "normalizer = mpl.colors.Normalize(q10, q90)"
   ]
  },
  {
   "cell_type": "markdown",
   "id": "4d3633bb-6598-4ee5-a482-a0fa96043049",
   "metadata": {},
   "source": [
    "Calling this normalizer on our data will return a scaled version ranging between 0 and 1:"
   ]
  },
  {
   "cell_type": "code",
   "execution_count": null,
   "id": "dabe3354-fd5e-45b2-9284-b3a2c1d7ee32",
   "metadata": {
    "tags": []
   },
   "outputs": [],
   "source": [
    "normalized_agbd = normalizer(NFI_gdf['AGBD.PLOT'])\n",
    "normalized_agbd"
   ]
  },
  {
   "cell_type": "markdown",
   "id": "591e89ad-57d6-4917-8109-38fb96f1ae0c",
   "metadata": {},
   "source": [
    "Here we construct color values by taking a Matplotlib colormap and calling it on our normalized values. Ensure you use bytes=True when calling the colormap object so that the output colors range from 0-255 and not 0-1."
   ]
  },
  {
   "cell_type": "code",
   "execution_count": null,
   "id": "6c60e368-87c6-4277-a7d6-c5a8a6f1b955",
   "metadata": {
    "tags": []
   },
   "outputs": [],
   "source": [
    "# Ensure lengths match\n",
    "if len(normalized_agbd) == len(NFI_gdf):\n",
    "    # Apply the viridis colormap\n",
    "    viridis_colormap = plt.get_cmap(\"viridis\")\n",
    "    colors = viridis_colormap(normalized_agbd, bytes=True)\n",
    "    NFI_layer.get_fill_color = colors\n",
    "    NFI_layer.radius_min_pixels = 5\n",
    "else:\n",
    "    raise ValueError(\"normalized_agbd length does not match the length of Improved_gedi_gdf\")"
   ]
  },
  {
   "cell_type": "markdown",
   "id": "4c4a92a2-0646-40ea-b229-4eea6c69c60e",
   "metadata": {},
   "source": [
    "The map should now have updated to show points colored by their agbd value. To remind ourselves what the high and low values are, we can inspect the colormap object itself:"
   ]
  },
  {
   "cell_type": "code",
   "execution_count": null,
   "id": "171808ef-b244-4850-89a8-1b9aac41c513",
   "metadata": {
    "tags": []
   },
   "outputs": [],
   "source": [
    "viridis_colormap"
   ]
  },
  {
   "cell_type": "markdown",
   "id": "24309784-f590-42d6-a38c-41e0ebba1955",
   "metadata": {},
   "source": [
    "For showing the plots against a basemap, here we call upon a basemap from ESRI which can be used on lonboard visualization of the plots."
   ]
  },
  {
   "cell_type": "code",
   "execution_count": null,
   "id": "7608b656-4837-4870-8287-e65de4eda418",
   "metadata": {
    "tags": []
   },
   "outputs": [],
   "source": [
    "#Voyager = 'https://basemaps.cartocdn.com/gl/voyager-gl-style/style.json'"
   ]
  },
  {
   "cell_type": "code",
   "execution_count": null,
   "id": "3f5b0017-23d7-4e09-ad79-df8976143452",
   "metadata": {
    "tags": []
   },
   "outputs": [],
   "source": [
    "ESRI_basemap = BitmapTileLayer(\n",
    "    data=\"https://services.arcgisonline.com/ArcGIS/rest/services/World_Imagery/MapServer/tile/{z}/{y}/{x}\",\n",
    "    tile_size=256,\n",
    "    max_requests=-1,\n",
    "    min_zoom=0,\n",
    "    max_zoom=19,\n",
    ")\n",
    "m = Map(ESRI_basemap)"
   ]
  },
  {
   "cell_type": "code",
   "execution_count": null,
   "id": "9cb018e2-d991-470d-860f-b94231766458",
   "metadata": {
    "tags": []
   },
   "outputs": [],
   "source": [
    "m = Map([ESRI_basemap,NFI_layer])\n",
    "m"
   ]
  },
  {
   "cell_type": "markdown",
   "id": "854b65ac-a3c6-4942-85d0-95cb02933748",
   "metadata": {},
   "source": [
    "**GEDI Original L4A Shots Visualization**"
   ]
  },
  {
   "cell_type": "markdown",
   "id": "02b2e17b-a6ca-4c93-b7fb-d867c918f0ce",
   "metadata": {},
   "source": [
    "The NASA GEDI L4A data offers predictions of aboveground biomass density (AGBD in Mg/ha) and provides uncertainty estimates for each sampled geolocated laser footprint. The footprints are located within the global latitude band observed by the International Space Station (ISS), nominally between 51.6 degrees N and S, and cover the period from April 18, 2019, to March 16, 2023.\n",
    "\n",
    "This section's code reads and visualizes all the GEDI L4A shots in entire country of Cambodia using libraries such as geopandas, pyogrio and lonboard. The codes follow similar steps as described in the first section."
   ]
  },
  {
   "cell_type": "code",
   "execution_count": null,
   "id": "e9ad0322-06c5-47a5-96c3-2de035d34767",
   "metadata": {
    "tags": []
   },
   "outputs": [],
   "source": [
    "path = \"/projects/shared-buckets/leitoldv/gedi_subsetting_CAMBODIA/DATA/KHM_L4A.gpkg\"\n",
    "gedi_gdf = gpd.read_file(path, engine=\"pyogrio\")\n",
    "GEDI_original_layer = ScatterplotLayer.from_geopandas(gedi_gdf)\n",
    "m = Map(layers=[GEDI_original_layer])"
   ]
  },
  {
   "cell_type": "code",
   "execution_count": null,
   "id": "741ab02b-84c2-442f-883d-b87c880a6575",
   "metadata": {
    "tags": []
   },
   "outputs": [],
   "source": [
    "GEDI_original_layer.get_fill_color = [200, 100, 100]"
   ]
  },
  {
   "cell_type": "code",
   "execution_count": null,
   "id": "70c9eeda-ee36-4f8e-879e-f7d2cc0f9f30",
   "metadata": {
    "tags": []
   },
   "outputs": [],
   "source": [
    "gedi_gdf.head()"
   ]
  },
  {
   "cell_type": "code",
   "execution_count": null,
   "id": "437e3fa3-ca8e-4963-9a35-655887f66739",
   "metadata": {
    "tags": []
   },
   "outputs": [],
   "source": [
    "m"
   ]
  },
  {
   "cell_type": "code",
   "execution_count": null,
   "id": "12e835c7-f37e-40f1-82ce-c12b35e9ab7f",
   "metadata": {
    "tags": []
   },
   "outputs": [],
   "source": [
    "q10 = gedi_gdf['agbd'].quantile(.1)\n",
    "q90 = gedi_gdf['agbd'].quantile(.9)"
   ]
  },
  {
   "cell_type": "code",
   "execution_count": null,
   "id": "f74bf39f-64b8-49c6-b14f-57280ead06d1",
   "metadata": {
    "tags": []
   },
   "outputs": [],
   "source": [
    "normalizer = mpl.colors.Normalize(q10, q90)"
   ]
  },
  {
   "cell_type": "code",
   "execution_count": null,
   "id": "d3b2ea98-5624-415b-adc9-bfa322447604",
   "metadata": {
    "tags": []
   },
   "outputs": [],
   "source": [
    "normalized_agbd = normalizer(gedi_gdf['agbd'])\n",
    "normalized_agbd"
   ]
  },
  {
   "cell_type": "code",
   "execution_count": null,
   "id": "07600ddd-9374-49ff-bfaa-b6872fd17686",
   "metadata": {
    "tags": []
   },
   "outputs": [],
   "source": [
    "viridis_colormap = mpl.colormaps[\"viridis\"]\n",
    "GEDI_original_layer.get_fill_color = viridis_colormap(normalized_agbd, bytes=True)\n",
    "GEDI_original_layer.radius_min_pixels = 1"
   ]
  },
  {
   "cell_type": "code",
   "execution_count": null,
   "id": "21215373-3422-4128-bdbf-260c3fe7084e",
   "metadata": {
    "tags": []
   },
   "outputs": [],
   "source": [
    "viridis_colormap"
   ]
  },
  {
   "cell_type": "code",
   "execution_count": null,
   "id": "4cf86db4-5ad5-4b8e-aa69-181747ce245c",
   "metadata": {
    "tags": []
   },
   "outputs": [],
   "source": [
    "m = Map(layers=[ESRI_basemap, GEDI_original_layer])\n",
    "m"
   ]
  },
  {
   "cell_type": "markdown",
   "id": "cb3a5590-84a5-48ac-82e5-e47cea4624e2",
   "metadata": {},
   "source": [
    "**Adding Improved GEDI L4A**"
   ]
  },
  {
   "cell_type": "markdown",
   "id": "58bfd6b7-cd6c-4dfc-8de7-464d3f169222",
   "metadata": {},
   "source": [
    "In this part we visualize the improved GEDI data over Mondulkiri Srepok National Park which was derived from our team's implementation of improved model for the area. We used additional field data (previously not available) to train our biomass model in Asian Evergreen Broadleaf Forests (EBT_As) which resulted in improved AGBD estimates for this region. \n",
    "\n",
    "The codes follow similar steps as described in the first section."
   ]
  },
  {
   "cell_type": "code",
   "execution_count": null,
   "id": "ce03f100-0fd5-48ad-b89f-40173c3d0f9b",
   "metadata": {
    "tags": []
   },
   "outputs": [],
   "source": [
    "path = \"/projects/shared-buckets/pbasak/Cambodia_Notebook/NPAs_L4A_improved.gpkg\""
   ]
  },
  {
   "cell_type": "code",
   "execution_count": null,
   "id": "d74dedad-eddb-4318-9dc6-efd0b9d7d7f9",
   "metadata": {
    "tags": []
   },
   "outputs": [],
   "source": [
    "Improved_GEDI_gdf = gpd.read_file(path, engine=\"pyogrio\")"
   ]
  },
  {
   "cell_type": "code",
   "execution_count": null,
   "id": "ef457031-c2b1-4522-882a-a7773d4041fe",
   "metadata": {
    "tags": []
   },
   "outputs": [],
   "source": [
    "Improved_GEDI_gdf.head()"
   ]
  },
  {
   "cell_type": "code",
   "execution_count": null,
   "id": "784d7ba2-b7a0-4dfd-b1a2-1dc5a9208737",
   "metadata": {
    "tags": []
   },
   "outputs": [],
   "source": [
    "Improved_GEDI_layer = ScatterplotLayer.from_geopandas(Improved_GEDI_gdf)\n",
    "m = Map(layers=[Improved_GEDI_layer])"
   ]
  },
  {
   "cell_type": "code",
   "execution_count": null,
   "id": "f8ddd84a-71bd-4b89-861d-a02d799912aa",
   "metadata": {
    "tags": []
   },
   "outputs": [],
   "source": [
    "m"
   ]
  },
  {
   "cell_type": "code",
   "execution_count": null,
   "id": "9ac1d503-ea0a-4316-b401-1ac7b17eb209",
   "metadata": {
    "tags": []
   },
   "outputs": [],
   "source": [
    "q10 = Improved_GEDI_gdf['AGBD_1'].quantile(.1)\n",
    "q90 = Improved_GEDI_gdf['AGBD_1'].quantile(.9)"
   ]
  },
  {
   "cell_type": "code",
   "execution_count": null,
   "id": "d5c887f6-211f-410d-8959-9f687d0c775d",
   "metadata": {
    "tags": []
   },
   "outputs": [],
   "source": [
    "normalizer = mpl.colors.Normalize(q10, q90)"
   ]
  },
  {
   "cell_type": "code",
   "execution_count": null,
   "id": "70652b76-b5bb-4c0f-aa3b-501491ceb8e9",
   "metadata": {
    "tags": []
   },
   "outputs": [],
   "source": [
    "normalized_agbd = normalizer(Improved_GEDI_gdf['AGBD_1'])\n",
    "normalized_agbd"
   ]
  },
  {
   "cell_type": "code",
   "execution_count": null,
   "id": "8db26628-306d-40b5-a8b6-84d068c34d76",
   "metadata": {
    "tags": []
   },
   "outputs": [],
   "source": [
    "# Ensure lengths match\n",
    "if len(normalized_agbd) == len(Improved_GEDI_gdf):\n",
    "    # Apply the viridis colormap\n",
    "    viridis_colormap = plt.get_cmap(\"viridis\")\n",
    "    colors = viridis_colormap(normalized_agbd, bytes=True)\n",
    "    Improved_GEDI_layer.get_fill_color = colors\n",
    "    Improved_GEDI_layer.radius_min_pixels = 1\n",
    "else:\n",
    "    raise ValueError(\"normalized_agbd length does not match the length of Improved_gedi_gdf\")"
   ]
  },
  {
   "cell_type": "code",
   "execution_count": null,
   "id": "ccf1ad58-5f4e-4c29-9341-de25106b4134",
   "metadata": {
    "tags": []
   },
   "outputs": [],
   "source": [
    "viridis_colormap"
   ]
  },
  {
   "cell_type": "code",
   "execution_count": null,
   "id": "069f0b17-cb15-466f-85f0-e5be1c51798c",
   "metadata": {
    "tags": []
   },
   "outputs": [],
   "source": [
    "m = Map(layers=[ESRI_basemap, Improved_GEDI_layer,NFI_layer])\n",
    "m"
   ]
  },
  {
   "cell_type": "markdown",
   "id": "f65848f0-6d19-4f4d-ac58-d1288ba437b9",
   "metadata": {},
   "source": [
    "**CCI Biomass Layer**"
   ]
  },
  {
   "cell_type": "markdown",
   "id": "082efd47-d03e-4cb5-ad34-bb234fe4b922",
   "metadata": {},
   "source": [
    "The ESA's Climate Change Initiative (CCI) Biomass project aimed to produce global maps of above-ground biomass for 2010, 2017, and 2018 to quantify biomass changes. The mapping is done with a 100-meter grid spacing, aiming for a relative error of less than 20 percent in areas where the above-ground biomass (AGB) exceeds 50 Mg ha-1. \n",
    "\n",
    "For visualizing the CCI Biomass layer, we will use BitmapTileLayer which renders tiles dynamically generated by TiTiler."
   ]
  },
  {
   "cell_type": "code",
   "execution_count": null,
   "id": "01a725e0-c23b-465c-8b50-cdd1fc927690",
   "metadata": {
    "tags": []
   },
   "outputs": [],
   "source": [
    "titiler_endpoint = \"https://titiler.maap-project.org\""
   ]
  },
  {
   "cell_type": "code",
   "execution_count": null,
   "id": "aedd98b8-5a5e-4afd-9352-04249606319e",
   "metadata": {
    "tags": []
   },
   "outputs": [],
   "source": [
    "CCI_product_url = \"s3://maap-ops-workspace/shared/pbasak/Cambodia_Notebook/CCI_AOImasked.tif\""
   ]
  },
  {
   "cell_type": "code",
   "execution_count": null,
   "id": "db882b3b-d8e0-4266-bba6-679d2c2cab07",
   "metadata": {
    "tags": []
   },
   "outputs": [],
   "source": [
    "CCI_product_tile_url = \"https://titiler.maap-project.org/cog/tiles/{z}/{x}/{y}?url=s3://maap-ops-workspace/shared/pbasak/Cambodia_Notebook/CCI_AOImasked.tif&rescale=0,60&colormap_name=viridis\""
   ]
  },
  {
   "cell_type": "code",
   "execution_count": null,
   "id": "b70d09c5-06c7-4852-baf3-acad891feb81",
   "metadata": {
    "tags": []
   },
   "outputs": [],
   "source": [
    "r_CCI = httpx.get(\n",
    "    f\"{titiler_endpoint}/cog/info\",\n",
    "    params = {\n",
    "        \"url\": CCI_product_url,\n",
    "    }\n",
    ").json()\n",
    "\n",
    "bounds_CCI = r_CCI[\"bounds\"]\n",
    "print(bounds_CCI)"
   ]
  },
  {
   "cell_type": "code",
   "execution_count": null,
   "id": "a6e11dbc-94c8-4a7b-8fee-ba39932285c8",
   "metadata": {
    "tags": []
   },
   "outputs": [],
   "source": [
    "CCI_product_layer = BitmapTileLayer(\n",
    "    data=CCI_product_tile_url,\n",
    "    tile_size=148,\n",
    "    max_requests=-1,\n",
    "    extent=bounds_CCI\n",
    ")"
   ]
  },
  {
   "cell_type": "code",
   "execution_count": null,
   "id": "63423521-8039-43df-82dd-0e5c8dfebcab",
   "metadata": {
    "tags": []
   },
   "outputs": [],
   "source": [
    "viridis_colormap"
   ]
  },
  {
   "cell_type": "code",
   "execution_count": null,
   "id": "8759f1f9-84a6-4d2d-85b8-e44daf46453a",
   "metadata": {
    "tags": []
   },
   "outputs": [],
   "source": [
    "m1 = Map([layer, CCI_product_layer, Improved_GEDI_layer, NFI_layer])\n",
    "m1"
   ]
  },
  {
   "cell_type": "code",
   "execution_count": null,
   "id": "0ea015fc-e4cb-485a-b99a-65d3e85e3340",
   "metadata": {},
   "outputs": [],
   "source": []
  }
 ],
 "metadata": {
  "kernelspec": {
   "display_name": "Python 3 (ipykernel)",
   "language": "python",
   "name": "python3"
  },
  "language_info": {
   "codemirror_mode": {
    "name": "ipython",
    "version": 3
   },
   "file_extension": ".py",
   "mimetype": "text/x-python",
   "name": "python",
   "nbconvert_exporter": "python",
   "pygments_lexer": "ipython3",
   "version": "3.10.13"
  }
 },
 "nbformat": 4,
 "nbformat_minor": 5
}
