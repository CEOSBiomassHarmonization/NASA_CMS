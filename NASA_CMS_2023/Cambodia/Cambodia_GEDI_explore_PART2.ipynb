{
 "cells": [
  {
   "cell_type": "markdown",
   "id": "d9fbcdcf-41c5-4b3f-b295-82f861934491",
   "metadata": {},
   "source": [
    "### INTRODUCTION: \n",
    "\n",
    "The visualization for this notebook uses Lonboard, which is a new Python library for fast, interactive geospatial vector data visualization for big raster or vector files in Jupyter. By utilizing new tools like GeoArrow and GeoParquet in conjunction with GPU-based map rendering, lonboard aims to enable visualizing large geospatial datasets interactively through a simple interface. \n",
    "\n",
    "CODE PREPARED BY:\n",
    "\n",
    "*-- Paromita Basak, University of Maryland College Park*\n",
    "\n",
    "CODE SUPPORTED BY: \n",
    "\n",
    "*-- Dr. Rajat Shinde, NASA IMPACT*\n",
    "\n",
    "*-- Dr. Alex I. Mandel, Development Seed*\n",
    "\n",
    "*-- Dr. Neha Hunka, University of Maryland College Park*\n",
    "\n",
    "*-- Dr. Laura Duncanson, University of Maryland College Park\n",
    "\n",
    "**Support via a GEDI Science Team grant, PI Dr. Laura Duncanson, and the NASA MAAP User Working Group**"
   ]
  },
  {
   "cell_type": "markdown",
   "id": "7a0682a8-c19d-48d2-b494-ab8f76552afe",
   "metadata": {},
   "source": [
    "Importing Packages¶\n",
    "We import the required packages for this tutorial.\n",
    "\n",
    "This notebook is designed to run on the NASA MAAP in a \"Pangeo\" workspace. To prepare your workspace, install packages via the terminal and restart the kernel in this notebook with:\n",
    "conda env update -f /projects/shared-buckets/minord/biomass_reference_maps/env/lonboard-env.yml --prune\n",
    "\n",
    "1. Creating executed notebook\n",
    "python -m nbconvert /projects/ADE_biomass_harmonization/NASA_CMS/NASA_CMS_2023/Cambodia/Cambodia_GEDI_explore_PART2.ipynb --to ipynb --stdout --execute > /projects/ADE_biomass_harmonization/NASA_CMS/NASA_CMS_2023/Cambodia/Cambodia_GEDI_explore_PART2_executed.ipynb\n",
    "\n",
    "2. Create shared notebook\n",
    "pip install nbss-upload\n",
    "\n",
    "nbss-upload /projects/ADE_biomass_harmonization/NASA_CMS/NASA_CMS_2023/Cambodia/Cambodia_GEDI_explore_PART2_executed.ipynb"
   ]
  },
  {
   "cell_type": "code",
   "execution_count": 1,
   "id": "b48a42c4-d929-4f2a-92a5-47ee0b036727",
   "metadata": {
    "tags": []
   },
   "outputs": [],
   "source": [
    "#load packages to run scripts\n",
    "import geopandas as gpd\n",
    "from lonboard import viz\n",
    "import matplotlib as mpl\n",
    "import pandas as pd\n",
    "import matplotlib.pyplot as plt\n",
    "import numpy as np\n",
    "from lonboard import Map, BitmapLayer, BitmapTileLayer, PointCloudLayer, PolygonLayer, ScatterplotLayer\n",
    "from lonboard.colormap import apply_continuous_cmap\n",
    "import json\n",
    "from palettable.colorbrewer.sequential import YlGnBu_7, Greens_3\n",
    "from palettable.colorbrewer.diverging import Spectral_9\n",
    "from matplotlib.colors import Normalize\n",
    "import httpx"
   ]
  },
  {
   "cell_type": "markdown",
   "id": "3c4b2116-69c8-4a11-8486-19916ec6b99b",
   "metadata": {},
   "source": [
    "## Part 2: Compare multiple biomass maps (GEDI, CCI) and Cambodian Field Data\n"
   ]
  },
  {
   "cell_type": "markdown",
   "id": "f95b1af0-9d64-4d72-bd0b-35f8fdd5a239",
   "metadata": {},
   "source": [
    "**Adding NFI Data**"
   ]
  },
  {
   "cell_type": "markdown",
   "id": "93bf8736-2b97-406c-ad94-80c5c464ed70",
   "metadata": {},
   "source": [
    "In this first section we visualize Cambodia's National Forest Inventory(NFI) data over Mondulkiri Srepok National Park."
   ]
  },
  {
   "cell_type": "code",
   "execution_count": 2,
   "id": "b33c3302-7464-4973-a4af-40c629f74a6e",
   "metadata": {
    "tags": []
   },
   "outputs": [],
   "source": [
    "##Define NFI file path\n",
    "path = \"/projects/shared-buckets/nehajo88/Data/NASA_CMS_2023/CAMBODIA/KHM_AGBD.gpkg\""
   ]
  },
  {
   "cell_type": "code",
   "execution_count": 3,
   "id": "422d0e3f-1b2d-438d-91b4-a21fdfe552ba",
   "metadata": {
    "tags": []
   },
   "outputs": [],
   "source": [
    "#Read file using geopandas and pyogrio\n",
    "NFI_gdf = gpd.read_file(path, engine=\"pyogrio\")"
   ]
  },
  {
   "cell_type": "code",
   "execution_count": 4,
   "id": "44f249dd-40a5-46e9-b103-65a78e20dd02",
   "metadata": {
    "tags": []
   },
   "outputs": [
    {
     "name": "stderr",
     "output_type": "stream",
     "text": [
      "/opt/conda/envs/pangeo/lib/python3.10/site-packages/lonboard/_geoarrow/ops/reproject.py:97: UserWarning: Input being reprojected to EPSG:4326 CRS\n",
      "  warnings.warn(\"Input being reprojected to EPSG:4326 CRS\")\n"
     ]
    }
   ],
   "source": [
    "#Create a scatter plot layer from a GeoPandas DataFrame (NFI_gdf) and adds it to a map\n",
    "NFI_layer = ScatterplotLayer.from_geopandas(NFI_gdf)\n",
    "m = Map(layers=[NFI_layer])"
   ]
  },
  {
   "cell_type": "code",
   "execution_count": 5,
   "id": "97d2e841-978e-400a-b3ef-4de1a79615b4",
   "metadata": {
    "tags": []
   },
   "outputs": [],
   "source": [
    "##Sets the fill color of the GEDI_original_layer scatter plot to a specific RGB color value [200, 100, 100].\n",
    "NFI_layer.get_fill_color = [200, 100, 100]"
   ]
  },
  {
   "cell_type": "code",
   "execution_count": 6,
   "id": "89f92bf8-d913-455c-a92f-40df23f695df",
   "metadata": {
    "tags": []
   },
   "outputs": [
    {
     "data": {
      "text/html": [
       "<div>\n",
       "<style scoped>\n",
       "    .dataframe tbody tr th:only-of-type {\n",
       "        vertical-align: middle;\n",
       "    }\n",
       "\n",
       "    .dataframe tbody tr th {\n",
       "        vertical-align: top;\n",
       "    }\n",
       "\n",
       "    .dataframe thead th {\n",
       "        text-align: right;\n",
       "    }\n",
       "</style>\n",
       "<table border=\"1\" class=\"dataframe\">\n",
       "  <thead>\n",
       "    <tr style=\"text-align: right;\">\n",
       "      <th></th>\n",
       "      <th>X1..Cluster.Number</th>\n",
       "      <th>X_CEN</th>\n",
       "      <th>Y_CEN</th>\n",
       "      <th>AGBD_Kg_Cluster</th>\n",
       "      <th>AGBD.PLOT</th>\n",
       "      <th>geometry</th>\n",
       "    </tr>\n",
       "  </thead>\n",
       "  <tbody>\n",
       "    <tr>\n",
       "      <th>0</th>\n",
       "      <td>95293</td>\n",
       "      <td>X</td>\n",
       "      <td>Y</td>\n",
       "      <td>8544.866404</td>\n",
       "      <td>18.988592</td>\n",
       "      <td>POINT (729338.000 1471740.000)</td>\n",
       "    </tr>\n",
       "    <tr>\n",
       "      <th>1</th>\n",
       "      <td>95305</td>\n",
       "      <td>X</td>\n",
       "      <td>Y</td>\n",
       "      <td>0.000000</td>\n",
       "      <td>0.000000</td>\n",
       "      <td>POINT (741338.500 1471790.500)</td>\n",
       "    </tr>\n",
       "    <tr>\n",
       "      <th>2</th>\n",
       "      <td>95311</td>\n",
       "      <td>X</td>\n",
       "      <td>Y</td>\n",
       "      <td>1870.999682</td>\n",
       "      <td>4.157777</td>\n",
       "      <td>POINT (747340.000 1471741.000)</td>\n",
       "    </tr>\n",
       "    <tr>\n",
       "      <th>3</th>\n",
       "      <td>95317</td>\n",
       "      <td>X</td>\n",
       "      <td>Y</td>\n",
       "      <td>24234.573531</td>\n",
       "      <td>53.854608</td>\n",
       "      <td>POINT (753337.000 1471741.000)</td>\n",
       "    </tr>\n",
       "    <tr>\n",
       "      <th>4</th>\n",
       "      <td>95329</td>\n",
       "      <td>X</td>\n",
       "      <td>Y</td>\n",
       "      <td>9496.647798</td>\n",
       "      <td>21.103662</td>\n",
       "      <td>POINT (765337.000 1471741.000)</td>\n",
       "    </tr>\n",
       "  </tbody>\n",
       "</table>\n",
       "</div>"
      ],
      "text/plain": [
       "   X1..Cluster.Number X_CEN Y_CEN  AGBD_Kg_Cluster  AGBD.PLOT  \\\n",
       "0               95293     X     Y      8544.866404  18.988592   \n",
       "1               95305     X     Y         0.000000   0.000000   \n",
       "2               95311     X     Y      1870.999682   4.157777   \n",
       "3               95317     X     Y     24234.573531  53.854608   \n",
       "4               95329     X     Y      9496.647798  21.103662   \n",
       "\n",
       "                         geometry  \n",
       "0  POINT (729338.000 1471740.000)  \n",
       "1  POINT (741338.500 1471790.500)  \n",
       "2  POINT (747340.000 1471741.000)  \n",
       "3  POINT (753337.000 1471741.000)  \n",
       "4  POINT (765337.000 1471741.000)  "
      ]
     },
     "execution_count": 6,
     "metadata": {},
     "output_type": "execute_result"
    }
   ],
   "source": [
    "#Prints the file head for seeing column names which will be needed in next step\n",
    "NFI_gdf.head()"
   ]
  },
  {
   "cell_type": "code",
   "execution_count": 7,
   "id": "f1ebb91e-1316-4d54-b276-cd03a21244f7",
   "metadata": {
    "tags": []
   },
   "outputs": [
    {
     "data": {
      "application/vnd.jupyter.widget-view+json": {
       "model_id": "eea5584bc0c244679793805224df7203",
       "version_major": 2,
       "version_minor": 1
      },
      "text/plain": [
       "Map(layers=[ScatterplotLayer(get_fill_color=[200, 100, 100], table=pyarrow.Table\n",
       "X1..Cluster.Number: uint32\n",
       "X_…"
      ]
     },
     "execution_count": 7,
     "metadata": {},
     "output_type": "execute_result"
    }
   ],
   "source": [
    "#Display the map\n",
    "m= Map(layers=[NFI_layer])\n",
    "m"
   ]
  },
  {
   "cell_type": "markdown",
   "id": "11c32d32-bfef-4872-bf2a-e7d8af044425",
   "metadata": {},
   "source": [
    "Now, we would like to plot data based on a statistic. Let's plot based on the value of the 'AGBD.PLOT' column. We will use a linear colormap excluding the lowest and highest 10 percentiles of the data.\n",
    "\n",
    "First, we'll find what the values of the 10th and 90th percentile are:"
   ]
  },
  {
   "cell_type": "code",
   "execution_count": 8,
   "id": "f3c5a888-92c5-4980-891b-01943cd4d330",
   "metadata": {
    "tags": []
   },
   "outputs": [],
   "source": [
    "#Calculate the 10th percentile (q10) and the 90th percentile (q90) of the 'agbd' column in the gedi_gdf GeoPandas DataFrame.\n",
    "q10 = NFI_gdf['AGBD.PLOT'].quantile(.1)\n",
    "q90 = NFI_gdf['AGBD.PLOT'].quantile(.9)"
   ]
  },
  {
   "cell_type": "markdown",
   "id": "6210a1f0-77c1-47d0-b0f4-407645bb5fa7",
   "metadata": {},
   "source": [
    "Then we can construct a \"normalizer\" based on Normalize that will do linear rescaling between the two values we supply:"
   ]
  },
  {
   "cell_type": "code",
   "execution_count": 9,
   "id": "1ec70fc1-3674-463c-a829-58201a0d0b90",
   "metadata": {
    "tags": []
   },
   "outputs": [],
   "source": [
    "normalizer = mpl.colors.Normalize(q10, q90)"
   ]
  },
  {
   "cell_type": "markdown",
   "id": "4d3633bb-6598-4ee5-a482-a0fa96043049",
   "metadata": {},
   "source": [
    "Calling this normalizer on our data will return a scaled version ranging between 0 and 1:"
   ]
  },
  {
   "cell_type": "code",
   "execution_count": 10,
   "id": "dabe3354-fd5e-45b2-9284-b3a2c1d7ee32",
   "metadata": {
    "tags": []
   },
   "outputs": [
    {
     "data": {
      "text/plain": [
       "masked_array(data=[1.06805102e-01, 0.00000000e+00, 2.33862418e-02,\n",
       "                   3.02915923e-01, 1.18701731e-01, 9.21886933e-02,\n",
       "                   0.00000000e+00, 4.89534950e-02, 8.41044797e-01,\n",
       "                   5.48547557e-01, 2.25573421e-01, 2.10265112e-01,\n",
       "                   4.59945844e-02, 1.11440742e-01, 1.16798183e-03,\n",
       "                   3.15464584e+00, 7.58921943e-01, 6.98165067e-03,\n",
       "                   2.99925464e-01, 2.95204391e-01, 1.67591965e-01,\n",
       "                   0.00000000e+00, 0.00000000e+00, 4.06929019e-01,\n",
       "                   1.45924167e-02, 9.14915726e-02, 5.87015606e-01,\n",
       "                   1.03598782e+00, 5.10558737e-01, 0.00000000e+00,\n",
       "                   1.29452236e-01, 7.44905237e-02, 5.66428009e-01,\n",
       "                   5.11196919e-01, 1.77135935e-01, 2.66022486e-01,\n",
       "                   4.31812977e+00, 0.00000000e+00, 5.87069417e-01,\n",
       "                   5.38203124e+00, 9.84949269e-01, 4.27302503e-01,\n",
       "                   3.56465597e-01, 5.12055663e+00, 0.00000000e+00,\n",
       "                   0.00000000e+00, 3.57222213e-01, 1.71616212e-01,\n",
       "                   2.45714428e-01, 2.40927994e-01, 1.99195381e-01,\n",
       "                   5.70378089e-02, 1.70533142e-01, 1.04257941e-01,\n",
       "                   3.38975954e-01, 4.35993916e-01, 1.62931261e-01,\n",
       "                   2.26770245e-01, 2.25165586e-01, 1.10626540e+00,\n",
       "                   1.18118970e+00, 2.52394319e-01, 1.50945044e-01,\n",
       "                   3.33639730e-01, 9.91003045e-01, 2.55062519e-02,\n",
       "                   0.00000000e+00, 0.00000000e+00, 0.00000000e+00],\n",
       "             mask=False,\n",
       "       fill_value=1e+20)"
      ]
     },
     "execution_count": 10,
     "metadata": {},
     "output_type": "execute_result"
    }
   ],
   "source": [
    "normalized_agbd = normalizer(NFI_gdf['AGBD.PLOT'])\n",
    "normalized_agbd"
   ]
  },
  {
   "cell_type": "markdown",
   "id": "591e89ad-57d6-4917-8109-38fb96f1ae0c",
   "metadata": {},
   "source": [
    "Here we construct color values by taking a Matplotlib colormap and calling it on our normalized values. Ensure you use bytes=True when calling the colormap object so that the output colors range from 0-255 and not 0-1."
   ]
  },
  {
   "cell_type": "code",
   "execution_count": 11,
   "id": "6c60e368-87c6-4277-a7d6-c5a8a6f1b955",
   "metadata": {
    "tags": []
   },
   "outputs": [],
   "source": [
    "# Ensure lengths match\n",
    "if len(normalized_agbd) == len(NFI_gdf):\n",
    "    # Apply the viridis colormap\n",
    "    viridis_colormap = plt.get_cmap(\"viridis\")\n",
    "    colors = viridis_colormap(normalized_agbd, bytes=True)\n",
    "    NFI_layer.get_fill_color = colors\n",
    "    NFI_layer.radius_min_pixels = 5\n",
    "else:\n",
    "    raise ValueError(\"normalized_agbd length does not match the length of Improved_gedi_gdf\")"
   ]
  },
  {
   "cell_type": "markdown",
   "id": "4c4a92a2-0646-40ea-b229-4eea6c69c60e",
   "metadata": {},
   "source": [
    "The map should now have updated to show points colored by their agbd value. To remind ourselves what the high and low values are, we can inspect the colormap object itself:"
   ]
  },
  {
   "cell_type": "code",
   "execution_count": 12,
   "id": "171808ef-b244-4850-89a8-1b9aac41c513",
   "metadata": {
    "tags": []
   },
   "outputs": [
    {
     "data": {
      "image/png": "[encoded data removed]",
      "text/html": [
       "<div style=\"vertical-align: middle;\"><strong>viridis</strong> </div><div class=\"cmap\"><img alt=\"viridis colormap\" title=\"viridis\" style=\"border: 1px solid #555;\" src=\"data:image/png;base64,iVBORw0KGgoAAAANSUhEUgAAAgAAAABACAYAAABsv8+/AAAAFnRFWHRUaXRsZQB2aXJpZGlzIGNvbG9ybWFwrE0mCwAAABx0RVh0RGVzY3JpcHRpb24AdmlyaWRpcyBjb2xvcm1hcAtjl3IAAAAwdEVYdEF1dGhvcgBNYXRwbG90bGliIHYzLjcuMywgaHR0cHM6Ly9tYXRwbG90bGliLm9yZ7rJ3hAAAAAydEVYdFNvZnR3YXJlAE1hdHBsb3RsaWIgdjMuNy4zLCBodHRwczovL21hdHBsb3RsaWIub3JnlG9BNwAAAiJJREFUeJzt1kGSmzAURdEv2FqWkP0vJfQgMhQCGceV2Ttn4pL0EVQPum771X5vVVXVWv39XfrPeV193V5zS98f1sf5/fPjey73zu6/3Hv/uz2cz57f9vP68rxO9+/zre7nhvvG+et6vH92bw3PDfcsD+eX59+/53n96f3362/f87/vf5yr93Of72/fPV9P89tX3zGeH3OT8/07Zs+/32+TuXZZD8/VODf8W5uuH/b7vctlfuv7NazH8/t7ZnP7bz2cD3NL+/Ph3Hl+/efz83vWun/vuL++nquH9eu9w/uu6/vvOO49f/8xf77vOj+8b7Y/fMfse9ca/y7nv+d62a++X+f1vt+G/b7u+/u6TxzzS//tc2053QMABBEAABBIAABAIAEAAIEEAAAEEgAAEEgAAEAgAQAAgQQAAAQSAAAQSAAAQCABAACBBAAABBIAABBIAABAIAEAAIEEAAAEEgAAEEgAAEAgAQAAgQQAAAQSAAAQSAAAQCABAACBBAAABBIAABBIAABAIAEAAIEEAAAEEgAAEEgAAEAgAQAAgQQAAAQSAAAQSAAAQCABAACBBAAABBIAABBIAABAIAEAAIEEAAAEEgAAEEgAAEAgAQAAgQQAAAQSAAAQSAAAQCABAACBBAAABBIAABBIAABAIAEAAIEEAAAEEgAAEEgAAEAgAQAAgQQAAAQSAAAQSAAAQCABAACBBAAABBIAABBIAABAoB9ucImHxcKZtAAAAABJRU5ErkJggg==\"></div><div style=\"vertical-align: middle; max-width: 514px; display: flex; justify-content: space-between;\"><div style=\"float: left;\"><div title=\"#440154ff\" style=\"display: inline-block; width: 1em; height: 1em; margin: 0; vertical-align: middle; border: 1px solid #555; background-color: #440154ff;\"></div> under</div><div style=\"margin: 0 auto; display: inline-block;\">bad <div title=\"#00000000\" style=\"display: inline-block; width: 1em; height: 1em; margin: 0; vertical-align: middle; border: 1px solid #555; background-color: #00000000;\"></div></div><div style=\"float: right;\">over <div title=\"#fde725ff\" style=\"display: inline-block; width: 1em; height: 1em; margin: 0; vertical-align: middle; border: 1px solid #555; background-color: #fde725ff;\"></div></div>"
      ],
      "text/plain": [
       "<matplotlib.colors.ListedColormap at 0x7f12009b3760>"
      ]
     },
     "execution_count": 12,
     "metadata": {},
     "output_type": "execute_result"
    }
   ],
   "source": [
    "viridis_colormap"
   ]
  },
  {
   "cell_type": "markdown",
   "id": "24309784-f590-42d6-a38c-41e0ebba1955",
   "metadata": {},
   "source": [
    "For showing the plots against a basemap, here we call upon a basemap from ESRI which can be used on lonboard visualization of the plots."
   ]
  },
  {
   "cell_type": "code",
   "execution_count": 13,
   "id": "3f5b0017-23d7-4e09-ad79-df8976143452",
   "metadata": {
    "tags": []
   },
   "outputs": [],
   "source": [
    "ESRI_basemap = BitmapTileLayer(\n",
    "    data=\"https://services.arcgisonline.com/ArcGIS/rest/services/World_Imagery/MapServer/tile/{z}/{y}/{x}\",\n",
    "    tile_size=256,\n",
    "    max_requests=-1,\n",
    "    min_zoom=0,\n",
    "    max_zoom=19,\n",
    ")\n",
    "m = Map(ESRI_basemap)"
   ]
  },
  {
   "cell_type": "code",
   "execution_count": 14,
   "id": "9cb018e2-d991-470d-860f-b94231766458",
   "metadata": {
    "tags": []
   },
   "outputs": [
    {
     "data": {
      "application/vnd.jupyter.widget-view+json": {
       "model_id": "15b55b42e0a84a3e8cc5022d0fbf769b",
       "version_major": 2,
       "version_minor": 1
      },
      "text/plain": [
       "Map(layers=[BitmapTileLayer(data='https://services.arcgisonline.com/ArcGIS/rest/services/World_Imagery/MapServ…"
      ]
     },
     "execution_count": 14,
     "metadata": {},
     "output_type": "execute_result"
    }
   ],
   "source": [
    "m = Map([ESRI_basemap,NFI_layer])\n",
    "m"
   ]
  },
  {
   "cell_type": "markdown",
   "id": "f65848f0-6d19-4f4d-ac58-d1288ba437b9",
   "metadata": {},
   "source": [
    "**CCI Biomass Layer**"
   ]
  },
  {
   "cell_type": "markdown",
   "id": "082efd47-d03e-4cb5-ad34-bb234fe4b922",
   "metadata": {},
   "source": [
    "The ESA's Climate Change Initiative (CCI) Biomass project aimed to produce global maps of above-ground biomass for 2010, 2017, and 2018 to quantify biomass changes. The mapping is done with a 100-meter grid spacing, aiming for a relative error of less than 20 percent in areas where the above-ground biomass (AGB) exceeds 50 Mg ha-1. \n",
    "\n",
    "For visualizing the CCI Biomass layer, we will use BitmapTileLayer which renders tiles dynamically generated by TiTiler."
   ]
  },
  {
   "cell_type": "code",
   "execution_count": 15,
   "id": "01a725e0-c23b-465c-8b50-cdd1fc927690",
   "metadata": {
    "tags": []
   },
   "outputs": [],
   "source": [
    "titiler_endpoint = \"https://titiler.maap-project.org\""
   ]
  },
  {
   "cell_type": "code",
   "execution_count": 16,
   "id": "aedd98b8-5a5e-4afd-9352-04249606319e",
   "metadata": {
    "tags": []
   },
   "outputs": [],
   "source": [
    "CCI_product_url = \"s3://maap-ops-workspace/shared/pbasak/Cambodia_Notebook/CCI_AOImasked.tif\""
   ]
  },
  {
   "cell_type": "code",
   "execution_count": 17,
   "id": "db882b3b-d8e0-4266-bba6-679d2c2cab07",
   "metadata": {
    "tags": []
   },
   "outputs": [],
   "source": [
    "CCI_product_tile_url = \"https://titiler.maap-project.org/cog/tiles/{z}/{x}/{y}?url=s3://maap-ops-workspace/shared/pbasak/Cambodia_Notebook/CCI_AOImasked.tif&rescale=0,60&colormap_name=viridis\""
   ]
  },
  {
   "cell_type": "code",
   "execution_count": 18,
   "id": "b70d09c5-06c7-4852-baf3-acad891feb81",
   "metadata": {
    "tags": []
   },
   "outputs": [
    {
     "name": "stdout",
     "output_type": "stream",
     "text": [
      "[106.98488888881904, 12.66844444451776, 107.6088888888128, 13.36711111117744]\n"
     ]
    }
   ],
   "source": [
    "r_CCI = httpx.get(\n",
    "    f\"{titiler_endpoint}/cog/info\",\n",
    "    params = {\n",
    "        \"url\": CCI_product_url,\n",
    "    }\n",
    ").json()\n",
    "\n",
    "bounds_CCI = r_CCI[\"bounds\"]\n",
    "print(bounds_CCI)"
   ]
  },
  {
   "cell_type": "code",
   "execution_count": 19,
   "id": "a6e11dbc-94c8-4a7b-8fee-ba39932285c8",
   "metadata": {
    "tags": []
   },
   "outputs": [],
   "source": [
    "CCI_product_layer = BitmapTileLayer(\n",
    "    data=CCI_product_tile_url,\n",
    "    tile_size=148,\n",
    "    max_requests=-1,\n",
    "    extent=bounds_CCI\n",
    ")"
   ]
  },
  {
   "cell_type": "code",
   "execution_count": 20,
   "id": "63423521-8039-43df-82dd-0e5c8dfebcab",
   "metadata": {
    "tags": []
   },
   "outputs": [
    {
     "data": {
      "image/png": "[encoded data removed]",
      "text/html": [
       "<div style=\"vertical-align: middle;\"><strong>viridis</strong> </div><div class=\"cmap\"><img alt=\"viridis colormap\" title=\"viridis\" style=\"border: 1px solid #555;\" src=\"data:image/png;base64,iVBORw0KGgoAAAANSUhEUgAAAgAAAABACAYAAABsv8+/AAAAFnRFWHRUaXRsZQB2aXJpZGlzIGNvbG9ybWFwrE0mCwAAABx0RVh0RGVzY3JpcHRpb24AdmlyaWRpcyBjb2xvcm1hcAtjl3IAAAAwdEVYdEF1dGhvcgBNYXRwbG90bGliIHYzLjcuMywgaHR0cHM6Ly9tYXRwbG90bGliLm9yZ7rJ3hAAAAAydEVYdFNvZnR3YXJlAE1hdHBsb3RsaWIgdjMuNy4zLCBodHRwczovL21hdHBsb3RsaWIub3JnlG9BNwAAAiJJREFUeJzt1kGSmzAURdEv2FqWkP0vJfQgMhQCGceV2Ttn4pL0EVQPum771X5vVVXVWv39XfrPeV193V5zS98f1sf5/fPjey73zu6/3Hv/uz2cz57f9vP68rxO9+/zre7nhvvG+et6vH92bw3PDfcsD+eX59+/53n96f3362/f87/vf5yr93Of72/fPV9P89tX3zGeH3OT8/07Zs+/32+TuXZZD8/VODf8W5uuH/b7vctlfuv7NazH8/t7ZnP7bz2cD3NL+/Ph3Hl+/efz83vWun/vuL++nquH9eu9w/uu6/vvOO49f/8xf77vOj+8b7Y/fMfse9ca/y7nv+d62a++X+f1vt+G/b7u+/u6TxzzS//tc2053QMABBEAABBIAABAIAEAAIEEAAAEEgAAEEgAAEAgAQAAgQQAAAQSAAAQSAAAQCABAACBBAAABBIAABBIAABAIAEAAIEEAAAEEgAAEEgAAEAgAQAAgQQAAAQSAAAQSAAAQCABAACBBAAABBIAABBIAABAIAEAAIEEAAAEEgAAEEgAAEAgAQAAgQQAAAQSAAAQSAAAQCABAACBBAAABBIAABBIAABAIAEAAIEEAAAEEgAAEEgAAEAgAQAAgQQAAAQSAAAQSAAAQCABAACBBAAABBIAABBIAABAIAEAAIEEAAAEEgAAEEgAAEAgAQAAgQQAAAQSAAAQSAAAQCABAACBBAAABBIAABBIAABAoB9ucImHxcKZtAAAAABJRU5ErkJggg==\"></div><div style=\"vertical-align: middle; max-width: 514px; display: flex; justify-content: space-between;\"><div style=\"float: left;\"><div title=\"#440154ff\" style=\"display: inline-block; width: 1em; height: 1em; margin: 0; vertical-align: middle; border: 1px solid #555; background-color: #440154ff;\"></div> under</div><div style=\"margin: 0 auto; display: inline-block;\">bad <div title=\"#00000000\" style=\"display: inline-block; width: 1em; height: 1em; margin: 0; vertical-align: middle; border: 1px solid #555; background-color: #00000000;\"></div></div><div style=\"float: right;\">over <div title=\"#fde725ff\" style=\"display: inline-block; width: 1em; height: 1em; margin: 0; vertical-align: middle; border: 1px solid #555; background-color: #fde725ff;\"></div></div>"
      ],
      "text/plain": [
       "<matplotlib.colors.ListedColormap at 0x7f12009b3760>"
      ]
     },
     "execution_count": 20,
     "metadata": {},
     "output_type": "execute_result"
    }
   ],
   "source": [
    "viridis_colormap"
   ]
  }
 ],
 "metadata": {
  "kernelspec": {
   "display_name": "Python 3 (ipykernel)",
   "language": "python",
   "name": "python3"
  },
  "language_info": {
   "codemirror_mode": {
    "name": "ipython",
    "version": 3
   },
   "file_extension": ".py",
   "mimetype": "text/x-python",
   "name": "python",
   "nbconvert_exporter": "python",
   "pygments_lexer": "ipython3",
   "version": "3.10.13"
  }
 },
 "nbformat": 4,
 "nbformat_minor": 5
}
