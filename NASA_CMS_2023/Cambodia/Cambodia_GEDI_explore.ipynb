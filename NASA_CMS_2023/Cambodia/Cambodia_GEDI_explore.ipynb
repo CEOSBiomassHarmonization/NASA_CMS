{
 "cells": [
  {
   "cell_type": "markdown",
   "id": "d9fbcdcf-41c5-4b3f-b295-82f861934491",
   "metadata": {},
   "source": [
    "### INTRODUCTION: \n",
    "\n",
    "The visualization for this notebook uses Lonboard, which is a new Python library for fast, interactive geospatial vector data visualization for big raster or vector files in Jupyter. By utilizing new tools like GeoArrow and GeoParquet in conjunction with GPU-based map rendering, lonboard aims to enable visualizing large geospatial datasets interactively through a simple interface. \n",
    "\n",
    "CODE PREPARED BY:\n",
    "\n",
    "*-- Paromita Basak, University of Maryland College Park*\n",
    "\n",
    "CODE SUPPORTED BY: \n",
    "\n",
    "*-- Dr. Rajat Shinde, NASA IMPACT*\n",
    "\n",
    "*-- Dr. Alex I. Mandel, Development Seed*\n",
    "\n",
    "*-- Dr. Neha Hunka, University of Maryland College Park*\n",
    "\n",
    "*-- Dr. Laura Duncanson, University of Maryland College Park\n",
    "\n",
    "**Support via a GEDI Science Team grant, PI Dr. Laura Duncanson, and the NASA MAAP User Working Group**"
   ]
  },
  {
   "cell_type": "code",
   "execution_count": 1,
   "id": "b48a42c4-d929-4f2a-92a5-47ee0b036727",
   "metadata": {
    "tags": []
   },
   "outputs": [],
   "source": [
    "#load packages to run scripts\n",
    "import geopandas as gpd\n",
    "from lonboard import viz\n",
    "import matplotlib as mpl\n",
    "import pandas as pd\n",
    "import matplotlib.pyplot as plt\n",
    "import numpy as np\n",
    "from lonboard import Map, BitmapLayer, BitmapTileLayer, PointCloudLayer, PolygonLayer, ScatterplotLayer\n",
    "from lonboard.colormap import apply_continuous_cmap\n",
    "import json\n",
    "from palettable.colorbrewer.sequential import YlGnBu_7, Greens_3\n",
    "from palettable.colorbrewer.diverging import Spectral_9\n",
    "from matplotlib.colors import Normalize\n",
    "import httpx"
   ]
  },
  {
   "cell_type": "markdown",
   "id": "b08d0b94-d268-4c87-b839-43a2a18c1fec",
   "metadata": {},
   "source": [
    "## Part 1: Explore GEDI Data over Cambodia\n",
    "A clipped and quality-filtered version of GEDI's footprint-level height and biomass products have been prepared for this workshop. You can explore these datasets interactively below."
   ]
  },
  {
   "cell_type": "markdown",
   "id": "02b2e17b-a6ca-4c93-b7fb-d867c918f0ce",
   "metadata": {},
   "source": [
    "The NASA GEDI L4A data offers predictions of aboveground biomass density (AGBD in Mg/ha) and provides uncertainty estimates for each sampled geolocated laser footprint. The footprints are located within the global latitude band observed by the International Space Station (ISS), nominally between 51.6 degrees N and S, and cover the period from April 18, 2019, to March 16, 2023.\n",
    "\n",
    "This section's code reads and visualizes a sample of the GEDI L4A shots in entire country of Cambodia using libraries such as geopandas, pyogrio and lonboard. This only shows 10% of the available data, sampling was done to allow visualization of the whole country. For actual applications, 10 times more data than is shown here is available."
   ]
  },
  {
   "cell_type": "code",
   "execution_count": 2,
   "id": "e9ad0322-06c5-47a5-96c3-2de035d34767",
   "metadata": {
    "tags": []
   },
   "outputs": [],
   "source": [
    "path = \"/projects/shared-buckets/leitoldv/gedi_subsetting_CAMBODIA/DATA/KHM_L4A.gpkg\""
   ]
  },
  {
   "cell_type": "code",
   "execution_count": 3,
   "id": "3361bc81-6063-4695-9b3b-8d5524bd28a2",
   "metadata": {
    "tags": []
   },
   "outputs": [],
   "source": [
    "gedi_gdf = gpd.read_file(path, engine=\"pyogrio\")"
   ]
  },
  {
   "cell_type": "code",
   "execution_count": 4,
   "id": "da93cce4-e967-4e5f-9abd-5e0ae1c61656",
   "metadata": {
    "tags": []
   },
   "outputs": [],
   "source": [
    "# Dropping columns which are not required\n",
    "gedi_gdf = gedi_gdf.drop(columns=[\"shot_number\", \"filename\", \"lon_lowestmode\", \"lat_lowestmode\", \"agbd_t\", \"agbd_t_se\", \"geolocation/sensitivity_a2\"])\n"
   ]
  },
  {
   "cell_type": "code",
   "execution_count": 5,
   "id": "11c2eb20-ce95-40e0-86ab-b32017534ae0",
   "metadata": {
    "tags": []
   },
   "outputs": [],
   "source": [
    "#round variables as desired\n",
    "gedi_gdf = gedi_gdf.round({\"sensitivity\":3, \"elev_lowestmode\":2, \"agbd\":2, \"agbd_se\":2}) "
   ]
  },
  {
   "cell_type": "code",
   "execution_count": 11,
   "id": "a73e75bd-61b3-4d17-a958-0dd4db64c55a",
   "metadata": {
    "tags": []
   },
   "outputs": [],
   "source": [
    "# Sampling points at a interval of 10 to reduce the number of points for visualization\n",
    "gedi_gdf_sampled = gedi_gdf#.iloc[::10]\n"
   ]
  },
  {
   "cell_type": "code",
   "execution_count": 87,
   "id": "6e2547e2-ecd7-4b7b-9c0b-5f630fc8e065",
   "metadata": {
    "tags": []
   },
   "outputs": [],
   "source": [
    "#Deleye full file\n",
    "#del gedi_gdf\n"
   ]
  },
  {
   "cell_type": "code",
   "execution_count": 25,
   "id": "bd602916-46e3-4431-9390-888cb144ab99",
   "metadata": {
    "tags": []
   },
   "outputs": [],
   "source": [
    "GEDI_original_layer = ScatterplotLayer.from_geopandas(gedi_gdf_sampled)\n",
    "m = Map(layers=[GEDI_original_layer])"
   ]
  },
  {
   "cell_type": "code",
   "execution_count": 26,
   "id": "2905685e-3817-4058-b1cb-3c3f71db7591",
   "metadata": {
    "tags": []
   },
   "outputs": [
    {
     "data": {
      "application/vnd.jupyter.widget-view+json": {
       "model_id": "fefaf855e58641ef9bfa9902529a8d57",
       "version_major": 2,
       "version_minor": 1
      },
      "text/plain": [
       "Map(layers=[ScatterplotLayer(table=pyarrow.Table\n",
       "sensitivity: float\n",
       "elev_lowestmode: float\n",
       "agbd: float\n",
       "agbd_se…"
      ]
     },
     "execution_count": 26,
     "metadata": {},
     "output_type": "execute_result"
    }
   ],
   "source": [
    "m"
   ]
  },
  {
   "cell_type": "code",
   "execution_count": 27,
   "id": "741ab02b-84c2-442f-883d-b87c880a6575",
   "metadata": {
    "tags": []
   },
   "outputs": [],
   "source": [
    "GEDI_original_layer.get_fill_color = [200, 100, 100]"
   ]
  },
  {
   "cell_type": "code",
   "execution_count": 10,
   "id": "70c9eeda-ee36-4f8e-879e-f7d2cc0f9f30",
   "metadata": {
    "tags": []
   },
   "outputs": [
    {
     "data": {
      "text/html": [
       "<div>\n",
       "<style scoped>\n",
       "    .dataframe tbody tr th:only-of-type {\n",
       "        vertical-align: middle;\n",
       "    }\n",
       "\n",
       "    .dataframe tbody tr th {\n",
       "        vertical-align: top;\n",
       "    }\n",
       "\n",
       "    .dataframe thead th {\n",
       "        text-align: right;\n",
       "    }\n",
       "</style>\n",
       "<table border=\"1\" class=\"dataframe\">\n",
       "  <thead>\n",
       "    <tr style=\"text-align: right;\">\n",
       "      <th></th>\n",
       "      <th>sensitivity</th>\n",
       "      <th>elev_lowestmode</th>\n",
       "      <th>agbd</th>\n",
       "      <th>agbd_se</th>\n",
       "      <th>geometry</th>\n",
       "    </tr>\n",
       "  </thead>\n",
       "  <tbody>\n",
       "    <tr>\n",
       "      <th>0</th>\n",
       "      <td>0.954</td>\n",
       "      <td>91.61</td>\n",
       "      <td>71.34</td>\n",
       "      <td>17.13</td>\n",
       "      <td>POINT (102.48686 12.6615)</td>\n",
       "    </tr>\n",
       "    <tr>\n",
       "      <th>1</th>\n",
       "      <td>0.957</td>\n",
       "      <td>87.98</td>\n",
       "      <td>107.75</td>\n",
       "      <td>17.12</td>\n",
       "      <td>POINT (102.49031 12.66606)</td>\n",
       "    </tr>\n",
       "    <tr>\n",
       "      <th>2</th>\n",
       "      <td>0.950</td>\n",
       "      <td>132.17</td>\n",
       "      <td>38.49</td>\n",
       "      <td>17.13</td>\n",
       "      <td>POINT (102.49156 12.66771)</td>\n",
       "    </tr>\n",
       "    <tr>\n",
       "      <th>3</th>\n",
       "      <td>0.953</td>\n",
       "      <td>139.22</td>\n",
       "      <td>36.77</td>\n",
       "      <td>17.14</td>\n",
       "      <td>POINT (102.49187 12.66813)</td>\n",
       "    </tr>\n",
       "    <tr>\n",
       "      <th>4</th>\n",
       "      <td>0.976</td>\n",
       "      <td>130.69</td>\n",
       "      <td>83.52</td>\n",
       "      <td>17.12</td>\n",
       "      <td>POINT (102.49219 12.66855)</td>\n",
       "    </tr>\n",
       "  </tbody>\n",
       "</table>\n",
       "</div>"
      ],
      "text/plain": [
       "   sensitivity  elev_lowestmode    agbd  agbd_se                    geometry\n",
       "0        0.954            91.61   71.34    17.13   POINT (102.48686 12.6615)\n",
       "1        0.957            87.98  107.75    17.12  POINT (102.49031 12.66606)\n",
       "2        0.950           132.17   38.49    17.13  POINT (102.49156 12.66771)\n",
       "3        0.953           139.22   36.77    17.14  POINT (102.49187 12.66813)\n",
       "4        0.976           130.69   83.52    17.12  POINT (102.49219 12.66855)"
      ]
     },
     "execution_count": 10,
     "metadata": {},
     "output_type": "execute_result"
    }
   ],
   "source": [
    "gedi_gdf.head()"
   ]
  },
  {
   "cell_type": "code",
   "execution_count": 28,
   "id": "12e835c7-f37e-40f1-82ce-c12b35e9ab7f",
   "metadata": {
    "tags": []
   },
   "outputs": [],
   "source": [
    "q10 = gedi_gdf_sampled['agbd'].quantile(.1)\n",
    "q90 = gedi_gdf_sampled['agbd'].quantile(.9)"
   ]
  },
  {
   "cell_type": "code",
   "execution_count": 29,
   "id": "f74bf39f-64b8-49c6-b14f-57280ead06d1",
   "metadata": {
    "tags": []
   },
   "outputs": [],
   "source": [
    "normalizer = mpl.colors.Normalize(q10, q90)"
   ]
  },
  {
   "cell_type": "code",
   "execution_count": 30,
   "id": "d3b2ea98-5624-415b-adc9-bfa322447604",
   "metadata": {
    "tags": []
   },
   "outputs": [
    {
     "data": {
      "text/plain": [
       "masked_array(data=[0.34952844, 0.55764504, 0.1617605 , ..., 3.65310089,\n",
       "                   0.70002858, 3.28465276],\n",
       "             mask=False,\n",
       "       fill_value=1e+20)"
      ]
     },
     "execution_count": 30,
     "metadata": {},
     "output_type": "execute_result"
    }
   ],
   "source": [
    "normalized_agbd = normalizer(gedi_gdf_sampled['agbd'])\n",
    "normalized_agbd"
   ]
  },
  {
   "cell_type": "code",
   "execution_count": 31,
   "id": "07600ddd-9374-49ff-bfaa-b6872fd17686",
   "metadata": {
    "tags": []
   },
   "outputs": [],
   "source": [
    "viridis_colormap = mpl.colormaps[\"viridis\"]\n",
    "GEDI_original_layer.get_fill_color = viridis_colormap(normalized_agbd, bytes=True)\n",
    "GEDI_original_layer.radius_min_pixels = 1"
   ]
  },
  {
   "cell_type": "code",
   "execution_count": 32,
   "id": "df11d6a0-03b3-4754-891b-8fd6739119e6",
   "metadata": {
    "tags": []
   },
   "outputs": [],
   "source": [
    "ESRI_basemap = BitmapTileLayer(\n",
    "    data=\"https://services.arcgisonline.com/ArcGIS/rest/services/World_Imagery/MapServer/tile/{z}/{y}/{x}\",\n",
    "    tile_size=256,\n",
    "    max_requests=-1,\n",
    "    min_zoom=0,\n",
    "    max_zoom=19,\n",
    ")\n"
   ]
  },
  {
   "cell_type": "code",
   "execution_count": 33,
   "id": "4cf86db4-5ad5-4b8e-aa69-181747ce245c",
   "metadata": {
    "tags": []
   },
   "outputs": [
    {
     "data": {
      "application/vnd.jupyter.widget-view+json": {
       "model_id": "54c54a9498b945faa9b53f08a079f9fc",
       "version_major": 2,
       "version_minor": 1
      },
      "text/plain": [
       "Map(layers=[BitmapTileLayer(data='https://services.arcgisonline.com/ArcGIS/rest/services/World_Imagery/MapServ…"
      ]
     },
     "execution_count": 33,
     "metadata": {},
     "output_type": "execute_result"
    }
   ],
   "source": [
    "m = Map(layers=[ESRI_basemap, GEDI_original_layer])\n",
    "m"
   ]
  },
  {
   "cell_type": "markdown",
   "id": "4920f001-65ea-47a4-addd-38a4583bd303",
   "metadata": {},
   "source": [
    "## Explore GEDI's Updated (provisional) version 2 biomass product\n",
    "A new GEDI biomass model has been created for Broadleaf Trees in Asia (still not finalized, this is a first look!). You can explore this draft product below - there may be some changes before it is released (coming out in Fall, 2024). \n",
    "\n",
    "To explore this new dataset, and GEDI's full sampling, we have created a subset of the new data over Mondulkiri Srepok National Park. \n",
    "\n",
    "In this layer, you can see the GEDI heights (Relative Height metrics, RH) where RH_98 is maximum height and RH_50 is similar to mean height for each GEDI shot. The original biomass is agbd (aboveground biomass density) and the new draft biomass is AGBD_1.\n"
   ]
  },
  {
   "cell_type": "code",
   "execution_count": 34,
   "id": "ce03f100-0fd5-48ad-b89f-40173c3d0f9b",
   "metadata": {
    "tags": []
   },
   "outputs": [],
   "source": [
    "path = \"/projects/shared-buckets/pbasak/Cambodia_Notebook/NPAs_L4A_improved.gpkg\""
   ]
  },
  {
   "cell_type": "code",
   "execution_count": 35,
   "id": "d74dedad-eddb-4318-9dc6-efd0b9d7d7f9",
   "metadata": {
    "tags": []
   },
   "outputs": [],
   "source": [
    "Improved_GEDI_gdf = gpd.read_file(path, engine=\"pyogrio\")\n"
   ]
  },
  {
   "cell_type": "code",
   "execution_count": 36,
   "id": "93542b2c-ac3e-4e38-9d12-a712c356b0cb",
   "metadata": {
    "tags": []
   },
   "outputs": [],
   "source": [
    "# Dropping columns which are not required\n",
    "Improved_GEDI_gdf = Improved_GEDI_gdf.drop(columns=[\"shot_number\", \"field_1\", \"lon_lowestmode\", \"lat_lowestmode\", \"RH_10\", \"RH_20\", \"RH_30\", \"RH_40\", \"RH_60\", \"RH_70\", \"RH_80\", \"RH_90\", \"elev_lowestmode\"])\n"
   ]
  },
  {
   "cell_type": "code",
   "execution_count": 37,
   "id": "988b59ba-aca5-44ee-b041-dad9cd627370",
   "metadata": {
    "tags": []
   },
   "outputs": [
    {
     "data": {
      "text/html": [
       "<div>\n",
       "<style scoped>\n",
       "    .dataframe tbody tr th:only-of-type {\n",
       "        vertical-align: middle;\n",
       "    }\n",
       "\n",
       "    .dataframe tbody tr th {\n",
       "        vertical-align: top;\n",
       "    }\n",
       "\n",
       "    .dataframe thead th {\n",
       "        text-align: right;\n",
       "    }\n",
       "</style>\n",
       "<table border=\"1\" class=\"dataframe\">\n",
       "  <thead>\n",
       "    <tr style=\"text-align: right;\">\n",
       "      <th></th>\n",
       "      <th>agbd</th>\n",
       "      <th>agbd_se</th>\n",
       "      <th>pft_class</th>\n",
       "      <th>quality_flag</th>\n",
       "      <th>RH_50</th>\n",
       "      <th>RH_98</th>\n",
       "      <th>AGBD_1</th>\n",
       "      <th>SE</th>\n",
       "      <th>geometry</th>\n",
       "    </tr>\n",
       "  </thead>\n",
       "  <tbody>\n",
       "    <tr>\n",
       "      <th>0</th>\n",
       "      <td>78.833908</td>\n",
       "      <td>17.126760</td>\n",
       "      <td>4</td>\n",
       "      <td>True</td>\n",
       "      <td>8.98</td>\n",
       "      <td>14.75</td>\n",
       "      <td>137.629956</td>\n",
       "      <td>0.013677</td>\n",
       "      <td>POINT (107.30054 13.11133)</td>\n",
       "    </tr>\n",
       "    <tr>\n",
       "      <th>1</th>\n",
       "      <td>70.126076</td>\n",
       "      <td>17.126957</td>\n",
       "      <td>4</td>\n",
       "      <td>True</td>\n",
       "      <td>7.94</td>\n",
       "      <td>14.00</td>\n",
       "      <td>128.454579</td>\n",
       "      <td>0.013677</td>\n",
       "      <td>POINT (107.30369 13.11547)</td>\n",
       "    </tr>\n",
       "    <tr>\n",
       "      <th>2</th>\n",
       "      <td>93.679848</td>\n",
       "      <td>17.124052</td>\n",
       "      <td>4</td>\n",
       "      <td>True</td>\n",
       "      <td>9.81</td>\n",
       "      <td>17.41</td>\n",
       "      <td>149.549231</td>\n",
       "      <td>0.013677</td>\n",
       "      <td>POINT (107.31502 13.13041)</td>\n",
       "    </tr>\n",
       "    <tr>\n",
       "      <th>3</th>\n",
       "      <td>37.338348</td>\n",
       "      <td>17.131277</td>\n",
       "      <td>2</td>\n",
       "      <td>True</td>\n",
       "      <td>4.12</td>\n",
       "      <td>9.28</td>\n",
       "      <td>93.688718</td>\n",
       "      <td>0.013677</td>\n",
       "      <td>POINT (107.37511 13.20951)</td>\n",
       "    </tr>\n",
       "    <tr>\n",
       "      <th>4</th>\n",
       "      <td>56.163986</td>\n",
       "      <td>17.126404</td>\n",
       "      <td>4</td>\n",
       "      <td>True</td>\n",
       "      <td>3.48</td>\n",
       "      <td>17.49</td>\n",
       "      <td>104.089177</td>\n",
       "      <td>0.013677</td>\n",
       "      <td>POINT (107.38866 13.2273)</td>\n",
       "    </tr>\n",
       "  </tbody>\n",
       "</table>\n",
       "</div>"
      ],
      "text/plain": [
       "        agbd    agbd_se  pft_class  quality_flag  RH_50  RH_98      AGBD_1  \\\n",
       "0  78.833908  17.126760          4          True   8.98  14.75  137.629956   \n",
       "1  70.126076  17.126957          4          True   7.94  14.00  128.454579   \n",
       "2  93.679848  17.124052          4          True   9.81  17.41  149.549231   \n",
       "3  37.338348  17.131277          2          True   4.12   9.28   93.688718   \n",
       "4  56.163986  17.126404          4          True   3.48  17.49  104.089177   \n",
       "\n",
       "         SE                    geometry  \n",
       "0  0.013677  POINT (107.30054 13.11133)  \n",
       "1  0.013677  POINT (107.30369 13.11547)  \n",
       "2  0.013677  POINT (107.31502 13.13041)  \n",
       "3  0.013677  POINT (107.37511 13.20951)  \n",
       "4  0.013677   POINT (107.38866 13.2273)  "
      ]
     },
     "execution_count": 37,
     "metadata": {},
     "output_type": "execute_result"
    }
   ],
   "source": [
    "Improved_GEDI_gdf.head()"
   ]
  },
  {
   "cell_type": "code",
   "execution_count": 38,
   "id": "784d7ba2-b7a0-4dfd-b1a2-1dc5a9208737",
   "metadata": {
    "tags": []
   },
   "outputs": [
    {
     "data": {
      "application/vnd.jupyter.widget-view+json": {
       "model_id": "82a652dc18d9478f9e5a630293c9eda5",
       "version_major": 2,
       "version_minor": 1
      },
      "text/plain": [
       "Map(layers=[BitmapTileLayer(data='https://services.arcgisonline.com/ArcGIS/rest/services/World_Imagery/MapServ…"
      ]
     },
     "execution_count": 38,
     "metadata": {},
     "output_type": "execute_result"
    }
   ],
   "source": [
    "Improved_GEDI_layer = ScatterplotLayer.from_geopandas(Improved_GEDI_gdf)\n",
    "m3 = Map(layers=[ESRI_basemap, Improved_GEDI_layer])\n",
    "m3"
   ]
  },
  {
   "cell_type": "code",
   "execution_count": 39,
   "id": "9ac1d503-ea0a-4316-b401-1ac7b17eb209",
   "metadata": {
    "tags": []
   },
   "outputs": [],
   "source": [
    "q10 = Improved_GEDI_gdf['AGBD_1'].quantile(.1)\n",
    "q90 = Improved_GEDI_gdf['AGBD_1'].quantile(.9)"
   ]
  },
  {
   "cell_type": "code",
   "execution_count": 40,
   "id": "d5c887f6-211f-410d-8959-9f687d0c775d",
   "metadata": {
    "tags": []
   },
   "outputs": [],
   "source": [
    "normalizer = mpl.colors.Normalize(q10, q90)"
   ]
  },
  {
   "cell_type": "code",
   "execution_count": 41,
   "id": "70652b76-b5bb-4c0f-aa3b-501491ceb8e9",
   "metadata": {
    "tags": []
   },
   "outputs": [
    {
     "data": {
      "text/plain": [
       "masked_array(data=[0.35473199, 0.30362479, 0.42112281, ..., 1.10945583,\n",
       "                   0.91273102, 0.31932507],\n",
       "             mask=False,\n",
       "       fill_value=1e+20)"
      ]
     },
     "execution_count": 41,
     "metadata": {},
     "output_type": "execute_result"
    }
   ],
   "source": [
    "normalized_agbd = normalizer(Improved_GEDI_gdf['AGBD_1'])\n",
    "normalized_agbd"
   ]
  },
  {
   "cell_type": "code",
   "execution_count": 42,
   "id": "8db26628-306d-40b5-a8b6-84d068c34d76",
   "metadata": {
    "tags": []
   },
   "outputs": [],
   "source": [
    "# Ensure lengths match\n",
    "if len(normalized_agbd) == len(Improved_GEDI_gdf):\n",
    "    # Apply the viridis colormap\n",
    "    viridis_colormap = plt.get_cmap(\"viridis\")\n",
    "    colors = viridis_colormap(normalized_agbd, bytes=True)\n",
    "    Improved_GEDI_layer.get_fill_color = colors\n",
    "    Improved_GEDI_layer.radius_min_pixels = 5\n",
    "else:\n",
    "    raise ValueError(\"normalized_agbd length does not match the length of Improved_gedi_gdf\")"
   ]
  },
  {
   "cell_type": "markdown",
   "id": "2027da59-ca9e-4768-a576-96105415e637",
   "metadata": {},
   "source": [
    "## Compare the Original and New GEDI layers"
   ]
  },
  {
   "cell_type": "code",
   "execution_count": 121,
   "id": "5c7a1abe-22f8-4231-a00a-b6488c95bd37",
   "metadata": {
    "tags": []
   },
   "outputs": [
    {
     "data": {
      "application/vnd.jupyter.widget-view+json": {
       "model_id": "b860f77c816245cfbea43ad57c56d023",
       "version_major": 2,
       "version_minor": 1
      },
      "text/plain": [
       "Map(basemap_style='https://basemaps.cartocdn.com/gl/voyager-gl-style/style.json', layers=[BitmapTileLayer(data…"
      ]
     },
     "execution_count": 121,
     "metadata": {},
     "output_type": "execute_result"
    }
   ],
   "source": [
    "m = Map(layers=[ESRI_basemap, GEDI_original_layer, Improved_GEDI_layer], basemap_style= Voyager)\n",
    "m"
   ]
  },
  {
   "cell_type": "code",
   "execution_count": 46,
   "id": "afe90570-f062-4d96-87da-d851057aefd9",
   "metadata": {
    "tags": []
   },
   "outputs": [
    {
     "data": {
      "text/plain": [
       "<matplotlib.lines.AxLine at 0x7fdddd06db40>"
      ]
     },
     "execution_count": 46,
     "metadata": {},
     "output_type": "execute_result"
    },
    {
     "data": {
      "image/png": "[encoded data removed]",
      "text/plain": [
       "<Figure size 640x480 with 1 Axes>"
      ]
     },
     "metadata": {},
     "output_type": "display_data"
    }
   ],
   "source": [
    "Improved_GEDI_gdf.plot(kind = 'scatter', x = 'agbd', y = 'AGBD_1', xlabel=\"Original GEDI AGBD (Mg/ha)\", ylabel=\"New GEDI AGBD (Mg/ha)\")\n",
    "plt.axline((0, 0), (1, 1), linewidth=1, color='black')"
   ]
  },
  {
   "cell_type": "markdown",
   "id": "d54b44cb-a688-4ad0-87eb-58c03df35232",
   "metadata": {},
   "source": [
    "Note that the new preliminary model typically predicts higher AGBD at the low end, and lower at the high end compared to the original model."
   ]
  },
  {
   "cell_type": "markdown",
   "id": "3c4b2116-69c8-4a11-8486-19916ec6b99b",
   "metadata": {},
   "source": [
    "## Part 2: Compare multiple biomass maps (GEDI, CCI) and Cambodian Field Data\n"
   ]
  },
  {
   "cell_type": "markdown",
   "id": "f95b1af0-9d64-4d72-bd0b-35f8fdd5a239",
   "metadata": {},
   "source": [
    "**Adding NFI Data**"
   ]
  },
  {
   "cell_type": "markdown",
   "id": "93bf8736-2b97-406c-ad94-80c5c464ed70",
   "metadata": {},
   "source": [
    "In this first section we visualize Cambodia's National Forest Inventory(NFI) data over Mondulkiri Srepok National Park."
   ]
  },
  {
   "cell_type": "code",
   "execution_count": 2,
   "id": "b33c3302-7464-4973-a4af-40c629f74a6e",
   "metadata": {
    "tags": []
   },
   "outputs": [],
   "source": [
    "##Define NFI file path\n",
    "path = \"/projects/shared-buckets/nehajo88/Data/NASA_CMS_2023/CAMBODIA/KHM_AGBD.gpkg\""
   ]
  },
  {
   "cell_type": "code",
   "execution_count": 3,
   "id": "422d0e3f-1b2d-438d-91b4-a21fdfe552ba",
   "metadata": {
    "tags": []
   },
   "outputs": [],
   "source": [
    "#Read file using geopandas and pyogrio\n",
    "NFI_gdf = gpd.read_file(path, engine=\"pyogrio\")"
   ]
  },
  {
   "cell_type": "code",
   "execution_count": 4,
   "id": "44f249dd-40a5-46e9-b103-65a78e20dd02",
   "metadata": {
    "tags": []
   },
   "outputs": [
    {
     "name": "stderr",
     "output_type": "stream",
     "text": [
      "/opt/conda/lib/python3.10/site-packages/lonboard/_geoarrow/ops/reproject.py:97: UserWarning: Input being reprojected to EPSG:4326 CRS\n",
      "  warnings.warn(\"Input being reprojected to EPSG:4326 CRS\")\n"
     ]
    }
   ],
   "source": [
    "#Create a scatter plot layer from a GeoPandas DataFrame (NFI_gdf) and adds it to a map\n",
    "NFI_layer = ScatterplotLayer.from_geopandas(NFI_gdf)\n",
    "m = Map(layers=[NFI_layer])"
   ]
  },
  {
   "cell_type": "code",
   "execution_count": 5,
   "id": "97d2e841-978e-400a-b3ef-4de1a79615b4",
   "metadata": {
    "tags": []
   },
   "outputs": [],
   "source": [
    "##Sets the fill color of the GEDI_original_layer scatter plot to a specific RGB color value [200, 100, 100].\n",
    "NFI_layer.get_fill_color = [200, 100, 100]"
   ]
  },
  {
   "cell_type": "code",
   "execution_count": 6,
   "id": "89f92bf8-d913-455c-a92f-40df23f695df",
   "metadata": {
    "tags": []
   },
   "outputs": [
    {
     "data": {
      "text/html": [
       "<div>\n",
       "<style scoped>\n",
       "    .dataframe tbody tr th:only-of-type {\n",
       "        vertical-align: middle;\n",
       "    }\n",
       "\n",
       "    .dataframe tbody tr th {\n",
       "        vertical-align: top;\n",
       "    }\n",
       "\n",
       "    .dataframe thead th {\n",
       "        text-align: right;\n",
       "    }\n",
       "</style>\n",
       "<table border=\"1\" class=\"dataframe\">\n",
       "  <thead>\n",
       "    <tr style=\"text-align: right;\">\n",
       "      <th></th>\n",
       "      <th>X1..Cluster.Number</th>\n",
       "      <th>X_CEN</th>\n",
       "      <th>Y_CEN</th>\n",
       "      <th>AGBD_Kg_Cluster</th>\n",
       "      <th>AGBD.PLOT</th>\n",
       "      <th>geometry</th>\n",
       "    </tr>\n",
       "  </thead>\n",
       "  <tbody>\n",
       "    <tr>\n",
       "      <th>0</th>\n",
       "      <td>95293</td>\n",
       "      <td>X</td>\n",
       "      <td>Y</td>\n",
       "      <td>8544.866404</td>\n",
       "      <td>18.988592</td>\n",
       "      <td>POINT (729338.000 1471740.000)</td>\n",
       "    </tr>\n",
       "    <tr>\n",
       "      <th>1</th>\n",
       "      <td>95305</td>\n",
       "      <td>X</td>\n",
       "      <td>Y</td>\n",
       "      <td>0.000000</td>\n",
       "      <td>0.000000</td>\n",
       "      <td>POINT (741338.500 1471790.500)</td>\n",
       "    </tr>\n",
       "    <tr>\n",
       "      <th>2</th>\n",
       "      <td>95311</td>\n",
       "      <td>X</td>\n",
       "      <td>Y</td>\n",
       "      <td>1870.999682</td>\n",
       "      <td>4.157777</td>\n",
       "      <td>POINT (747340.000 1471741.000)</td>\n",
       "    </tr>\n",
       "    <tr>\n",
       "      <th>3</th>\n",
       "      <td>95317</td>\n",
       "      <td>X</td>\n",
       "      <td>Y</td>\n",
       "      <td>24234.573531</td>\n",
       "      <td>53.854608</td>\n",
       "      <td>POINT (753337.000 1471741.000)</td>\n",
       "    </tr>\n",
       "    <tr>\n",
       "      <th>4</th>\n",
       "      <td>95329</td>\n",
       "      <td>X</td>\n",
       "      <td>Y</td>\n",
       "      <td>9496.647798</td>\n",
       "      <td>21.103662</td>\n",
       "      <td>POINT (765337.000 1471741.000)</td>\n",
       "    </tr>\n",
       "  </tbody>\n",
       "</table>\n",
       "</div>"
      ],
      "text/plain": [
       "   X1..Cluster.Number X_CEN Y_CEN  AGBD_Kg_Cluster  AGBD.PLOT  \\\n",
       "0               95293     X     Y      8544.866404  18.988592   \n",
       "1               95305     X     Y         0.000000   0.000000   \n",
       "2               95311     X     Y      1870.999682   4.157777   \n",
       "3               95317     X     Y     24234.573531  53.854608   \n",
       "4               95329     X     Y      9496.647798  21.103662   \n",
       "\n",
       "                         geometry  \n",
       "0  POINT (729338.000 1471740.000)  \n",
       "1  POINT (741338.500 1471790.500)  \n",
       "2  POINT (747340.000 1471741.000)  \n",
       "3  POINT (753337.000 1471741.000)  \n",
       "4  POINT (765337.000 1471741.000)  "
      ]
     },
     "execution_count": 6,
     "metadata": {},
     "output_type": "execute_result"
    }
   ],
   "source": [
    "#Prints the file head for seeing column names which will be needed in next step\n",
    "NFI_gdf.head()"
   ]
  },
  {
   "cell_type": "code",
   "execution_count": 7,
   "id": "f1ebb91e-1316-4d54-b276-cd03a21244f7",
   "metadata": {
    "tags": []
   },
   "outputs": [
    {
     "data": {
      "application/vnd.jupyter.widget-view+json": {
       "model_id": "5fbffd0b3e774cd8aa54171b12e0ef46",
       "version_major": 2,
       "version_minor": 0
      },
      "text/plain": [
       "Map(layers=[ScatterplotLayer(get_fill_color=[200, 100, 100], table=pyarrow.Table\n",
       "X1..Cluster.Number: uint32\n",
       "X_…"
      ]
     },
     "metadata": {},
     "output_type": "display_data"
    }
   ],
   "source": [
    "#Display the map\n",
    "m= Map(layers=[NFI_layer])\n",
    "m"
   ]
  },
  {
   "cell_type": "markdown",
   "id": "11c32d32-bfef-4872-bf2a-e7d8af044425",
   "metadata": {},
   "source": [
    "Now, we would like to plot data based on a statistic. Let's plot based on the value of the 'AGBD.PLOT' column. We will use a linear colormap excluding the lowest and highest 10 percentiles of the data.\n",
    "\n",
    "First, we'll find what the values of the 10th and 90th percentile are:"
   ]
  },
  {
   "cell_type": "code",
   "execution_count": 8,
   "id": "f3c5a888-92c5-4980-891b-01943cd4d330",
   "metadata": {
    "tags": []
   },
   "outputs": [],
   "source": [
    "#Calculate the 10th percentile (q10) and the 90th percentile (q90) of the 'agbd' column in the gedi_gdf GeoPandas DataFrame.\n",
    "q10 = NFI_gdf['AGBD.PLOT'].quantile(.1)\n",
    "q90 = NFI_gdf['AGBD.PLOT'].quantile(.9)"
   ]
  },
  {
   "cell_type": "markdown",
   "id": "6210a1f0-77c1-47d0-b0f4-407645bb5fa7",
   "metadata": {},
   "source": [
    "Then we can construct a \"normalizer\" based on Normalize that will do linear rescaling between the two values we supply:"
   ]
  },
  {
   "cell_type": "code",
   "execution_count": 9,
   "id": "1ec70fc1-3674-463c-a829-58201a0d0b90",
   "metadata": {
    "tags": []
   },
   "outputs": [],
   "source": [
    "normalizer = mpl.colors.Normalize(q10, q90)"
   ]
  },
  {
   "cell_type": "markdown",
   "id": "4d3633bb-6598-4ee5-a482-a0fa96043049",
   "metadata": {},
   "source": [
    "Calling this normalizer on our data will return a scaled version ranging between 0 and 1:"
   ]
  },
  {
   "cell_type": "code",
   "execution_count": 10,
   "id": "dabe3354-fd5e-45b2-9284-b3a2c1d7ee32",
   "metadata": {
    "tags": []
   },
   "outputs": [
    {
     "data": {
      "text/plain": [
       "masked_array(data=[1.06805102e-01, 0.00000000e+00, 2.33862418e-02,\n",
       "                   3.02915923e-01, 1.18701731e-01, 9.21886933e-02,\n",
       "                   0.00000000e+00, 4.89534950e-02, 8.41044797e-01,\n",
       "                   5.48547557e-01, 2.25573421e-01, 2.10265112e-01,\n",
       "                   4.59945844e-02, 1.11440742e-01, 1.16798183e-03,\n",
       "                   3.15464584e+00, 7.58921943e-01, 6.98165067e-03,\n",
       "                   2.99925464e-01, 2.95204391e-01, 1.67591965e-01,\n",
       "                   0.00000000e+00, 0.00000000e+00, 4.06929019e-01,\n",
       "                   1.45924167e-02, 9.14915726e-02, 5.87015606e-01,\n",
       "                   1.03598782e+00, 5.10558737e-01, 0.00000000e+00,\n",
       "                   1.29452236e-01, 7.44905237e-02, 5.66428009e-01,\n",
       "                   5.11196919e-01, 1.77135935e-01, 2.66022486e-01,\n",
       "                   4.31812977e+00, 0.00000000e+00, 5.87069417e-01,\n",
       "                   5.38203124e+00, 9.84949269e-01, 4.27302503e-01,\n",
       "                   3.56465597e-01, 5.12055663e+00, 0.00000000e+00,\n",
       "                   0.00000000e+00, 3.57222213e-01, 1.71616212e-01,\n",
       "                   2.45714428e-01, 2.40927994e-01, 1.99195381e-01,\n",
       "                   5.70378089e-02, 1.70533142e-01, 1.04257941e-01,\n",
       "                   3.38975954e-01, 4.35993916e-01, 1.62931261e-01,\n",
       "                   2.26770245e-01, 2.25165586e-01, 1.10626540e+00,\n",
       "                   1.18118970e+00, 2.52394319e-01, 1.50945044e-01,\n",
       "                   3.33639730e-01, 9.91003045e-01, 2.55062519e-02,\n",
       "                   0.00000000e+00, 0.00000000e+00, 0.00000000e+00],\n",
       "             mask=False,\n",
       "       fill_value=1e+20)"
      ]
     },
     "execution_count": 10,
     "metadata": {},
     "output_type": "execute_result"
    }
   ],
   "source": [
    "normalized_agbd = normalizer(NFI_gdf['AGBD.PLOT'])\n",
    "normalized_agbd"
   ]
  },
  {
   "cell_type": "markdown",
   "id": "591e89ad-57d6-4917-8109-38fb96f1ae0c",
   "metadata": {},
   "source": [
    "Here we construct color values by taking a Matplotlib colormap and calling it on our normalized values. Ensure you use bytes=True when calling the colormap object so that the output colors range from 0-255 and not 0-1."
   ]
  },
  {
   "cell_type": "code",
   "execution_count": 11,
   "id": "6c60e368-87c6-4277-a7d6-c5a8a6f1b955",
   "metadata": {
    "tags": []
   },
   "outputs": [],
   "source": [
    "# Ensure lengths match\n",
    "if len(normalized_agbd) == len(NFI_gdf):\n",
    "    # Apply the viridis colormap\n",
    "    viridis_colormap = plt.get_cmap(\"viridis\")\n",
    "    colors = viridis_colormap(normalized_agbd, bytes=True)\n",
    "    NFI_layer.get_fill_color = colors\n",
    "    NFI_layer.radius_min_pixels = 5\n",
    "else:\n",
    "    raise ValueError(\"normalized_agbd length does not match the length of Improved_gedi_gdf\")"
   ]
  },
  {
   "cell_type": "markdown",
   "id": "4c4a92a2-0646-40ea-b229-4eea6c69c60e",
   "metadata": {},
   "source": [
    "The map should now have updated to show points colored by their agbd value. To remind ourselves what the high and low values are, we can inspect the colormap object itself:"
   ]
  },
  {
   "cell_type": "code",
   "execution_count": 12,
   "id": "171808ef-b244-4850-89a8-1b9aac41c513",
   "metadata": {
    "tags": []
   },
   "outputs": [
    {
     "data": {
      "image/png": "[encoded data removed]",
      "text/html": [
       "<div style=\"vertical-align: middle;\"><strong>viridis</strong> </div><div class=\"cmap\"><img alt=\"viridis colormap\" title=\"viridis\" style=\"border: 1px solid #555;\" src=\"data:image/png;base64,iVBORw0KGgoAAAANSUhEUgAAAgAAAABACAYAAABsv8+/AAAAFnRFWHRUaXRsZQB2aXJpZGlzIGNvbG9ybWFwrE0mCwAAABx0RVh0RGVzY3JpcHRpb24AdmlyaWRpcyBjb2xvcm1hcAtjl3IAAAAwdEVYdEF1dGhvcgBNYXRwbG90bGliIHYzLjguMCwgaHR0cHM6Ly9tYXRwbG90bGliLm9yZ59z+E8AAAAydEVYdFNvZnR3YXJlAE1hdHBsb3RsaWIgdjMuOC4wLCBodHRwczovL21hdHBsb3RsaWIub3JnsdVnaAAAAiJJREFUeJzt1kGSmzAURdEv2FqWkP0vJfQgMhQCGceV2Ttn4pL0EVQPum771X5vVVXVWv39XfrPeV193V5zS98f1sf5/fPjey73zu6/3Hv/uz2cz57f9vP68rxO9+/zre7nhvvG+et6vH92bw3PDfcsD+eX59+/53n96f3362/f87/vf5yr93Of72/fPV9P89tX3zGeH3OT8/07Zs+/32+TuXZZD8/VODf8W5uuH/b7vctlfuv7NazH8/t7ZnP7bz2cD3NL+/Ph3Hl+/efz83vWun/vuL++nquH9eu9w/uu6/vvOO49f/8xf77vOj+8b7Y/fMfse9ca/y7nv+d62a++X+f1vt+G/b7u+/u6TxzzS//tc2053QMABBEAABBIAABAIAEAAIEEAAAEEgAAEEgAAEAgAQAAgQQAAAQSAAAQSAAAQCABAACBBAAABBIAABBIAABAIAEAAIEEAAAEEgAAEEgAAEAgAQAAgQQAAAQSAAAQSAAAQCABAACBBAAABBIAABBIAABAIAEAAIEEAAAEEgAAEEgAAEAgAQAAgQQAAAQSAAAQSAAAQCABAACBBAAABBIAABBIAABAIAEAAIEEAAAEEgAAEEgAAEAgAQAAgQQAAAQSAAAQSAAAQCABAACBBAAABBIAABBIAABAIAEAAIEEAAAEEgAAEEgAAEAgAQAAgQQAAAQSAAAQSAAAQCABAACBBAAABBIAABBIAABAoB9ucImHxcKZtAAAAABJRU5ErkJggg==\"></div><div style=\"vertical-align: middle; max-width: 514px; display: flex; justify-content: space-between;\"><div style=\"float: left;\"><div title=\"#440154ff\" style=\"display: inline-block; width: 1em; height: 1em; margin: 0; vertical-align: middle; border: 1px solid #555; background-color: #440154ff;\"></div> under</div><div style=\"margin: 0 auto; display: inline-block;\">bad <div title=\"#00000000\" style=\"display: inline-block; width: 1em; height: 1em; margin: 0; vertical-align: middle; border: 1px solid #555; background-color: #00000000;\"></div></div><div style=\"float: right;\">over <div title=\"#fde725ff\" style=\"display: inline-block; width: 1em; height: 1em; margin: 0; vertical-align: middle; border: 1px solid #555; background-color: #fde725ff;\"></div></div>"
      ],
      "text/plain": [
       "<matplotlib.colors.ListedColormap at 0x7f184e70a4a0>"
      ]
     },
     "execution_count": 12,
     "metadata": {},
     "output_type": "execute_result"
    }
   ],
   "source": [
    "viridis_colormap"
   ]
  },
  {
   "cell_type": "markdown",
   "id": "24309784-f590-42d6-a38c-41e0ebba1955",
   "metadata": {},
   "source": [
    "For showing the plots against a basemap, here we call upon a basemap from ESRI which can be used on lonboard visualization of the plots."
   ]
  },
  {
   "cell_type": "code",
   "execution_count": 14,
   "id": "3f5b0017-23d7-4e09-ad79-df8976143452",
   "metadata": {
    "tags": []
   },
   "outputs": [],
   "source": [
    "ESRI_basemap = BitmapTileLayer(\n",
    "    data=\"https://services.arcgisonline.com/ArcGIS/rest/services/World_Imagery/MapServer/tile/{z}/{y}/{x}\",\n",
    "    tile_size=256,\n",
    "    max_requests=-1,\n",
    "    min_zoom=0,\n",
    "    max_zoom=19,\n",
    ")\n",
    "m = Map(ESRI_basemap)"
   ]
  },
  {
   "cell_type": "code",
   "execution_count": 15,
   "id": "9cb018e2-d991-470d-860f-b94231766458",
   "metadata": {
    "tags": []
   },
   "outputs": [
    {
     "data": {
      "application/vnd.jupyter.widget-view+json": {
       "model_id": "98400a50a3204d5d8d8b25b5a0e70f11",
       "version_major": 2,
       "version_minor": 0
      },
      "text/plain": [
       "Map(layers=[BitmapTileLayer(data='https://services.arcgisonline.com/ArcGIS/rest/services/World_Imagery/MapServ…"
      ]
     },
     "metadata": {},
     "output_type": "display_data"
    }
   ],
   "source": [
    "m = Map([ESRI_basemap,NFI_layer])\n",
    "m"
   ]
  },
  {
   "cell_type": "markdown",
   "id": "f65848f0-6d19-4f4d-ac58-d1288ba437b9",
   "metadata": {},
   "source": [
    "**CCI Biomass Layer**"
   ]
  },
  {
   "cell_type": "markdown",
   "id": "082efd47-d03e-4cb5-ad34-bb234fe4b922",
   "metadata": {},
   "source": [
    "The ESA's Climate Change Initiative (CCI) Biomass project aimed to produce global maps of above-ground biomass for 2010, 2017, and 2018 to quantify biomass changes. The mapping is done with a 100-meter grid spacing, aiming for a relative error of less than 20 percent in areas where the above-ground biomass (AGB) exceeds 50 Mg ha-1. \n",
    "\n",
    "For visualizing the CCI Biomass layer, we will use BitmapTileLayer which renders tiles dynamically generated by TiTiler."
   ]
  },
  {
   "cell_type": "code",
   "execution_count": 50,
   "id": "01a725e0-c23b-465c-8b50-cdd1fc927690",
   "metadata": {
    "tags": []
   },
   "outputs": [],
   "source": [
    "titiler_endpoint = \"https://titiler.maap-project.org\""
   ]
  },
  {
   "cell_type": "code",
   "execution_count": 51,
   "id": "aedd98b8-5a5e-4afd-9352-04249606319e",
   "metadata": {
    "tags": []
   },
   "outputs": [],
   "source": [
    "CCI_product_url = \"s3://maap-ops-workspace/shared/pbasak/Cambodia_Notebook/CCI_AOImasked.tif\""
   ]
  },
  {
   "cell_type": "code",
   "execution_count": 52,
   "id": "db882b3b-d8e0-4266-bba6-679d2c2cab07",
   "metadata": {
    "tags": []
   },
   "outputs": [],
   "source": [
    "CCI_product_tile_url = \"https://titiler.maap-project.org/cog/tiles/{z}/{x}/{y}?url=s3://maap-ops-workspace/shared/pbasak/Cambodia_Notebook/CCI_AOImasked.tif&rescale=0,60&colormap_name=viridis\""
   ]
  },
  {
   "cell_type": "code",
   "execution_count": 53,
   "id": "b70d09c5-06c7-4852-baf3-acad891feb81",
   "metadata": {
    "tags": []
   },
   "outputs": [
    {
     "name": "stdout",
     "output_type": "stream",
     "text": [
      "[106.98488888881904, 12.66844444451776, 107.6088888888128, 13.36711111117744]\n"
     ]
    }
   ],
   "source": [
    "r_CCI = httpx.get(\n",
    "    f\"{titiler_endpoint}/cog/info\",\n",
    "    params = {\n",
    "        \"url\": CCI_product_url,\n",
    "    }\n",
    ").json()\n",
    "\n",
    "bounds_CCI = r_CCI[\"bounds\"]\n",
    "print(bounds_CCI)"
   ]
  },
  {
   "cell_type": "code",
   "execution_count": 54,
   "id": "a6e11dbc-94c8-4a7b-8fee-ba39932285c8",
   "metadata": {
    "tags": []
   },
   "outputs": [],
   "source": [
    "CCI_product_layer = BitmapTileLayer(\n",
    "    data=CCI_product_tile_url,\n",
    "    tile_size=148,\n",
    "    max_requests=-1,\n",
    "    extent=bounds_CCI\n",
    ")"
   ]
  },
  {
   "cell_type": "code",
   "execution_count": 55,
   "id": "63423521-8039-43df-82dd-0e5c8dfebcab",
   "metadata": {
    "tags": []
   },
   "outputs": [
    {
     "data": {
      "image/png": "[encoded data removed]",
      "text/html": [
       "<div style=\"vertical-align: middle;\"><strong>viridis</strong> </div><div class=\"cmap\"><img alt=\"viridis colormap\" title=\"viridis\" style=\"border: 1px solid #555;\" src=\"data:image/png;base64,iVBORw0KGgoAAAANSUhEUgAAAgAAAABACAYAAABsv8+/AAAAFnRFWHRUaXRsZQB2aXJpZGlzIGNvbG9ybWFwrE0mCwAAABx0RVh0RGVzY3JpcHRpb24AdmlyaWRpcyBjb2xvcm1hcAtjl3IAAAAwdEVYdEF1dGhvcgBNYXRwbG90bGliIHYzLjguMCwgaHR0cHM6Ly9tYXRwbG90bGliLm9yZ59z+E8AAAAydEVYdFNvZnR3YXJlAE1hdHBsb3RsaWIgdjMuOC4wLCBodHRwczovL21hdHBsb3RsaWIub3JnsdVnaAAAAiJJREFUeJzt1kGSmzAURdEv2FqWkP0vJfQgMhQCGceV2Ttn4pL0EVQPum771X5vVVXVWv39XfrPeV193V5zS98f1sf5/fPjey73zu6/3Hv/uz2cz57f9vP68rxO9+/zre7nhvvG+et6vH92bw3PDfcsD+eX59+/53n96f3362/f87/vf5yr93Of72/fPV9P89tX3zGeH3OT8/07Zs+/32+TuXZZD8/VODf8W5uuH/b7vctlfuv7NazH8/t7ZnP7bz2cD3NL+/Ph3Hl+/efz83vWun/vuL++nquH9eu9w/uu6/vvOO49f/8xf77vOj+8b7Y/fMfse9ca/y7nv+d62a++X+f1vt+G/b7u+/u6TxzzS//tc2053QMABBEAABBIAABAIAEAAIEEAAAEEgAAEEgAAEAgAQAAgQQAAAQSAAAQSAAAQCABAACBBAAABBIAABBIAABAIAEAAIEEAAAEEgAAEEgAAEAgAQAAgQQAAAQSAAAQSAAAQCABAACBBAAABBIAABBIAABAIAEAAIEEAAAEEgAAEEgAAEAgAQAAgQQAAAQSAAAQSAAAQCABAACBBAAABBIAABBIAABAIAEAAIEEAAAEEgAAEEgAAEAgAQAAgQQAAAQSAAAQSAAAQCABAACBBAAABBIAABBIAABAIAEAAIEEAAAEEgAAEEgAAEAgAQAAgQQAAAQSAAAQSAAAQCABAACBBAAABBIAABBIAABAoB9ucImHxcKZtAAAAABJRU5ErkJggg==\"></div><div style=\"vertical-align: middle; max-width: 514px; display: flex; justify-content: space-between;\"><div style=\"float: left;\"><div title=\"#440154ff\" style=\"display: inline-block; width: 1em; height: 1em; margin: 0; vertical-align: middle; border: 1px solid #555; background-color: #440154ff;\"></div> under</div><div style=\"margin: 0 auto; display: inline-block;\">bad <div title=\"#00000000\" style=\"display: inline-block; width: 1em; height: 1em; margin: 0; vertical-align: middle; border: 1px solid #555; background-color: #00000000;\"></div></div><div style=\"float: right;\">over <div title=\"#fde725ff\" style=\"display: inline-block; width: 1em; height: 1em; margin: 0; vertical-align: middle; border: 1px solid #555; background-color: #fde725ff;\"></div></div>"
      ],
      "text/plain": [
       "<matplotlib.colors.ListedColormap at 0x7f17770fd750>"
      ]
     },
     "execution_count": 55,
     "metadata": {},
     "output_type": "execute_result"
    }
   ],
   "source": [
    "viridis_colormap"
   ]
  },
  {
   "cell_type": "code",
   "execution_count": 57,
   "id": "8759f1f9-84a6-4d2d-85b8-e44daf46453a",
   "metadata": {
    "tags": []
   },
   "outputs": [
    {
     "data": {
      "application/vnd.jupyter.widget-view+json": {
       "model_id": "008334f78ec74012aaed0d92173a272b",
       "version_major": 2,
       "version_minor": 0
      },
      "text/plain": [
       "Map(layers=[BitmapTileLayer(data='https://services.arcgisonline.com/ArcGIS/rest/services/World_Imagery/MapServ…"
      ]
     },
     "metadata": {},
     "output_type": "display_data"
    }
   ],
   "source": [
    "m1 = Map([ESRI_basemap, CCI_product_layer, Improved_GEDI_layer, NFI_layer])\n",
    "m1"
   ]
  },
  {
   "cell_type": "code",
   "execution_count": null,
   "id": "0ea015fc-e4cb-485a-b99a-65d3e85e3340",
   "metadata": {},
   "outputs": [],
   "source": []
  }
 ],
 "metadata": {
  "kernelspec": {
   "display_name": "Python 3 (ipykernel)",
   "language": "python",
   "name": "python3"
  },
  "language_info": {
   "codemirror_mode": {
    "name": "ipython",
    "version": 3
   },
   "file_extension": ".py",
   "mimetype": "text/x-python",
   "name": "python",
   "nbconvert_exporter": "python",
   "pygments_lexer": "ipython3",
   "version": "3.10.13"
  }
 },
 "nbformat": 4,
 "nbformat_minor": 5
}
