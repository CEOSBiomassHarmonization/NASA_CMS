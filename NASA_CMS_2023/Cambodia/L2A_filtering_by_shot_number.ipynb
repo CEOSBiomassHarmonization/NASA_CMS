{
 "cells": [
  {
   "cell_type": "code",
   "execution_count": 2,
   "id": "009784df-7833-44ca-932d-da46637c72af",
   "metadata": {},
   "outputs": [
    {
     "name": "stderr",
     "output_type": "stream",
     "text": [
      "The legacy packages maptools, rgdal, and rgeos, underpinning this package\n",
      "will retire shortly. Please refer to R-spatial evolution reports on\n",
      "https://r-spatial.org/r/2023/05/15/evolution4.html for details.\n",
      "This package is now running under evolution status 0 \n",
      "\n",
      "Please note that rgdal will be retired during 2023,\n",
      "plan transition to sf/stars/terra functions using GDAL and PROJ\n",
      "at your earliest convenience.\n",
      "See https://r-spatial.org/r/2022/04/12/evolution.html and https://github.com/r-spatial/evolution\n",
      "rgdal: version: 1.6-6, (SVN revision 1201)\n",
      "Geospatial Data Abstraction Library extensions to R successfully loaded\n",
      "Loaded GDAL runtime: GDAL 3.7.0, released 2023/05/02\n",
      "Path to GDAL shared files: /opt/conda/envs/r-with-gdal/share/gdal\n",
      " GDAL does not use iconv for recoding strings.\n",
      "GDAL binary built with GEOS: TRUE \n",
      "Loaded PROJ runtime: Rel. 9.2.1, June 1st, 2023, [PJ_VERSION: 921]\n",
      "Path to PROJ shared files: /projects/.local/share/proj:/opt/conda/envs/r-with-gdal/share/proj\n",
      "PROJ CDN enabled: TRUE\n",
      "Linking to sp version:1.6-1\n",
      "To mute warnings of possible GDAL/OSR exportToProj4() degradation,\n",
      "use options(\"rgdal_show_exportToProj4_warnings\"=\"none\") before loading sp or rgdal.\n",
      "\n",
      "Linking to GEOS 3.11.2, GDAL 3.7.0, PROJ 9.2.1; sf_use_s2() is TRUE\n",
      "\n",
      "── \u001b[1mAttaching core tidyverse packages\u001b[22m ──────────────────────── tidyverse 2.0.0 ──\n",
      "\u001b[32m✔\u001b[39m \u001b[34mdplyr    \u001b[39m 1.1.2     \u001b[32m✔\u001b[39m \u001b[34mreadr    \u001b[39m 2.1.4\n",
      "\u001b[32m✔\u001b[39m \u001b[34mforcats  \u001b[39m 1.0.0     \u001b[32m✔\u001b[39m \u001b[34mstringr  \u001b[39m 1.5.0\n",
      "\u001b[32m✔\u001b[39m \u001b[34mggplot2  \u001b[39m 3.4.2     \u001b[32m✔\u001b[39m \u001b[34mtibble   \u001b[39m 3.2.1\n",
      "\u001b[32m✔\u001b[39m \u001b[34mlubridate\u001b[39m 1.9.2     \u001b[32m✔\u001b[39m \u001b[34mtidyr    \u001b[39m 1.3.0\n",
      "\u001b[32m✔\u001b[39m \u001b[34mpurrr    \u001b[39m 1.0.1     \n",
      "── \u001b[1mConflicts\u001b[22m ────────────────────────────────────────── tidyverse_conflicts() ──\n",
      "\u001b[31m✖\u001b[39m \u001b[34mdplyr\u001b[39m::\u001b[32mfilter()\u001b[39m masks \u001b[34mstats\u001b[39m::filter()\n",
      "\u001b[31m✖\u001b[39m \u001b[34mdplyr\u001b[39m::\u001b[32mlag()\u001b[39m    masks \u001b[34mstats\u001b[39m::lag()\n",
      "\u001b[36mℹ\u001b[39m Use the conflicted package (\u001b[3m\u001b[34m<http://conflicted.r-lib.org/>\u001b[39m\u001b[23m) to force all conflicts to become errors\n",
      "\n",
      "Attaching package: ‘raster’\n",
      "\n",
      "\n",
      "The following object is masked from ‘package:dplyr’:\n",
      "\n",
      "    select\n",
      "\n",
      "\n"
     ]
    },
    {
     "ename": "ERROR",
     "evalue": "Error in library(maptools): there is no package called ‘maptools’\n",
     "output_type": "error",
     "traceback": [
      "Error in library(maptools): there is no package called ‘maptools’\nTraceback:\n",
      "1. library(maptools)"
     ]
    }
   ],
   "source": [
    "library(sp)\n",
    "library(rgdal)\n",
    "library(sf)\n",
    "library(tidyverse)\n",
    "library(raster)\n",
    "library(maptools)\n",
    "library(tidyr)\n",
    "library(geojsonio)\n"
   ]
  },
  {
   "cell_type": "code",
   "execution_count": 5,
   "id": "d4793dfb-665b-4a8e-8a9e-a4e00a50379f",
   "metadata": {},
   "outputs": [
    {
     "name": "stdout",
     "output_type": "stream",
     "text": [
      "Reading layer `NPAs_L4A' from data source \n",
      "  `/projects/shared-buckets/leitoldv/gedi_subsetting_CAMBODIA/DATA/NPAs_L4A.gpkg' \n",
      "  using driver `GPKG'\n",
      "Simple feature collection with 94480 features and 11 fields\n",
      "Geometry type: POINT\n",
      "Dimension:     XY\n",
      "Bounding box:  xmin: 106.9846 ymin: 12.6682 xmax: 107.6069 ymax: 13.36152\n",
      "Geodetic CRS:  WGS 84\n"
     ]
    },
    {
     "data": {
      "text/html": [
       "<table class=\"dataframe\">\n",
       "<caption>A data.frame: 6 × 12</caption>\n",
       "<thead>\n",
       "\t<tr><th></th><th scope=col>filename</th><th scope=col>agbd</th><th scope=col>sensitivity</th><th scope=col>geolocation.sensitivity_a2</th><th scope=col>lon_lowestmode</th><th scope=col>agbd_se</th><th scope=col>agbd_t_se</th><th scope=col>shot_number</th><th scope=col>elev_lowestmode</th><th scope=col>lat_lowestmode</th><th scope=col>agbd_t</th><th scope=col>geom</th></tr>\n",
       "\t<tr><th></th><th scope=col>&lt;chr&gt;</th><th scope=col>&lt;dbl&gt;</th><th scope=col>&lt;dbl&gt;</th><th scope=col>&lt;dbl&gt;</th><th scope=col>&lt;dbl&gt;</th><th scope=col>&lt;dbl&gt;</th><th scope=col>&lt;dbl&gt;</th><th scope=col>&lt;chr&gt;</th><th scope=col>&lt;dbl&gt;</th><th scope=col>&lt;dbl&gt;</th><th scope=col>&lt;dbl&gt;</th><th scope=col>&lt;POINT [°]&gt;</th></tr>\n",
       "</thead>\n",
       "<tbody>\n",
       "\t<tr><th scope=row>1</th><td>GEDI04_A_2019116060412_O02087_03_T03318_02_002_02_V002.h5</td><td>194.20779</td><td>0.9725116</td><td>0.9587675</td><td>107.4061</td><td>17.12004</td><td>3.921330</td><td>20870000300335341</td><td>212.6562</td><td>12.97729</td><td>13.207312</td><td>POINT (107.4061 12.97729)</td></tr>\n",
       "\t<tr><th scope=row>2</th><td>GEDI04_A_2019116060412_O02087_03_T03318_02_002_02_V002.h5</td><td> 31.84361</td><td>0.9535891</td><td>0.9389330</td><td>107.4055</td><td>17.12960</td><td>3.922426</td><td>20870000300335339</td><td>236.1579</td><td>12.97812</td><td> 5.348011</td><td>POINT (107.4055 12.97812)</td></tr>\n",
       "\t<tr><th scope=row>3</th><td>GEDI04_A_2019116060412_O02087_03_T03318_02_002_02_V002.h5</td><td> 90.71688</td><td>0.9632323</td><td>0.9462625</td><td>107.4052</td><td>17.12487</td><td>3.921884</td><td>20870000300335338</td><td>248.9778</td><td>12.97854</td><td> 9.026620</td><td>POINT (107.4052 12.97854)</td></tr>\n",
       "\t<tr><th scope=row>4</th><td>GEDI04_A_2019116060412_O02087_03_T03318_02_002_02_V002.h5</td><td> 27.86703</td><td>0.9666470</td><td>0.9666470</td><td>107.4049</td><td>17.13058</td><td>3.922537</td><td>20870000300335337</td><td>254.5930</td><td>12.97895</td><td> 5.002953</td><td>POINT (107.4049 12.97895)</td></tr>\n",
       "\t<tr><th scope=row>5</th><td>GEDI04_A_2019116060412_O02087_03_T03318_02_002_02_V002.h5</td><td>232.55092</td><td>0.9716157</td><td>0.9587137</td><td>107.4042</td><td>17.12043</td><td>3.921376</td><td>20870000300335335</td><td>258.1628</td><td>12.97978</td><td>14.452405</td><td>POINT (107.4042 12.97978)</td></tr>\n",
       "\t<tr><th scope=row>6</th><td>GEDI04_A_2019116060412_O02087_03_T03318_02_002_02_V002.h5</td><td> 65.76774</td><td>0.9561130</td><td>0.9321746</td><td>107.4036</td><td>17.12473</td><td>3.921867</td><td>20870000300335333</td><td>288.0929</td><td>12.98062</td><td> 7.685773</td><td>POINT (107.4036 12.98062)</td></tr>\n",
       "</tbody>\n",
       "</table>\n"
      ],
      "text/latex": [
       "A data.frame: 6 × 12\n",
       "\\begin{tabular}{r|llllllllllll}\n",
       "  & filename & agbd & sensitivity & geolocation.sensitivity\\_a2 & lon\\_lowestmode & agbd\\_se & agbd\\_t\\_se & shot\\_number & elev\\_lowestmode & lat\\_lowestmode & agbd\\_t & geom\\\\\n",
       "  & <chr> & <dbl> & <dbl> & <dbl> & <dbl> & <dbl> & <dbl> & <chr> & <dbl> & <dbl> & <dbl> & <POINT {[}°{]}>\\\\\n",
       "\\hline\n",
       "\t1 & GEDI04\\_A\\_2019116060412\\_O02087\\_03\\_T03318\\_02\\_002\\_02\\_V002.h5 & 194.20779 & 0.9725116 & 0.9587675 & 107.4061 & 17.12004 & 3.921330 & 20870000300335341 & 212.6562 & 12.97729 & 13.207312 & POINT (107.4061 12.97729)\\\\\n",
       "\t2 & GEDI04\\_A\\_2019116060412\\_O02087\\_03\\_T03318\\_02\\_002\\_02\\_V002.h5 &  31.84361 & 0.9535891 & 0.9389330 & 107.4055 & 17.12960 & 3.922426 & 20870000300335339 & 236.1579 & 12.97812 &  5.348011 & POINT (107.4055 12.97812)\\\\\n",
       "\t3 & GEDI04\\_A\\_2019116060412\\_O02087\\_03\\_T03318\\_02\\_002\\_02\\_V002.h5 &  90.71688 & 0.9632323 & 0.9462625 & 107.4052 & 17.12487 & 3.921884 & 20870000300335338 & 248.9778 & 12.97854 &  9.026620 & POINT (107.4052 12.97854)\\\\\n",
       "\t4 & GEDI04\\_A\\_2019116060412\\_O02087\\_03\\_T03318\\_02\\_002\\_02\\_V002.h5 &  27.86703 & 0.9666470 & 0.9666470 & 107.4049 & 17.13058 & 3.922537 & 20870000300335337 & 254.5930 & 12.97895 &  5.002953 & POINT (107.4049 12.97895)\\\\\n",
       "\t5 & GEDI04\\_A\\_2019116060412\\_O02087\\_03\\_T03318\\_02\\_002\\_02\\_V002.h5 & 232.55092 & 0.9716157 & 0.9587137 & 107.4042 & 17.12043 & 3.921376 & 20870000300335335 & 258.1628 & 12.97978 & 14.452405 & POINT (107.4042 12.97978)\\\\\n",
       "\t6 & GEDI04\\_A\\_2019116060412\\_O02087\\_03\\_T03318\\_02\\_002\\_02\\_V002.h5 &  65.76774 & 0.9561130 & 0.9321746 & 107.4036 & 17.12473 & 3.921867 & 20870000300335333 & 288.0929 & 12.98062 &  7.685773 & POINT (107.4036 12.98062)\\\\\n",
       "\\end{tabular}\n"
      ],
      "text/markdown": [
       "\n",
       "A data.frame: 6 × 12\n",
       "\n",
       "| <!--/--> | filename &lt;chr&gt; | agbd &lt;dbl&gt; | sensitivity &lt;dbl&gt; | geolocation.sensitivity_a2 &lt;dbl&gt; | lon_lowestmode &lt;dbl&gt; | agbd_se &lt;dbl&gt; | agbd_t_se &lt;dbl&gt; | shot_number &lt;chr&gt; | elev_lowestmode &lt;dbl&gt; | lat_lowestmode &lt;dbl&gt; | agbd_t &lt;dbl&gt; | geom &lt;POINT [°]&gt; |\n",
       "|---|---|---|---|---|---|---|---|---|---|---|---|---|\n",
       "| 1 | GEDI04_A_2019116060412_O02087_03_T03318_02_002_02_V002.h5 | 194.20779 | 0.9725116 | 0.9587675 | 107.4061 | 17.12004 | 3.921330 | 20870000300335341 | 212.6562 | 12.97729 | 13.207312 | POINT (107.4061 12.97729) |\n",
       "| 2 | GEDI04_A_2019116060412_O02087_03_T03318_02_002_02_V002.h5 |  31.84361 | 0.9535891 | 0.9389330 | 107.4055 | 17.12960 | 3.922426 | 20870000300335339 | 236.1579 | 12.97812 |  5.348011 | POINT (107.4055 12.97812) |\n",
       "| 3 | GEDI04_A_2019116060412_O02087_03_T03318_02_002_02_V002.h5 |  90.71688 | 0.9632323 | 0.9462625 | 107.4052 | 17.12487 | 3.921884 | 20870000300335338 | 248.9778 | 12.97854 |  9.026620 | POINT (107.4052 12.97854) |\n",
       "| 4 | GEDI04_A_2019116060412_O02087_03_T03318_02_002_02_V002.h5 |  27.86703 | 0.9666470 | 0.9666470 | 107.4049 | 17.13058 | 3.922537 | 20870000300335337 | 254.5930 | 12.97895 |  5.002953 | POINT (107.4049 12.97895) |\n",
       "| 5 | GEDI04_A_2019116060412_O02087_03_T03318_02_002_02_V002.h5 | 232.55092 | 0.9716157 | 0.9587137 | 107.4042 | 17.12043 | 3.921376 | 20870000300335335 | 258.1628 | 12.97978 | 14.452405 | POINT (107.4042 12.97978) |\n",
       "| 6 | GEDI04_A_2019116060412_O02087_03_T03318_02_002_02_V002.h5 |  65.76774 | 0.9561130 | 0.9321746 | 107.4036 | 17.12473 | 3.921867 | 20870000300335333 | 288.0929 | 12.98062 |  7.685773 | POINT (107.4036 12.98062) |\n",
       "\n"
      ],
      "text/plain": [
       "  filename                                                  agbd     \n",
       "1 GEDI04_A_2019116060412_O02087_03_T03318_02_002_02_V002.h5 194.20779\n",
       "2 GEDI04_A_2019116060412_O02087_03_T03318_02_002_02_V002.h5  31.84361\n",
       "3 GEDI04_A_2019116060412_O02087_03_T03318_02_002_02_V002.h5  90.71688\n",
       "4 GEDI04_A_2019116060412_O02087_03_T03318_02_002_02_V002.h5  27.86703\n",
       "5 GEDI04_A_2019116060412_O02087_03_T03318_02_002_02_V002.h5 232.55092\n",
       "6 GEDI04_A_2019116060412_O02087_03_T03318_02_002_02_V002.h5  65.76774\n",
       "  sensitivity geolocation.sensitivity_a2 lon_lowestmode agbd_se  agbd_t_se\n",
       "1 0.9725116   0.9587675                  107.4061       17.12004 3.921330 \n",
       "2 0.9535891   0.9389330                  107.4055       17.12960 3.922426 \n",
       "3 0.9632323   0.9462625                  107.4052       17.12487 3.921884 \n",
       "4 0.9666470   0.9666470                  107.4049       17.13058 3.922537 \n",
       "5 0.9716157   0.9587137                  107.4042       17.12043 3.921376 \n",
       "6 0.9561130   0.9321746                  107.4036       17.12473 3.921867 \n",
       "  shot_number       elev_lowestmode lat_lowestmode agbd_t   \n",
       "1 20870000300335341 212.6562        12.97729       13.207312\n",
       "2 20870000300335339 236.1579        12.97812        5.348011\n",
       "3 20870000300335338 248.9778        12.97854        9.026620\n",
       "4 20870000300335337 254.5930        12.97895        5.002953\n",
       "5 20870000300335335 258.1628        12.97978       14.452405\n",
       "6 20870000300335333 288.0929        12.98062        7.685773\n",
       "  geom                     \n",
       "1 POINT (107.4061 12.97729)\n",
       "2 POINT (107.4055 12.97812)\n",
       "3 POINT (107.4052 12.97854)\n",
       "4 POINT (107.4049 12.97895)\n",
       "5 POINT (107.4042 12.97978)\n",
       "6 POINT (107.4036 12.98062)"
      ]
     },
     "metadata": {},
     "output_type": "display_data"
    },
    {
     "data": {
      "text/html": [
       "94480"
      ],
      "text/latex": [
       "94480"
      ],
      "text/markdown": [
       "94480"
      ],
      "text/plain": [
       "[1] 94480"
      ]
     },
     "metadata": {},
     "output_type": "display_data"
    }
   ],
   "source": [
    "L4A_original <- data.frame(st_read(\"/projects/shared-buckets/leitoldv/gedi_subsetting_CAMBODIA/DATA/NPAs_L4A.gpkg\", int64_as_string = TRUE))\n",
    "head(L4A_original)\n",
    "nrow(L4A_original)\n"
   ]
  },
  {
   "cell_type": "code",
   "execution_count": 6,
   "id": "aa71d4dc-7cb1-4c92-b811-fdd57de55bdf",
   "metadata": {},
   "outputs": [
    {
     "name": "stdout",
     "output_type": "stream",
     "text": [
      "Reading layer `NPAs_L2A' from data source \n",
      "  `/projects/shared-buckets/leitoldv/gedi_subsetting_CAMBODIA/DATA/NPAs_L2A.gpkg' \n",
      "  using driver `GPKG'\n",
      "Simple feature collection with 322621 features and 29 fields\n",
      "Geometry type: POINT\n",
      "Dimension:     XY\n",
      "Bounding box:  xmin: 106.9846 ymin: 12.66817 xmax: 107.6086 ymax: 13.3649\n",
      "Geodetic CRS:  WGS 84\n"
     ]
    },
    {
     "data": {
      "text/html": [
       "<table class=\"dataframe\">\n",
       "<caption>A data.frame: 6 × 30</caption>\n",
       "<thead>\n",
       "\t<tr><th></th><th scope=col>filename</th><th scope=col>lat_lowestmode</th><th scope=col>degrade_flag</th><th scope=col>rx_processing_a2.toploc</th><th scope=col>shot_number</th><th scope=col>rh10</th><th scope=col>rh50</th><th scope=col>lon_lowestmode</th><th scope=col>land_cover_data.leaf_off_flag</th><th scope=col>rh70</th><th scope=col>⋯</th><th scope=col>rh90</th><th scope=col>rh40</th><th scope=col>rh30</th><th scope=col>surface_flag</th><th scope=col>quality_flag</th><th scope=col>geolocation.stale_return_flag</th><th scope=col>land_cover_data.urban_proportion</th><th scope=col>rx_assess.sd_corrected</th><th scope=col>land_cover_data.landsat_water_persistence</th><th scope=col>geom</th></tr>\n",
       "\t<tr><th></th><th scope=col>&lt;chr&gt;</th><th scope=col>&lt;dbl&gt;</th><th scope=col>&lt;chr&gt;</th><th scope=col>&lt;dbl&gt;</th><th scope=col>&lt;chr&gt;</th><th scope=col>&lt;dbl&gt;</th><th scope=col>&lt;dbl&gt;</th><th scope=col>&lt;dbl&gt;</th><th scope=col>&lt;chr&gt;</th><th scope=col>&lt;dbl&gt;</th><th scope=col>⋯</th><th scope=col>&lt;dbl&gt;</th><th scope=col>&lt;dbl&gt;</th><th scope=col>&lt;dbl&gt;</th><th scope=col>&lt;chr&gt;</th><th scope=col>&lt;chr&gt;</th><th scope=col>&lt;chr&gt;</th><th scope=col>&lt;chr&gt;</th><th scope=col>&lt;dbl&gt;</th><th scope=col>&lt;chr&gt;</th><th scope=col>&lt;POINT [°]&gt;</th></tr>\n",
       "</thead>\n",
       "<tbody>\n",
       "\t<tr><th scope=row>1</th><td>GEDI02_A_2019123032136_O02194_03_T04588_02_003_01_V002.h5</td><td>12.67430</td><td>80</td><td>299.50</td><td>21940000300335240</td><td>-3.44</td><td>0.33</td><td>107.2817</td><td>1</td><td>2.20</td><td>⋯</td><td> 9.13</td><td>-0.37</td><td>-1.19</td><td>1</td><td>1</td><td>0</td><td>0</td><td>4.592659</td><td>0</td><td>POINT (107.2817 12.6743)</td></tr>\n",
       "\t<tr><th scope=row>2</th><td>GEDI02_A_2019123032136_O02194_03_T04588_02_003_01_V002.h5</td><td>12.68219</td><td>80</td><td>295.75</td><td>21940000300335221</td><td>-1.49</td><td>1.91</td><td>107.2757</td><td>1</td><td>5.13</td><td>⋯</td><td>12.05</td><td> 0.82</td><td> 0.11</td><td>1</td><td>1</td><td>0</td><td>0</td><td>4.556855</td><td>0</td><td>POINT (107.2757 12.68219)</td></tr>\n",
       "\t<tr><th scope=row>3</th><td>GEDI02_A_2019123032136_O02194_03_T04588_02_003_01_V002.h5</td><td>12.68800</td><td>80</td><td>295.00</td><td>21940000300335207</td><td>-1.68</td><td>0.00</td><td>107.2713</td><td>0</td><td>0.67</td><td>⋯</td><td> 1.72</td><td>-0.29</td><td>-0.63</td><td>1</td><td>1</td><td>0</td><td>0</td><td>5.442319</td><td>0</td><td>POINT (107.2713 12.688)</td></tr>\n",
       "\t<tr><th scope=row>4</th><td>GEDI02_A_2019123032136_O02194_03_T04588_02_003_01_V002.h5</td><td>12.68966</td><td>80</td><td>294.75</td><td>21940000300335203</td><td>-1.91</td><td>0.33</td><td>107.2700</td><td>0</td><td>1.34</td><td>⋯</td><td> 3.03</td><td>-0.11</td><td>-0.56</td><td>1</td><td>1</td><td>0</td><td>0</td><td>4.777041</td><td>0</td><td>POINT (107.27 12.68966)</td></tr>\n",
       "\t<tr><th scope=row>5</th><td>GEDI02_A_2019123032136_O02194_03_T04588_02_003_01_V002.h5</td><td>12.69132</td><td>80</td><td>295.75</td><td>21940000300335199</td><td> 0.86</td><td>8.16</td><td>107.2688</td><td>0</td><td>9.81</td><td>⋯</td><td>11.72</td><td> 7.07</td><td> 5.76</td><td>1</td><td>1</td><td>0</td><td>0</td><td>5.423646</td><td>0</td><td>POINT (107.2688 12.69132)</td></tr>\n",
       "\t<tr><th scope=row>6</th><td>GEDI02_A_2019123032136_O02194_03_T04588_02_003_01_V002.h5</td><td>12.69174</td><td>80</td><td>297.00</td><td>21940000300335198</td><td> 0.22</td><td>3.70</td><td>107.2685</td><td>0</td><td>4.79</td><td>⋯</td><td> 6.21</td><td> 3.10</td><td> 2.47</td><td>1</td><td>1</td><td>0</td><td>0</td><td>5.563900</td><td>0</td><td>POINT (107.2685 12.69174)</td></tr>\n",
       "</tbody>\n",
       "</table>\n"
      ],
      "text/latex": [
       "A data.frame: 6 × 30\n",
       "\\begin{tabular}{r|lllllllllllllllllllll}\n",
       "  & filename & lat\\_lowestmode & degrade\\_flag & rx\\_processing\\_a2.toploc & shot\\_number & rh10 & rh50 & lon\\_lowestmode & land\\_cover\\_data.leaf\\_off\\_flag & rh70 & ⋯ & rh90 & rh40 & rh30 & surface\\_flag & quality\\_flag & geolocation.stale\\_return\\_flag & land\\_cover\\_data.urban\\_proportion & rx\\_assess.sd\\_corrected & land\\_cover\\_data.landsat\\_water\\_persistence & geom\\\\\n",
       "  & <chr> & <dbl> & <chr> & <dbl> & <chr> & <dbl> & <dbl> & <dbl> & <chr> & <dbl> & ⋯ & <dbl> & <dbl> & <dbl> & <chr> & <chr> & <chr> & <chr> & <dbl> & <chr> & <POINT {[}°{]}>\\\\\n",
       "\\hline\n",
       "\t1 & GEDI02\\_A\\_2019123032136\\_O02194\\_03\\_T04588\\_02\\_003\\_01\\_V002.h5 & 12.67430 & 80 & 299.50 & 21940000300335240 & -3.44 & 0.33 & 107.2817 & 1 & 2.20 & ⋯ &  9.13 & -0.37 & -1.19 & 1 & 1 & 0 & 0 & 4.592659 & 0 & POINT (107.2817 12.6743)\\\\\n",
       "\t2 & GEDI02\\_A\\_2019123032136\\_O02194\\_03\\_T04588\\_02\\_003\\_01\\_V002.h5 & 12.68219 & 80 & 295.75 & 21940000300335221 & -1.49 & 1.91 & 107.2757 & 1 & 5.13 & ⋯ & 12.05 &  0.82 &  0.11 & 1 & 1 & 0 & 0 & 4.556855 & 0 & POINT (107.2757 12.68219)\\\\\n",
       "\t3 & GEDI02\\_A\\_2019123032136\\_O02194\\_03\\_T04588\\_02\\_003\\_01\\_V002.h5 & 12.68800 & 80 & 295.00 & 21940000300335207 & -1.68 & 0.00 & 107.2713 & 0 & 0.67 & ⋯ &  1.72 & -0.29 & -0.63 & 1 & 1 & 0 & 0 & 5.442319 & 0 & POINT (107.2713 12.688)\\\\\n",
       "\t4 & GEDI02\\_A\\_2019123032136\\_O02194\\_03\\_T04588\\_02\\_003\\_01\\_V002.h5 & 12.68966 & 80 & 294.75 & 21940000300335203 & -1.91 & 0.33 & 107.2700 & 0 & 1.34 & ⋯ &  3.03 & -0.11 & -0.56 & 1 & 1 & 0 & 0 & 4.777041 & 0 & POINT (107.27 12.68966)\\\\\n",
       "\t5 & GEDI02\\_A\\_2019123032136\\_O02194\\_03\\_T04588\\_02\\_003\\_01\\_V002.h5 & 12.69132 & 80 & 295.75 & 21940000300335199 &  0.86 & 8.16 & 107.2688 & 0 & 9.81 & ⋯ & 11.72 &  7.07 &  5.76 & 1 & 1 & 0 & 0 & 5.423646 & 0 & POINT (107.2688 12.69132)\\\\\n",
       "\t6 & GEDI02\\_A\\_2019123032136\\_O02194\\_03\\_T04588\\_02\\_003\\_01\\_V002.h5 & 12.69174 & 80 & 297.00 & 21940000300335198 &  0.22 & 3.70 & 107.2685 & 0 & 4.79 & ⋯ &  6.21 &  3.10 &  2.47 & 1 & 1 & 0 & 0 & 5.563900 & 0 & POINT (107.2685 12.69174)\\\\\n",
       "\\end{tabular}\n"
      ],
      "text/markdown": [
       "\n",
       "A data.frame: 6 × 30\n",
       "\n",
       "| <!--/--> | filename &lt;chr&gt; | lat_lowestmode &lt;dbl&gt; | degrade_flag &lt;chr&gt; | rx_processing_a2.toploc &lt;dbl&gt; | shot_number &lt;chr&gt; | rh10 &lt;dbl&gt; | rh50 &lt;dbl&gt; | lon_lowestmode &lt;dbl&gt; | land_cover_data.leaf_off_flag &lt;chr&gt; | rh70 &lt;dbl&gt; | ⋯ ⋯ | rh90 &lt;dbl&gt; | rh40 &lt;dbl&gt; | rh30 &lt;dbl&gt; | surface_flag &lt;chr&gt; | quality_flag &lt;chr&gt; | geolocation.stale_return_flag &lt;chr&gt; | land_cover_data.urban_proportion &lt;chr&gt; | rx_assess.sd_corrected &lt;dbl&gt; | land_cover_data.landsat_water_persistence &lt;chr&gt; | geom &lt;POINT [°]&gt; |\n",
       "|---|---|---|---|---|---|---|---|---|---|---|---|---|---|---|---|---|---|---|---|---|---|\n",
       "| 1 | GEDI02_A_2019123032136_O02194_03_T04588_02_003_01_V002.h5 | 12.67430 | 80 | 299.50 | 21940000300335240 | -3.44 | 0.33 | 107.2817 | 1 | 2.20 | ⋯ |  9.13 | -0.37 | -1.19 | 1 | 1 | 0 | 0 | 4.592659 | 0 | POINT (107.2817 12.6743) |\n",
       "| 2 | GEDI02_A_2019123032136_O02194_03_T04588_02_003_01_V002.h5 | 12.68219 | 80 | 295.75 | 21940000300335221 | -1.49 | 1.91 | 107.2757 | 1 | 5.13 | ⋯ | 12.05 |  0.82 |  0.11 | 1 | 1 | 0 | 0 | 4.556855 | 0 | POINT (107.2757 12.68219) |\n",
       "| 3 | GEDI02_A_2019123032136_O02194_03_T04588_02_003_01_V002.h5 | 12.68800 | 80 | 295.00 | 21940000300335207 | -1.68 | 0.00 | 107.2713 | 0 | 0.67 | ⋯ |  1.72 | -0.29 | -0.63 | 1 | 1 | 0 | 0 | 5.442319 | 0 | POINT (107.2713 12.688) |\n",
       "| 4 | GEDI02_A_2019123032136_O02194_03_T04588_02_003_01_V002.h5 | 12.68966 | 80 | 294.75 | 21940000300335203 | -1.91 | 0.33 | 107.2700 | 0 | 1.34 | ⋯ |  3.03 | -0.11 | -0.56 | 1 | 1 | 0 | 0 | 4.777041 | 0 | POINT (107.27 12.68966) |\n",
       "| 5 | GEDI02_A_2019123032136_O02194_03_T04588_02_003_01_V002.h5 | 12.69132 | 80 | 295.75 | 21940000300335199 |  0.86 | 8.16 | 107.2688 | 0 | 9.81 | ⋯ | 11.72 |  7.07 |  5.76 | 1 | 1 | 0 | 0 | 5.423646 | 0 | POINT (107.2688 12.69132) |\n",
       "| 6 | GEDI02_A_2019123032136_O02194_03_T04588_02_003_01_V002.h5 | 12.69174 | 80 | 297.00 | 21940000300335198 |  0.22 | 3.70 | 107.2685 | 0 | 4.79 | ⋯ |  6.21 |  3.10 |  2.47 | 1 | 1 | 0 | 0 | 5.563900 | 0 | POINT (107.2685 12.69174) |\n",
       "\n"
      ],
      "text/plain": [
       "  filename                                                  lat_lowestmode\n",
       "1 GEDI02_A_2019123032136_O02194_03_T04588_02_003_01_V002.h5 12.67430      \n",
       "2 GEDI02_A_2019123032136_O02194_03_T04588_02_003_01_V002.h5 12.68219      \n",
       "3 GEDI02_A_2019123032136_O02194_03_T04588_02_003_01_V002.h5 12.68800      \n",
       "4 GEDI02_A_2019123032136_O02194_03_T04588_02_003_01_V002.h5 12.68966      \n",
       "5 GEDI02_A_2019123032136_O02194_03_T04588_02_003_01_V002.h5 12.69132      \n",
       "6 GEDI02_A_2019123032136_O02194_03_T04588_02_003_01_V002.h5 12.69174      \n",
       "  degrade_flag rx_processing_a2.toploc shot_number       rh10  rh50\n",
       "1 80           299.50                  21940000300335240 -3.44 0.33\n",
       "2 80           295.75                  21940000300335221 -1.49 1.91\n",
       "3 80           295.00                  21940000300335207 -1.68 0.00\n",
       "4 80           294.75                  21940000300335203 -1.91 0.33\n",
       "5 80           295.75                  21940000300335199  0.86 8.16\n",
       "6 80           297.00                  21940000300335198  0.22 3.70\n",
       "  lon_lowestmode land_cover_data.leaf_off_flag rh70 ⋯ rh90  rh40  rh30 \n",
       "1 107.2817       1                             2.20 ⋯  9.13 -0.37 -1.19\n",
       "2 107.2757       1                             5.13 ⋯ 12.05  0.82  0.11\n",
       "3 107.2713       0                             0.67 ⋯  1.72 -0.29 -0.63\n",
       "4 107.2700       0                             1.34 ⋯  3.03 -0.11 -0.56\n",
       "5 107.2688       0                             9.81 ⋯ 11.72  7.07  5.76\n",
       "6 107.2685       0                             4.79 ⋯  6.21  3.10  2.47\n",
       "  surface_flag quality_flag geolocation.stale_return_flag\n",
       "1 1            1            0                            \n",
       "2 1            1            0                            \n",
       "3 1            1            0                            \n",
       "4 1            1            0                            \n",
       "5 1            1            0                            \n",
       "6 1            1            0                            \n",
       "  land_cover_data.urban_proportion rx_assess.sd_corrected\n",
       "1 0                                4.592659              \n",
       "2 0                                4.556855              \n",
       "3 0                                5.442319              \n",
       "4 0                                4.777041              \n",
       "5 0                                5.423646              \n",
       "6 0                                5.563900              \n",
       "  land_cover_data.landsat_water_persistence geom                     \n",
       "1 0                                         POINT (107.2817 12.6743) \n",
       "2 0                                         POINT (107.2757 12.68219)\n",
       "3 0                                         POINT (107.2713 12.688)  \n",
       "4 0                                         POINT (107.27 12.68966)  \n",
       "5 0                                         POINT (107.2688 12.69132)\n",
       "6 0                                         POINT (107.2685 12.69174)"
      ]
     },
     "metadata": {},
     "output_type": "display_data"
    },
    {
     "data": {
      "text/html": [
       "322621"
      ],
      "text/latex": [
       "322621"
      ],
      "text/markdown": [
       "322621"
      ],
      "text/plain": [
       "[1] 322621"
      ]
     },
     "metadata": {},
     "output_type": "display_data"
    }
   ],
   "source": [
    "L2A_original <- data.frame(st_read(\"/projects/shared-buckets/leitoldv/gedi_subsetting_CAMBODIA/DATA/NPAs_L2A.gpkg\", int64_as_string = TRUE))\n",
    "head(L2A_original)\n",
    "nrow(L2A_original)\n"
   ]
  },
  {
   "cell_type": "code",
   "execution_count": 7,
   "id": "86fb60c4-2357-4243-b6c6-fd462a1ea2b3",
   "metadata": {},
   "outputs": [
    {
     "data": {
      "text/html": [
       "94480"
      ],
      "text/latex": [
       "94480"
      ],
      "text/markdown": [
       "94480"
      ],
      "text/plain": [
       "[1] 94480"
      ]
     },
     "metadata": {},
     "output_type": "display_data"
    },
    {
     "data": {
      "text/html": [
       "<style>\n",
       ".list-inline {list-style: none; margin:0; padding: 0}\n",
       ".list-inline>li {display: inline-block}\n",
       ".list-inline>li:not(:last-child)::after {content: \"\\00b7\"; padding: 0 .5ex}\n",
       "</style>\n",
       "<ol class=list-inline><li>'shot_number'</li><li>'filename.x'</li><li>'agbd'</li><li>'sensitivity'</li><li>'geolocation.sensitivity_a2.x'</li><li>'lon_lowestmode.x'</li><li>'agbd_se'</li><li>'agbd_t_se'</li><li>'elev_lowestmode'</li><li>'lat_lowestmode.x'</li><li>'agbd_t'</li><li>'geom.x'</li><li>'filename.y'</li><li>'lat_lowestmode.y'</li><li>'degrade_flag'</li><li>'rx_processing_a2.toploc'</li><li>'rh10'</li><li>'rh50'</li><li>'lon_lowestmode.y'</li><li>'land_cover_data.leaf_off_flag'</li><li>'rh70'</li><li>'rh20'</li><li>'rh80'</li><li>'land_cover_data.region_class'</li><li>'rh60'</li><li>'rx_processing_a2.rx_algrunflag'</li><li>'rx_assess.rx_maxamp'</li><li>'land_cover_data.pft_class'</li><li>'rh98'</li><li>'rx_processing_a2.zcross'</li><li>'geolocation.sensitivity_a2.y'</li><li>'rh90'</li><li>'rh40'</li><li>'rh30'</li><li>'surface_flag'</li><li>'quality_flag'</li><li>'geolocation.stale_return_flag'</li><li>'land_cover_data.urban_proportion'</li><li>'rx_assess.sd_corrected'</li><li>'land_cover_data.landsat_water_persistence'</li><li>'geom.y'</li></ol>\n"
      ],
      "text/latex": [
       "\\begin{enumerate*}\n",
       "\\item 'shot\\_number'\n",
       "\\item 'filename.x'\n",
       "\\item 'agbd'\n",
       "\\item 'sensitivity'\n",
       "\\item 'geolocation.sensitivity\\_a2.x'\n",
       "\\item 'lon\\_lowestmode.x'\n",
       "\\item 'agbd\\_se'\n",
       "\\item 'agbd\\_t\\_se'\n",
       "\\item 'elev\\_lowestmode'\n",
       "\\item 'lat\\_lowestmode.x'\n",
       "\\item 'agbd\\_t'\n",
       "\\item 'geom.x'\n",
       "\\item 'filename.y'\n",
       "\\item 'lat\\_lowestmode.y'\n",
       "\\item 'degrade\\_flag'\n",
       "\\item 'rx\\_processing\\_a2.toploc'\n",
       "\\item 'rh10'\n",
       "\\item 'rh50'\n",
       "\\item 'lon\\_lowestmode.y'\n",
       "\\item 'land\\_cover\\_data.leaf\\_off\\_flag'\n",
       "\\item 'rh70'\n",
       "\\item 'rh20'\n",
       "\\item 'rh80'\n",
       "\\item 'land\\_cover\\_data.region\\_class'\n",
       "\\item 'rh60'\n",
       "\\item 'rx\\_processing\\_a2.rx\\_algrunflag'\n",
       "\\item 'rx\\_assess.rx\\_maxamp'\n",
       "\\item 'land\\_cover\\_data.pft\\_class'\n",
       "\\item 'rh98'\n",
       "\\item 'rx\\_processing\\_a2.zcross'\n",
       "\\item 'geolocation.sensitivity\\_a2.y'\n",
       "\\item 'rh90'\n",
       "\\item 'rh40'\n",
       "\\item 'rh30'\n",
       "\\item 'surface\\_flag'\n",
       "\\item 'quality\\_flag'\n",
       "\\item 'geolocation.stale\\_return\\_flag'\n",
       "\\item 'land\\_cover\\_data.urban\\_proportion'\n",
       "\\item 'rx\\_assess.sd\\_corrected'\n",
       "\\item 'land\\_cover\\_data.landsat\\_water\\_persistence'\n",
       "\\item 'geom.y'\n",
       "\\end{enumerate*}\n"
      ],
      "text/markdown": [
       "1. 'shot_number'\n",
       "2. 'filename.x'\n",
       "3. 'agbd'\n",
       "4. 'sensitivity'\n",
       "5. 'geolocation.sensitivity_a2.x'\n",
       "6. 'lon_lowestmode.x'\n",
       "7. 'agbd_se'\n",
       "8. 'agbd_t_se'\n",
       "9. 'elev_lowestmode'\n",
       "10. 'lat_lowestmode.x'\n",
       "11. 'agbd_t'\n",
       "12. 'geom.x'\n",
       "13. 'filename.y'\n",
       "14. 'lat_lowestmode.y'\n",
       "15. 'degrade_flag'\n",
       "16. 'rx_processing_a2.toploc'\n",
       "17. 'rh10'\n",
       "18. 'rh50'\n",
       "19. 'lon_lowestmode.y'\n",
       "20. 'land_cover_data.leaf_off_flag'\n",
       "21. 'rh70'\n",
       "22. 'rh20'\n",
       "23. 'rh80'\n",
       "24. 'land_cover_data.region_class'\n",
       "25. 'rh60'\n",
       "26. 'rx_processing_a2.rx_algrunflag'\n",
       "27. 'rx_assess.rx_maxamp'\n",
       "28. 'land_cover_data.pft_class'\n",
       "29. 'rh98'\n",
       "30. 'rx_processing_a2.zcross'\n",
       "31. 'geolocation.sensitivity_a2.y'\n",
       "32. 'rh90'\n",
       "33. 'rh40'\n",
       "34. 'rh30'\n",
       "35. 'surface_flag'\n",
       "36. 'quality_flag'\n",
       "37. 'geolocation.stale_return_flag'\n",
       "38. 'land_cover_data.urban_proportion'\n",
       "39. 'rx_assess.sd_corrected'\n",
       "40. 'land_cover_data.landsat_water_persistence'\n",
       "41. 'geom.y'\n",
       "\n",
       "\n"
      ],
      "text/plain": [
       " [1] \"shot_number\"                              \n",
       " [2] \"filename.x\"                               \n",
       " [3] \"agbd\"                                     \n",
       " [4] \"sensitivity\"                              \n",
       " [5] \"geolocation.sensitivity_a2.x\"             \n",
       " [6] \"lon_lowestmode.x\"                         \n",
       " [7] \"agbd_se\"                                  \n",
       " [8] \"agbd_t_se\"                                \n",
       " [9] \"elev_lowestmode\"                          \n",
       "[10] \"lat_lowestmode.x\"                         \n",
       "[11] \"agbd_t\"                                   \n",
       "[12] \"geom.x\"                                   \n",
       "[13] \"filename.y\"                               \n",
       "[14] \"lat_lowestmode.y\"                         \n",
       "[15] \"degrade_flag\"                             \n",
       "[16] \"rx_processing_a2.toploc\"                  \n",
       "[17] \"rh10\"                                     \n",
       "[18] \"rh50\"                                     \n",
       "[19] \"lon_lowestmode.y\"                         \n",
       "[20] \"land_cover_data.leaf_off_flag\"            \n",
       "[21] \"rh70\"                                     \n",
       "[22] \"rh20\"                                     \n",
       "[23] \"rh80\"                                     \n",
       "[24] \"land_cover_data.region_class\"             \n",
       "[25] \"rh60\"                                     \n",
       "[26] \"rx_processing_a2.rx_algrunflag\"           \n",
       "[27] \"rx_assess.rx_maxamp\"                      \n",
       "[28] \"land_cover_data.pft_class\"                \n",
       "[29] \"rh98\"                                     \n",
       "[30] \"rx_processing_a2.zcross\"                  \n",
       "[31] \"geolocation.sensitivity_a2.y\"             \n",
       "[32] \"rh90\"                                     \n",
       "[33] \"rh40\"                                     \n",
       "[34] \"rh30\"                                     \n",
       "[35] \"surface_flag\"                             \n",
       "[36] \"quality_flag\"                             \n",
       "[37] \"geolocation.stale_return_flag\"            \n",
       "[38] \"land_cover_data.urban_proportion\"         \n",
       "[39] \"rx_assess.sd_corrected\"                   \n",
       "[40] \"land_cover_data.landsat_water_persistence\"\n",
       "[41] \"geom.y\"                                   "
      ]
     },
     "metadata": {},
     "output_type": "display_data"
    }
   ],
   "source": [
    "L2A_filtered_M <- merge(L4A_original, L2A_original, by = \"shot_number\", all.x = TRUE)\n",
    "nrow(L2A_filtered_M)\n",
    "colnames(L2A_filtered_M)\n"
   ]
  },
  {
   "cell_type": "code",
   "execution_count": 8,
   "id": "a004f4b7-f7fa-4e4e-b479-495fe8ee98c8",
   "metadata": {},
   "outputs": [],
   "source": [
    "xtable <- L2A_filtered_M[, c(\"shot_number\",\"lon_lowestmode.x\",\"lat_lowestmode.x\",\"elev_lowestmode\",\"agbd\",\"agbd_se\",\n",
    "                             \"land_cover_data.pft_class\",\"quality_flag\",\"rh10\",\"rh20\",\"rh30\",\"rh40\",\"rh50\",\"rh60\",\"rh70\",\"rh80\",\"rh90\",\"rh98\")]"
   ]
  },
  {
   "cell_type": "code",
   "execution_count": 9,
   "id": "02d23d4f-0fd8-457f-a605-1490b320ab1b",
   "metadata": {},
   "outputs": [],
   "source": [
    "write.csv(xtable, \"/projects/shared-buckets/leitoldv/gedi_subsetting_CAMBODIA/DATA/NPAs_L2A_filtered_M.csv\")\n"
   ]
  },
  {
   "cell_type": "code",
   "execution_count": null,
   "id": "13e473ad-0235-46f7-8e73-e0016b60a8af",
   "metadata": {},
   "outputs": [],
   "source": []
  }
 ],
 "metadata": {
  "kernelspec": {
   "display_name": "R [conda env:r-with-gdal]",
   "language": "R",
   "name": "conda-env-r-with-gdal-r"
  },
  "language_info": {
   "codemirror_mode": "r",
   "file_extension": ".r",
   "mimetype": "text/x-r-source",
   "name": "R",
   "pygments_lexer": "r",
   "version": "4.2.3"
  }
 },
 "nbformat": 4,
 "nbformat_minor": 5
}
