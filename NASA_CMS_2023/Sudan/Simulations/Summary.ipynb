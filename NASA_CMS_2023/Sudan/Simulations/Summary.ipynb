{
 "cells": [
  {
   "cell_type": "code",
   "execution_count": 1,
   "id": "f65d9358-24b5-4c5a-a3fb-33d9d402644b",
   "metadata": {},
   "outputs": [
    {
     "name": "stderr",
     "output_type": "stream",
     "text": [
      "terra 1.7.29\n",
      "\n",
      "Linking to GEOS 3.11.2, GDAL 3.7.0, PROJ 9.2.0; sf_use_s2() is TRUE\n",
      "\n"
     ]
    }
   ],
   "source": [
    "rm(list=ls())\n",
    "# install.packages(\"spBayes\")\n",
    "# conda install conda-forge::r-spBayes\n",
    "###############\n",
    "## libraries ##\n",
    "library(terra)\n",
    "library(spBayes)\n",
    "library(sf)"
   ]
  },
  {
   "cell_type": "code",
   "execution_count": 11,
   "id": "03e5323a-5ef7-437d-8191-0c489623f4cd",
   "metadata": {},
   "outputs": [],
   "source": [
    "## read in data ##\n",
    "dat <- vect(\"/projects/my-private-bucket/Data/NFI_data/Sudan/Sudan_NFI.gpkg\")\n",
    "strata <- vect(\"/projects/my-public-bucket/Data/NASA_CMS_2023/SUDAN/GEDI_Strata/Sudan_country.gpkg\")\n",
    "\n",
    "## extract strata at plot locations\n",
    "dat$Id <- dat$nfifrlgrid_Strata #extract(strata, dat)$Id\n",
    "\n",
    "## reproject data to UTM (can't use lat/long)\n",
    "dat <- project(dat, \"+proj=utm +zone=35 +a=6378249.145 +rf=293.465 +towgs84=-161,-14,205,0,0,0,0 +units=m +no_defs +type=crs\")\n",
    "strata <- project(strata, \"+proj=utm +zone=35 +a=6378249.145 +rf=293.465 +towgs84=-161,-14,205,0,0,0,0 +units=m +no_defs +type=crs\")\n",
    "\n",
    "## drop strata that are too sparse\n",
    "dat <- dat[dat$Id == 3 | dat$Id == 4,]\n",
    "strata <- strata[strata$Id == 3 | strata$Id == 4,]\n",
    "\n",
    "## isolate AG_Carbon plot values\n",
    "y <- dat$`AG_Carbon (Mg/ha)`\n",
    "\n",
    "y.3 <- y[dat$Id == 3]\n",
    "y.4 <- y[dat$Id == 4]"
   ]
  },
  {
   "cell_type": "code",
   "execution_count": 12,
   "id": "737b4c52-1fc6-4f1e-af16-162e695ba811",
   "metadata": {},
   "outputs": [],
   "source": [
    "################################\n",
    "## get design-based estimates ##\n",
    "\n",
    "## y\n",
    "y.bar.hat <- mean(y,na.rm=TRUE)\n",
    "\n",
    "s2 <- sum((y - y.bar.hat)^2)/length(y)\n",
    "\n",
    "y.se.hat <- sqrt(s2/length(y))\n",
    "\n",
    "y.db.ci <- y.bar.hat + c(-1,1)*1.96*y.se.hat\n",
    "\n",
    "## y.3\n",
    "y.3.bar.hat <- mean(y.3,na.rm=TRUE)\n",
    "s2 <- sum((y.3 - y.3.bar.hat)^2)/length(y.3)\n",
    "y.3.se.hat <- sqrt(s2/length(y.3))\n",
    "y.3.db.ci <- y.3.bar.hat + c(-1,1)*1.96*y.3.se.hat\n",
    "\n",
    "## y.4\n",
    "y.4.bar.hat <- mean(y.4,na.rm=TRUE)\n",
    "s2 <- sum((y.4 - y.4.bar.hat)^2)/length(y.4)\n",
    "y.4.se.hat <- sqrt(s2/length(y.4))\n",
    "y.4.db.ci <- y.4.bar.hat + c(-1,1)*1.96*y.4.se.hat"
   ]
  },
  {
   "cell_type": "code",
   "execution_count": 14,
   "id": "a045f8ef-9336-4b75-93c9-1affaf51f50f",
   "metadata": {},
   "outputs": [
    {
     "data": {
      "text/html": [
       "<table class=\"dataframe\">\n",
       "<caption>A data.frame: 2 × 4</caption>\n",
       "<thead>\n",
       "\t<tr><th></th><th scope=col>Estimate</th><th scope=col>Standard Error</th><th scope=col>95% lower bound</th><th scope=col>95% upper bound</th></tr>\n",
       "\t<tr><th></th><th scope=col>&lt;dbl&gt;</th><th scope=col>&lt;dbl&gt;</th><th scope=col>&lt;dbl&gt;</th><th scope=col>&lt;dbl&gt;</th></tr>\n",
       "</thead>\n",
       "<tbody>\n",
       "\t<tr><th scope=row>DB</th><td>3.537219</td><td>0.1704224</td><td>3.203191</td><td>3.871247</td></tr>\n",
       "\t<tr><th scope=row>GMB</th><td>2.593283</td><td>0.1662928</td><td>2.300136</td><td>2.931091</td></tr>\n",
       "</tbody>\n",
       "</table>\n"
      ],
      "text/latex": [
       "A data.frame: 2 × 4\n",
       "\\begin{tabular}{r|llll}\n",
       "  & Estimate & Standard Error & 95\\% lower bound & 95\\% upper bound\\\\\n",
       "  & <dbl> & <dbl> & <dbl> & <dbl>\\\\\n",
       "\\hline\n",
       "\tDB & 3.537219 & 0.1704224 & 3.203191 & 3.871247\\\\\n",
       "\tGMB & 2.593283 & 0.1662928 & 2.300136 & 2.931091\\\\\n",
       "\\end{tabular}\n"
      ],
      "text/markdown": [
       "\n",
       "A data.frame: 2 × 4\n",
       "\n",
       "| <!--/--> | Estimate &lt;dbl&gt; | Standard Error &lt;dbl&gt; | 95% lower bound &lt;dbl&gt; | 95% upper bound &lt;dbl&gt; |\n",
       "|---|---|---|---|---|\n",
       "| DB | 3.537219 | 0.1704224 | 3.203191 | 3.871247 |\n",
       "| GMB | 2.593283 | 0.1662928 | 2.300136 | 2.931091 |\n",
       "\n"
      ],
      "text/plain": [
       "    Estimate Standard Error 95% lower bound 95% upper bound\n",
       "DB  3.537219 0.1704224      3.203191        3.871247       \n",
       "GMB 2.593283 0.1662928      2.300136        2.931091       "
      ]
     },
     "metadata": {},
     "output_type": "display_data"
    },
    {
     "data": {
      "text/html": [
       "<table class=\"dataframe\">\n",
       "<caption>A data.frame: 2 × 4</caption>\n",
       "<thead>\n",
       "\t<tr><th></th><th scope=col>Estimate</th><th scope=col>Standard Error</th><th scope=col>95% lower bound</th><th scope=col>95% upper bound</th></tr>\n",
       "\t<tr><th></th><th scope=col>&lt;dbl&gt;</th><th scope=col>&lt;dbl&gt;</th><th scope=col>&lt;dbl&gt;</th><th scope=col>&lt;dbl&gt;</th></tr>\n",
       "</thead>\n",
       "<tbody>\n",
       "\t<tr><th scope=row>DB</th><td>0.5026583</td><td>0.06600570</td><td>0.3732871</td><td>0.6320295</td></tr>\n",
       "\t<tr><th scope=row>GMB</th><td>0.4960618</td><td>0.06360504</td><td>0.3758458</td><td>0.6206303</td></tr>\n",
       "</tbody>\n",
       "</table>\n"
      ],
      "text/latex": [
       "A data.frame: 2 × 4\n",
       "\\begin{tabular}{r|llll}\n",
       "  & Estimate & Standard Error & 95\\% lower bound & 95\\% upper bound\\\\\n",
       "  & <dbl> & <dbl> & <dbl> & <dbl>\\\\\n",
       "\\hline\n",
       "\tDB & 0.5026583 & 0.06600570 & 0.3732871 & 0.6320295\\\\\n",
       "\tGMB & 0.4960618 & 0.06360504 & 0.3758458 & 0.6206303\\\\\n",
       "\\end{tabular}\n"
      ],
      "text/markdown": [
       "\n",
       "A data.frame: 2 × 4\n",
       "\n",
       "| <!--/--> | Estimate &lt;dbl&gt; | Standard Error &lt;dbl&gt; | 95% lower bound &lt;dbl&gt; | 95% upper bound &lt;dbl&gt; |\n",
       "|---|---|---|---|---|\n",
       "| DB | 0.5026583 | 0.06600570 | 0.3732871 | 0.6320295 |\n",
       "| GMB | 0.4960618 | 0.06360504 | 0.3758458 | 0.6206303 |\n",
       "\n"
      ],
      "text/plain": [
       "    Estimate  Standard Error 95% lower bound 95% upper bound\n",
       "DB  0.5026583 0.06600570     0.3732871       0.6320295      \n",
       "GMB 0.4960618 0.06360504     0.3758458       0.6206303      "
      ]
     },
     "metadata": {},
     "output_type": "display_data"
    },
    {
     "data": {
      "text/html": [
       "<table class=\"dataframe\">\n",
       "<caption>A data.frame: 2 × 4</caption>\n",
       "<thead>\n",
       "\t<tr><th></th><th scope=col>Estimate</th><th scope=col>Standard Error</th><th scope=col>95% lower bound</th><th scope=col>95% upper bound</th></tr>\n",
       "\t<tr><th></th><th scope=col>&lt;dbl&gt;</th><th scope=col>&lt;dbl&gt;</th><th scope=col>&lt;dbl&gt;</th><th scope=col>&lt;dbl&gt;</th></tr>\n",
       "</thead>\n",
       "<tbody>\n",
       "\t<tr><th scope=row>DB</th><td>4.373433</td><td>0.2032622</td><td>3.975039</td><td>4.771827</td></tr>\n",
       "\t<tr><th scope=row>GMB</th><td>4.426135</td><td>0.1897615</td><td>4.051497</td><td>4.788860</td></tr>\n",
       "</tbody>\n",
       "</table>\n"
      ],
      "text/latex": [
       "A data.frame: 2 × 4\n",
       "\\begin{tabular}{r|llll}\n",
       "  & Estimate & Standard Error & 95\\% lower bound & 95\\% upper bound\\\\\n",
       "  & <dbl> & <dbl> & <dbl> & <dbl>\\\\\n",
       "\\hline\n",
       "\tDB & 4.373433 & 0.2032622 & 3.975039 & 4.771827\\\\\n",
       "\tGMB & 4.426135 & 0.1897615 & 4.051497 & 4.788860\\\\\n",
       "\\end{tabular}\n"
      ],
      "text/markdown": [
       "\n",
       "A data.frame: 2 × 4\n",
       "\n",
       "| <!--/--> | Estimate &lt;dbl&gt; | Standard Error &lt;dbl&gt; | 95% lower bound &lt;dbl&gt; | 95% upper bound &lt;dbl&gt; |\n",
       "|---|---|---|---|---|\n",
       "| DB | 4.373433 | 0.2032622 | 3.975039 | 4.771827 |\n",
       "| GMB | 4.426135 | 0.1897615 | 4.051497 | 4.788860 |\n",
       "\n"
      ],
      "text/plain": [
       "    Estimate Standard Error 95% lower bound 95% upper bound\n",
       "DB  4.373433 0.2032622      3.975039        4.771827       \n",
       "GMB 4.426135 0.1897615      4.051497        4.788860       "
      ]
     },
     "metadata": {},
     "output_type": "display_data"
    }
   ],
   "source": [
    "#######################\n",
    "## get gmb estimates ##\n",
    "\n",
    "## y\n",
    "load(\"/projects/my-public-bucket/Data/NASA_CMS_2023/SUDAN/GMB_Test/Simulations/sp.pred.RData\")\n",
    "\n",
    "y.ppd <- sp.pred$p.y.predictive.samples\n",
    "\n",
    "y.gmb.ppd <- colMeans(y.ppd)\n",
    "\n",
    "y.gmb.mn <- mean(y.gmb.ppd)\n",
    "y.gmb.sd <- sd(y.gmb.ppd)\n",
    "y.gmb.ci <- quantile(y.gmb.ppd, p = c(.025,.975))\n",
    "\n",
    "## y.3\n",
    "load(\"/projects/my-public-bucket/Data/NASA_CMS_2023/SUDAN/GMB_Test/Simulations/sp.pred.3.RData\")\n",
    "\n",
    "y.3.ppd <- sp.pred$p.y.predictive.samples\n",
    "\n",
    "y.3.gmb.ppd <- colMeans(y.3.ppd)\n",
    "\n",
    "y.3.gmb.mn <- mean(y.3.gmb.ppd)\n",
    "y.3.gmb.sd <- sd(y.3.gmb.ppd)\n",
    "y.3.gmb.ci <- quantile(y.3.gmb.ppd, p = c(.025,.975))\n",
    "\n",
    "## y.4\n",
    "load(\"/projects/my-public-bucket/Data/NASA_CMS_2023/SUDAN/GMB_Test/Simulations/sp.pred.4.RData\")\n",
    "\n",
    "y.4.ppd <- sp.pred$p.y.predictive.samples\n",
    "\n",
    "y.4.gmb.ppd <- colMeans(y.4.ppd)\n",
    "\n",
    "y.4.gmb.mn <- mean(y.4.gmb.ppd)\n",
    "y.4.gmb.sd <- sd(y.4.gmb.ppd)\n",
    "y.4.gmb.ci <- quantile(y.4.gmb.ppd, p = c(.025,.975))\n",
    "\n",
    "\n",
    "\n",
    "y.results <- as.data.frame(rbind(c(y.bar.hat,y.se.hat,y.db.ci),c(y.gmb.mn,y.gmb.sd,y.gmb.ci)))\n",
    "rownames(y.results) <- c(\"DB\", \"GMB\")\n",
    "names(y.results) <- c(\"Estimate\", \"Standard Error\",\"95% lower bound\", \"95% upper bound\")\n",
    "\n",
    "y.results\n",
    "\n",
    "y.3.results <- as.data.frame(rbind(c(y.3.bar.hat,y.3.se.hat,y.3.db.ci),c(y.3.gmb.mn,y.3.gmb.sd,y.3.gmb.ci)))\n",
    "rownames(y.3.results) <- c(\"DB\", \"GMB\")\n",
    "names(y.3.results) <- c(\"Estimate\", \"Standard Error\",\"95% lower bound\", \"95% upper bound\")\n",
    "\n",
    "y.3.results\n",
    "\n",
    "y.4.results <- as.data.frame(rbind(c(y.4.bar.hat,y.4.se.hat,y.4.db.ci),c(y.4.gmb.mn,y.4.gmb.sd,y.4.gmb.ci)))\n",
    "rownames(y.4.results) <- c(\"DB\", \"GMB\")\n",
    "names(y.4.results) <- c(\"Estimate\", \"Standard Error\",\"95% lower bound\", \"95% upper bound\")\n",
    "\n",
    "y.4.results"
   ]
  },
  {
   "cell_type": "code",
   "execution_count": null,
   "id": "c5438438-d49f-4720-bc24-a1777fe4e8b6",
   "metadata": {},
   "outputs": [],
   "source": []
  }
 ],
 "metadata": {
  "kernelspec": {
   "display_name": "R",
   "language": "R",
   "name": "ir"
  },
  "language_info": {
   "codemirror_mode": "r",
   "file_extension": ".r",
   "mimetype": "text/x-r-source",
   "name": "R",
   "pygments_lexer": "r",
   "version": "4.2.3"
  }
 },
 "nbformat": 4,
 "nbformat_minor": 5
}
