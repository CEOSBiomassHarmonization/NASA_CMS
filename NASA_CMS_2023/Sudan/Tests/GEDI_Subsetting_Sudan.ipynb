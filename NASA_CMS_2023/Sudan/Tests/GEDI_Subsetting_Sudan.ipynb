{
 "cells": [
  {
   "cell_type": "markdown",
   "id": "f3c865be-f3c0-486d-96f6-f549464f9b11",
   "metadata": {},
   "source": [
    "### For loops to pull L2A, L2B, L4A as needed"
   ]
  },
  {
   "cell_type": "code",
   "execution_count": 14,
   "id": "175a4417-2226-45f1-bcdd-b6aafd7460e6",
   "metadata": {
    "tags": []
   },
   "outputs": [
    {
     "name": "stdout",
     "output_type": "stream",
     "text": [
      "Requirement already satisfied: geopandas in /opt/conda/envs/pangeo/lib/python3.10/site-packages (0.14.2)\n",
      "Requirement already satisfied: fiona>=1.8.21 in /opt/conda/envs/pangeo/lib/python3.10/site-packages (from geopandas) (1.9.4)\n",
      "Requirement already satisfied: packaging in /opt/conda/envs/pangeo/lib/python3.10/site-packages (from geopandas) (24.0)\n",
      "Requirement already satisfied: pandas>=1.4.0 in /opt/conda/envs/pangeo/lib/python3.10/site-packages (from geopandas) (2.1.4)\n",
      "Requirement already satisfied: pyproj>=3.3.0 in /opt/conda/envs/pangeo/lib/python3.10/site-packages (from geopandas) (3.5.0)\n",
      "Requirement already satisfied: shapely>=1.8.0 in /opt/conda/envs/pangeo/lib/python3.10/site-packages (from geopandas) (2.0.1)\n",
      "Requirement already satisfied: attrs>=19.2.0 in /opt/conda/envs/pangeo/lib/python3.10/site-packages (from fiona>=1.8.21->geopandas) (23.2.0)\n",
      "Requirement already satisfied: certifi in /opt/conda/envs/pangeo/lib/python3.10/site-packages (from fiona>=1.8.21->geopandas) (2024.2.2)\n",
      "Requirement already satisfied: click~=8.0 in /opt/conda/envs/pangeo/lib/python3.10/site-packages (from fiona>=1.8.21->geopandas) (8.1.7)\n",
      "Requirement already satisfied: click-plugins>=1.0 in /opt/conda/envs/pangeo/lib/python3.10/site-packages (from fiona>=1.8.21->geopandas) (1.1.1)\n",
      "Requirement already satisfied: cligj>=0.5 in /opt/conda/envs/pangeo/lib/python3.10/site-packages (from fiona>=1.8.21->geopandas) (0.7.2)\n",
      "Requirement already satisfied: six in /opt/conda/envs/pangeo/lib/python3.10/site-packages (from fiona>=1.8.21->geopandas) (1.16.0)\n",
      "Requirement already satisfied: numpy<2,>=1.22.4 in /opt/conda/envs/pangeo/lib/python3.10/site-packages (from pandas>=1.4.0->geopandas) (1.26.3)\n",
      "Requirement already satisfied: python-dateutil>=2.8.2 in /opt/conda/envs/pangeo/lib/python3.10/site-packages (from pandas>=1.4.0->geopandas) (2.9.0)\n",
      "Requirement already satisfied: pytz>=2020.1 in /opt/conda/envs/pangeo/lib/python3.10/site-packages (from pandas>=1.4.0->geopandas) (2024.1)\n",
      "Requirement already satisfied: tzdata>=2022.1 in /opt/conda/envs/pangeo/lib/python3.10/site-packages (from pandas>=1.4.0->geopandas) (2024.1)\n",
      "\u001b[33mWARNING: Running pip as the 'root' user can result in broken permissions and conflicting behaviour with the system package manager. It is recommended to use a virtual environment instead: https://pip.pypa.io/warnings/venv\u001b[0m\u001b[33m\n",
      "\u001b[0mRequirement already satisfied: contextily in /opt/conda/envs/pangeo/lib/python3.10/site-packages (1.6.2)\n",
      "Requirement already satisfied: geopy in /opt/conda/envs/pangeo/lib/python3.10/site-packages (from contextily) (2.4.1)\n",
      "Requirement already satisfied: matplotlib in /opt/conda/envs/pangeo/lib/python3.10/site-packages (from contextily) (3.7.3)\n",
      "Requirement already satisfied: mercantile in /opt/conda/envs/pangeo/lib/python3.10/site-packages (from contextily) (1.2.1)\n",
      "Requirement already satisfied: pillow in /opt/conda/envs/pangeo/lib/python3.10/site-packages (from contextily) (10.0.0)\n",
      "Requirement already satisfied: rasterio in /opt/conda/envs/pangeo/lib/python3.10/site-packages (from contextily) (1.3.7)\n",
      "Requirement already satisfied: requests in /opt/conda/envs/pangeo/lib/python3.10/site-packages (from contextily) (2.31.0)\n",
      "Requirement already satisfied: joblib in /opt/conda/envs/pangeo/lib/python3.10/site-packages (from contextily) (1.4.0)\n",
      "Requirement already satisfied: xyzservices in /opt/conda/envs/pangeo/lib/python3.10/site-packages (from contextily) (2024.4.0)\n",
      "Requirement already satisfied: geographiclib<3,>=1.52 in /opt/conda/envs/pangeo/lib/python3.10/site-packages (from geopy->contextily) (2.0)\n",
      "Requirement already satisfied: contourpy>=1.0.1 in /opt/conda/envs/pangeo/lib/python3.10/site-packages (from matplotlib->contextily) (1.2.1)\n",
      "Requirement already satisfied: cycler>=0.10 in /opt/conda/envs/pangeo/lib/python3.10/site-packages (from matplotlib->contextily) (0.12.1)\n",
      "Requirement already satisfied: fonttools>=4.22.0 in /opt/conda/envs/pangeo/lib/python3.10/site-packages (from matplotlib->contextily) (4.51.0)\n",
      "Requirement already satisfied: kiwisolver>=1.0.1 in /opt/conda/envs/pangeo/lib/python3.10/site-packages (from matplotlib->contextily) (1.4.5)\n",
      "Requirement already satisfied: numpy<2,>=1.20 in /opt/conda/envs/pangeo/lib/python3.10/site-packages (from matplotlib->contextily) (1.26.3)\n",
      "Requirement already satisfied: packaging>=20.0 in /opt/conda/envs/pangeo/lib/python3.10/site-packages (from matplotlib->contextily) (24.0)\n",
      "Requirement already satisfied: pyparsing>=2.3.1 in /opt/conda/envs/pangeo/lib/python3.10/site-packages (from matplotlib->contextily) (3.1.2)\n",
      "Requirement already satisfied: python-dateutil>=2.7 in /opt/conda/envs/pangeo/lib/python3.10/site-packages (from matplotlib->contextily) (2.9.0)\n",
      "Requirement already satisfied: click>=3.0 in /opt/conda/envs/pangeo/lib/python3.10/site-packages (from mercantile->contextily) (8.1.7)\n",
      "Requirement already satisfied: affine in /opt/conda/envs/pangeo/lib/python3.10/site-packages (from rasterio->contextily) (2.4.0)\n",
      "Requirement already satisfied: attrs in /opt/conda/envs/pangeo/lib/python3.10/site-packages (from rasterio->contextily) (23.2.0)\n",
      "Requirement already satisfied: certifi in /opt/conda/envs/pangeo/lib/python3.10/site-packages (from rasterio->contextily) (2024.2.2)\n",
      "Requirement already satisfied: cligj>=0.5 in /opt/conda/envs/pangeo/lib/python3.10/site-packages (from rasterio->contextily) (0.7.2)\n",
      "Requirement already satisfied: snuggs>=1.4.1 in /opt/conda/envs/pangeo/lib/python3.10/site-packages (from rasterio->contextily) (1.4.7)\n",
      "Requirement already satisfied: click-plugins in /opt/conda/envs/pangeo/lib/python3.10/site-packages (from rasterio->contextily) (1.1.1)\n",
      "Requirement already satisfied: setuptools in /opt/conda/envs/pangeo/lib/python3.10/site-packages (from rasterio->contextily) (69.5.1)\n",
      "Requirement already satisfied: charset-normalizer<4,>=2 in /opt/conda/envs/pangeo/lib/python3.10/site-packages (from requests->contextily) (3.3.2)\n",
      "Requirement already satisfied: idna<4,>=2.5 in /opt/conda/envs/pangeo/lib/python3.10/site-packages (from requests->contextily) (3.7)\n",
      "Requirement already satisfied: urllib3<3,>=1.21.1 in /opt/conda/envs/pangeo/lib/python3.10/site-packages (from requests->contextily) (1.26.18)\n",
      "Requirement already satisfied: six>=1.5 in /opt/conda/envs/pangeo/lib/python3.10/site-packages (from python-dateutil>=2.7->matplotlib->contextily) (1.16.0)\n",
      "\u001b[33mWARNING: Running pip as the 'root' user can result in broken permissions and conflicting behaviour with the system package manager. It is recommended to use a virtual environment instead: https://pip.pypa.io/warnings/venv\u001b[0m\u001b[33m\n",
      "\u001b[0m"
     ]
    }
   ],
   "source": [
    "!pip install geopandas\n",
    "!pip install contextily"
   ]
  },
  {
   "cell_type": "code",
   "execution_count": 15,
   "id": "19b8daec",
   "metadata": {
    "tags": []
   },
   "outputs": [],
   "source": [
    "from maap.maap import MAAP\n",
    "maap = MAAP(maap_host='api.maap-project.org')\n",
    "\n",
    "def job_status_for(job_id: str) -> str:\n",
    "    response = maap.getJobStatus(job_id)\n",
    "    response.raise_for_status()\n",
    "   \n",
    "    root = ET.fromstring(response.text)\n",
    "    status_element = root.find('.//{http://www.opengis.net/wps/2.0}Status')\n",
    "   \n",
    "    return status_element.text\n",
    "\n",
    "def job_result_for(job_id: str) -> str:\n",
    "    response = maap.getJobResult(job_id)\n",
    "    response.raise_for_status()\n",
    "   \n",
    "    root = ET.fromstring(response.text)\n",
    "\n",
    "    return root.find('.//{http://www.opengis.net/wps/2.0}Data').text\n",
    "\n",
    "def to_job_output_dir(job_result_url: str) -> str:\n",
    "    url_path = urlparse(job_result_url).path\n",
    "    # The S3 Key is the URL path excluding the `/{username}` prefix\n",
    "    s3_key = \"/\".join(url_path.split(\"/\")[2:])\n",
    "\n",
    "    return f\"/projects/my-private-bucket/{s3_key}\"\n",
    "\n",
    "def wait_for_job(job_id: str) -> str:\n",
    "    return job_status_for(job_id)"
   ]
  },
  {
   "cell_type": "code",
   "execution_count": 16,
   "id": "8dfe988a",
   "metadata": {
    "tags": []
   },
   "outputs": [],
   "source": [
    "#pip install geopandas\n",
    "#pip install shapely\n",
    "#Import numpy for making column inputs easier\n",
    "import numpy as np\n",
    "import geopandas as gpd\n",
    "import backoff\n",
    "import shapely\n",
    "import glob\n",
    "import os"
   ]
  },
  {
   "cell_type": "code",
   "execution_count": 17,
   "id": "4c6f1642-ce8d-400f-aa52-e81450dc86dc",
   "metadata": {
    "tags": []
   },
   "outputs": [],
   "source": [
    "import xml.etree.ElementTree as ET\n",
    "from urllib.parse import urlparse\n",
    "\n",
    "def job_status_for(job_id: str) -> str:\n",
    "    response = maap.getJobStatus(job_id)\n",
    "    response.raise_for_status()\n",
    "    \n",
    "    root = ET.fromstring(response.text)\n",
    "    status_element = root.find('.//{http://www.opengis.net/wps/2.0}Status')\n",
    "    \n",
    "    return status_element.text\n",
    "\n",
    "def job_result_for(job_id: str) -> str:\n",
    "    response = maap.getJobResult(job_id)\n",
    "    response.raise_for_status()\n",
    "    \n",
    "    root = ET.fromstring(response.text)\n",
    "\n",
    "    return root.find('.//{http://www.opengis.net/wps/2.0}Data').text\n",
    "\n",
    "def to_job_output_dir(job_result_url: str) -> str:\n",
    "    url_path = urlparse(job_result_url).path\n",
    "    # The S3 Key is the URL path excluding the `/{username}` prefix\n",
    "    s3_key = \"/\".join(url_path.split(\"/\")[2:])\n",
    "\n",
    "    return f\"/projects/my-private-bucket/{s3_key}\""
   ]
  },
  {
   "cell_type": "code",
   "execution_count": 18,
   "id": "77cd9744-0aa1-4875-a906-1f6d51fac51e",
   "metadata": {
    "tags": []
   },
   "outputs": [],
   "source": [
    "# # Define the folder path containing the tiles\n",
    "# #folder_path = \"/projects/my-public-bucket/AOIs/GHANA/\"\n",
    "# folder_path = \"/projects/my-public-bucket/Data/NASA_CMS_2023/WA_15_countries/\"\n",
    "\n",
    "# # Create a list to store the GeoPackage file paths\n",
    "# json_files = []\n",
    "\n",
    "# # Use glob to find all .gpkg files in the folder\n",
    "# #pattern = os.path.join(folder_path, '*.geojson')\n",
    "# pattern = os.path.join(folder_path, 'Mali_South.gpkg')\n",
    "# json_files = glob.glob(pattern)\n",
    "\n",
    "# # Print the list of GeoPackage file paths\n",
    "# #for file_path in gpkg_files:\n",
    "#  #   print(file_path)\n",
    "\n",
    "# #json_files = [x.replace('/projects/my-public-bucket/AOIs/GHANA/',\n",
    "# #                        'https://maap-ops-workspace.s3.amazonaws.com/shared/leitoldv/AOIs/GHANA/') for x in json_files]\n",
    "# json_files = [x.replace('/projects/my-public-bucket/Data/NASA_CMS_2023/WA_15_countries/',\n",
    "#                         'https://maap-ops-workspace.s3.amazonaws.com/shared/nehajo88/Data/NASA_CMS_2023/WA_15_countries/') for x in json_files]\n",
    "\n",
    "# print(len(json_files))\n",
    "# print(json_files)\n",
    "# AOIs = json_files\n",
    "# AOIs[0]"
   ]
  },
  {
   "cell_type": "code",
   "execution_count": 19,
   "id": "8eeb7754-293f-428b-91a4-b708075fef4b",
   "metadata": {
    "tags": []
   },
   "outputs": [],
   "source": [
    "# # OPTIONAL # visually verify the AOI\n",
    "# aoi = AOIs[0]\n",
    "\n",
    "# try:\n",
    "#     import geopandas as gpd\n",
    "#     import contextily as ctx\n",
    "# except:\n",
    "#     print(\n",
    "#         \"If you wish to visually verify your AOI, \"\n",
    "#         \"you must install the `geopandas` and `contextily` packages.\"\n",
    "#     )\n",
    "# else:\n",
    "#     aoi_gdf = gpd.read_file(aoi)\n",
    "#     aoi_epsg4326 = aoi_gdf.to_crs(epsg=4326)\n",
    "#     ax = aoi_epsg4326.plot(figsize=(10, 5), alpha=0.3, edgecolor=\"red\")\n",
    "#     ctx.add_basemap(ax, crs=4326)"
   ]
  },
  {
   "cell_type": "code",
   "execution_count": 7,
   "id": "5adc4e72-38fa-4971-a819-275c3598963b",
   "metadata": {
    "tags": []
   },
   "outputs": [],
   "source": [
    "# aoi_name = os.path.basename(AOIs[0]).split('.')[0]\n",
    "# aoi_name"
   ]
  },
  {
   "cell_type": "code",
   "execution_count": 24,
   "id": "e59bab5d-9978-4684-9356-5f071f695288",
   "metadata": {
    "tags": []
   },
   "outputs": [
    {
     "name": "stdout",
     "output_type": "stream",
     "text": [
      "1\n",
      "['https://maap-ops-workspace.s3.amazonaws.com/shared/nehajo88/Data/NASA_CMS_2023/SUDAN/GEDI_Strata/Id_8.gpkg']\n"
     ]
    },
    {
     "data": {
      "text/plain": [
       "'https://maap-ops-workspace.s3.amazonaws.com/shared/nehajo88/Data/NASA_CMS_2023/SUDAN/GEDI_Strata/Id_8.gpkg'"
      ]
     },
     "execution_count": 24,
     "metadata": {},
     "output_type": "execute_result"
    }
   ],
   "source": [
    "# folder_path = \"/projects/my-public-bucket/Data/NASA_CMS_2023/MONGOLIA/GRID/\"\n",
    "# json_files = []\n",
    "# pattern = os.path.join(folder_path, '*.gpkg')\n",
    "# json_files = glob.glob(pattern)\n",
    "# json_files = [ x for x in json_files if \"L2A\" not in x ]\n",
    "# json_files = [x.replace('/projects/my-public-bucket/Data/NASA_CMS_2023/MONGOLIA/GRID/',\n",
    "#                         'https://maap-ops-workspace.s3.amazonaws.com/shared/nehajo88/Data/NASA_CMS_2023/MONGOLIA/GRID/') for x in json_files]\n",
    "# print(len(json_files))\n",
    "# print(json_files)\n",
    "# AOIs = json_files\n",
    "# AOIs[0]\n",
    "\n",
    "folder_path = \"/projects/my-public-bucket/Data/NASA_CMS_2023/SUDAN/GEDI_Strata/\"\n",
    "json_files = []\n",
    "pattern = os.path.join(folder_path, 'Id_8*.gpkg')\n",
    "json_files = glob.glob(pattern)\n",
    "json_files = [ x for x in json_files if \"L2A\" not in x ]\n",
    "json_files = [x.replace('/projects/my-public-bucket/Data/NASA_CMS_2023/SUDAN/GEDI_Strata/',\n",
    "                        'https://maap-ops-workspace.s3.amazonaws.com/shared/nehajo88/Data/NASA_CMS_2023/SUDAN/GEDI_Strata/') for x in json_files]\n",
    "print(len(json_files))\n",
    "print(json_files)\n",
    "AOIs = json_files\n",
    "AOIs[0]"
   ]
  },
  {
   "cell_type": "code",
   "execution_count": 25,
   "id": "d1148dc4-6335-452f-91eb-9215504ed072",
   "metadata": {
    "tags": []
   },
   "outputs": [
    {
     "name": "stdout",
     "output_type": "stream",
     "text": [
      "Thanks, I'll run the GEDI L4A subsetter for Id_8!!\n"
     ]
    }
   ],
   "source": [
    "#Set up run to pull products for all GEDI products simultaneously #To run for only 1 or 2 products, change \"PRODUCTS\"\n",
    "\n",
    "PRODUCTS = [\"L4A\"] # ,\"L2A\",\"L2B\"]  #To run for only 1 or 2 products, change \"PRODUCTS\"\n",
    "\n",
    "AOIs = json_files\n",
    "#AOIs = [AOIs[2]]\n",
    "\n",
    "for each_aoi in AOIs: \n",
    "    if \"L4A\" in PRODUCTS: \n",
    "        aoi_name = os.path.basename(each_aoi).split('.')[0]\n",
    "        print(f\"Thanks, I'll run the GEDI L4A subsetter for {aoi_name}!!\")\n",
    "        #aoi_url = each_aoi\n",
    "        inputs = dict(\n",
    "           aoi=each_aoi,\n",
    "           doi=\"L4A\",\n",
    "           lat=\"lat_lowestmode\",\n",
    "           lon=\"lon_lowestmode\",\n",
    "           beams=\"all\",\n",
    "           columns=\"shot_number,lat_lowestmode,lon_lowestmode,elev_lowestmode,agbd,agbd_se,agbd_t,agbd_t_se,sensitivity,geolocation/sensitivity_a2\",\n",
    "           query=\"l2_quality_flag == 1 and l4_quality_flag == 1 and sensitivity > 0.95\", #  and geolocation/sensitivity_a2 > 0.95\",\n",
    "           limit = 100000,\n",
    "           #temporal=\"-\",\n",
    "           output=f\"{os.path.basename(each_aoi).split('.')[0]}_SUD_L4A.gpkg\"\n",
    "        )\n",
    "        result = maap.submitJob(\n",
    "            identifier=\"gedi-subset\",\n",
    "            algo_id=\"gedi-subset\",\n",
    "            version=\"0.9.0\",\n",
    "            queue=\"maap-dps-worker-32vcpu-64gb\",\n",
    "            username=\"nehajo88\",\n",
    "            **inputs\n",
    "        )\n",
    "        inputs\n",
    "        job_id = result.id\n",
    "        job_id or result\n",
    "\n",
    "    if \"L2B\" in PRODUCTS: \n",
    "        aoi_name = os.path.basename(each_aoi).split('.')[0]\n",
    "        print(f\"Thanks, I'll run the GEDI L2B subsetter for {aoi_name}!!\")\n",
    "        #aoi_url = each_aoi\n",
    "        inputs = dict(\n",
    "           aoi=each_aoi,\n",
    "           doi=\"L2B\",\n",
    "           lat=\"geolocation/lat_lowestmode\",\n",
    "           lon=\"geolocation/lon_lowestmode\",\n",
    "           beams=\"all\",\n",
    "           columns=\"shot_number,geolocation/lon_lowestmode,geolocation/lat_lowestmode,rh100,l2b_quality_flag,sensitivity,cover,land_cover_data/landsat_treecover, pai,fhd_normal,\"+\",\".join(variables),\n",
    "           query=\"l2a_quality_flag == 1 and l2b_quality_flag == 1 and sensitivity > 0.95\",\n",
    "           limit = 100000,\n",
    "           #temporal=\"-\",\n",
    "           output=f\"{os.path.basename(each_aoi).split('.')[0]}_SUD_L2B.gpkg\"\n",
    "        )\n",
    "        result = maap.submitJob(\n",
    "            identifier=\"gedi-subset\",\n",
    "            algo_id=\"gedi-subset\",\n",
    "            version=\"0.9.0\",\n",
    "            queue=\"maap-dps-worker-32vcpu-64gb\",\n",
    "            username=\"nehajo88\",\n",
    "            **inputs\n",
    "        )\n",
    "        inputs\n",
    "        job_id = result.id\n",
    "        job_id or result\n",
    "        \n",
    "        \n",
    "    if \"L2A\" in PRODUCTS: \n",
    "        aoi_name = os.path.basename(each_aoi).split('.')[0]\n",
    "        print(f\"Thanks, I'll run the GEDI L2A subsetter for {aoi_name}!!\")\n",
    "        #aoi_url = each_aoi\n",
    "        inputs = dict(\n",
    "           aoi=each_aoi,\n",
    "           doi=\"L2A\",\n",
    "           lat=\"lat_lowestmode\",\n",
    "           lon=\"lon_lowestmode\",\n",
    "           beams=\"all\",\n",
    "           #columns=\"shot_number,lon_lowestmode,lat_lowestmode,rh25,rh50,rh75,rh90,rh98,geolocation/sensitivity_a2\",\n",
    "           columns=\"shot_number,lon_lowestmode,lat_lowestmode,rh10,rh20,rh30,rh40,rh50,rh60,rh70,rh80,rh90,rh98,quality_flag,rx_processing_a2/rx_algrunflag,rx_processing_a2/zcross,rx_processing_a2/toploc,geolocation/sensitivity_a2,degrade_flag,land_cover_data/pft_class,land_cover_data/region_class,surface_flag,rx_assess/rx_maxamp,rx_assess/sd_corrected,geolocation/stale_return_flag,land_cover_data/leaf_off_flag,land_cover_data/landsat_water_persistence,land_cover_data/urban_proportion\",\n",
    "           #columns=\"all\",\n",
    "           query=\"quality_flag == 1\",\n",
    "           limit = 100000,\n",
    "           #temporal=\"-\",\n",
    "           output=f\"{os.path.basename(each_aoi).split('.')[0]}_SUD_L2A.gpkg\"\n",
    "        )\n",
    "        result = maap.submitJob(\n",
    "            identifier=\"gedi-subset\",\n",
    "            algo_id=\"gedi-subset\",\n",
    "            version=\"0.9.0\",\n",
    "            queue=\"maap-dps-worker-32vcpu-64gb\",\n",
    "            username=\"nehajo88\",\n",
    "            **inputs\n",
    "        )\n",
    "        inputs\n",
    "        job_id = result.id\n",
    "        job_id or result\n",
    "        "
   ]
  },
  {
   "cell_type": "code",
   "execution_count": 29,
   "id": "483f2aaf-990f-4461-a3f0-e81815885cec",
   "metadata": {
    "tags": []
   },
   "outputs": [
    {
     "name": "stdout",
     "output_type": "stream",
     "text": [
      "/projects/my-private-bucket/dps_output/gedi-subset/0.9.0/gedi-subset/2024/11/02/02/58/20/750471/Id_6_SUD_L4A.gpkg\n",
      "/projects/my-public-bucket/Data/NASA_CMS_2023/SUDAN/Id_6_SUD_L4A.gpkg\n",
      "Moving Id_6_SUD_L4A.gpkg...\n",
      "/projects/my-private-bucket/dps_output/gedi-subset/0.9.0/gedi-subset/2024/11/02/03/01/26/652492/Id_8_SUD_L4A.gpkg\n",
      "/projects/my-public-bucket/Data/NASA_CMS_2023/SUDAN/Id_8_SUD_L4A.gpkg\n",
      "Moving Id_8_SUD_L4A.gpkg...\n"
     ]
    }
   ],
   "source": [
    "import subprocess\n",
    "\n",
    "root_dir = \"/projects/my-private-bucket/dps_output/gedi-subset/0.9.0/gedi-subset/2024/11/\"  # Can now set name\n",
    "out_dir = \"/projects/my-public-bucket/Data/NASA_CMS_2023/SUDAN/\"\n",
    "\n",
    "for dirName, subdirList, fileList in os.walk(root_dir):\n",
    "#    print(\"Found directory: %s\" % dirName)\n",
    "    for fname in fileList:\n",
    "        if fname.endswith(\"_SUD_L2A.gpkg\") or fname.endswith(\"_SUD_L4A.gpkg\"):\n",
    "#        if fname.endswith(\"NPAs_L4A.gpkg\"):\n",
    "            source_path = os.path.join(dirName, fname)\n",
    "            print(source_path)\n",
    "            target_path = os.path.join(out_dir, fname)\n",
    "            print(target_path)\n",
    "            if not os.path.exists(target_path):  # Check if file doesn’t exist in target directory\n",
    "                print(f\"Moving {fname}...\")\n",
    "                subprocess.call(['mv', source_path, target_path])\n",
    "            else:\n",
    "                print(f\"{fname} already exists in the target directory. Skipping...\")"
   ]
  },
  {
   "cell_type": "code",
   "execution_count": 1,
   "id": "03c1abb1-ba73-40f2-9fb0-2fef90c2f4c3",
   "metadata": {},
   "outputs": [],
   "source": [
    "import rasterio\n",
    "import os\n",
    "import argparse\n",
    "from rasterio.io import MemoryFile\n",
    "from rasterio.rio import options\n",
    "from rasterio.shutil import copy, delete\n",
    "from rasterio.vrt import WarpedVRT\n",
    "from rio_cogeo.cogeo import cog_translate\n",
    "from rio_cogeo.profiles import cog_profiles\n",
    "from rasterio.transform import from_origin\n",
    "from rasterio.crs import CRS\n",
    "import pandas as pd\n",
    "import geopandas as gpd\n",
    "import numpy as np"
   ]
  },
  {
   "cell_type": "code",
   "execution_count": 27,
   "id": "949f3ade-66c6-4afb-85c6-da2cfbd6f93e",
   "metadata": {},
   "outputs": [],
   "source": [
    "L2A = gpd.read_file(os.path.join(FOLDER,fname))\n",
    "L2A.drop('geometry',axis=1).to_csv(r'/projects/my-public-bucket/Data/NASA_CMS_2023/SUDAN/Id_3_SUD_L4A.csv') "
   ]
  },
  {
   "cell_type": "code",
   "execution_count": null,
   "id": "976f302b-1b2b-4059-9960-8bf9e9cf112d",
   "metadata": {},
   "outputs": [],
   "source": [
    "L2A = gpd.read_file('/projects/my-public-bucket/Data/NASA_CMS_2023/SUDAN/Id_8_SUD_L4A.gpkg')\n",
    "L2A.drop('geometry',axis=1).to_csv(r'/projects/my-public-bucket/Data/NASA_CMS_2023/SUDAN/Id_8_SUD_L4A.csv') "
   ]
  },
  {
   "cell_type": "code",
   "execution_count": null,
   "id": "5e345a0a-23bb-4cc0-be1a-fd921dbbd09f",
   "metadata": {
    "tags": []
   },
   "outputs": [],
   "source": [
    "L2A = gpd.read_file('/projects/my-public-bucket/Data/NASA_CMS_2023/SUDAN/Id_6_SUD_L4A.gpkg')\n",
    "L2A.drop('geometry',axis=1).to_csv(r'/projects/my-public-bucket/Data/NASA_CMS_2023/SUDAN/Id_6_SUD_L4A.csv') "
   ]
  },
  {
   "cell_type": "code",
   "execution_count": 3,
   "id": "b9f12a71-eae3-44fe-b147-9fd6443db0bb",
   "metadata": {},
   "outputs": [],
   "source": [
    "L2A = gpd.read_file('/projects/my-public-bucket/Data/NASA_CMS_2023/SUDAN/Id_7_SUD_L4A.gpkg')\n",
    "L2A.drop('geometry',axis=1).to_csv(r'/projects/my-public-bucket/Data/NASA_CMS_2023/SUDAN/Id_7_SUD_L4A.csv') "
   ]
  },
  {
   "cell_type": "code",
   "execution_count": null,
   "id": "b147007b-d2a3-47c1-9b79-a2b50db0ba9a",
   "metadata": {
    "tags": []
   },
   "outputs": [],
   "source": [
    "import rasterio\n",
    "import os\n",
    "import argparse\n",
    "from rasterio.io import MemoryFile\n",
    "from rasterio.rio import options\n",
    "from rasterio.shutil import copy, delete\n",
    "from rasterio.vrt import WarpedVRT\n",
    "from rio_cogeo.cogeo import cog_translate\n",
    "from rio_cogeo.profiles import cog_profiles\n",
    "from rasterio.transform import from_origin\n",
    "from rasterio.crs import CRS\n",
    "import pandas as pd\n",
    "import geopandas as gpd\n",
    "import numpy as np\n",
    "\n",
    "FOLDER = \"/projects/my-public-bucket/Data/NASA_CMS_2023/SUDAN/\"\n",
    "\n",
    "for dirName, subdirList, fileList in os.walk(FOLDER):\n",
    "    for fname in fileList:\n",
    "        if fname.endswith(\"_SUD_L4A.csv\"):\n",
    "            OUTFILE = os.path.join(FOLDER,fname.split('.')[0] + '.tif')\n",
    "            print(OUTFILE)\n",
    "            if os.path.exists(OUTFILE): \n",
    "                os.remove(OUTFILE)\n",
    "            L2A = pd.read_csv(os.path.join(FOLDER,fname))\n",
    "            \n",
    "            # L2A = gpd.read_file(os.path.join(FOLDER,fname))\n",
    "            # L2A = L2A.drop('geometry',axis=1)\n",
    "            \n",
    "            x = L2A[\"lon_lowestmode\"]\n",
    "            y = L2A[\"lat_lowestmode\"]\n",
    "            # z = L2A.rh98\n",
    "            z = L2A.agbd\n",
    "            \n",
    "            pixel_width = 0.01 #units in degrees\n",
    "            pixel_height = 0.01 #units in degrees\n",
    "            \n",
    "            nx = int(np.round((np.max(x) - np.min(x))/pixel_width)) # nx is the size of the output raster in x direction\n",
    "            ny = int(np.round((np.max(y) - np.min(y))/pixel_width)) # ny is the size of the output raster in x direction\n",
    "            \n",
    "            zi, yi, xi = np.histogram2d(y, x, bins=(ny,nx), weights=z)\n",
    "            counts, _, _ = np.histogram2d(y, x, bins=(ny,nx))\n",
    "                        \n",
    "            zi = np.divide(zi, counts, out=np.zeros_like(zi), where=counts != 0)\n",
    "            \n",
    "            z = np.array(zi.data[::-1])\n",
    "            z[np.isnan(z)] = 0\n",
    "\n",
    "            pixel_width = xi[1] - xi[0] # approximation needed again so as to match number bins and pixels\n",
    "            pixel_height = yi[1] - yi[0] # approximation needed again so as to match number bins and pixels\n",
    "            x_min = xi[0]# - pixel_width / 2\n",
    "            y_max = yi[np.size(yi)-1]# + pixel_height / 2\n",
    "            \n",
    "            transform = from_origin(x_min, y_max, pixel_width, pixel_height)\n",
    "            \n",
    "            crs = CRS.from_epsg(4326)\n",
    "            \n",
    "            kwargs = {\n",
    "                'driver': 'GTiff',\n",
    "                'dtype': z.dtype,\n",
    "                'count': 1,  # Number of bands\n",
    "                'height': z.shape[0],\n",
    "                'width': z.shape[1],\n",
    "                'crs': crs,\n",
    "                'transform': transform,\n",
    "                'predictor': 2\n",
    "            }\n",
    "            \n",
    "            with MemoryFile() as memfile:\n",
    "                with memfile.open(**kwargs) as mem:\n",
    "                    # Populate the input file with numpy array\n",
    "                    mem.write(z.reshape(1, z.shape[0], z.shape[1]))\n",
    "            \n",
    "                    dst_profile = cog_profiles.get(\"deflate\")\n",
    "                    cog_translate(\n",
    "                        mem,\n",
    "                        OUTFILE,\n",
    "                        dst_profile,\n",
    "                        in_memory=False\n",
    "                    )\n",
    "            \n",
    "            print(\"GeoTIFF has been created successfully with GDAL.\")"
   ]
  },
  {
   "cell_type": "code",
   "execution_count": null,
   "id": "fde65306-b9a7-452f-acbd-fbd900bd3356",
   "metadata": {},
   "outputs": [],
   "source": []
  }
 ],
 "metadata": {
  "kernelspec": {
   "display_name": "Python 3 (ipykernel)",
   "language": "python",
   "name": "python3"
  },
  "language_info": {
   "codemirror_mode": {
    "name": "ipython",
    "version": 3
   },
   "file_extension": ".py",
   "mimetype": "text/x-python",
   "name": "python",
   "nbconvert_exporter": "python",
   "pygments_lexer": "ipython3",
   "version": "3.10.13"
  }
 },
 "nbformat": 4,
 "nbformat_minor": 5
}
