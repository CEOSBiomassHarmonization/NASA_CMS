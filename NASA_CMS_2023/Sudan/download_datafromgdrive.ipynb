{
 "cells": [
  {
   "cell_type": "code",
   "execution_count": 1,
   "id": "eb760f3e-4814-4edb-9ce5-beb3d11d9e12",
   "metadata": {},
   "outputs": [
    {
     "name": "stdout",
     "output_type": "stream",
     "text": [
      "Defaulting to user installation because normal site-packages is not writeable\n",
      "Collecting gdown\n",
      "  Downloading gdown-5.2.0-py3-none-any.whl.metadata (5.8 kB)\n",
      "Requirement already satisfied: beautifulsoup4 in /usr/local/lib/python3.10/dist-packages (from gdown) (4.12.3)\n",
      "Requirement already satisfied: filelock in /usr/lib/python3/dist-packages (from gdown) (3.6.0)\n",
      "Requirement already satisfied: requests[socks] in /usr/local/lib/python3.10/dist-packages (from gdown) (2.32.3)\n",
      "Requirement already satisfied: tqdm in /usr/local/lib/python3.10/dist-packages (from gdown) (4.66.5)\n",
      "Requirement already satisfied: soupsieve>1.2 in /usr/local/lib/python3.10/dist-packages (from beautifulsoup4->gdown) (2.6)\n",
      "Requirement already satisfied: charset-normalizer<4,>=2 in /usr/local/lib/python3.10/dist-packages (from requests[socks]->gdown) (3.4.0)\n",
      "Requirement already satisfied: idna<4,>=2.5 in /usr/local/lib/python3.10/dist-packages (from requests[socks]->gdown) (3.10)\n",
      "Requirement already satisfied: urllib3<3,>=1.21.1 in /usr/local/lib/python3.10/dist-packages (from requests[socks]->gdown) (2.2.3)\n",
      "Requirement already satisfied: certifi>=2017.4.17 in /usr/local/lib/python3.10/dist-packages (from requests[socks]->gdown) (2024.8.30)\n",
      "Collecting PySocks!=1.5.7,>=1.5.6 (from requests[socks]->gdown)\n",
      "  Downloading PySocks-1.7.1-py3-none-any.whl.metadata (13 kB)\n",
      "Downloading gdown-5.2.0-py3-none-any.whl (18 kB)\n",
      "Downloading PySocks-1.7.1-py3-none-any.whl (16 kB)\n",
      "Installing collected packages: PySocks, gdown\n",
      "Successfully installed PySocks-1.7.1 gdown-5.2.0\n",
      "\n",
      "\u001b[1m[\u001b[0m\u001b[34;49mnotice\u001b[0m\u001b[1;39;49m]\u001b[0m\u001b[39;49m A new release of pip is available: \u001b[0m\u001b[31;49m24.1.2\u001b[0m\u001b[39;49m -> \u001b[0m\u001b[32;49m25.0.1\u001b[0m\n",
      "\u001b[1m[\u001b[0m\u001b[34;49mnotice\u001b[0m\u001b[1;39;49m]\u001b[0m\u001b[39;49m To update, run: \u001b[0m\u001b[32;49mpython3 -m pip install --upgrade pip\u001b[0m\n"
     ]
    }
   ],
   "source": [
    "!pip install gdown"
   ]
  },
  {
   "cell_type": "code",
   "execution_count": 19,
   "id": "f5c6064f-bbb1-48c7-b400-7b9a33d5b4d6",
   "metadata": {},
   "outputs": [
    {
     "name": "stderr",
     "output_type": "stream",
     "text": [
      "Downloading...\n",
      "From: https://drive.google.com/uc?id=1VG5ePp3qZNnBUuye93AzSgTyck-t7QcM\n",
      "To: /home/sepal-user/Scripts/sudan/GEDI_training_byNeha/test/DATA.csv\n",
      "100%|██████████| 175k/175k [00:00<00:00, 62.1MB/s]\n"
     ]
    },
    {
     "data": {
      "text/plain": [
       "'/home/sepal-user/Scripts/sudan/GEDI_training_byNeha/test/DATA.csv'"
      ]
     },
     "execution_count": 19,
     "metadata": {},
     "output_type": "execute_result"
    }
   ],
   "source": [
    "#import gdown\n",
    "\n",
    "#gdown.download(\n",
    "#    url='https://drive.google.com/file/d/1VG5ePp3qZNnBUuye93AzSgTyck-t7QcM/view?usp=drive_link', \n",
    "#    output='/home/sepal-user/Scripts/sudan/GEDI_training_byNeha/test/DATA.csv', \n",
    "#    fuzzy=True\n",
    "#)\n",
    "\n",
    " "
   ]
  },
  {
   "cell_type": "code",
   "execution_count": 21,
   "id": "48ffbcbd-af0b-4f2b-95fa-10a1669b4436",
   "metadata": {},
   "outputs": [
    {
     "name": "stderr",
     "output_type": "stream",
     "text": [
      "Downloading...\n",
      "From: https://drive.google.com/uc?id=1VG5ePp3qZNnBUuye93AzSgTyck-t7QcM\n",
      "To: /home/sepal-user/Scripts/sudan/GEDI_training_byNeha/test/DATA.csv\n",
      "100%|██████████| 175k/175k [00:00<00:00, 66.2MB/s]\n"
     ]
    },
    {
     "name": "stdout",
     "output_type": "stream",
     "text": [
      "Downloaded /home/sepal-user/Scripts/sudan/GEDI_training_byNeha/test/DATA.csv\n"
     ]
    },
    {
     "name": "stderr",
     "output_type": "stream",
     "text": [
      "Downloading...\n",
      "From: https://drive.google.com/uc?id=1J5BMUa1tgKHfTSnx25Y7vZPhN8Mz5snu\n",
      "To: /home/sepal-user/Scripts/sudan/GEDI_training_byNeha/test/Sudan_country.gpkg\n",
      "100%|██████████| 2.22M/2.22M [00:00<00:00, 107MB/s]\n"
     ]
    },
    {
     "name": "stdout",
     "output_type": "stream",
     "text": [
      "Downloaded /home/sepal-user/Scripts/sudan/GEDI_training_byNeha/test/Sudan_country.gpkg\n"
     ]
    },
    {
     "name": "stderr",
     "output_type": "stream",
     "text": [
      "Downloading...\n",
      "From: https://drive.google.com/uc?id=1KFx3Is07yhDIfUTY8hI0VvmD9Xuzzshw\n",
      "To: /home/sepal-user/Scripts/sudan/GEDI_training_byNeha/test/GEDI_L4A_AGB_Sudan_6933.tif\n",
      "100%|██████████| 8.60M/8.60M [00:00<00:00, 50.3MB/s]\n"
     ]
    },
    {
     "name": "stdout",
     "output_type": "stream",
     "text": [
      "Downloaded /home/sepal-user/Scripts/sudan/GEDI_training_byNeha/test/GEDI_L4A_AGB_Sudan_6933.tif\n"
     ]
    },
    {
     "name": "stderr",
     "output_type": "stream",
     "text": [
      "Downloading...\n",
      "From (original): https://drive.google.com/uc?id=1c_S5G5r9KIZ1V4mA97bMx8QQ7now4rUE\n",
      "From (redirected): https://drive.google.com/uc?id=1c_S5G5r9KIZ1V4mA97bMx8QQ7now4rUE&confirm=t&uuid=3de77f77-3fdc-4f71-91af-892d6d5afb64\n",
      "To: /home/sepal-user/Scripts/sudan/GEDI_training_byNeha/test/Sudan_FNF_probability_2023_updated_6933.tif\n",
      "100%|██████████| 712M/712M [00:09<00:00, 74.7MB/s] \n"
     ]
    },
    {
     "name": "stdout",
     "output_type": "stream",
     "text": [
      "Downloaded /home/sepal-user/Scripts/sudan/GEDI_training_byNeha/test/Sudan_FNF_probability_2023_updated_6933.tif\n"
     ]
    },
    {
     "name": "stderr",
     "output_type": "stream",
     "text": [
      "Downloading...\n",
      "From: https://drive.google.com/uc?id=1ENxMbim2Jvy1NOqzi3oECVheJ79LFdSC\n",
      "To: /home/sepal-user/Scripts/sudan/GEDI_training_byNeha/test/NFI_grid_sudan_CE_assessment.csv\n",
      "100%|██████████| 434k/434k [00:00<00:00, 77.3MB/s]\n"
     ]
    },
    {
     "name": "stdout",
     "output_type": "stream",
     "text": [
      "Downloaded /home/sepal-user/Scripts/sudan/GEDI_training_byNeha/test/NFI_grid_sudan_CE_assessment.csv\n"
     ]
    },
    {
     "name": "stderr",
     "output_type": "stream",
     "text": [
      "Downloading...\n",
      "From: https://drive.google.com/uc?id=1LIQEePKQHckawGIc2jBpHZlom-NCOwkR\n",
      "To: /home/sepal-user/Scripts/sudan/GEDI_training_byNeha/test/Sudan_NFI_Volume.gpkg\n",
      "100%|██████████| 238k/238k [00:00<00:00, 54.3MB/s]\n"
     ]
    },
    {
     "name": "stdout",
     "output_type": "stream",
     "text": [
      "Downloaded /home/sepal-user/Scripts/sudan/GEDI_training_byNeha/test/Sudan_NFI_Volume.gpkg\n"
     ]
    },
    {
     "name": "stderr",
     "output_type": "stream",
     "text": [
      "Downloading...\n",
      "From: https://drive.google.com/uc?id=1GjaC4HbYL_XVDwk9PQAnM9U2jEO-_POo\n",
      "To: /home/sepal-user/Scripts/sudan/GEDI_training_byNeha/test/Sudan_NE.gpkg\n",
      "100%|██████████| 131k/131k [00:00<00:00, 52.1MB/s]\n"
     ]
    },
    {
     "name": "stdout",
     "output_type": "stream",
     "text": [
      "Downloaded /home/sepal-user/Scripts/sudan/GEDI_training_byNeha/test/Sudan_NE.gpkg\n"
     ]
    },
    {
     "name": "stderr",
     "output_type": "stream",
     "text": [
      "Downloading...\n",
      "From: https://drive.google.com/uc?id=149cOaMrQK8Clm14E4ymZQRqANtvuXB07\n",
      "To: /home/sepal-user/Scripts/sudan/GEDI_training_byNeha/test/Sudan_Stats.dbf\n",
      "100%|██████████| 2.00k/2.00k [00:00<00:00, 6.48MB/s]\n"
     ]
    },
    {
     "name": "stdout",
     "output_type": "stream",
     "text": [
      "Downloaded /home/sepal-user/Scripts/sudan/GEDI_training_byNeha/test/Sudan_Stats.dbf\n"
     ]
    },
    {
     "name": "stderr",
     "output_type": "stream",
     "text": [
      "Downloading...\n",
      "From: https://drive.google.com/uc?id=14d9bzLa_01RtCuzpHUpG4phJtSfBM3MZ\n",
      "To: /home/sepal-user/Scripts/sudan/GEDI_training_byNeha/test/Sudan_Stats.shp\n",
      "100%|██████████| 187k/187k [00:00<00:00, 62.8MB/s]\n"
     ]
    },
    {
     "name": "stdout",
     "output_type": "stream",
     "text": [
      "Downloaded /home/sepal-user/Scripts/sudan/GEDI_training_byNeha/test/Sudan_Stats.shp\n"
     ]
    },
    {
     "name": "stderr",
     "output_type": "stream",
     "text": [
      "Downloading...\n",
      "From: https://drive.google.com/uc?id=149cOaMrQK8Clm14E4ymZQRqANtvuXB07\n",
      "To: /home/sepal-user/Scripts/sudan/GEDI_training_byNeha/test/Sudan_Stats.shx\n",
      "100%|██████████| 2.00k/2.00k [00:00<00:00, 8.37MB/s]\n"
     ]
    },
    {
     "name": "stdout",
     "output_type": "stream",
     "text": [
      "Downloaded /home/sepal-user/Scripts/sudan/GEDI_training_byNeha/test/Sudan_Stats.shx\n"
     ]
    },
    {
     "name": "stderr",
     "output_type": "stream",
     "text": [
      "Downloading...\n",
      "From: https://drive.google.com/uc?id=14d9bzLa_01RtCuzpHUpG4phJtSfBM3MZ\n",
      "To: /home/sepal-user/Scripts/sudan/GEDI_training_byNeha/test/Sudan_Stats.shp.xml\n",
      "100%|██████████| 187k/187k [00:00<00:00, 52.0MB/s]\n"
     ]
    },
    {
     "name": "stdout",
     "output_type": "stream",
     "text": [
      "Downloaded /home/sepal-user/Scripts/sudan/GEDI_training_byNeha/test/Sudan_Stats.shp.xml\n"
     ]
    },
    {
     "name": "stderr",
     "output_type": "stream",
     "text": [
      "Downloading...\n",
      "From: https://drive.google.com/uc?id=149cOaMrQK8Clm14E4ymZQRqANtvuXB07\n",
      "To: /home/sepal-user/Scripts/sudan/GEDI_training_byNeha/test/Sudan_Stats.sbx\n",
      "100%|██████████| 2.00k/2.00k [00:00<00:00, 7.26MB/s]\n"
     ]
    },
    {
     "name": "stdout",
     "output_type": "stream",
     "text": [
      "Downloaded /home/sepal-user/Scripts/sudan/GEDI_training_byNeha/test/Sudan_Stats.sbx\n"
     ]
    },
    {
     "name": "stderr",
     "output_type": "stream",
     "text": [
      "Downloading...\n",
      "From: https://drive.google.com/uc?id=14d9bzLa_01RtCuzpHUpG4phJtSfBM3MZ\n",
      "To: /home/sepal-user/Scripts/sudan/GEDI_training_byNeha/test/Sudan_Stats.sbn\n",
      "100%|██████████| 187k/187k [00:00<00:00, 55.0MB/s]\n"
     ]
    },
    {
     "name": "stdout",
     "output_type": "stream",
     "text": [
      "Downloaded /home/sepal-user/Scripts/sudan/GEDI_training_byNeha/test/Sudan_Stats.sbn\n"
     ]
    },
    {
     "name": "stderr",
     "output_type": "stream",
     "text": [
      "Downloading...\n",
      "From: https://drive.google.com/uc?id=149cOaMrQK8Clm14E4ymZQRqANtvuXB07\n",
      "To: /home/sepal-user/Scripts/sudan/GEDI_training_byNeha/test/Sudan_Stats.prj\n",
      "100%|██████████| 2.00k/2.00k [00:00<00:00, 9.21MB/s]\n"
     ]
    },
    {
     "name": "stdout",
     "output_type": "stream",
     "text": [
      "Downloaded /home/sepal-user/Scripts/sudan/GEDI_training_byNeha/test/Sudan_Stats.prj\n"
     ]
    },
    {
     "name": "stderr",
     "output_type": "stream",
     "text": [
      "Downloading...\n",
      "From: https://drive.google.com/uc?id=14d9bzLa_01RtCuzpHUpG4phJtSfBM3MZ\n",
      "To: /home/sepal-user/Scripts/sudan/GEDI_training_byNeha/test/Sudan_Stats.cpg\n",
      "100%|██████████| 187k/187k [00:00<00:00, 46.6MB/s]"
     ]
    },
    {
     "name": "stdout",
     "output_type": "stream",
     "text": [
      "Downloaded /home/sepal-user/Scripts/sudan/GEDI_training_byNeha/test/Sudan_Stats.cpg\n"
     ]
    },
    {
     "name": "stderr",
     "output_type": "stream",
     "text": [
      "\n"
     ]
    }
   ],
   "source": [
    "import gdown\n",
    "\n",
    "# List of URLs and corresponding output file names with different formats\n",
    "urls = [\n",
    "    {'url': 'https://drive.google.com/file/d/1VG5ePp3qZNnBUuye93AzSgTyck-t7QcM/view?usp=drive_link', 'output': '/home/sepal-user/Scripts/sudan/GEDI_training_byNeha/test/DATA.csv'},\n",
    "    {'url': 'https://drive.google.com/file/d/1J5BMUa1tgKHfTSnx25Y7vZPhN8Mz5snu/view?usp=drive_link', 'output': '/home/sepal-user/Scripts/sudan/GEDI_training_byNeha/test/Sudan_country.gpkg'},\n",
    "    {'url': 'https://drive.google.com/file/d/1KFx3Is07yhDIfUTY8hI0VvmD9Xuzzshw/view?usp=drive_link', 'output': '/home/sepal-user/Scripts/sudan/GEDI_training_byNeha/test/GEDI_L4A_AGB_Sudan_6933.tif'},\n",
    "    {'url': 'https://drive.google.com/file/d/1c_S5G5r9KIZ1V4mA97bMx8QQ7now4rUE/view?usp=drive_link', 'output': '/home/sepal-user/Scripts/sudan/GEDI_training_byNeha/test/Sudan_FNF_probability_2023_updated_6933.tif'},\n",
    "    {'url': 'https://drive.google.com/file/d/1ENxMbim2Jvy1NOqzi3oECVheJ79LFdSC/view?usp=drive_link', 'output': '/home/sepal-user/Scripts/sudan/GEDI_training_byNeha/test/NFI_grid_sudan_CE_assessment.csv'},\n",
    "    {'url': 'https://drive.google.com/file/d/1LIQEePKQHckawGIc2jBpHZlom-NCOwkR/view?usp=drive_link', 'output': '/home/sepal-user/Scripts/sudan/GEDI_training_byNeha/test/Sudan_NFI_Volume.gpkg'},\n",
    "    {'url': 'https://drive.google.com/file/d/1GjaC4HbYL_XVDwk9PQAnM9U2jEO-_POo/view?usp=drive_link', 'output': '/home/sepal-user/Scripts/sudan/GEDI_training_byNeha/test/Sudan_NE.gpkg'},\n",
    "    {'url': 'https://drive.google.com/file/d/149cOaMrQK8Clm14E4ymZQRqANtvuXB07/view?usp=drive_link', 'output': '/home/sepal-user/Scripts/sudan/GEDI_training_byNeha/test/Sudan_Stats.dbf'},\n",
    "    {'url': 'https://drive.google.com/file/d/14d9bzLa_01RtCuzpHUpG4phJtSfBM3MZ/view?usp=drive_link', 'output': '/home/sepal-user/Scripts/sudan/GEDI_training_byNeha/test/Sudan_Stats.shp'},\n",
    "    {'url': 'https://drive.google.com/file/d/149cOaMrQK8Clm14E4ymZQRqANtvuXB07/view?usp=drive_link', 'output': '/home/sepal-user/Scripts/sudan/GEDI_training_byNeha/test/Sudan_Stats.shx'},\n",
    "    {'url': 'https://drive.google.com/file/d/14d9bzLa_01RtCuzpHUpG4phJtSfBM3MZ/view?usp=drive_link', 'output': '/home/sepal-user/Scripts/sudan/GEDI_training_byNeha/test/Sudan_Stats.shp.xml'},\n",
    "    {'url': 'https://drive.google.com/file/d/149cOaMrQK8Clm14E4ymZQRqANtvuXB07/view?usp=drive_link', 'output': '/home/sepal-user/Scripts/sudan/GEDI_training_byNeha/test/Sudan_Stats.sbx'},\n",
    "    {'url': 'https://drive.google.com/file/d/14d9bzLa_01RtCuzpHUpG4phJtSfBM3MZ/view?usp=drive_link', 'output': '/home/sepal-user/Scripts/sudan/GEDI_training_byNeha/test/Sudan_Stats.sbn'},\n",
    "    {'url': 'https://drive.google.com/file/d/149cOaMrQK8Clm14E4ymZQRqANtvuXB07/view?usp=drive_link', 'output': '/home/sepal-user/Scripts/sudan/GEDI_training_byNeha/test/Sudan_Stats.prj'},\n",
    "    {'url': 'https://drive.google.com/file/d/14d9bzLa_01RtCuzpHUpG4phJtSfBM3MZ/view?usp=drive_link', 'output': '/home/sepal-user/Scripts/sudan/GEDI_training_byNeha/test/Sudan_Stats.cpg'},\n",
    "    # Add more URLs and desired output filenames as needed\n",
    "]\n",
    "\n",
    "# Loop through each URL and download the file\n",
    "for file in urls:\n",
    "    gdown.download(url=file['url'], output=file['output'], fuzzy=True)\n",
    "    print(f\"Downloaded {file['output']}\")\n"
   ]
  },
  {
   "cell_type": "code",
   "execution_count": null,
   "id": "1bdb1cec-4e28-4a78-a8aa-6b6b1db7be6f",
   "metadata": {},
   "outputs": [],
   "source": []
  }
 ],
 "metadata": {
  "kernelspec": {
   "display_name": "Python 3 (ipykernel)",
   "language": "python",
   "name": "python3"
  },
  "language_info": {
   "codemirror_mode": {
    "name": "ipython",
    "version": 3
   },
   "file_extension": ".py",
   "mimetype": "text/x-python",
   "name": "python",
   "nbconvert_exporter": "python",
   "pygments_lexer": "ipython3",
   "version": "3.10.13"
  }
 },
 "nbformat": 4,
 "nbformat_minor": 5
}
