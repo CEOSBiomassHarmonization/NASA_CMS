{
 "cells": [
  {
   "cell_type": "code",
   "execution_count": 3,
   "id": "champion-language",
   "metadata": {
    "tags": []
   },
   "outputs": [
    {
     "name": "stdout",
     "output_type": "stream",
     "text": [
      "Requirement already satisfied: geopandas in /opt/conda/envs/r/lib/python3.10/site-packages (0.14.4)\n",
      "Requirement already satisfied: fiona>=1.8.21 in /opt/conda/envs/r/lib/python3.10/site-packages (from geopandas) (1.9.4)\n",
      "Requirement already satisfied: numpy>=1.22 in /opt/conda/envs/r/lib/python3.10/site-packages (from geopandas) (1.26.4)\n",
      "Requirement already satisfied: packaging in /opt/conda/envs/r/lib/python3.10/site-packages (from geopandas) (24.1)\n",
      "Requirement already satisfied: pandas>=1.4.0 in /opt/conda/envs/r/lib/python3.10/site-packages (from geopandas) (2.2.2)\n",
      "Requirement already satisfied: pyproj>=3.3.0 in /opt/conda/envs/r/lib/python3.10/site-packages (from geopandas) (3.5.0)\n",
      "Requirement already satisfied: shapely>=1.8.0 in /opt/conda/envs/r/lib/python3.10/site-packages (from geopandas) (2.0.1)\n",
      "Requirement already satisfied: attrs>=19.2.0 in /opt/conda/envs/r/lib/python3.10/site-packages (from fiona>=1.8.21->geopandas) (24.2.0)\n",
      "Requirement already satisfied: certifi in /opt/conda/envs/r/lib/python3.10/site-packages (from fiona>=1.8.21->geopandas) (2024.8.30)\n",
      "Requirement already satisfied: click~=8.0 in /opt/conda/envs/r/lib/python3.10/site-packages (from fiona>=1.8.21->geopandas) (8.1.7)\n",
      "Requirement already satisfied: click-plugins>=1.0 in /opt/conda/envs/r/lib/python3.10/site-packages (from fiona>=1.8.21->geopandas) (1.1.1)\n",
      "Requirement already satisfied: cligj>=0.5 in /opt/conda/envs/r/lib/python3.10/site-packages (from fiona>=1.8.21->geopandas) (0.7.2)\n",
      "Requirement already satisfied: six in /opt/conda/envs/r/lib/python3.10/site-packages (from fiona>=1.8.21->geopandas) (1.16.0)\n",
      "Requirement already satisfied: python-dateutil>=2.8.2 in /opt/conda/envs/r/lib/python3.10/site-packages (from pandas>=1.4.0->geopandas) (2.9.0)\n",
      "Requirement already satisfied: pytz>=2020.1 in /opt/conda/envs/r/lib/python3.10/site-packages (from pandas>=1.4.0->geopandas) (2024.2)\n",
      "Requirement already satisfied: tzdata>=2022.7 in /opt/conda/envs/r/lib/python3.10/site-packages (from pandas>=1.4.0->geopandas) (2024.2)\n",
      "\u001b[33mWARNING: Running pip as the 'root' user can result in broken permissions and conflicting behaviour with the system package manager. It is recommended to use a virtual environment instead: https://pip.pypa.io/warnings/venv\u001b[0m\u001b[33m\n",
      "\u001b[0mRequirement already satisfied: backoff in /opt/conda/envs/r/lib/python3.10/site-packages (2.2.1)\n",
      "\u001b[33mWARNING: Running pip as the 'root' user can result in broken permissions and conflicting behaviour with the system package manager. It is recommended to use a virtual environment instead: https://pip.pypa.io/warnings/venv\u001b[0m\u001b[33m\n",
      "\u001b[0mRequirement already satisfied: statsmodels in /opt/conda/envs/r/lib/python3.10/site-packages (0.14.2)\n",
      "Requirement already satisfied: numpy>=1.22.3 in /opt/conda/envs/r/lib/python3.10/site-packages (from statsmodels) (1.26.4)\n",
      "Requirement already satisfied: scipy!=1.9.2,>=1.8 in /opt/conda/envs/r/lib/python3.10/site-packages (from statsmodels) (1.13.1)\n",
      "Requirement already satisfied: pandas!=2.1.0,>=1.4 in /opt/conda/envs/r/lib/python3.10/site-packages (from statsmodels) (2.2.2)\n",
      "Requirement already satisfied: patsy>=0.5.6 in /opt/conda/envs/r/lib/python3.10/site-packages (from statsmodels) (0.5.6)\n",
      "Requirement already satisfied: packaging>=21.3 in /opt/conda/envs/r/lib/python3.10/site-packages (from statsmodels) (24.1)\n",
      "Requirement already satisfied: python-dateutil>=2.8.2 in /opt/conda/envs/r/lib/python3.10/site-packages (from pandas!=2.1.0,>=1.4->statsmodels) (2.9.0)\n",
      "Requirement already satisfied: pytz>=2020.1 in /opt/conda/envs/r/lib/python3.10/site-packages (from pandas!=2.1.0,>=1.4->statsmodels) (2024.2)\n",
      "Requirement already satisfied: tzdata>=2022.7 in /opt/conda/envs/r/lib/python3.10/site-packages (from pandas!=2.1.0,>=1.4->statsmodels) (2024.2)\n",
      "Requirement already satisfied: six in /opt/conda/envs/r/lib/python3.10/site-packages (from patsy>=0.5.6->statsmodels) (1.16.0)\n",
      "\u001b[33mWARNING: Running pip as the 'root' user can result in broken permissions and conflicting behaviour with the system package manager. It is recommended to use a virtual environment instead: https://pip.pypa.io/warnings/venv\u001b[0m\u001b[33m\n",
      "\u001b[0mRequirement already satisfied: seaborn in /opt/conda/envs/r/lib/python3.10/site-packages (0.13.2)\n",
      "Requirement already satisfied: numpy!=1.24.0,>=1.20 in /opt/conda/envs/r/lib/python3.10/site-packages (from seaborn) (1.26.4)\n",
      "Requirement already satisfied: pandas>=1.2 in /opt/conda/envs/r/lib/python3.10/site-packages (from seaborn) (2.2.2)\n",
      "Requirement already satisfied: matplotlib!=3.6.1,>=3.4 in /opt/conda/envs/r/lib/python3.10/site-packages (from seaborn) (3.7.3)\n",
      "Requirement already satisfied: contourpy>=1.0.1 in /opt/conda/envs/r/lib/python3.10/site-packages (from matplotlib!=3.6.1,>=3.4->seaborn) (1.3.0)\n",
      "Requirement already satisfied: cycler>=0.10 in /opt/conda/envs/r/lib/python3.10/site-packages (from matplotlib!=3.6.1,>=3.4->seaborn) (0.12.1)\n",
      "Requirement already satisfied: fonttools>=4.22.0 in /opt/conda/envs/r/lib/python3.10/site-packages (from matplotlib!=3.6.1,>=3.4->seaborn) (4.54.1)\n",
      "Requirement already satisfied: kiwisolver>=1.0.1 in /opt/conda/envs/r/lib/python3.10/site-packages (from matplotlib!=3.6.1,>=3.4->seaborn) (1.4.7)\n",
      "Requirement already satisfied: packaging>=20.0 in /opt/conda/envs/r/lib/python3.10/site-packages (from matplotlib!=3.6.1,>=3.4->seaborn) (24.1)\n",
      "Requirement already satisfied: pillow>=6.2.0 in /opt/conda/envs/r/lib/python3.10/site-packages (from matplotlib!=3.6.1,>=3.4->seaborn) (10.0.0)\n",
      "Requirement already satisfied: pyparsing>=2.3.1 in /opt/conda/envs/r/lib/python3.10/site-packages (from matplotlib!=3.6.1,>=3.4->seaborn) (3.1.4)\n",
      "Requirement already satisfied: python-dateutil>=2.7 in /opt/conda/envs/r/lib/python3.10/site-packages (from matplotlib!=3.6.1,>=3.4->seaborn) (2.9.0)\n",
      "Requirement already satisfied: pytz>=2020.1 in /opt/conda/envs/r/lib/python3.10/site-packages (from pandas>=1.2->seaborn) (2024.2)\n",
      "Requirement already satisfied: tzdata>=2022.7 in /opt/conda/envs/r/lib/python3.10/site-packages (from pandas>=1.2->seaborn) (2024.2)\n",
      "Requirement already satisfied: six>=1.5 in /opt/conda/envs/r/lib/python3.10/site-packages (from python-dateutil>=2.7->matplotlib!=3.6.1,>=3.4->seaborn) (1.16.0)\n",
      "\u001b[33mWARNING: Running pip as the 'root' user can result in broken permissions and conflicting behaviour with the system package manager. It is recommended to use a virtual environment instead: https://pip.pypa.io/warnings/venv\u001b[0m\u001b[33m\n",
      "\u001b[0mRequirement already satisfied: scipy in /opt/conda/envs/r/lib/python3.10/site-packages (1.13.1)\n",
      "Requirement already satisfied: numpy<2.3,>=1.22.4 in /opt/conda/envs/r/lib/python3.10/site-packages (from scipy) (1.26.4)\n",
      "\u001b[33mWARNING: Running pip as the 'root' user can result in broken permissions and conflicting behaviour with the system package manager. It is recommended to use a virtual environment instead: https://pip.pypa.io/warnings/venv\u001b[0m\u001b[33m\n",
      "\u001b[0mRequirement already satisfied: mapclassify in /opt/conda/envs/r/lib/python3.10/site-packages (2.6.1)\n",
      "Requirement already satisfied: networkx>=2.7 in /opt/conda/envs/r/lib/python3.10/site-packages (from mapclassify) (3.3)\n",
      "Requirement already satisfied: numpy>=1.23 in /opt/conda/envs/r/lib/python3.10/site-packages (from mapclassify) (1.26.4)\n",
      "Requirement already satisfied: pandas!=1.5.0,>=1.4 in /opt/conda/envs/r/lib/python3.10/site-packages (from mapclassify) (2.2.2)\n",
      "Requirement already satisfied: scikit-learn>=1.0 in /opt/conda/envs/r/lib/python3.10/site-packages (from mapclassify) (1.5.0)\n",
      "Requirement already satisfied: scipy>=1.8 in /opt/conda/envs/r/lib/python3.10/site-packages (from mapclassify) (1.13.1)\n",
      "Requirement already satisfied: python-dateutil>=2.8.2 in /opt/conda/envs/r/lib/python3.10/site-packages (from pandas!=1.5.0,>=1.4->mapclassify) (2.9.0)\n",
      "Requirement already satisfied: pytz>=2020.1 in /opt/conda/envs/r/lib/python3.10/site-packages (from pandas!=1.5.0,>=1.4->mapclassify) (2024.2)\n",
      "Requirement already satisfied: tzdata>=2022.7 in /opt/conda/envs/r/lib/python3.10/site-packages (from pandas!=1.5.0,>=1.4->mapclassify) (2024.2)\n",
      "Requirement already satisfied: joblib>=1.2.0 in /opt/conda/envs/r/lib/python3.10/site-packages (from scikit-learn>=1.0->mapclassify) (1.4.2)\n",
      "Requirement already satisfied: threadpoolctl>=3.1.0 in /opt/conda/envs/r/lib/python3.10/site-packages (from scikit-learn>=1.0->mapclassify) (3.5.0)\n",
      "Requirement already satisfied: six>=1.5 in /opt/conda/envs/r/lib/python3.10/site-packages (from python-dateutil>=2.8.2->pandas!=1.5.0,>=1.4->mapclassify) (1.16.0)\n",
      "\u001b[33mWARNING: Running pip as the 'root' user can result in broken permissions and conflicting behaviour with the system package manager. It is recommended to use a virtual environment instead: https://pip.pypa.io/warnings/venv\u001b[0m\u001b[33m\n",
      "\u001b[0mRequirement already satisfied: unidecode in /opt/conda/envs/r/lib/python3.10/site-packages (1.3.8)\n",
      "\u001b[33mWARNING: Running pip as the 'root' user can result in broken permissions and conflicting behaviour with the system package manager. It is recommended to use a virtual environment instead: https://pip.pypa.io/warnings/venv\u001b[0m\u001b[33m\n",
      "\u001b[0mRequirement already satisfied: rasterio in /opt/conda/envs/r/lib/python3.10/site-packages (1.3.7)\n",
      "Requirement already satisfied: affine in /opt/conda/envs/r/lib/python3.10/site-packages (from rasterio) (2.4.0)\n",
      "Requirement already satisfied: attrs in /opt/conda/envs/r/lib/python3.10/site-packages (from rasterio) (24.2.0)\n",
      "Requirement already satisfied: certifi in /opt/conda/envs/r/lib/python3.10/site-packages (from rasterio) (2024.8.30)\n",
      "Requirement already satisfied: click>=4.0 in /opt/conda/envs/r/lib/python3.10/site-packages (from rasterio) (8.1.7)\n",
      "Requirement already satisfied: cligj>=0.5 in /opt/conda/envs/r/lib/python3.10/site-packages (from rasterio) (0.7.2)\n",
      "Requirement already satisfied: numpy>=1.18 in /opt/conda/envs/r/lib/python3.10/site-packages (from rasterio) (1.26.4)\n",
      "Requirement already satisfied: snuggs>=1.4.1 in /opt/conda/envs/r/lib/python3.10/site-packages (from rasterio) (1.4.7)\n",
      "Requirement already satisfied: click-plugins in /opt/conda/envs/r/lib/python3.10/site-packages (from rasterio) (1.1.1)\n",
      "Requirement already satisfied: setuptools in /opt/conda/envs/r/lib/python3.10/site-packages (from rasterio) (69.5.1)\n",
      "Requirement already satisfied: pyparsing>=2.1.6 in /opt/conda/envs/r/lib/python3.10/site-packages (from snuggs>=1.4.1->rasterio) (3.1.4)\n",
      "\u001b[33mWARNING: Running pip as the 'root' user can result in broken permissions and conflicting behaviour with the system package manager. It is recommended to use a virtual environment instead: https://pip.pypa.io/warnings/venv\u001b[0m\u001b[33m\n",
      "\u001b[0mRequirement already satisfied: seaborn in /opt/conda/envs/r/lib/python3.10/site-packages (0.13.2)\n",
      "Requirement already satisfied: numpy!=1.24.0,>=1.20 in /opt/conda/envs/r/lib/python3.10/site-packages (from seaborn) (1.26.4)\n",
      "Requirement already satisfied: pandas>=1.2 in /opt/conda/envs/r/lib/python3.10/site-packages (from seaborn) (2.2.2)\n",
      "Requirement already satisfied: matplotlib!=3.6.1,>=3.4 in /opt/conda/envs/r/lib/python3.10/site-packages (from seaborn) (3.7.3)\n",
      "Requirement already satisfied: contourpy>=1.0.1 in /opt/conda/envs/r/lib/python3.10/site-packages (from matplotlib!=3.6.1,>=3.4->seaborn) (1.3.0)\n",
      "Requirement already satisfied: cycler>=0.10 in /opt/conda/envs/r/lib/python3.10/site-packages (from matplotlib!=3.6.1,>=3.4->seaborn) (0.12.1)\n",
      "Requirement already satisfied: fonttools>=4.22.0 in /opt/conda/envs/r/lib/python3.10/site-packages (from matplotlib!=3.6.1,>=3.4->seaborn) (4.54.1)\n",
      "Requirement already satisfied: kiwisolver>=1.0.1 in /opt/conda/envs/r/lib/python3.10/site-packages (from matplotlib!=3.6.1,>=3.4->seaborn) (1.4.7)\n",
      "Requirement already satisfied: packaging>=20.0 in /opt/conda/envs/r/lib/python3.10/site-packages (from matplotlib!=3.6.1,>=3.4->seaborn) (24.1)\n",
      "Requirement already satisfied: pillow>=6.2.0 in /opt/conda/envs/r/lib/python3.10/site-packages (from matplotlib!=3.6.1,>=3.4->seaborn) (10.0.0)\n",
      "Requirement already satisfied: pyparsing>=2.3.1 in /opt/conda/envs/r/lib/python3.10/site-packages (from matplotlib!=3.6.1,>=3.4->seaborn) (3.1.4)\n",
      "Requirement already satisfied: python-dateutil>=2.7 in /opt/conda/envs/r/lib/python3.10/site-packages (from matplotlib!=3.6.1,>=3.4->seaborn) (2.9.0)\n",
      "Requirement already satisfied: pytz>=2020.1 in /opt/conda/envs/r/lib/python3.10/site-packages (from pandas>=1.2->seaborn) (2024.2)\n",
      "Requirement already satisfied: tzdata>=2022.7 in /opt/conda/envs/r/lib/python3.10/site-packages (from pandas>=1.2->seaborn) (2024.2)\n",
      "Requirement already satisfied: six>=1.5 in /opt/conda/envs/r/lib/python3.10/site-packages (from python-dateutil>=2.7->matplotlib!=3.6.1,>=3.4->seaborn) (1.16.0)\n",
      "\u001b[33mWARNING: Running pip as the 'root' user can result in broken permissions and conflicting behaviour with the system package manager. It is recommended to use a virtual environment instead: https://pip.pypa.io/warnings/venv\u001b[0m\u001b[33m\n",
      "\u001b[0mRequirement already satisfied: mpl_scatter_density in /opt/conda/envs/r/lib/python3.10/site-packages (0.7)\n",
      "Requirement already satisfied: numpy in /opt/conda/envs/r/lib/python3.10/site-packages (from mpl_scatter_density) (1.26.4)\n",
      "Requirement already satisfied: matplotlib>=3.0 in /opt/conda/envs/r/lib/python3.10/site-packages (from mpl_scatter_density) (3.7.3)\n",
      "Requirement already satisfied: fast-histogram>=0.3 in /opt/conda/envs/r/lib/python3.10/site-packages (from mpl_scatter_density) (0.14)\n",
      "Requirement already satisfied: contourpy>=1.0.1 in /opt/conda/envs/r/lib/python3.10/site-packages (from matplotlib>=3.0->mpl_scatter_density) (1.3.0)\n",
      "Requirement already satisfied: cycler>=0.10 in /opt/conda/envs/r/lib/python3.10/site-packages (from matplotlib>=3.0->mpl_scatter_density) (0.12.1)\n",
      "Requirement already satisfied: fonttools>=4.22.0 in /opt/conda/envs/r/lib/python3.10/site-packages (from matplotlib>=3.0->mpl_scatter_density) (4.54.1)\n",
      "Requirement already satisfied: kiwisolver>=1.0.1 in /opt/conda/envs/r/lib/python3.10/site-packages (from matplotlib>=3.0->mpl_scatter_density) (1.4.7)\n",
      "Requirement already satisfied: packaging>=20.0 in /opt/conda/envs/r/lib/python3.10/site-packages (from matplotlib>=3.0->mpl_scatter_density) (24.1)\n",
      "Requirement already satisfied: pillow>=6.2.0 in /opt/conda/envs/r/lib/python3.10/site-packages (from matplotlib>=3.0->mpl_scatter_density) (10.0.0)\n",
      "Requirement already satisfied: pyparsing>=2.3.1 in /opt/conda/envs/r/lib/python3.10/site-packages (from matplotlib>=3.0->mpl_scatter_density) (3.1.4)\n",
      "Requirement already satisfied: python-dateutil>=2.7 in /opt/conda/envs/r/lib/python3.10/site-packages (from matplotlib>=3.0->mpl_scatter_density) (2.9.0)\n",
      "Requirement already satisfied: six>=1.5 in /opt/conda/envs/r/lib/python3.10/site-packages (from python-dateutil>=2.7->matplotlib>=3.0->mpl_scatter_density) (1.16.0)\n",
      "\u001b[33mWARNING: Running pip as the 'root' user can result in broken permissions and conflicting behaviour with the system package manager. It is recommended to use a virtual environment instead: https://pip.pypa.io/warnings/venv\u001b[0m\u001b[33m\n",
      "\u001b[0mRequirement already satisfied: rasterstats in /opt/conda/envs/r/lib/python3.10/site-packages (0.19.0)\n",
      "Requirement already satisfied: affine in /opt/conda/envs/r/lib/python3.10/site-packages (from rasterstats) (2.4.0)\n",
      "Requirement already satisfied: click>7.1 in /opt/conda/envs/r/lib/python3.10/site-packages (from rasterstats) (8.1.7)\n",
      "Requirement already satisfied: cligj>=0.4 in /opt/conda/envs/r/lib/python3.10/site-packages (from rasterstats) (0.7.2)\n",
      "Requirement already satisfied: fiona in /opt/conda/envs/r/lib/python3.10/site-packages (from rasterstats) (1.9.4)\n",
      "Requirement already satisfied: numpy>=1.9 in /opt/conda/envs/r/lib/python3.10/site-packages (from rasterstats) (1.26.4)\n",
      "Requirement already satisfied: rasterio>=1.0 in /opt/conda/envs/r/lib/python3.10/site-packages (from rasterstats) (1.3.7)\n",
      "Requirement already satisfied: simplejson in /opt/conda/envs/r/lib/python3.10/site-packages (from rasterstats) (3.19.3)\n",
      "Requirement already satisfied: shapely in /opt/conda/envs/r/lib/python3.10/site-packages (from rasterstats) (2.0.1)\n",
      "Requirement already satisfied: attrs in /opt/conda/envs/r/lib/python3.10/site-packages (from rasterio>=1.0->rasterstats) (24.2.0)\n",
      "Requirement already satisfied: certifi in /opt/conda/envs/r/lib/python3.10/site-packages (from rasterio>=1.0->rasterstats) (2024.8.30)\n",
      "Requirement already satisfied: snuggs>=1.4.1 in /opt/conda/envs/r/lib/python3.10/site-packages (from rasterio>=1.0->rasterstats) (1.4.7)\n",
      "Requirement already satisfied: click-plugins in /opt/conda/envs/r/lib/python3.10/site-packages (from rasterio>=1.0->rasterstats) (1.1.1)\n",
      "Requirement already satisfied: setuptools in /opt/conda/envs/r/lib/python3.10/site-packages (from rasterio>=1.0->rasterstats) (69.5.1)\n",
      "Requirement already satisfied: six in /opt/conda/envs/r/lib/python3.10/site-packages (from fiona->rasterstats) (1.16.0)\n",
      "Requirement already satisfied: pyparsing>=2.1.6 in /opt/conda/envs/r/lib/python3.10/site-packages (from snuggs>=1.4.1->rasterio>=1.0->rasterstats) (3.1.4)\n",
      "\u001b[33mWARNING: Running pip as the 'root' user can result in broken permissions and conflicting behaviour with the system package manager. It is recommended to use a virtual environment instead: https://pip.pypa.io/warnings/venv\u001b[0m\u001b[33m\n",
      "\u001b[0mRequirement already satisfied: xmltodict in /opt/conda/envs/r/lib/python3.10/site-packages (0.13.0)\n",
      "\u001b[33mWARNING: Running pip as the 'root' user can result in broken permissions and conflicting behaviour with the system package manager. It is recommended to use a virtual environment instead: https://pip.pypa.io/warnings/venv\u001b[0m\u001b[33m\n",
      "\u001b[0mRequirement already satisfied: pandas in /opt/conda/envs/r/lib/python3.10/site-packages (2.2.2)\n",
      "Requirement already satisfied: numpy>=1.22.4 in /opt/conda/envs/r/lib/python3.10/site-packages (from pandas) (1.26.4)\n",
      "Requirement already satisfied: python-dateutil>=2.8.2 in /opt/conda/envs/r/lib/python3.10/site-packages (from pandas) (2.9.0)\n",
      "Requirement already satisfied: pytz>=2020.1 in /opt/conda/envs/r/lib/python3.10/site-packages (from pandas) (2024.2)\n",
      "Requirement already satisfied: tzdata>=2022.7 in /opt/conda/envs/r/lib/python3.10/site-packages (from pandas) (2024.2)\n",
      "Requirement already satisfied: six>=1.5 in /opt/conda/envs/r/lib/python3.10/site-packages (from python-dateutil>=2.8.2->pandas) (1.16.0)\n",
      "\u001b[33mWARNING: Running pip as the 'root' user can result in broken permissions and conflicting behaviour with the system package manager. It is recommended to use a virtual environment instead: https://pip.pypa.io/warnings/venv\u001b[0m\u001b[33m\n",
      "\u001b[0m"
     ]
    }
   ],
   "source": [
    "!pip install geopandas\n",
    "!pip install backoff\n",
    "!pip install statsmodels\n",
    "!pip install seaborn\n",
    "!pip install scipy\n",
    "!pip install mapclassify\n",
    "!pip install unidecode\n",
    "!pip install rasterio\n",
    "!pip install seaborn\n",
    "!pip install mpl_scatter_density\n",
    "!pip install rasterstats\n",
    "!pip install xmltodict\n",
    "!pip install pandas"
   ]
  },
  {
   "cell_type": "code",
   "execution_count": 4,
   "id": "2d3bc6fe-b0b5-4084-9c20-53d2e3d0343b",
   "metadata": {
    "tags": []
   },
   "outputs": [],
   "source": [
    "import os\n",
    "import subprocess\n",
    "import geopandas\n",
    "import pandas as pd\n",
    "import json\n",
    "import datetime\n",
    "import backoff\n",
    "import xmltodict\n",
    "import fileinput\n",
    "import xml.etree.ElementTree as ET\n",
    "from urllib.parse import urlparse\n",
    "import fileinput\n",
    "import glob\n",
    "import matplotlib.pyplot as plt\n",
    "# import numpy as np\n",
    "import warnings\n",
    "warnings.filterwarnings(\"ignore\")\n",
    "warnings.filterwarnings( \"ignore\", module = \"matplotlib\\..*\" )\n",
    "import statsmodels.api as sm\n",
    "import statsmodels.formula.api as smf\n",
    "import seaborn as sns\n",
    "import scipy.stats\n",
    "import scipy.stats as stats\n",
    "from statsmodels import graphics\n",
    "import shutil\n",
    "from mpl_toolkits.axes_grid1 import make_axes_locatable\n",
    "from unidecode import unidecode\n",
    "import rasterio\n",
    "from rasterio.plot import show\n",
    "import seaborn\n",
    "# import mpl_scatter_density # adds projection='scatter_density'\n",
    "from matplotlib.colors import LinearSegmentedColormap\n",
    "import matplotlib.colors\n",
    "from textwrap import wrap\n",
    "import matplotlib.patches as mpatches\n",
    "import pylab as py\n",
    "import rasterstats\n",
    "from rasterstats import zonal_stats\n",
    "import scipy\n",
    "from mpl_toolkits.axes_grid1.inset_locator import inset_axes\n",
    "import pandas as pd\n",
    "import subprocess\n",
    "import glob\n",
    "import shutil\n",
    "import time\n",
    "\n",
    "from maap.maap import MAAP\n",
    "# maap=MAAP(maap_host=\"api.ops.maap-project.org\") \n",
    "maap=MAAP() \n",
    "\n",
    "def BUILD_TABLE_JOBSTATUS(submit_results_df, status_col = 'status'):\n",
    "    import xmltodict\n",
    "    \n",
    "    # If jobs failed to submit, then they have a NaN for jobid, which makes the merge (join) fail\n",
    "    submit_results_df = submit_results_df.fillna('')\n",
    "    \n",
    "    job_status_df = pd.concat([pd.DataFrame({'job_id': [job_id], 'status':[maap.getJobStatus(job_id)]}) for job_id in submit_results_df.job_id.to_list()])\n",
    "    job_status_df = submit_results_df.merge(job_status_df, how='left', left_on='job_id',  right_on='job_id')\n",
    "    \n",
    "    print(f'Count total jobs:\\t{len(job_status_df)}')\n",
    "    print(f\"Count pending jobs:\\t{job_status_df[job_status_df[status_col] =='Accepted'].shape[0]}\")\n",
    "    print(f\"Count running jobs:\\t{job_status_df[job_status_df[status_col] =='Running'].shape[0]}\")\n",
    "    \n",
    "    NUM_FAILS = job_status_df[job_status_df[status_col] =='Failed'].shape[0]\n",
    "    NUM_SUCCEEDS = job_status_df[job_status_df[status_col] =='Succeeded'].shape[0]\n",
    "    print(f\"Count succeeded jobs:\\t{NUM_SUCCEEDS}\")\n",
    "    print(f\"Count failed jobs:\\t{NUM_FAILS}\")\n",
    "    if NUM_FAILS > 0:\n",
    "        print(f\"% of failed jobs:\\t{round(NUM_FAILS / ( NUM_FAILS + NUM_SUCCEEDS ), 4) * 100}\\n\")\n",
    "    else:\n",
    "        print(f\"% of failed jobs:\\tNothing has failed...yet\\n\")\n",
    "    \n",
    "    return job_status_df"
   ]
  },
  {
   "cell_type": "markdown",
   "id": "extended-technique",
   "metadata": {},
   "source": [
    "### DPS Jobs for all TILES"
   ]
  },
  {
   "cell_type": "markdown",
   "id": "pretty-championship",
   "metadata": {},
   "source": [
    "#### COMMIT ALL CHANGES and REGISTER ALGORITHM FROM TERMINAL"
   ]
  },
  {
   "cell_type": "code",
   "execution_count": 5,
   "id": "aggregate-defensive",
   "metadata": {
    "tags": []
   },
   "outputs": [],
   "source": [
    "# cd /projects/ADE_biomass_harmonization/NASA_CMS\n",
    "# git add NASA_CMS_2023/Hunka_2024_NSD/Layer_Alignment\n",
    "# git commit -m 'Aligining layers to 10 x 10 degree grid'\n",
    "# git tag -f run_layer_alignment_v1\n",
    "\n",
    "# git push origin -f run_layer_alignment_v1\n",
    "# git push\n",
    "# git push origin -f run_layer_alignment_v1"
   ]
  },
  {
   "cell_type": "code",
   "execution_count": 31,
   "id": "82dba01f-ac52-4ded-a0ae-bbd06d12f241",
   "metadata": {
    "tags": []
   },
   "outputs": [
    {
     "data": {
      "text/plain": [
       "'{\"code\": 200, \"message\": {\"id\": \"afdaec1e9b46b9dc41743d1d7cad468401c2d047\", \"short_id\": \"afdaec1e\", \"created_at\": \"2025-01-23T19:52:42.000+00:00\", \"parent_ids\": [\"0c613c249793f0fc585991920982311e223a31a2\"], \"title\": \"Registering algorithm: run_layer_alignment\", \"message\": \"Registering algorithm: run_layer_alignment\", \"author_name\": \"root\", \"author_email\": \"root@f2a98435594f\", \"authored_date\": \"2025-01-23T19:52:42.000+00:00\", \"committer_name\": \"root\", \"committer_email\": \"root@f2a98435594f\", \"committed_date\": \"2025-01-23T19:52:42.000+00:00\", \"trailers\": {}, \"extended_trailers\": {}, \"web_url\": \"https://repo.maap-project.org/root/register-job-hysds-v4/-/commit/afdaec1e9b46b9dc41743d1d7cad468401c2d047\", \"stats\": {\"additions\": 7, \"deletions\": 7, \"total\": 14}, \"status\": \"pending\", \"project_id\": 3, \"last_pipeline\": {\"id\": 15073, \"iid\": 1856, \"project_id\": 3, \"sha\": \"afdaec1e9b46b9dc41743d1d7cad468401c2d047\", \"ref\": \"hysds-v5\", \"status\": \"running\", \"source\": \"push\", \"created_at\": \"2025-01-23T19:52:43.084Z\", \"updated_at\": \"2025-01-23T19:52:43.926Z\", \"web_url\": \"https://repo.maap-project.org/root/register-job-hysds-v4/-/pipelines/15073\"}, \"job_web_url\": \"https://repo.maap-project.org/root/register-job-hysds-v4/-/jobs/15364\", \"job_log_url\": \"https://repo.maap-project.org/root/register-job-hysds-v4/-/jobs/15364/raw\"}}\\n'"
      ]
     },
     "execution_count": 31,
     "metadata": {},
     "output_type": "execute_result"
    }
   ],
   "source": [
    "########### REGISTER ALGORITHM ON NEW ADE ##############\n",
    "maap.register_algorithm_from_yaml_file(\"/projects/ADE_biomass_harmonization/NASA_CMS/NASA_CMS_2023/Hunka_2024_NSD/Layer_Alignment/run_LA_ADE.yml\").text"
   ]
  },
  {
   "cell_type": "markdown",
   "id": "accredited-apparatus",
   "metadata": {},
   "source": [
    "#### RUN ALGORITHM FROM TERMINAL / SUBMIT JOBS TO DPS FOR ALL TILES ####"
   ]
  },
  {
   "cell_type": "code",
   "execution_count": 32,
   "id": "f108f96f-3601-4d23-a159-108287110eb2",
   "metadata": {
    "tags": []
   },
   "outputs": [
    {
     "name": "stdout",
     "output_type": "stream",
     "text": [
      "JRC_TMST_10S_040E.tif\n",
      "submitting JRC_TMST_10S_040E.tif\n",
      "75906458-6410-436d-a2c3-cabdd421015c\n"
     ]
    }
   ],
   "source": [
    "Desired_output_folder = '/projects/my-public-bucket/Data/Hunka_et_al_PAPER_NSD/JRC_TFM/'\n",
    "\n",
    "TILES = [file for file in os.listdir(Desired_output_folder) if file.startswith(\"JRC_TMST\")]\n",
    "TILES = TILES[40:41]\n",
    "\n",
    "split_string = \"TMST_\"\n",
    "outfile_string = \"_JRC_Transition_Map.tif\"\n",
    "\n",
    "i = 0\n",
    "count = -1\n",
    "submit_results_df_list = []\n",
    "len_input_list = len(TILES)\n",
    "list_jobIDs = [\"\"]*len(TILES)\n",
    "\n",
    "for TILE in TILES: \n",
    "    for TILE in TILES: \n",
    "        print(TILE)\n",
    "        outfile_name = TILE.split(split_string)[1].split(\".tif\")[0]\n",
    "        OUTFILE_NAME = outfile_name+outfile_string\n",
    "        if not os.path.exists(os.path.join(Desired_output_folder,OUTFILE_NAME)): \n",
    "            print(\"submitting \" + TILE)\n",
    "            count +=1\n",
    "            submit_result = maap.submitJob(identifier=\"run_layer_alignment\", \n",
    "                           algo_id=\"run_layer_alignment\",\n",
    "                           version=\"run_layer_alignment_v1\",\n",
    "                           username=\"nehajo88\",\n",
    "                           queue=\"maap-dps-worker-32gb\",\n",
    "                           input_file=\"https://maap-ops-workspace.s3.amazonaws.com/shared/nehajo88/Data/Hunka_et_al_PAPER_NSD/JRC_TFM/\"+TILE,\n",
    "                           split_string = split_string,\n",
    "                           outfile_string = outfile_string)\n",
    "            job_id = str(submit_result).split(': ')[1].split(',')[0].replace(\"'\",\"\")\n",
    "            print(job_id)\n",
    "            time.sleep(1)"
   ]
  },
  {
   "cell_type": "markdown",
   "id": "electoral-masters",
   "metadata": {
    "tags": []
   },
   "source": [
    "### ASSESS DPS RESULTS "
   ]
  },
  {
   "cell_type": "code",
   "execution_count": null,
   "id": "powered-tutorial",
   "metadata": {
    "tags": []
   },
   "outputs": [],
   "source": [
    "Desired_output_folder = '/projects/my-public-bucket/Data/Harris_et_al_PAPER/Global_IPCC_classes_ADE_v8_COG/IPCC_classes/'\n",
    "if not os.path.exists(Desired_output_folder):\n",
    "    os.mkdir(Desired_output_folder)\n",
    "SUMMARY_files_tifs = glob.glob('/projects/my-private-bucket/dps_output/run_IPCC_classes_ADE/IPCC_classes_ADE_v8/IPCC_classes_ADE/2024/**/*IPCC*.tif', recursive=True)\n",
    "print(\"Moving files...\")\n",
    "for each_file in SUMMARY_files_tifs:\n",
    "    if os.path.exists(each_file) and not os.path.exists(os.path.join(Desired_output_folder,os.path.basename(each_file))): \n",
    "        print(each_file)\n",
    "        shutil.move(each_file, Desired_output_folder)\n",
    "\n",
    "Desired_output_folder = '/projects/my-public-bucket/Data/Harris_et_al_PAPER/Global_IPCC_classes_ADE_v8_COG/Age_classes/'\n",
    "if not os.path.exists(Desired_output_folder):\n",
    "    os.mkdir(Desired_output_folder)\n",
    "SUMMARY_files_tifs = glob.glob('/projects/my-private-bucket/dps_output/run_IPCC_classes_ADE/IPCC_classes_ADE_v8/IPCC_classes_ADE/2024/**/*Age*.tif', recursive=True)\n",
    "print(\"Moving files...\")\n",
    "for each_file in SUMMARY_files_tifs:\n",
    "    if os.path.exists(each_file) and not os.path.exists(os.path.join(Desired_output_folder,os.path.basename(each_file))): \n",
    "        print(each_file)\n",
    "        shutil.move(each_file, Desired_output_folder)"
   ]
  }
 ],
 "metadata": {
  "kernelspec": {
   "display_name": "Python 3 (ipykernel)",
   "language": "python",
   "name": "python3"
  },
  "language_info": {
   "codemirror_mode": {
    "name": "ipython",
    "version": 3
   },
   "file_extension": ".py",
   "mimetype": "text/x-python",
   "name": "python",
   "nbconvert_exporter": "python",
   "pygments_lexer": "ipython3",
   "version": "3.10.13"
  }
 },
 "nbformat": 4,
 "nbformat_minor": 5
}
