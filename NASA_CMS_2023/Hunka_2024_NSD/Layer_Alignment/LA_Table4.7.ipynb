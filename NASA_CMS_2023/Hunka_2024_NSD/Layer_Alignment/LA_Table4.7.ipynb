{
 "cells": [
  {
   "cell_type": "code",
   "execution_count": null,
   "id": "champion-language",
   "metadata": {
    "tags": []
   },
   "outputs": [],
   "source": [
    "!pip install geopandas\n",
    "!pip install backoff\n",
    "!pip install statsmodels\n",
    "!pip install seaborn\n",
    "!pip install scipy\n",
    "!pip install mapclassify\n",
    "!pip install unidecode\n",
    "!pip install rasterio\n",
    "!pip install seaborn\n",
    "!pip install mpl_scatter_density\n",
    "!pip install rasterstats\n",
    "!pip install xmltodict\n",
    "!pip install pandas"
   ]
  },
  {
   "cell_type": "code",
   "execution_count": null,
   "id": "2d3bc6fe-b0b5-4084-9c20-53d2e3d0343b",
   "metadata": {
    "tags": []
   },
   "outputs": [],
   "source": [
    "import os\n",
    "import subprocess\n",
    "import geopandas\n",
    "import pandas as pd\n",
    "import json\n",
    "import datetime\n",
    "import backoff\n",
    "import xmltodict\n",
    "import fileinput\n",
    "import xml.etree.ElementTree as ET\n",
    "from urllib.parse import urlparse\n",
    "import fileinput\n",
    "import glob\n",
    "import matplotlib.pyplot as plt\n",
    "# import numpy as np\n",
    "import warnings\n",
    "warnings.filterwarnings(\"ignore\")\n",
    "warnings.filterwarnings( \"ignore\", module = \"matplotlib\\..*\" )\n",
    "import statsmodels.api as sm\n",
    "import statsmodels.formula.api as smf\n",
    "import seaborn as sns\n",
    "import scipy.stats\n",
    "import scipy.stats as stats\n",
    "from statsmodels import graphics\n",
    "import shutil\n",
    "from mpl_toolkits.axes_grid1 import make_axes_locatable\n",
    "from unidecode import unidecode\n",
    "import rasterio\n",
    "from rasterio.plot import show\n",
    "import seaborn\n",
    "# import mpl_scatter_density # adds projection='scatter_density'\n",
    "from matplotlib.colors import LinearSegmentedColormap\n",
    "import matplotlib.colors\n",
    "from textwrap import wrap\n",
    "import matplotlib.patches as mpatches\n",
    "import pylab as py\n",
    "import rasterstats\n",
    "from rasterstats import zonal_stats\n",
    "import scipy\n",
    "from mpl_toolkits.axes_grid1.inset_locator import inset_axes\n",
    "import pandas as pd\n",
    "import subprocess\n",
    "import glob\n",
    "import shutil\n",
    "import time\n",
    "\n",
    "from maap.maap import MAAP\n",
    "# maap=MAAP(maap_host=\"api.ops.maap-project.org\") \n",
    "maap=MAAP() \n",
    "\n",
    "def BUILD_TABLE_JOBSTATUS(submit_results_df, status_col = 'status'):\n",
    "    import xmltodict\n",
    "    \n",
    "    # If jobs failed to submit, then they have a NaN for jobid, which makes the merge (join) fail\n",
    "    submit_results_df = submit_results_df.fillna('')\n",
    "    \n",
    "    job_status_df = pd.concat([pd.DataFrame({'job_id': [job_id], 'status':[maap.getJobStatus(job_id)]}) for job_id in submit_results_df.job_id.to_list()])\n",
    "    job_status_df = submit_results_df.merge(job_status_df, how='left', left_on='job_id',  right_on='job_id')\n",
    "    \n",
    "    print(f'Count total jobs:\\t{len(job_status_df)}')\n",
    "    print(f\"Count pending jobs:\\t{job_status_df[job_status_df[status_col] =='Accepted'].shape[0]}\")\n",
    "    print(f\"Count running jobs:\\t{job_status_df[job_status_df[status_col] =='Running'].shape[0]}\")\n",
    "    \n",
    "    NUM_FAILS = job_status_df[job_status_df[status_col] =='Failed'].shape[0]\n",
    "    NUM_SUCCEEDS = job_status_df[job_status_df[status_col] =='Succeeded'].shape[0]\n",
    "    print(f\"Count succeeded jobs:\\t{NUM_SUCCEEDS}\")\n",
    "    print(f\"Count failed jobs:\\t{NUM_FAILS}\")\n",
    "    if NUM_FAILS > 0:\n",
    "        print(f\"% of failed jobs:\\t{round(NUM_FAILS / ( NUM_FAILS + NUM_SUCCEEDS ), 4) * 100}\\n\")\n",
    "    else:\n",
    "        print(f\"% of failed jobs:\\tNothing has failed...yet\\n\")\n",
    "    \n",
    "    return job_status_df"
   ]
  },
  {
   "cell_type": "markdown",
   "id": "extended-technique",
   "metadata": {},
   "source": [
    "### DPS Jobs for all TILES"
   ]
  },
  {
   "cell_type": "markdown",
   "id": "pretty-championship",
   "metadata": {},
   "source": [
    "#### COMMIT ALL CHANGES and REGISTER ALGORITHM FROM TERMINAL"
   ]
  },
  {
   "cell_type": "code",
   "execution_count": null,
   "id": "aggregate-defensive",
   "metadata": {
    "tags": []
   },
   "outputs": [],
   "source": [
    "# cd /projects/ADE_biomass_harmonization/NASA_CMS\n",
    "# git add NASA_CMS_2023/Hunka_2024_NSD/Layer_Alignment\n",
    "# git commit -m 'Aligining layers to 10 x 10 degree grid'\n",
    "# git tag -f run_layer_alignment_v1\n",
    "\n",
    "# git push origin -f run_layer_alignment_v1\n",
    "# git push\n",
    "# git push origin -f run_layer_alignment_v1"
   ]
  },
  {
   "cell_type": "code",
   "execution_count": null,
   "id": "82dba01f-ac52-4ded-a0ae-bbd06d12f241",
   "metadata": {
    "tags": []
   },
   "outputs": [],
   "source": [
    "########### REGISTER ALGORITHM ON NEW ADE ##############\n",
    "maap.register_algorithm_from_yaml_file(\"/projects/ADE_biomass_harmonization/NASA_CMS/NASA_CMS_2023/Hunka_2024_NSD/Forest_classification/run_IPCC_classes_ADE.yml\").text"
   ]
  },
  {
   "cell_type": "markdown",
   "id": "accredited-apparatus",
   "metadata": {},
   "source": [
    "#### RUN ALGORITHM FROM TERMINAL / SUBMIT JOBS TO DPS FOR ALL TILES ####"
   ]
  },
  {
   "cell_type": "code",
   "execution_count": null,
   "id": "f108f96f-3601-4d23-a159-108287110eb2",
   "metadata": {
    "tags": []
   },
   "outputs": [],
   "source": [
    "Desired_output_folder = '/projects/my-public-bucket/Data/Harris_et_al_PAPER/Global_IPCC_classes_ADE_v8_COG/'\n",
    "if not os.path.exists(Desired_output_folder):\n",
    "    os.mkdir(Desired_output_folder)\n",
    "TILES = [\"00N_000E\",\"00N_010E\",\"00N_020E\",\"00N_030E\",\"00N_040E\",\"00N_040W\",\"00N_050W\",\"00N_060W\",\"00N_070W\",\"00N_080W\",\"00N_090E\",\"00N_090W\",\"00N_100E\",\"00N_110E\",\"00N_120E\",\"00N_130E\",\"00N_140E\",\"00N_150E\",\"00N_160E\",\"10N_000E\",\"10N_010E\",\"10N_010W\",\"10N_020E\",\"10N_020W\",\"10N_030E\",\"10N_040E\",\"10N_050E\",\"10N_050W\",\"10N_060W\",\"10N_070E\",\"10N_070W\",\"10N_080E\",\"10N_080W\",\"10N_090E\",\"10N_090W\",\"10N_100E\",\"10N_110E\",\"10N_120E\",\"10N_130E\",\"10S_010E\",\"10S_020E\",\"10S_030E\",\"10S_040E\",\"10S_040W\",\"10S_050E\",\"10S_050W\",\"10S_060W\",\"10S_070W\",\"10S_080W\",\"10S_110E\",\"10S_120E\",\"10S_130E\",\"10S_140E\",\"10S_150E\",\"10S_160E\",\"10S_170E\",\"20N_000E\",\"20N_010E\",\"20N_010W\",\"20N_020E\",\"20N_020W\",\"20N_030E\",\"20N_040E\",\"20N_050E\",\"20N_060W\",\"20N_070E\",\"20N_070W\",\"20N_080E\",\"20N_080W\",\"20N_090E\",\"20N_090W\",\"20N_100E\",\"20N_100W\",\"20N_110E\",\"20N_110W\",\"20N_120E\",\"20N_160W\",\"20S_010E\",\"20S_020E\",\"20S_030E\",\"20S_040E\",\"20S_050W\",\"20S_060W\",\"20S_070W\",\"20S_080W\",\"20S_110E\",\"20S_120E\",\"20S_130E\",\"20S_140E\",\"20S_150E\",\"20S_160E\",\"30N_000E\",\"30N_010E\",\"30N_010W\",\"30N_020E\",\"30N_020W\",\"30N_030E\",\"30N_040E\",\"30N_050E\",\"30N_060E\",\"30N_070E\",\"30N_080E\",\"30N_080W\",\"30N_090E\",\"30N_090W\",\"30N_100E\",\"30N_100W\",\"30N_110E\",\"30N_110W\",\"30N_120E\",\"30N_120W\",\"30N_130E\",\"30N_160W\",\"30N_170W\",\"30S_010E\",\"30S_020E\",\"30S_030E\",\"30S_060W\",\"30S_070W\",\"30S_080W\",\"30S_110E\",\"30S_120E\",\"30S_130E\",\"30S_140E\",\"30S_150E\",\"30S_170E\",\"40N_000E\",\"40N_010E\",\"40N_010W\",\"40N_020E\",\"40N_020W\",\"40N_030E\",\"40N_040E\",\"40N_050E\",\"40N_060E\",\"40N_070E\",\"40N_080E\",\"40N_080W\",\"40N_090E\",\"40N_090W\",\"40N_100E\",\"40N_100W\",\"40N_110E\",\"40N_110W\",\"40N_120E\",\"40N_120W\",\"40N_130E\",\"40N_130W\",\"40N_140E\",\"40S_070W\",\"40S_080W\",\"40S_140E\",\"40S_160E\",\"40S_170E\",\"50N_000E\",\"50N_010E\",\"50N_010W\",\"50N_020E\",\"50N_030E\",\"50N_040E\",\"50N_050E\",\"50N_060E\",\"50N_060W\",\"50N_070E\",\"50N_070W\",\"50N_080E\",\"50N_080W\",\"50N_090E\",\"50N_090W\",\"50N_100E\",\"50N_100W\",\"50N_110E\",\"50N_110W\",\"50N_120E\",\"50N_120W\",\"50N_130E\",\"50N_130W\",\"50N_140E\",\"50N_150E\",\"50S_070W\",\"50S_080W\",\"60N_000E\",\"60N_010E\",\"60N_010W\",\"60N_020E\",\"60N_020W\",\"60N_030E\",\"60N_040E\",\"60N_050E\",\"60N_060E\",\"60N_060W\",\"60N_070E\",\"60N_070W\",\"60N_080E\",\"60N_080W\",\"60N_090E\",\"60N_090W\",\"60N_100E\",\"60N_100W\",\"60N_110E\",\"60N_110W\",\"60N_120E\",\"60N_120W\",\"60N_130E\",\"60N_130W\",\"60N_140E\",\"60N_140W\",\"60N_150E\",\"60N_150W\",\"60N_160E\",\"60N_160W\",\"60N_170E\",\"60N_170W\",\"60N_180W\",\"70N_000E\",\"70N_010E\",\"70N_020E\",\"70N_030E\",\"70N_040E\",\"70N_050E\",\"70N_060E\",\"70N_070E\",\"70N_070W\",\"70N_080E\",\"70N_080W\",\"70N_090E\",\"70N_090W\",\"70N_100E\",\"70N_100W\",\"70N_110E\",\"70N_110W\",\"70N_120E\",\"70N_120W\",\"70N_130E\",\"70N_130W\",\"70N_140E\",\"70N_140W\",\"70N_150E\",\"70N_150W\",\"70N_160E\",\"70N_160W\",\"70N_170E\",\"70N_170W\",\"80N_010E\",\"80N_020E\",\"80N_030E\",\"80N_070E\",\"80N_080E\",\"80N_090E\",\"80N_100E\",\"80N_110E\",\"80N_120E\",\"80N_130E\",\"80N_130W\",\"80N_140E\",\"80N_140W\",\"80N_150E\",\"80N_150W\",\"80N_160E\",\"80N_160W\",\"80N_170W\"]\n",
    "TILES = [\"00N_000E\"]\n",
    "\n",
    "i = 0\n",
    "count = -1\n",
    "submit_results_df_list = []\n",
    "len_input_list = len(TILES)\n",
    "list_jobIDs = [\"\"]*len(TILES)\n",
    "\n",
    "for TILE in TILES: \n",
    "    if not os.path.exists(os.path.join(Desired_output_folder,'IPCC_classes/' + TILE + \"_IPCC_classes.tif\")): \n",
    "        print(\"submitting \" + TILE)\n",
    "        count +=1\n",
    "        submit_result = maap.submitJob(identifier=\"IPCC_classes_ADE\", \n",
    "                       algo_id=\"run_IPCC_classes_ADE\",\n",
    "                       version=\"IPCC_classes_ADE_v8\",\n",
    "                       username=\"nehajo88\",\n",
    "                       queue=\"maap-dps-worker-32vcpu-64gb\",#\"maap-dps-worker-32gb\",maap-dps-worker-32vcpu-64gb\n",
    "                       FOREST_HEIGHT_2000=\"https://glad.umd.edu/users/Potapov/GLCLUC2020/Forest_height_2000/2000_\" + TILE + \".tif\",\n",
    "                       FOREST_HEIGHT_2020=\"https://glad.umd.edu/users/Potapov/GLCLUC2020/Forest_height_2020/2020_\" + TILE + \".tif\",\n",
    "                       FOREST_LOSS=\"https://glad.umd.edu/users/Potapov/GLCLUC2020/Forest_height_loss_2000_2020/netloss_\" + TILE + \".tif\",\n",
    "                       ESA_FOREST_COVER=\"https://maap-ops-workspace.s3.amazonaws.com/shared/nehajo88/Data/Harris_et_al_PAPER/ESA_WorldCover2021_v2/WC_\"+ TILE + \"_C.tif\",\n",
    "                       FOREST_COVER_LOSSYEAR=\"https://storage.googleapis.com/earthenginepartners-hansen/GFC-2022-v1.10/Hansen_GFC-2022-v1.10_lossyear_\"+ TILE + \".tif\",\n",
    "                       JRC_TMST=\"https://maap-ops-workspace.s3.amazonaws.com/shared/nehajo88/Data/Harris_et_al_PAPER/JRC_TFM/\"+TILE+\"_JRC_Transition_Map.tif\",\n",
    "                       JRC_DEF=\"https://maap-ops-workspace.s3.amazonaws.com/shared/nehajo88/Data/Harris_et_al_PAPER/JRC_DEF/\"+TILE+\"_JRC_Deforestation_Map.tif\",\n",
    "                       JRC_DEG=\"https://maap-ops-workspace.s3.amazonaws.com/shared/nehajo88/Data/Harris_et_al_PAPER/JRC_DEG/\"+TILE+\"_JRC_Degradation_Map.tif\",\n",
    "                       BOREAL_AGE=\"https://maap-ops-workspace.s3.amazonaws.com/shared/nehajo88/Data/Harris_et_al_PAPER/Forest_age_boreal/BOREAL_AGE/\"+ TILE + \"_BOREAL_AGE.tif\",\n",
    "                       PLANTATIONS=\"https://maap-ops-workspace.s3.amazonaws.com/shared/nehajo88/Data/Harris_et_al_PAPER/WRI_Planted_Forest_Type_v2/\"+ TILE + \"_plantation_type_oilpalm_woodfiber_other.tif\",\n",
    "                       GFM=\"https://maap-ops-workspace.s3.amazonaws.com/shared/nehajo88/Data/Harris_et_al_PAPER/IIASA/\"+ TILE + \"_GFM.tif\",\n",
    "                       IFL_rasters=\"https://maap-ops-workspace.s3.amazonaws.com/shared/nehajo88/Data/Harris_et_al_PAPER/Intact_Forest_Landscapes/IFL_rasters_2020/\"+ TILE + \"_IFL_2020.tif\",\n",
    "                       FII_raster=\"https://maap-ops-workspace.s3.amazonaws.com/shared/nehajo88/Data/Harris_et_al_PAPER/Forest_Integrity_Index/\"+ TILE + \"_FII.tif\",                \n",
    "                       primary_forest_asia=\"https://maap-ops-workspace.s3.amazonaws.com/shared/nehajo88/Data/Harris_et_al_PAPER/Turubanova_Humid_tropical_primary_forest/\"+ TILE + \"_Asia.tif\",\n",
    "                       primary_forest_sa=\"https://maap-ops-workspace.s3.amazonaws.com/shared/nehajo88/Data/Harris_et_al_PAPER/Turubanova_Humid_tropical_primary_forest/\"+ TILE + \"_SouthAmerica.tif\",\n",
    "                       primary_forest_africa=\"https://maap-ops-workspace.s3.amazonaws.com/shared/nehajo88/Data/Harris_et_al_PAPER/Turubanova_Humid_tropical_primary_forest/\"+ TILE + \"_Africa.tif\",\n",
    "                       EcoCont=\"https://maap-ops-workspace.s3.amazonaws.com/shared/nehajo88/Data/Harris_et_al_PAPER/EcoCont_v2/\"+ TILE + \"_EcoCont.tif\",\n",
    "                       tile= TILE,\n",
    "                       output_mask= TILE + \"_Age_classes.tif\",\n",
    "                       output_file= TILE + \"_IPCC_classes.tif\")\n",
    "        job_id = str(submit_result).split(': ')[1].split(',')[0].replace(\"'\",\"\")\n",
    "        print(job_id)\n",
    "        time.sleep(1)"
   ]
  },
  {
   "cell_type": "markdown",
   "id": "electoral-masters",
   "metadata": {
    "tags": []
   },
   "source": [
    "### ASSESS DPS RESULTS "
   ]
  },
  {
   "cell_type": "code",
   "execution_count": null,
   "id": "powered-tutorial",
   "metadata": {
    "tags": []
   },
   "outputs": [],
   "source": [
    "Desired_output_folder = '/projects/my-public-bucket/Data/Harris_et_al_PAPER/Global_IPCC_classes_ADE_v8_COG/IPCC_classes/'\n",
    "if not os.path.exists(Desired_output_folder):\n",
    "    os.mkdir(Desired_output_folder)\n",
    "SUMMARY_files_tifs = glob.glob('/projects/my-private-bucket/dps_output/run_IPCC_classes_ADE/IPCC_classes_ADE_v8/IPCC_classes_ADE/2024/**/*IPCC*.tif', recursive=True)\n",
    "print(\"Moving files...\")\n",
    "for each_file in SUMMARY_files_tifs:\n",
    "    if os.path.exists(each_file) and not os.path.exists(os.path.join(Desired_output_folder,os.path.basename(each_file))): \n",
    "        print(each_file)\n",
    "        shutil.move(each_file, Desired_output_folder)\n",
    "\n",
    "Desired_output_folder = '/projects/my-public-bucket/Data/Harris_et_al_PAPER/Global_IPCC_classes_ADE_v8_COG/Age_classes/'\n",
    "if not os.path.exists(Desired_output_folder):\n",
    "    os.mkdir(Desired_output_folder)\n",
    "SUMMARY_files_tifs = glob.glob('/projects/my-private-bucket/dps_output/run_IPCC_classes_ADE/IPCC_classes_ADE_v8/IPCC_classes_ADE/2024/**/*Age*.tif', recursive=True)\n",
    "print(\"Moving files...\")\n",
    "for each_file in SUMMARY_files_tifs:\n",
    "    if os.path.exists(each_file) and not os.path.exists(os.path.join(Desired_output_folder,os.path.basename(each_file))): \n",
    "        print(each_file)\n",
    "        shutil.move(each_file, Desired_output_folder)"
   ]
  }
 ],
 "metadata": {
  "kernelspec": {
   "display_name": "Python 3 (ipykernel)",
   "language": "python",
   "name": "python3"
  },
  "language_info": {
   "codemirror_mode": {
    "name": "ipython",
    "version": 3
   },
   "file_extension": ".py",
   "mimetype": "text/x-python",
   "name": "python",
   "nbconvert_exporter": "python",
   "pygments_lexer": "ipython3",
   "version": "3.10.13"
  }
 },
 "nbformat": 4,
 "nbformat_minor": 5
}
