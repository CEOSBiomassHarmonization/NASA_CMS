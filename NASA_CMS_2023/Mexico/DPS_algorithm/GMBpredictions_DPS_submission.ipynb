{
 "cells": [
  {
   "cell_type": "code",
   "execution_count": null,
   "id": "champion-language",
   "metadata": {
    "tags": []
   },
   "outputs": [],
   "source": [
    "!pip install geopandas\n",
    "!pip install backoff\n",
    "!pip install statsmodels\n",
    "!pip install seaborn\n",
    "!pip install scipy\n",
    "!pip install mapclassify\n",
    "!pip install unidecode\n",
    "!pip install rasterio\n",
    "!pip install seaborn\n",
    "!pip install mpl_scatter_density\n",
    "!pip install rasterstats\n",
    "!pip install xmltodict\n",
    "!pip install pandas"
   ]
  },
  {
   "cell_type": "code",
   "execution_count": 2,
   "id": "2d3bc6fe-b0b5-4084-9c20-53d2e3d0343b",
   "metadata": {
    "tags": []
   },
   "outputs": [],
   "source": [
    "import os\n",
    "import subprocess\n",
    "import geopandas\n",
    "import pandas as pd\n",
    "import json\n",
    "import datetime\n",
    "import backoff\n",
    "import xmltodict\n",
    "import fileinput\n",
    "import xml.etree.ElementTree as ET\n",
    "from urllib.parse import urlparse\n",
    "import fileinput\n",
    "import glob\n",
    "import matplotlib.pyplot as plt\n",
    "# import numpy as np\n",
    "import warnings\n",
    "warnings.filterwarnings(\"ignore\")\n",
    "warnings.filterwarnings( \"ignore\", module = \"matplotlib\\..*\" )\n",
    "import statsmodels.api as sm\n",
    "import statsmodels.formula.api as smf\n",
    "import seaborn as sns\n",
    "import scipy.stats\n",
    "import scipy.stats as stats\n",
    "from statsmodels import graphics\n",
    "import shutil\n",
    "from mpl_toolkits.axes_grid1 import make_axes_locatable\n",
    "from unidecode import unidecode\n",
    "import rasterio\n",
    "from rasterio.plot import show\n",
    "import seaborn\n",
    "# import mpl_scatter_density # adds projection='scatter_density'\n",
    "from matplotlib.colors import LinearSegmentedColormap\n",
    "import matplotlib.colors\n",
    "from textwrap import wrap\n",
    "import matplotlib.patches as mpatches\n",
    "import pylab as py\n",
    "import rasterstats\n",
    "from rasterstats import zonal_stats\n",
    "import scipy\n",
    "from mpl_toolkits.axes_grid1.inset_locator import inset_axes\n",
    "import pandas as pd\n",
    "import subprocess\n",
    "import glob\n",
    "import shutil\n",
    "import time\n",
    "\n",
    "from maap.maap import MAAP\n",
    "# maap=MAAP(maap_host=\"api.ops.maap-project.org\") \n",
    "maap=MAAP() \n",
    "\n",
    "def BUILD_TABLE_JOBSTATUS(submit_results_df, status_col = 'status'):\n",
    "    import xmltodict\n",
    "    \n",
    "    # If jobs failed to submit, then they have a NaN for jobid, which makes the merge (join) fail\n",
    "    submit_results_df = submit_results_df.fillna('')\n",
    "    \n",
    "    job_status_df = pd.concat([pd.DataFrame({'job_id': [job_id], 'status':[maap.getJobStatus(job_id)]}) for job_id in submit_results_df.job_id.to_list()])\n",
    "    job_status_df = submit_results_df.merge(job_status_df, how='left', left_on='job_id',  right_on='job_id')\n",
    "    \n",
    "    print(f'Count total jobs:\\t{len(job_status_df)}')\n",
    "    print(f\"Count pending jobs:\\t{job_status_df[job_status_df[status_col] =='Accepted'].shape[0]}\")\n",
    "    print(f\"Count running jobs:\\t{job_status_df[job_status_df[status_col] =='Running'].shape[0]}\")\n",
    "    \n",
    "    NUM_FAILS = job_status_df[job_status_df[status_col] =='Failed'].shape[0]\n",
    "    NUM_SUCCEEDS = job_status_df[job_status_df[status_col] =='Succeeded'].shape[0]\n",
    "    print(f\"Count succeeded jobs:\\t{NUM_SUCCEEDS}\")\n",
    "    print(f\"Count failed jobs:\\t{NUM_FAILS}\")\n",
    "    if NUM_FAILS > 0:\n",
    "        print(f\"% of failed jobs:\\t{round(NUM_FAILS / ( NUM_FAILS + NUM_SUCCEEDS ), 4) * 100}\\n\")\n",
    "    else:\n",
    "        print(f\"% of failed jobs:\\tNothing has failed...yet\\n\")\n",
    "    \n",
    "    return job_status_df"
   ]
  },
  {
   "cell_type": "markdown",
   "id": "extended-technique",
   "metadata": {},
   "source": [
    "### DPS Jobs for all TILES"
   ]
  },
  {
   "cell_type": "markdown",
   "id": "pretty-championship",
   "metadata": {},
   "source": [
    "#### COMMIT ALL CHANGES and REGISTER ALGORITHM FROM TERMINAL"
   ]
  },
  {
   "cell_type": "code",
   "execution_count": 3,
   "id": "aggregate-defensive",
   "metadata": {
    "tags": []
   },
   "outputs": [],
   "source": [
    "# cd /projects/ADE_biomass_harmonization/NASA_CMS\n",
    "# git add NASA_CMS_2023/Mexico/\n",
    "# git commit -m 'Running batch predictions'\n",
    "# git tag -f GMBpredictions_v1\n",
    "\n",
    "# git push origin -f GMBpredictions_v1\n",
    "# git push\n",
    "# git push origin -f GMBpredictions_v1"
   ]
  },
  {
   "cell_type": "code",
   "execution_count": 5,
   "id": "82dba01f-ac52-4ded-a0ae-bbd06d12f241",
   "metadata": {
    "tags": []
   },
   "outputs": [
    {
     "data": {
      "text/plain": [
       "'{\"code\": 200, \"message\": {\"id\": \"e6f4105d0070522f15ceb42cef9c6e807756b82e\", \"short_id\": \"e6f4105d\", \"created_at\": \"2024-05-23T00:17:06.000+00:00\", \"parent_ids\": [\"bf409eb4c8b285a8a1e1321a10f2ec55abdeea9f\"], \"title\": \"Registering algorithm: run_GMBpredictions_MEX\", \"message\": \"Registering algorithm: run_GMBpredictions_MEX\", \"author_name\": \"root\", \"author_email\": \"root@88830aff274b\", \"authored_date\": \"2024-05-23T00:17:06.000+00:00\", \"committer_name\": \"root\", \"committer_email\": \"root@88830aff274b\", \"committed_date\": \"2024-05-23T00:17:06.000+00:00\", \"trailers\": {}, \"web_url\": \"https://repo.maap-project.org/root/register-job-hysds-v4/-/commit/e6f4105d0070522f15ceb42cef9c6e807756b82e\", \"stats\": {\"additions\": 7, \"deletions\": 7, \"total\": 14}, \"status\": \"running\", \"project_id\": 3, \"last_pipeline\": {\"id\": 13771, \"iid\": 1144, \"project_id\": 3, \"sha\": \"e6f4105d0070522f15ceb42cef9c6e807756b82e\", \"ref\": \"main\", \"status\": \"running\", \"source\": \"push\", \"created_at\": \"2024-05-23T00:17:07.597Z\", \"updated_at\": \"2024-05-23T00:17:08.144Z\", \"web_url\": \"https://repo.maap-project.org/root/register-job-hysds-v4/-/pipelines/13771\"}, \"job_web_url\": \"https://repo.maap-project.org/root/register-job-hysds-v4/-/jobs/14055\", \"job_log_url\": \"https://repo.maap-project.org/root/register-job-hysds-v4/-/jobs/14055/raw\"}}\\n'"
      ]
     },
     "execution_count": 5,
     "metadata": {},
     "output_type": "execute_result"
    }
   ],
   "source": [
    "########### REGISTER ALGORITHM ON NEW ADE ##############\n",
    "maap.register_algorithm_from_yaml_file(\"/projects/ADE_biomass_harmonization/NASA_CMS/NASA_CMS_2023/Mexico/DPS_algorithm/run_GMBpredictions_MEX.yaml\").text"
   ]
  },
  {
   "cell_type": "markdown",
   "id": "accredited-apparatus",
   "metadata": {},
   "source": [
    "#### RUN ALGORITHM FROM TERMINAL / SUBMIT JOBS TO DPS FOR ALL TILES ####"
   ]
  },
  {
   "cell_type": "code",
   "execution_count": 6,
   "id": "f108f96f-3601-4d23-a159-108287110eb2",
   "metadata": {
    "tags": []
   },
   "outputs": [
    {
     "name": "stdout",
     "output_type": "stream",
     "text": [
      "submitting PROJECTS_2.gpkg\n",
      "e66c54af-0ae3-4539-b6e8-1266ee4e9be2\n",
      "submitting PROJECTS_3.gpkg\n",
      "99f1fe94-2368-4b4d-b642-aaf168449533\n"
     ]
    }
   ],
   "source": [
    "Desired_output_folder = '/projects/my-public-bucket/Data/NASA_CMS_2023/MEXICO/11_Merge_PSAyMFCcCyPM_Dummies_Rdo_PREDICTIONS/'\n",
    "if not os.path.exists(Desired_output_folder):\n",
    "    os.mkdir(Desired_output_folder)\n",
    "\n",
    "Projects_folder  = '/projects/my-public-bucket/Data/NASA_CMS_2023/MEXICO/11_Merge_PSAyMFCcCyPM_Dummies_Rdo_SPLIT/'\n",
    "TILES = [os.path.abspath(os.path.join(Projects_folder, p)) for p in os.listdir(Projects_folder) if p.endswith('.gpkg')]\n",
    "\n",
    "i = 0\n",
    "count = -1\n",
    "submit_results_df_list = []\n",
    "len_input_list = len(TILES)\n",
    "list_jobIDs = [\"\"]*len(TILES)\n",
    "\n",
    "for TILE in TILES: \n",
    "    if not os.path.exists(os.path.join(Desired_output_folder,os.path.basename(TILE.split('.')[0]) + \"_GMB_predictions.csv\")): \n",
    "        print(\"submitting \" + os.path.basename(TILE))\n",
    "        count +=1\n",
    "        submit_result = maap.submitJob(identifier=\"run_GMBpredictions_MEX\", \n",
    "                       algo_id=\"run_GMBpredictions_MEX\",\n",
    "                       version=\"GMBpredictions_v1\",\n",
    "                       username=\"nehajo88\",\n",
    "                       queue=\"maap-dps-worker-16gb\",                                     \n",
    "                       mexico=\"https://maap-ops-workspace.s3.amazonaws.com/shared/nehajo88/Data/NASA_CMS_2023/MEXICO/ecort08gw_DESECON1_DISS.gpkg\",\n",
    "                       ccirast=\"https://maap-ops-workspace.s3.amazonaws.com/shared/nehajo88/Data/NASA_CMS_2023/MEXICO/cci_mexico_6933.tif\",\n",
    "                       heirast=\"https://maap-ops-workspace.s3.amazonaws.com/shared/nehajo88/Data/NASA_CMS_2023/MEXICO/GLAD_FH_mexico_UINT16_C_6399.tif\",\n",
    "                       data=\"https://maap-ops-workspace.s3.amazonaws.com/shared/nehajo88/Data/NASA_CMS_2023/MEXICO/NFI_CCI_GEDIheights.csv\",\n",
    "                       INLA_model_fit_v2=\"https://maap-ops-workspace.s3.amazonaws.com/shared/nehajo88/Data/NASA_CMS_2023/MEXICO/INLA_model_fit_v2.RData\",\n",
    "                       MGN2020_INEGI_Urban_Mex_mask_DISS=\"https://maap-ops-workspace.s3.amazonaws.com/shared/nehajo88/Data/NASA_CMS_2023/MEXICO/MGN2020_INEGI_Urban_Mex_mask_DISS.gpkg\",\n",
    "                       All_Products_Comp_Over30_Binary_6933=\"https://maap-ops-workspace.s3.amazonaws.com/shared/nehajo88/Data/NASA_CMS_2023/MEXICO/All_Products_Comp_Over30_Binary_6933.tif\",\n",
    "                       Projects=os.path.join(\"https://maap-ops-workspace.s3.amazonaws.com/shared/nehajo88/Data/NASA_CMS_2023/MEXICO/11_Merge_PSAyMFCcCyPM_Dummies_Rdo_SPLIT\",os.path.basename(TILE)),\n",
    "                       output_csv=os.path.basename(TILE.split('.')[0]) + \"_GMB_predictions.csv\")\n",
    "        job_id = str(submit_result).split(': ')[1].split(',')[0].replace(\"'\",\"\")\n",
    "        print(job_id)\n",
    "        time.sleep(1)"
   ]
  },
  {
   "cell_type": "markdown",
   "id": "9f7cfbd9-fc43-4789-a146-51a0710b701d",
   "metadata": {},
   "source": [
    "##### TEST ON TERMINAL\n",
    "\n",
    "```\n",
    "Rscript /projects/NASA_CMS/NASA_CMS_2023/Mexico/DPS_algorithm/GMB_Mexico.R \\\n",
    "PROJECTS_1_GMB_predictions.csv \\\n",
    "/projects/shared-buckets/alexdevseed/NASA_CMS/PROJECTS_test.gpkg \\\n",
    "/projects/shared-buckets/nehajo88/Data/NASA_CMS_2023/MEXICO/ecort08gw_DESECON1_DISS.gpkg \\\n",
    "/projects/shared-buckets/nehajo88/Data/NASA_CMS_2023/MEXICO/cci_mexico_6933.tif \\\n",
    "/projects/shared-buckets/nehajo88/Data/NASA_CMS_2023/MEXICO/GLAD_FH_mexico_UINT16_C_6399.tif \\\n",
    "/projects/shared-buckets/nehajo88/Data/NASA_CMS_2023/MEXICO/NFI_CCI_GEDIheights.csv \\\n",
    "/projects/shared-buckets/nehajo88/Data/NASA_CMS_2023/MEXICO/INLA_model_fit_v2.RData \\\n",
    "/projects/shared-buckets/nehajo88/Data/NASA_CMS_2023/MEXICO/MGN2020_INEGI_Urban_Mex_mask_DISS.gpkg \\\n",
    "/projects/shared-buckets/nehajo88/Data/NASA_CMS_2023/MEXICO/All_Products_Comp_Over30_Binary_6933.tif\n",
    "```\n",
    "\n",
    "\n"
   ]
  },
  {
   "cell_type": "code",
   "execution_count": null,
   "id": "31838731-7797-4f91-9640-96b096f023b3",
   "metadata": {},
   "outputs": [],
   "source": []
  }
 ],
 "metadata": {
  "kernelspec": {
   "display_name": "Python 3 (ipykernel)",
   "language": "python",
   "name": "python3"
  },
  "language_info": {
   "codemirror_mode": {
    "name": "ipython",
    "version": 3
   },
   "file_extension": ".py",
   "mimetype": "text/x-python",
   "name": "python",
   "nbconvert_exporter": "python",
   "pygments_lexer": "ipython3",
   "version": "3.10.13"
  }
 },
 "nbformat": 4,
 "nbformat_minor": 5
}
