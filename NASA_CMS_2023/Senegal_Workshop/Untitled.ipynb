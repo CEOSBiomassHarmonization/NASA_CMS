{
 "cells": [
  {
   "cell_type": "code",
   "execution_count": 33,
   "id": "e791cebd-2f97-420d-9e1a-81e73faae32b",
   "metadata": {},
   "outputs": [
    {
     "name": "stderr",
     "output_type": "stream",
     "text": [
      "/opt/conda/envs/r/lib/python3.10/site-packages/geopandas/array.py:365: UserWarning: Geometry is in a geographic CRS. Results from 'sjoin_nearest' are likely incorrect. Use 'GeoSeries.to_crs()' to re-project geometries to a projected CRS before this operation.\n",
      "\n",
      "  warnings.warn(\n"
     ]
    }
   ],
   "source": [
    "import geopandas as gpd\n",
    "import pandas as pd\n",
    "# # Read the two GPKG files\n",
    "# gpkg1 = gpd.read_file('/projects/my-public-bucket/Data/NASA_CMS_2023/NIGERIA/GGNP_GEDI_ROI_Nigeria_only_SUD_L4A.gpkg')\n",
    "# gpkg2 = gpd.read_file('/projects/my-public-bucket/Data/NASA_CMS_2023/NIGERIA/GGNP_GEDI_ROI_New_GEDI_L4A.gpkg')\n",
    "\n",
    "# Perform an inner join based on 'lon' and 'lat'\n",
    "joined = gpd.sjoin_nearest(gpkg1, gpkg2, how='inner',max_distance=0.000004)\n",
    "joined\n",
    "\n",
    "# Optionally, remove unnecessary columns (if needed)\n",
    "joined = joined[['filename',\n",
    " 'shot_number_left',\n",
    " 'lat_lowestmode_left',\n",
    " 'agbd_t',\n",
    " 'agbd_se_left',\n",
    " 'sensitivity',\n",
    " 'geolocation/sensitivity_a2',\n",
    " 'elev_lowestmode_left',\n",
    " 'lon_lowestmode_left',\n",
    " 'agbd_left',\n",
    " 'geometry',\n",
    " 'quality_flag',\n",
    " 'PFT',\n",
    " 'RH_10',\n",
    " 'RH_20',\n",
    " 'RH_30',\n",
    " 'RH_40',\n",
    " 'RH_50',\n",
    " 'RH_60',\n",
    " 'RH_70',\n",
    " 'RH_80',\n",
    " 'RH_90',\n",
    " 'RH_98',\n",
    " 'AGBD_1',\n",
    " 'SE',\n",
    " 'layer',\n",
    " 'path']]\n",
    "\n",
    "joined.columns = ['filename',\n",
    " 'shot_number',\n",
    " 'lat_lowestmode',\n",
    " 'agbd_t',\n",
    " 'agbd_se',\n",
    " 'sensitivity',\n",
    " 'geolocation/sensitivity_a2',\n",
    " 'elev_lowestmode',\n",
    " 'lon_lowestmode',\n",
    " 'agbd',\n",
    " 'geometry',\n",
    " 'quality_flag',\n",
    " 'PFT',\n",
    " 'RH_10',\n",
    " 'RH_20',\n",
    " 'RH_30',\n",
    " 'RH_40',\n",
    " 'RH_50',\n",
    " 'RH_60',\n",
    " 'RH_70',\n",
    " 'RH_80',\n",
    " 'RH_90',\n",
    " 'RH_98',\n",
    " 'AGBD_1',\n",
    " 'SE',\n",
    " 'layer',\n",
    " 'path']\n",
    "\n",
    "# Save the result as a new GPKG or display\n",
    "joined.to_file('/projects/my-public-bucket/Data/NASA_CMS_2023/NIGERIA/GGNP_GEDI_ROI_New_GEDI_L4A_FN.gpkg', driver='GPKG')"
   ]
  },
  {
   "cell_type": "code",
   "execution_count": 34,
   "id": "e0cbf3ef-244c-413d-b9a3-f2d9a11ae12d",
   "metadata": {},
   "outputs": [
    {
     "data": {
      "text/plain": [
       "1021335"
      ]
     },
     "execution_count": 34,
     "metadata": {},
     "output_type": "execute_result"
    }
   ],
   "source": [
    "len(joined)"
   ]
  },
  {
   "cell_type": "code",
   "execution_count": 36,
   "id": "f0473564-f070-4d3b-8208-d8763c8e15a4",
   "metadata": {},
   "outputs": [
    {
     "data": {
      "text/plain": [
       "['shot_number',\n",
       " 'lon_lowestmode',\n",
       " 'lat_lowestmode',\n",
       " 'elev_lowestmode',\n",
       " 'agbd',\n",
       " 'agbd_se',\n",
       " 'quality_flag',\n",
       " 'PFT',\n",
       " 'RH_10',\n",
       " 'RH_20',\n",
       " 'RH_30',\n",
       " 'RH_40',\n",
       " 'RH_50',\n",
       " 'RH_60',\n",
       " 'RH_70',\n",
       " 'RH_80',\n",
       " 'RH_90',\n",
       " 'RH_98',\n",
       " 'AGBD_1',\n",
       " 'SE',\n",
       " 'layer',\n",
       " 'path',\n",
       " 'geometry']"
      ]
     },
     "execution_count": 36,
     "metadata": {},
     "output_type": "execute_result"
    }
   ],
   "source": [
    "list(gpkg2)"
   ]
  }
 ],
 "metadata": {
  "kernelspec": {
   "display_name": "Python 3 (ipykernel)",
   "language": "python",
   "name": "python3"
  },
  "language_info": {
   "codemirror_mode": {
    "name": "ipython",
    "version": 3
   },
   "file_extension": ".py",
   "mimetype": "text/x-python",
   "name": "python",
   "nbconvert_exporter": "python",
   "pygments_lexer": "ipython3",
   "version": "3.10.13"
  }
 },
 "nbformat": 4,
 "nbformat_minor": 5
}
