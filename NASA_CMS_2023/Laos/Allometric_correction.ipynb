{
 "cells": [
  {
   "cell_type": "code",
   "execution_count": null,
   "id": "4421c28a-564d-4d42-88aa-bdbe50bd1f22",
   "metadata": {},
   "outputs": [],
   "source": [
    "#############################################################################################\n",
    "\n",
    "##### ALLOMETRIC MODEL ESTIMATE REVISIONS #####\n",
    "\n",
    "#############################################################################################\n",
    "\n",
    "DATA_AL <- read.csv(\"C:/Users/nhunka/Desktop/UMD/Biomass_Harmonization/DATA/LAOS_NFI/Laos_Allometrics.csv\")\n",
    "DATA_AL <- DATA_AL[DATA_AL$TYPE == \"EF\",]\n",
    "AGB = log(DATA_AL$AGB_kg)\n",
    "DBH = log(DATA_AL$DBH)\n",
    "model <- lm(AGB ~ DBH)\n",
    "summary(model)\n",
    "predictions = predict(model, list(x = DBH))\n",
    "res_var = sum((predictions-AGB)^2) / (length(AGB)-2)\n",
    "print(summary(model)$sigma^2)\n",
    "print(res_var)\n",
    "exp(res_var/2) # Estimated Correction Factor\n",
    "## NOW, for every estimate of tree-level AGBD using this model, a correction factor equal to \"exp(res_var/2)\" must be applied\n",
    "\n",
    "\n",
    "DATA_AL <- read.csv(\"C:/Users/nhunka/Desktop/UMD/Biomass_Harmonization/DATA/LAOS_NFI/Laos_Allometrics.csv\")\n",
    "DATA_AL <- DATA_AL[DATA_AL$TYPE == \"DD\",]\n",
    "AGB = log(DATA_AL$AGB_kg)\n",
    "DBH = log(DATA_AL$DBH)\n",
    "model <- lm(AGB ~ DBH)\n",
    "summary(model)\n",
    "predictions = predict(model, list(x = DBH))\n",
    "res_var = sum((predictions-AGB)^2) / (length(AGB)-2)\n",
    "print(summary(model)$sigma^2)\n",
    "print(res_var)\n",
    "exp(res_var/2) # Estimated Correction Factor\n",
    "## NOW, for every estimate of tree-level AGBD using this model, a correction factor equal to \"exp(res_var/2)\" must be applied"
   ]
  }
 ],
 "metadata": {
  "kernelspec": {
   "display_name": "R",
   "language": "R",
   "name": "ir"
  },
  "language_info": {
   "codemirror_mode": "r",
   "file_extension": ".r",
   "mimetype": "text/x-r-source",
   "name": "R",
   "pygments_lexer": "r",
   "version": "4.2.3"
  }
 },
 "nbformat": 4,
 "nbformat_minor": 5
}
